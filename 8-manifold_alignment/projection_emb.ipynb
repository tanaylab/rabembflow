{
 "cells": [
  {
   "cell_type": "code",
   "execution_count": null,
   "id": "5e87bea6",
   "metadata": {
    "ExecuteTime": {
     "end_time": "2023-02-26T14:19:17.173254Z",
     "start_time": "2023-02-26T14:19:13.479Z"
    }
   },
   "outputs": [],
   "source": [
    "library(devtools)\n",
    "library(metacell)\n",
    "load_all(\"../metacell.flow/\")\n",
    "scdb_init(\"output/scrna_db/\",force_reinit = T)\n",
    "scfigs_init(\"figs\")\n",
    "scdb_flow_init()"
   ]
  },
  {
   "cell_type": "code",
   "execution_count": null,
   "id": "05a37d9d",
   "metadata": {
    "ExecuteTime": {
     "end_time": "2023-02-26T14:19:33.628038Z",
     "start_time": "2023-02-26T14:19:13.692Z"
    }
   },
   "outputs": [],
   "source": [
    "mm_mat_id = \"mm_embemb_rn\"\n",
    "mm_mc_id = \"mm_embemb_rc_rn\"\n",
    "mm_gset_id = \"mm_emb\"\n",
    "mm_mat = scdb_mat(mm_mat_id)\n",
    "mm_mc = scdb_mc(mm_mc_id)\n",
    "mm_gset = scdb_gset(mm_gset_id)"
   ]
  },
  {
   "cell_type": "code",
   "execution_count": null,
   "id": "dbcbcc9e",
   "metadata": {},
   "outputs": [],
   "source": []
  },
  {
   "cell_type": "code",
   "execution_count": null,
   "id": "8f2e138a",
   "metadata": {
    "ExecuteTime": {
     "end_time": "2022-10-24T13:15:57.618288Z",
     "start_time": "2022-10-24T13:15:31.327Z"
    }
   },
   "outputs": [],
   "source": [
    "# bad_names = c(\"AK085097;Akap2;Pakap;Palm2\", \"AK032382;AK086749;BC086315;Slc25a37\", \"Apoc2;Apoc4;Apoc4-apoc2\", \"AK081796;AK219583;Gns\", \"Arap3;Mir6980;Mir6981\", \"Meg3;Mir1906-1;Mir770\", \"AK028659;AK163016;Nebl\",\"AK031574;Mir6996;Notch1\", \"Prn;Prnd;Prnp\", \"9930111J21Rik1;9930111J21Rik2;Psme2b\", \"Uba52;Ubb;Ubc\", \"Ablim1;AK041356\", \"Afap1l1;AK045591\", \"Adgrg1;AK199844\", \"AK162777;Aqp11\", \"AK034991;Atp2a2\", \"AK197085;BC023829\",\"Atp6v1a;BC050135\",\"AK042672;Ccdc88a\", \"AK187594;Ccnd2\", \"AK205023;Ccnd3\", \"AK158452;Cd34\", \"AK041755;Cdh1\", \"AK161456;Cfap45\", \"AK154184;Cyba\", \"AK161166;Emp2\", \"Eno1;Eno1b\", \"AK206280;Fbln1\",\"AK138361;Gbx2\", \"Galr3;Gcat\", \"AK211817;Gga2\", \"AK204506;Glmp\", \"AK154966;Glrx\", \"AK089379;Golgb1\", \"Atn1;Grcc10\", \"AK050736;Hadh\", \"AK039882;Hoxaas3\", \"AK051203;Ift81\", \"BC039192;Igfbp5\", \"BC024571;Itga6\", \"AK047175;Kit\", \"Hotairm1;KR231010\", \"AK218069;Laptm4b\",\"AK198029;Mapkapk2\", \"AK017779;Marcks\", \"AK043267;Mef2c\", \"Fam65a;Mir1966\", \"H19;Mir675\", \"Dst;Mir6896\", \"Atp6v0a1;Mir6928\", \"Actg1;Mir6935\", \"Dbn1;Mir6944\", \"Loxl2;Mir6950\", \"Lama5;Mir7005\", \"Anxa5;Mir7009\", \"Itpr3;Mir7677\", \"Glul;Mir8114\", \"AK217856;mKIAA1554\", \"BC106170;Mmd\", \"AK053895;Morc4\", \"Accn1/Mpped2;Mpped2\", \"AK134451;Myo6\", \"Acad11;Nphp3\", \"Mir1903;Nrp1\", \"Mir7025;Pdgfra\", \"Mir6945;Pdlim7\", \"AK020060;Peli3\", \"AK038736;Prrx1\", \"Mir6910;Ptbp1\", \"Mir7226;Ptprf\", \"AK160964;Rab8b\", \"Izumo1;Rasip1\",\"AK156971;Rbm47\", \"BC147413;Rdx\", \"AK163158;Renbp\", \"Ang;Rnase4\", \"Foxj1;Rnf157\", \"AK081204;Rragd\", \"AK201505;Sbk1\", \"AK219268;Sccpdh\", \"Mir5114;Scd2\", \"AK080469;Sgk3\", \"AK149461;Slc16a10\", \"Mir5625;Slc35f6\", \"Mrps6;Slc5a3\", \"Snhg4;Snora74a\", \"Snrpn;Snurf\", \"AK171586;Spint2\", \"Mir6997;Sptan1\", \"AK137356;Sptbn1\", \"Rpgr;Srpx\", \"Afmid;Syngr2\", \"Mir8108;Tacc1\", \"AF465519;Tagln2\", \"AK144056;Tgif1\", \"DQ724448;Tnks\", \"AK048185;Trim2\", \"AK035842;Unc5c\",\"Ramp2;Vps25\", \"Mir5129;Zeb2\", \"AK162078;Zfhx3\")\n",
    "# good_names = c(\"Palm2\", \"Slc25a37\", \"Apoc4\", \"Gns\", \"Arap3\", \"Meg3\", \"Nebl\", \"Notch1\", \"Prnp\", \"Psme2b\", \"Ubc\", \"Ablim1\", \"Afap1l1\", \"Adgrg1\", \"Aqp11\", \"Atp2a2\", \"AK197085\", \"Atp6v1a\", \"Ccdc88a\", \"Ccnd2\", \"Ccnd3\", \"Cd34\", \"Cdh1\", \"Cfap45\", \"Cyba\", \"Emp2\", \"Eno1b\", \"Fbln1\", \"Gbx2\", \"Gcat\", \"Gga2\", \"Glmp\", \"Glrx\", \"Golgb1\", \"Grcc10\", \"Hadh\", \"Hoxaas3\", \"Ift81\", \"Igfbp5\", \"Itga6\", \"Kit\", \"KR231010\", \"Laptm4b\", \"Mapkapk2\", \"Marcks\", \"Mef2c\", \"Fam65a\", \"H19\", \"Dst\", \"Atp6v0a1\", \"Actg1\", \"Dbn1\", \"Loxl2\", \"Lama5\", \"Anxa5\", \"Itpr3\", \"Glul\", \"mKIAA1554\", \"Mmd\", \"Morc4\", \"Accn1\", \"Myo6\", \"Acad11\", \"Nrp1\", \"Pdgfra\", \"Pdlim7\", \"Peli3\", \"Prrx1\", \"Ptbp1\", \"Ptprf\", \"Rab8b\", \"Rasip1\", \"Rbm47\", \"Rdx\", \"Renbp\", \"Ang\", \"Foxj1\", \"Rragd\", \"Sbk1\", \"Sccpdh\", \"Scd2\", \"Sgk3\", \"Slc16a10\", \"Slc35f6\", \"Slc5a3\", \"Snora74a\", \"Snrpn\", \"Spint2\", \"Sptan1\", \"Sptbn1\", \"Srpx\", \"Syngr2\", \"Tacc1\", \"Tagln2\", \"Tgif1\", \"Tnks\", \"Trim2\", \"Unc5c\", \"Ramp2\", \"Zeb2\", \"Zfhx3\")\n",
    "# names(good_names) = bad_names"
   ]
  },
  {
   "cell_type": "code",
   "execution_count": null,
   "id": "5ec19040",
   "metadata": {
    "ExecuteTime": {
     "end_time": "2022-08-29T06:37:34.148834Z",
     "start_time": "2022-08-29T06:37:33.619Z"
    }
   },
   "outputs": [],
   "source": [
    "# mm_genes = rownames(mm_mat@mat)\n",
    "# mm_genes[mm_genes %in% names(good_names)] = good_names[mm_genes[mm_genes %in% names(good_names)]]\n",
    "# rownames(mm_mat@mat) = mm_genes"
   ]
  },
  {
   "cell_type": "code",
   "execution_count": null,
   "id": "1596315c",
   "metadata": {
    "ExecuteTime": {
     "end_time": "2022-08-29T06:37:34.363168Z",
     "start_time": "2022-08-29T06:37:33.834Z"
    }
   },
   "outputs": [],
   "source": [
    "# mm_genes = mm_mat@genes\n",
    "# mm_genes[mm_genes %in% names(good_names)] = good_names[mm_genes[mm_genes %in% names(good_names)]]\n",
    "# mm_mat@genes = mm_genes"
   ]
  },
  {
   "cell_type": "code",
   "execution_count": null,
   "id": "26ca7e2e",
   "metadata": {
    "ExecuteTime": {
     "end_time": "2022-08-29T06:37:34.868257Z",
     "start_time": "2022-08-29T06:37:34.338Z"
    }
   },
   "outputs": [],
   "source": [
    "# mm_genes = rownames(mm_mc@e_gc)\n",
    "# mm_genes[mm_genes %in% names(good_names)] = good_names[mm_genes[mm_genes %in% names(good_names)]]\n",
    "# rownames(mm_mc@e_gc) = mm_genes"
   ]
  },
  {
   "cell_type": "code",
   "execution_count": null,
   "id": "069409dc",
   "metadata": {
    "ExecuteTime": {
     "end_time": "2022-08-29T06:37:35.205163Z",
     "start_time": "2022-08-29T06:37:34.675Z"
    }
   },
   "outputs": [],
   "source": [
    "# mm_genes = names(mm_gset@gene_set)\n",
    "# mm_genes[mm_genes %in% names(good_names)] = good_names[mm_genes[mm_genes %in% names(good_names)]]\n",
    "# names(mm_gset@gene_set) = mm_genes"
   ]
  },
  {
   "cell_type": "code",
   "execution_count": null,
   "id": "f233fcb7",
   "metadata": {
    "ExecuteTime": {
     "end_time": "2023-02-26T14:20:10.517527Z",
     "start_time": "2023-02-26T14:19:14.924Z"
    }
   },
   "outputs": [],
   "source": [
    "oc_mat_id = \"oc_emb_rn\"\n",
    "oc_mc_id = \"oc_emb_rn\"\n",
    "oc_gset_id = \"oc_emb\"\n",
    "oc_mat = scdb_mat(oc_mat_id)\n",
    "oc_mc = scdb_mc(oc_mc_id)\n",
    "oc_gset = scdb_gset(oc_gset_id)"
   ]
  },
  {
   "cell_type": "code",
   "execution_count": null,
   "id": "8962ffb5",
   "metadata": {
    "ExecuteTime": {
     "end_time": "2023-02-26T14:20:10.540650Z",
     "start_time": "2023-02-26T14:19:15.492Z"
    }
   },
   "outputs": [],
   "source": [
    "rownames(mm_mat@mat) = toupper(rownames(mm_mat@mat))"
   ]
  },
  {
   "cell_type": "code",
   "execution_count": null,
   "id": "3fc1645d",
   "metadata": {
    "ExecuteTime": {
     "end_time": "2022-10-25T07:44:49.174211Z",
     "start_time": "2022-10-25T07:43:42.018Z"
    }
   },
   "outputs": [],
   "source": [
    "# length(rownames(mm_mat@mat))\n",
    "# length(rownames(oc_mat@mat))\n",
    "# length(intersect(rownames(mm_mat@mat),rownames(oc_mat@mat)))"
   ]
  },
  {
   "cell_type": "code",
   "execution_count": null,
   "id": "31ae3416",
   "metadata": {
    "ExecuteTime": {
     "end_time": "2023-02-26T14:20:10.569647Z",
     "start_time": "2023-02-26T14:19:28.220Z"
    }
   },
   "outputs": [],
   "source": [
    "length(rownames(mm_mat@mat))\n",
    "length(rownames(oc_mat@mat))\n",
    "length(intersect(rownames(mm_mat@mat),rownames(oc_mat@mat)))"
   ]
  },
  {
   "cell_type": "code",
   "execution_count": null,
   "id": "28bc882e",
   "metadata": {
    "ExecuteTime": {
     "end_time": "2023-02-26T14:20:12.118583Z",
     "start_time": "2023-02-26T14:19:29.740Z"
    }
   },
   "outputs": [],
   "source": [
    "mm_all = rownames(mm_mat@mat)[rowSums(mm_mat@mat) > 200]\n",
    "oc_all = rownames(oc_mat@mat)[rowSums(oc_mat@mat) > 200]"
   ]
  },
  {
   "cell_type": "code",
   "execution_count": null,
   "id": "3dc64132",
   "metadata": {
    "ExecuteTime": {
     "end_time": "2022-10-25T07:45:19.887990Z",
     "start_time": "2022-10-25T07:43:43.698Z"
    }
   },
   "outputs": [],
   "source": [
    "# length(mm_all)\n",
    "# length(oc_all)\n",
    "# length(intersect(oc_all,mm_all))"
   ]
  },
  {
   "cell_type": "code",
   "execution_count": null,
   "id": "5ecd242c",
   "metadata": {
    "ExecuteTime": {
     "end_time": "2023-02-26T14:20:12.145752Z",
     "start_time": "2023-02-26T14:19:39.148Z"
    }
   },
   "outputs": [],
   "source": [
    "length(mm_all)\n",
    "length(oc_all)\n",
    "length(intersect(oc_all,mm_all))"
   ]
  },
  {
   "cell_type": "code",
   "execution_count": null,
   "id": "82bcb618",
   "metadata": {
    "ExecuteTime": {
     "end_time": "2023-02-26T14:23:13.631176Z",
     "start_time": "2023-02-26T14:23:13.217Z"
    }
   },
   "outputs": [],
   "source": [
    "fwrite(tibble::enframe(intersect(oc_all,mm_all)), \"explicit_gene_set_for_rboms.csv\")"
   ]
  },
  {
   "cell_type": "code",
   "execution_count": null,
   "id": "0a76e702",
   "metadata": {
    "ExecuteTime": {
     "end_time": "2022-10-25T07:45:19.915008Z",
     "start_time": "2022-10-25T07:43:44.033Z"
    }
   },
   "outputs": [],
   "source": [
    "length(rownames(mm_mat@mat))\n",
    "length(rownames(oc_mat@mat))\n",
    "length(intersect(rownames(mm_mat@mat),rownames(oc_mat@mat)))"
   ]
  },
  {
   "cell_type": "code",
   "execution_count": null,
   "id": "93368959",
   "metadata": {
    "ExecuteTime": {
     "end_time": "2022-10-25T07:45:19.927633Z",
     "start_time": "2022-10-25T07:43:46.195Z"
    }
   },
   "outputs": [],
   "source": [
    "mm_mc_names = rownames(mm_mc@e_gc)"
   ]
  },
  {
   "cell_type": "code",
   "execution_count": null,
   "id": "b032ae60",
   "metadata": {
    "ExecuteTime": {
     "end_time": "2022-10-25T07:45:19.943957Z",
     "start_time": "2022-10-25T07:43:46.410Z"
    }
   },
   "outputs": [],
   "source": [
    "mm_mc_names[grep(\"sox10\", mm_mc_names, ignore.case = T)] = 'SOX10'"
   ]
  },
  {
   "cell_type": "code",
   "execution_count": null,
   "id": "2a18aed5",
   "metadata": {
    "ExecuteTime": {
     "end_time": "2022-10-25T07:45:20.153014Z",
     "start_time": "2022-10-25T07:43:46.609Z"
    }
   },
   "outputs": [],
   "source": [
    "rownames(mm_mc@e_gc) = mm_mc_names"
   ]
  },
  {
   "cell_type": "code",
   "execution_count": null,
   "id": "ba863c3c",
   "metadata": {
    "ExecuteTime": {
     "end_time": "2022-10-25T07:45:20.168991Z",
     "start_time": "2022-10-25T07:43:46.817Z"
    }
   },
   "outputs": [],
   "source": [
    "common_genes_names = intersect(mm_all, oc_all)"
   ]
  },
  {
   "cell_type": "code",
   "execution_count": null,
   "id": "afccda7b",
   "metadata": {
    "ExecuteTime": {
     "end_time": "2022-10-25T07:45:22.151216Z",
     "start_time": "2022-10-25T07:43:47.074Z"
    }
   },
   "outputs": [],
   "source": [
    "oc_legc = log2(1e-5+oc_mc@e_gc[common_genes_names,])\n",
    "oc_legc_n = oc_legc - rowMeans(oc_legc)\n",
    "\n",
    "rownames(mm_mc@e_gc) = toupper(rownames(mm_mc@e_gc))\n",
    "mm_legc = log2(1e-5+mm_mc@e_gc[common_genes_names,])\n",
    "mm_legc_n = mm_legc - rowMeans(mm_legc)"
   ]
  },
  {
   "cell_type": "code",
   "execution_count": null,
   "id": "1b6c2bdc",
   "metadata": {
    "ExecuteTime": {
     "end_time": "2022-10-25T07:45:57.576876Z",
     "start_time": "2022-10-25T07:43:50.809Z"
    }
   },
   "outputs": [],
   "source": [
    "mc_cors = tgs_cor(mm_legc_n[common_genes_names,], oc_legc_n[common_genes_names,])"
   ]
  },
  {
   "cell_type": "code",
   "execution_count": null,
   "id": "fac3bc62",
   "metadata": {
    "ExecuteTime": {
     "end_time": "2022-10-25T07:45:58.307321Z",
     "start_time": "2022-10-25T07:43:51.025Z"
    }
   },
   "outputs": [],
   "source": [
    "long_cors = as.data.frame(mc_cors) %>% tibble::rownames_to_column(\"mouse_mc\") %>% pivot_longer(cols=colnames(mc_cors), names_to = \"rabbit_mc\", values_to = \"cor\", )"
   ]
  },
  {
   "cell_type": "code",
   "execution_count": null,
   "id": "99ebe985",
   "metadata": {
    "ExecuteTime": {
     "end_time": "2022-10-25T07:46:00.641426Z",
     "start_time": "2022-10-25T07:43:51.217Z"
    }
   },
   "outputs": [],
   "source": [
    "tmp_rabbit = long_cors %>% group_by(rabbit_mc) %>% top_n(1, cor)\n",
    "tmp_mouse = long_cors %>% group_by(mouse_mc) %>% top_n(1, cor)\n",
    "tmp = intersect(tmp_rabbit, tmp_mouse)"
   ]
  },
  {
   "cell_type": "code",
   "execution_count": null,
   "id": "012e0aab",
   "metadata": {
    "ExecuteTime": {
     "end_time": "2022-10-25T07:46:00.661378Z",
     "start_time": "2022-10-25T07:43:51.504Z"
    }
   },
   "outputs": [],
   "source": [
    "match_rabbit = tmp$rabbit_mc\n",
    "match_cor = tmp$cor\n",
    "names(match_rabbit) = tmp$mouse_mc\n",
    "names(match_cor) = tmp$mouse_mc"
   ]
  },
  {
   "cell_type": "code",
   "execution_count": null,
   "id": "0609aadc",
   "metadata": {
    "ExecuteTime": {
     "end_time": "2022-11-03T07:47:12.239779Z",
     "start_time": "2022-11-03T07:47:11.934Z"
    }
   },
   "outputs": [],
   "source": [
    "length(match_rabbit)"
   ]
  },
  {
   "cell_type": "code",
   "execution_count": null,
   "id": "9add7865",
   "metadata": {
    "ExecuteTime": {
     "end_time": "2022-10-25T08:17:02.708441Z",
     "start_time": "2022-10-25T08:17:02.313Z"
    }
   },
   "outputs": [],
   "source": [
    "rb_mc_cors_raw = mc_cors[names(match_rabbit),unname(match_rabbit)]"
   ]
  },
  {
   "cell_type": "code",
   "execution_count": null,
   "id": "46ce6b2e",
   "metadata": {
    "ExecuteTime": {
     "end_time": "2022-10-25T08:17:10.171241Z",
     "start_time": "2022-10-25T08:17:02.737Z"
    }
   },
   "outputs": [],
   "source": [
    "rb_mc_cors_filtered = tgs_cor(mm_legc_n[names(corrections_f),names(match_rabbit)], oc_legc_n[names(corrections_f),unname(match_rabbit)])"
   ]
  },
  {
   "cell_type": "code",
   "execution_count": null,
   "id": "f9198123",
   "metadata": {
    "ExecuteTime": {
     "end_time": "2022-10-25T08:17:46.647732Z",
     "start_time": "2022-10-25T08:17:39.129Z"
    }
   },
   "outputs": [],
   "source": [
    "rb_mc_cors_corrected = tgs_cor(mm_legc_n[names(corrections_f),names(match_rabbit)], ocf_legc_n[names(corrections_f),unname(match_rabbit)])"
   ]
  },
  {
   "cell_type": "code",
   "execution_count": null,
   "id": "ba5a4d15",
   "metadata": {
    "ExecuteTime": {
     "end_time": "2022-10-25T09:32:20.281442Z",
     "start_time": "2022-10-25T09:32:18.046Z"
    },
    "scrolled": false
   },
   "outputs": [],
   "source": [
    "options(repr.plot.width=15, repr.plot.height=12)\n",
    "paletteLength = 100\n",
    "\n",
    "myColor <- colorRampPalette(c(\"blue\",\"white\", \"red\"))(paletteLength)\n",
    "myBreaks <- c(seq(min(rb_mc_cors_raw[mm_rb_mc_ord, oc_rb_mc_ord]), 0.0, length.out=ceiling(paletteLength/2) + 1),\n",
    "              seq(0.01, max(rb_mc_cors_raw[mm_rb_mc_ord, oc_rb_mc_ord]), length.out=floor(paletteLength/2)))\n",
    "oc_rb_mc_ord = intersect(oc_mc_ordered, unname(match_rabbit))\n",
    "mm_rb_mc_ord = intersect(mm_mc_ordered, names(match_rabbit))\n",
    "ph = pheatmap::pheatmap(\n",
    "    rb_mc_cors_raw[mm_rb_mc_ord, oc_rb_mc_ord], \n",
    "    col=myColor, \n",
    "    breaks=myBreaks,\n",
    "    annotation_col = data.frame(rabbit_color = oc_mc_cats),\n",
    "    annotation_row = data.frame(mouse_color=mm_mc_cats),\n",
    "    annotation_colors = list(rabbit_color=oc_cat2col, mouse_color=mm_cat2col),\n",
    "    cluster_rows = F,\n",
    "    cluster_cols = F\n",
    ")\n",
    "# save_pheatmap_pdf(ph,paste0(\"rb_mc_cors_raw.pdf\"), width=15, height=11)\n",
    "\n",
    "myBreaks <- c(seq(min(rb_mc_cors_filtered[mm_rb_mc_ord, oc_rb_mc_ord]), 0.0, length.out=ceiling(paletteLength/2) + 1),\n",
    "              seq(0.01, max(rb_mc_cors_filtered[mm_rb_mc_ord, oc_rb_mc_ord]), length.out=floor(paletteLength/2)))\n",
    "ph = pheatmap::pheatmap(\n",
    "    rb_mc_cors_filtered[mm_rb_mc_ord, oc_rb_mc_ord], \n",
    "    col=myColor, \n",
    "    breaks=myBreaks,\n",
    "    annotation_col = data.frame(rabbit_color = oc_mc_cats),\n",
    "    annotation_row = data.frame(mouse_color=mm_mc_cats),\n",
    "    annotation_colors = list(rabbit_color=oc_cat2col, mouse_color=mm_cat2col),\n",
    "    cluster_rows = F,\n",
    "    cluster_cols = F\n",
    ")\n",
    "# save_pheatmap_pdf(ph,paste0(\"rb_mc_cors_filtered.pdf\"), width=15, height=11)\n",
    "myBreaks <- c(seq(min(rb_mc_cors_corrected[mm_rb_mc_ord, oc_rb_mc_ord]), 0.0, length.out=ceiling(paletteLength/2) + 1),\n",
    "              seq(0.01, max(rb_mc_cors_corrected[mm_rb_mc_ord, oc_rb_mc_ord]), length.out=floor(paletteLength/2)))\n",
    "\n",
    "ph = pheatmap::pheatmap(\n",
    "    rb_mc_cors_corrected[mm_rb_mc_ord, oc_rb_mc_ord], \n",
    "    col=myColor, \n",
    "    breaks=myBreaks,\n",
    "    annotation_col = data.frame(rabbit_color = oc_mc_cats),\n",
    "    annotation_row = data.frame(mouse_color=mm_mc_cats),\n",
    "    annotation_colors = list(rabbit_color=oc_cat2col, mouse_color=mm_cat2col),\n",
    "    cluster_rows = F,\n",
    "    cluster_cols = F\n",
    ")\n",
    "# save_pheatmap_pdf(ph,paste0(\"rb_mc_cors_corrected.pdf\"), width=15, height=11)\n",
    "# pheatmap::pheatmap()\n",
    "# pheatmap::pheatmap()\n",
    "# pheatmap::pheatmap(rb_mc_cors_corrected)"
   ]
  },
  {
   "cell_type": "code",
   "execution_count": null,
   "id": "b20538dd",
   "metadata": {
    "ExecuteTime": {
     "end_time": "2022-10-26T15:23:55.544247Z",
     "start_time": "2022-10-26T15:23:52.711Z"
    }
   },
   "outputs": [],
   "source": [
    "oc_legc = log2(1e-5+oc_mc@e_gc)\n",
    "mm_legc = log2(1e-5+mm_mc@e_gc)\n",
    "oc_pgc_exp = rowMeans(oc_legc[,names(oc_mc_cats[oc_mc_cats == \"PGC\"])]) - rowMeans(oc_legc[,names(oc_mc_cats[oc_mc_cats == \"epiblast\"])])\n",
    "mm_pgc_exp = rowMeans(mm_legc[,names(mm_mc_cats[mm_mc_cats == \"PGC\"])]) - rowMeans(mm_legc[,names(mm_mc_cats[mm_mc_cats == \"Epiblast\"])])"
   ]
  },
  {
   "cell_type": "code",
   "execution_count": null,
   "id": "972f136a",
   "metadata": {
    "ExecuteTime": {
     "end_time": "2022-10-26T15:23:55.601014Z",
     "start_time": "2022-10-26T15:23:52.974Z"
    }
   },
   "outputs": [],
   "source": [
    "top_genes = fread(\"../oc_mm_gastru_amos/fig7_pgc_top.txt\", header = F)$V1\n",
    "bot_genes = fread(\"../oc_mm_gastru_amos/fig7_pgc_bot.txt\", header = F)$V1"
   ]
  },
  {
   "cell_type": "code",
   "execution_count": null,
   "id": "e767aa07",
   "metadata": {
    "ExecuteTime": {
     "end_time": "2022-10-26T15:25:36.536926Z",
     "start_time": "2022-10-26T15:25:36.263Z"
    }
   },
   "outputs": [],
   "source": [
    "all_amos_genes = setdiff(union(top_genes, bot_genes), c(\"AIJ015836\", \"FAPBP\"))"
   ]
  },
  {
   "cell_type": "code",
   "execution_count": null,
   "id": "d5877ea9",
   "metadata": {
    "ExecuteTime": {
     "end_time": "2022-10-26T15:26:07.790141Z",
     "start_time": "2022-10-26T15:26:07.493Z"
    }
   },
   "outputs": [],
   "source": [
    "oc_pgc_exp = oc_pgc_exp[all_amos_genes]\n",
    "names(oc_pgc_exp) = all_amos_genes\n",
    "only_mm = names(oc_pgc_exp[is.na(oc_pgc_exp)])\n",
    "oc_pgc_exp[is.na(oc_pgc_exp)] = 0\n",
    "mm_pgc_exp = mm_pgc_exp[all_amos_genes]\n",
    "names(mm_pgc_exp) = all_amos_genes\n",
    "only_oc = names(mm_pgc_exp[is.na(mm_pgc_exp)])\n",
    "mm_pgc_exp[is.na(mm_pgc_exp)] = 0"
   ]
  },
  {
   "cell_type": "code",
   "execution_count": null,
   "id": "be6f7f69",
   "metadata": {
    "ExecuteTime": {
     "end_time": "2022-10-26T15:26:08.925329Z",
     "start_time": "2022-10-26T15:26:08.653Z"
    }
   },
   "outputs": [],
   "source": [
    "sp_unique = union(only_oc, only_mm)"
   ]
  },
  {
   "cell_type": "code",
   "execution_count": null,
   "id": "93199648",
   "metadata": {
    "ExecuteTime": {
     "end_time": "2022-10-26T15:26:09.286357Z",
     "start_time": "2022-10-26T15:26:09.013Z"
    }
   },
   "outputs": [],
   "source": [
    "pgc_exp = rbind(oc_pgc_exp[all_amos_genes], mm_pgc_exp[all_amos_genes])\n",
    "colnames(pgc_exp) = all_amos_genes"
   ]
  },
  {
   "cell_type": "code",
   "execution_count": null,
   "id": "1146b197",
   "metadata": {
    "ExecuteTime": {
     "end_time": "2022-10-26T15:26:10.824975Z",
     "start_time": "2022-10-26T15:26:10.549Z"
    }
   },
   "outputs": [],
   "source": [
    "mutual = setdiff(all_amos_genes, sp_unique)[order(pgc_exp[1,setdiff(all_amos_genes, sp_unique)] - pgc_exp[2,setdiff(all_amos_genes, sp_unique)])]\n",
    "all_amos_genes = c(only_mm,\n",
    "  mutual,\n",
    "  only_oc)"
   ]
  },
  {
   "cell_type": "code",
   "execution_count": null,
   "id": "81073a14",
   "metadata": {
    "ExecuteTime": {
     "end_time": "2022-10-26T15:26:11.069717Z",
     "start_time": "2022-10-26T15:26:10.796Z"
    }
   },
   "outputs": [],
   "source": [
    "pgc_exp = pgc_exp[,order(pgc_exp[1,] - pgc_exp[2,])]\n",
    "pgc_exp = pgc_exp[,all_amos_genes]"
   ]
  },
  {
   "cell_type": "code",
   "execution_count": null,
   "id": "c688fa60",
   "metadata": {
    "ExecuteTime": {
     "end_time": "2022-10-26T15:26:11.469176Z",
     "start_time": "2022-10-26T15:26:11.197Z"
    }
   },
   "outputs": [],
   "source": [
    "colnames(pgc_exp) = c(paste0(only_mm, \"*\"),\n",
    "  mutual,\n",
    "  paste0(only_oc, \"**\"))"
   ]
  },
  {
   "cell_type": "code",
   "execution_count": null,
   "id": "fa6f718d",
   "metadata": {
    "ExecuteTime": {
     "end_time": "2022-10-26T15:26:11.864178Z",
     "start_time": "2022-10-26T15:26:11.573Z"
    }
   },
   "outputs": [],
   "source": [
    "options(repr.plot.width=15, repr.plot.height=5)\n",
    "pdf(\"fig7_exp.pdf\", width = 15, height = 5)\n",
    "barplot(pgc_exp, beside=T, las=2)\n",
    "# mm_pgc_exp[top_genes]\n",
    "dev.off()"
   ]
  },
  {
   "cell_type": "code",
   "execution_count": null,
   "id": "e1615af7",
   "metadata": {
    "ExecuteTime": {
     "end_time": "2022-10-26T11:22:59.930600Z",
     "start_time": "2022-10-26T11:22:59.467Z"
    }
   },
   "outputs": [],
   "source": [
    "options(repr.plot.width=5, repr.plot.height=5)\n",
    "plot(density(diag(gene_cors)[names(corrections_f)]))\n",
    "points(density(diag(gene_cors)), type=\"line\")"
   ]
  },
  {
   "cell_type": "code",
   "execution_count": null,
   "id": "499b2290",
   "metadata": {
    "ExecuteTime": {
     "end_time": "2022-10-25T07:46:00.715715Z",
     "start_time": "2022-10-25T07:43:57.617Z"
    }
   },
   "outputs": [],
   "source": [
    "fmm_legc = mm_legc[,names(match_rabbit)]\n",
    "foc_legc = oc_legc[,unname(match_rabbit)]"
   ]
  },
  {
   "cell_type": "code",
   "execution_count": null,
   "id": "9e5ba874",
   "metadata": {
    "ExecuteTime": {
     "end_time": "2022-10-16T21:24:39.322408Z",
     "start_time": "2022-10-16T21:24:38.888Z"
    }
   },
   "outputs": [],
   "source": [
    "fwrite(tibble::enframe(match_rabbit) %>% rename(mm_emb_mcid=name, oc_emb_mcid=value), \"emb_rbom_match.csv\")"
   ]
  },
  {
   "cell_type": "code",
   "execution_count": null,
   "id": "f0427299",
   "metadata": {
    "ExecuteTime": {
     "end_time": "2022-10-25T07:48:45.824246Z",
     "start_time": "2022-10-25T07:47:31.771Z"
    }
   },
   "outputs": [],
   "source": [
    "gene_cors = tgs_cor(t(fmm_legc), t(foc_legc))"
   ]
  },
  {
   "cell_type": "code",
   "execution_count": null,
   "id": "0dcfbdbb",
   "metadata": {
    "ExecuteTime": {
     "end_time": "2022-11-03T07:48:56.987700Z",
     "start_time": "2022-11-03T07:48:56.521Z"
    }
   },
   "outputs": [],
   "source": [
    "plot(density(diag(gene_cors[double_featured_good, double_featured_good])))"
   ]
  },
  {
   "cell_type": "code",
   "execution_count": null,
   "id": "cadd7e94",
   "metadata": {
    "ExecuteTime": {
     "end_time": "2022-11-03T07:51:56.389519Z",
     "start_time": "2022-11-03T07:51:56.065Z"
    }
   },
   "outputs": [],
   "source": [
    "intersect(names(corrections_f[corrections_f>2]), double_featured_good[abs(diag(gene_cors[double_featured_good, double_featured_good]))>0.95])"
   ]
  },
  {
   "cell_type": "code",
   "execution_count": null,
   "id": "dae1cdcd",
   "metadata": {
    "ExecuteTime": {
     "end_time": "2022-11-03T07:52:08.577183Z",
     "start_time": "2022-11-03T07:52:08.249Z"
    }
   },
   "outputs": [],
   "source": [
    "intersect(names(corrections_f[corrections_f<0.5]), double_featured_good[abs(diag(gene_cors[double_featured_good, double_featured_good]))>0.95])"
   ]
  },
  {
   "cell_type": "code",
   "execution_count": null,
   "id": "4670e912",
   "metadata": {
    "ExecuteTime": {
     "end_time": "2022-11-03T07:50:07.749010Z",
     "start_time": "2022-11-03T07:50:07.424Z"
    }
   },
   "outputs": [],
   "source": [
    "double_featured_good[abs(diag(gene_cors[double_featured_good, double_featured_good]))>0.95]"
   ]
  },
  {
   "cell_type": "code",
   "execution_count": null,
   "id": "5a5f49b9",
   "metadata": {
    "ExecuteTime": {
     "end_time": "2022-11-03T08:42:54.831133Z",
     "start_time": "2022-11-03T08:42:54.500Z"
    }
   },
   "outputs": [],
   "source": [
    "grep(\"TWIST1\", rownames(gene_cors), v=T)"
   ]
  },
  {
   "cell_type": "code",
   "execution_count": null,
   "id": "98d8de82",
   "metadata": {
    "ExecuteTime": {
     "end_time": "2022-11-03T08:43:13.780535Z",
     "start_time": "2022-11-03T08:43:13.445Z"
    }
   },
   "outputs": [],
   "source": [
    "gene_cors[\"TWIST1\",\"TWIST1\"]\n",
    "corrections_f[\"TWIST1\"]"
   ]
  },
  {
   "cell_type": "code",
   "execution_count": null,
   "id": "5e8ccf91",
   "metadata": {
    "ExecuteTime": {
     "end_time": "2022-11-03T08:04:29.853825Z",
     "start_time": "2022-11-03T08:04:28.978Z"
    }
   },
   "outputs": [],
   "source": [
    "for(gene_name in c('APELA', 'APLN', 'APLNR')){\n",
    "    x = unname(mm_mc@e_gc[gene_name,names(match_rabbit)])\n",
    "    y = unname(ocf_legc[gene_name,unname(match_rabbit)])\n",
    "    x = log2(1e-5+x)\n",
    "    x = pmin(x, -10)\n",
    "    y = pmin(y, -10)\n",
    "    qplot(main=paste0(gene_name, \" cor=\", round(cor(x,y),2)),xlab='Mouse', ylab='Rabbit',\n",
    "        xlim = c(gmin, gmax), ylim = c(gmin, gmax),\n",
    "        x, y,\n",
    "        col = oc_mc@colors[unname(match_rabbit)], \n",
    "        ) + geom_abline(slope = 1, intercept = 0) + geom_abline(slope = 1, intercept = -2, linetype='dashed') + geom_abline(slope = 1, intercept = 2, linetype='dashed') + theme(legend.position=\"none\") + geom_point(color=oc_mc@colors[unname(match_rabbit)])  \n",
    "    ggsave(paste0(gene_name, \" cor=\", round(cor(x,y),2), \".pdf\"), width = 3, height = 3)\n",
    "}"
   ]
  },
  {
   "cell_type": "code",
   "execution_count": null,
   "id": "39db60bb",
   "metadata": {
    "ExecuteTime": {
     "end_time": "2022-11-03T08:43:31.966273Z",
     "start_time": "2022-11-03T08:43:31.093Z"
    }
   },
   "outputs": [],
   "source": [
    "gene_name = \"TWIST1\"\n",
    "\n",
    "x = unname(mm_mc@e_gc[\"TWIST1\",names(match_rabbit)])\n",
    "y = unname(oc_mc@e_gc[\"TWIST1\",unname(match_rabbit)])\n",
    "top_10 = (x+y)^2 >= quantile((x+y)^2, probs = seq(0, 1, 0.1))[10]\n",
    "old_correction = max(0.5,min(2,mean(x[top_10]/y[top_10], na.rm=T)))\n",
    "correction = unname(lm(x ~ 0 + y)$coefficients)\n",
    "x = unname(mm_mc@e_gc[\"TWIST1\",names(match_rabbit)])\n",
    "# y = unname(ocf_legc[,unname(match_rabbit)])\n",
    "y = unname(oc_mc@e_gc[\"TWIST1\",unname(match_rabbit)])*correction\n",
    "x = log2(1e-5+x)\n",
    "y = log2(1e-5+y)\n",
    "x = pmin(x, -10)\n",
    "y = pmin(y, -10)\n",
    "qplot(main=paste0(gene_name, \" cor=\", round(cor(x,y),2)),xlab='Mouse', ylab='Rabbit',\n",
    "    xlim = c(gmin, gmax), ylim = c(gmin, gmax),\n",
    "    x, y,\n",
    "    col = oc_mc@colors[unname(match_rabbit)], \n",
    "    ) + geom_abline(slope = 1, intercept = 0) + geom_abline(slope = 1, intercept = -2, linetype='dashed') + geom_abline(slope = 1, intercept = 2, linetype='dashed') + theme(legend.position=\"none\") + geom_point(color=oc_mc@colors[unname(match_rabbit)])  \n",
    "ggsave(paste0(gene_name, \" fcor=\", round(cor(x,y),2), \".pdf\"), width = 3, height = 3)"
   ]
  },
  {
   "cell_type": "code",
   "execution_count": null,
   "id": "6001c0ba",
   "metadata": {
    "ExecuteTime": {
     "end_time": "2022-11-03T08:01:37.979887Z",
     "start_time": "2022-11-03T08:01:37.049Z"
    }
   },
   "outputs": [],
   "source": [
    "for(gene_name in c('APELA', 'APLN', 'APLNR')){\n",
    "    x = unname(mm_mc@e_gc[gene_name,names(match_rabbit)])\n",
    "    y = unname(oc_mc@e_gc[gene_name,unname(match_rabbit)])\n",
    "    x = log2(1e-5+x)\n",
    "    y = log2(1e-5+y)\n",
    "    x = pmin(x, -10)\n",
    "    y = pmin(y, -10)\n",
    "    qplot(main=paste0(gene_name, \" correction=\", round(corrections_f[gene_name],2)),xlab='Mouse', ylab='Rabbit',\n",
    "        xlim = c(gmin, gmax), ylim = c(gmin, gmax),\n",
    "        x, y,\n",
    "        col = oc_mc@colors[unname(match_rabbit)], \n",
    "        ) + geom_abline(slope = 1, intercept = 0) + geom_abline(slope = 1, intercept = -2, linetype='dashed') + geom_abline(slope = 1, intercept = 2, linetype='dashed') + theme(legend.position=\"none\") + geom_point(color=oc_mc@colors[unname(match_rabbit)])  \n",
    "    ggsave(paste0(gene_name, \" correction=\", round(corrections_f[gene_name],2), \".pdf\"), width = 3, height = 3)\n",
    "}"
   ]
  },
  {
   "cell_type": "code",
   "execution_count": null,
   "id": "0af7b75c",
   "metadata": {
    "ExecuteTime": {
     "end_time": "2022-10-25T07:48:46.095234Z",
     "start_time": "2022-10-25T07:47:32.867Z"
    }
   },
   "outputs": [],
   "source": [
    "gene_self_cors = diag(gene_cors)\n",
    "names(gene_self_cors) = rownames(gene_cors)"
   ]
  },
  {
   "cell_type": "code",
   "execution_count": null,
   "id": "0d2c2ed5",
   "metadata": {
    "ExecuteTime": {
     "end_time": "2022-10-25T07:49:32.541371Z",
     "start_time": "2022-10-25T07:47:56.363Z"
    }
   },
   "outputs": [],
   "source": [
    "long_gene_cors = as.data.frame(gene_cors) %>% tibble::rownames_to_column(\"mouse_gene\") %>% pivot_longer(cols=colnames(gene_cors), names_to = \"rabbit_gene\", values_to = \"cor\", )"
   ]
  },
  {
   "cell_type": "code",
   "execution_count": null,
   "id": "fe27a630",
   "metadata": {
    "ExecuteTime": {
     "end_time": "2022-10-25T07:52:46.533615Z",
     "start_time": "2022-10-25T07:48:01.379Z"
    }
   },
   "outputs": [],
   "source": [
    "tmp_cross_rabbit_to_mouse = long_gene_cors %>% group_by(rabbit_gene) %>% top_n(1, cor)\n",
    "tmp_cross_mouse_to_rabbit = long_gene_cors %>% group_by(mouse_gene) %>% top_n(1, cor)"
   ]
  },
  {
   "cell_type": "code",
   "execution_count": null,
   "id": "68df664d",
   "metadata": {
    "ExecuteTime": {
     "end_time": "2022-10-25T07:52:46.716741Z",
     "start_time": "2022-10-25T07:48:01.596Z"
    }
   },
   "outputs": [],
   "source": [
    "rownames(tmp_cross_rabbit_to_mouse) = tmp_cross_rabbit_to_mouse$rabbit_gene\n",
    "rownames(tmp_cross_mouse_to_rabbit) = tmp_cross_mouse_to_rabbit$mouse_gene"
   ]
  },
  {
   "cell_type": "code",
   "execution_count": null,
   "id": "7d9cd1d0",
   "metadata": {
    "ExecuteTime": {
     "end_time": "2022-10-25T07:52:46.815498Z",
     "start_time": "2022-10-25T07:48:03.795Z"
    }
   },
   "outputs": [],
   "source": [
    "union_names = union(rownames(mm_mc@e_gc), rownames(oc_mc@e_gc))"
   ]
  },
  {
   "cell_type": "code",
   "execution_count": null,
   "id": "a43dfd6a",
   "metadata": {
    "ExecuteTime": {
     "end_time": "2022-10-25T07:52:53.100688Z",
     "start_time": "2022-10-25T07:48:04.067Z"
    }
   },
   "outputs": [],
   "source": [
    "tmp = as.data.frame(union_names)\n",
    "tmp$mouse_int_gene = tmp_mouse[union_names,]$mouse_gene2\n",
    "tmp$mouse_int_cov = tmp_mouse[union_names,]$cor\n",
    "tmp$rabbit_int_gene = tmp_rabbit[union_names,]$rabbit_gene2\n",
    "tmp$rabbit_int_cov = tmp_rabbit[union_names,]$cor\n",
    "tmp$cross_mouse_to_rabbit_gene = tmp_cross_mouse_to_rabbit[union_names,]$rabbit_gene\n",
    "tmp$cross_mouse_to_rabbit_cov = tmp_cross_mouse_to_rabbit[union_names,]$cor\n",
    "tmp$cross_rabbit_to_mouse_gene = tmp_cross_rabbit_to_mouse[union_names,]$mouse_gene\n",
    "tmp$cross_rabbit_to_mouse_cov = tmp_cross_rabbit_to_mouse[union_names,]$cor\n",
    "tmp_cross_genes = intersect(\n",
    "    tmp_cross_rabbit_to_mouse,\n",
    "    tmp_cross_mouse_to_rabbit\n",
    ")\n",
    "upper_gene_cors = gene_cors\n",
    "rownames(upper_gene_cors) = toupper(rownames(upper_gene_cors))\n",
    "gene_orth_cors = c()\n",
    "for(gene_name in common_genes_names){\n",
    "    gene_orth_cors = c(gene_orth_cors, upper_gene_cors[gene_name, gene_name])\n",
    "}\n",
    "names(gene_orth_cors) = common_genes_names\n",
    "tmp$orth_cross_cor = gene_orth_cors[toupper(union_names)]"
   ]
  },
  {
   "cell_type": "code",
   "execution_count": null,
   "id": "48de1504",
   "metadata": {
    "ExecuteTime": {
     "end_time": "2022-10-25T08:15:25.467117Z",
     "start_time": "2022-10-25T08:14:49.446Z"
    }
   },
   "outputs": [],
   "source": [
    "gmin = min(fmm_legc[intersect(rownames(fmm_legc),rownames(foc_legc)),names(match_rabbit)])\n",
    "gmax = min(-10, max(fmm_legc[intersect(rownames(fmm_legc),rownames(foc_legc)),names(match_rabbit)]))\n",
    "require(gridExtra)\n",
    "xs = matrix(\n",
    "    nrow = length(union_names),\n",
    "    ncol = length(names(match_rabbit))\n",
    ")\n",
    "ys = matrix(\n",
    "    nrow = length(tmp$union_names),\n",
    "    ncol = length(names(match_rabbit))\n",
    ")\n",
    "corrections = array(dim = c(length(tmp$union_names)))\n",
    "old_corrections = array(dim = c(length(tmp$union_names)))\n",
    "all_genes = union_names\n",
    "\n",
    "for(gene_name in all_genes){\n",
    "# for(gene_name in c('CHRD')){\n",
    "    if(gene_name %in% rownames(fmm_legc) & gene_name %in% rownames(foc_legc)){\n",
    "        x = unname(mm_mc@e_gc[gene_name,names(match_rabbit)])\n",
    "        y = unname(oc_mc@e_gc[gene_name,unname(match_rabbit)])\n",
    "#         x = fmm_legc[gene_name,names(match_rabbit)]\n",
    "#         y = foc_legc[gene_name,unname(match_rabbit)]\n",
    "        top_10 = (x+y)^2 >= quantile((x+y)^2, probs = seq(0, 1, 0.1))[10]\n",
    "#         y = y*max(0.5,min(2,mean(x[top_10]/y[top_10])))\n",
    "        x = log2(1e-5+x)\n",
    "        y = log2(1e-5+y)\n",
    "        x = pmin(x, -10)\n",
    "        y = pmin(y, -10)\n",
    "#         pdf(paste0(\"gene_rab_mus_scatters/\", gene_name,\"_dend.pdf\"), width=15, height=5)\n",
    "        x = unname(mm_mc@e_gc[gene_name,names(match_rabbit)])\n",
    "        y = unname(oc_mc@e_gc[gene_name,unname(match_rabbit)])\n",
    "        top_10 = (x+y)^2 >= quantile((x+y)^2, probs = seq(0, 1, 0.1))[10]\n",
    "        old_correction = max(0.5,min(2,mean(x[top_10]/y[top_10], na.rm=T)))\n",
    "        correction = unname(lm(x ~ 0 + y)$coefficients)\n",
    "        corrections[all_genes == gene_name] = correction\n",
    "        old_corrections[all_genes == gene_name] = old_correction\n",
    "        y = y*correction\n",
    "        x = log2(1e-5+x)\n",
    "        y = log2(1e-5+y)\n",
    "        xs[all_genes == gene_name,] = x\n",
    "        ys[all_genes == gene_name,] = y\n",
    "    }\n",
    "}"
   ]
  },
  {
   "cell_type": "code",
   "execution_count": null,
   "id": "ff700735",
   "metadata": {
    "ExecuteTime": {
     "end_time": "2022-08-21T09:02:41.098932Z",
     "start_time": "2022-08-21T09:02:36.050Z"
    }
   },
   "outputs": [],
   "source": [
    "# for(gene_name in c('DNMT3B', 'TAL1', 'SOX17', 'T', 'HAND1', 'CDX1', 'FOXF1', 'CDH5', 'TFAP2A', 'NFE2', 'SOX7')){\n",
    "#     x = unname(mm_mc@e_gc[gene_name,names(match_rabbit)])\n",
    "#     y = unname(ocf_legc[gene_name,unname(match_rabbit)])\n",
    "#     x = log2(1e-5+x)\n",
    "#     x = pmin(x, -10)\n",
    "#     y = pmin(y, -10)\n",
    "#     qplot(main=paste0(gene_name, \" cor=\", round(cor(x,y),2)),xlab='Mouse', ylab='Rabbit',\n",
    "#         xlim = c(gmin, gmax), ylim = c(gmin, gmax),\n",
    "#         x, y,\n",
    "#         col = oc_mc@colors[unname(match_rabbit)], \n",
    "#         ) + geom_abline(slope = 1, intercept = 0) + geom_abline(slope = 1, intercept = -2, linetype='dashed') + geom_abline(slope = 1, intercept = 2, linetype='dashed') + theme(legend.position=\"none\") + geom_point(color=oc_mc@colors[unname(match_rabbit)])  \n",
    "#     ggsave(paste0(gene_name, \" cor=\", round(cor(x,y),2), \".pdf\"), width = 3, height = 3)\n",
    "# }"
   ]
  },
  {
   "cell_type": "code",
   "execution_count": null,
   "id": "658662d7",
   "metadata": {
    "ExecuteTime": {
     "end_time": "2022-08-21T08:50:41.831423Z",
     "start_time": "2022-08-21T08:50:40.884Z"
    }
   },
   "outputs": [],
   "source": [
    "# options(repr.plot.width=3, repr.plot.height=3)"
   ]
  },
  {
   "cell_type": "code",
   "execution_count": null,
   "id": "74a2e40e",
   "metadata": {
    "ExecuteTime": {
     "end_time": "2022-08-15T11:13:18.161678Z",
     "start_time": "2022-08-15T11:08:38.732Z"
    },
    "scrolled": true
   },
   "outputs": [],
   "source": [
    "# gmin = min(fmm_legc[intersect(rownames(fmm_legc),rownames(foc_legc)),names(match_rabbit)])\n",
    "# gmax = min(-10, max(fmm_legc[intersect(rownames(fmm_legc),rownames(foc_legc)),names(match_rabbit)]))\n",
    "# require(gridExtra)\n",
    "# xs = matrix(\n",
    "#     nrow = length(union_names),\n",
    "#     ncol = length(names(match_rabbit))\n",
    "# )\n",
    "# ys = matrix(\n",
    "#     nrow = length(tmp$union_names),\n",
    "#     ncol = length(names(match_rabbit))\n",
    "# )\n",
    "# corrections = array(dim = c(length(tmp$union_names)))\n",
    "# old_corrections = array(dim = c(length(tmp$union_names)))\n",
    "# all_genes = union_names\n",
    "\n",
    "# # xs = matrix(\n",
    "# #     nrow = length(tmp[tmp$mouse_feature == TRUE | tmp$rabbit_feature == TRUE,]$union_names),\n",
    "# #     ncol = length(names(match_rabbit))\n",
    "# # )\n",
    "# # ys = matrix(\n",
    "# #     nrow = length(tmp[tmp$mouse_feature == TRUE | tmp$rabbit_feature == TRUE,]$union_names),\n",
    "# #     ncol = length(names(match_rabbit))\n",
    "# # )\n",
    "# # corrections = array(dim = c(length(tmp[tmp$mouse_feature == TRUE | tmp$rabbit_feature == TRUE,]$union_names)))\n",
    "# # old_corrections = array(dim = c(length(tmp[tmp$mouse_feature == TRUE | tmp$rabbit_feature == TRUE,]$union_names)))\n",
    "# # all_genes = tmp[tmp$mouse_feature == TRUE | tmp$rabbit_feature == TRUE,]$union_names\n",
    "# for(gene_name in all_genes){\n",
    "# # for(gene_name in c('CHRD')){\n",
    "#     if(gene_name %in% rownames(fmm_legc) & gene_name %in% rownames(foc_legc)){\n",
    "#         x = unname(mm_mc@e_gc[gene_name,names(match_rabbit)])\n",
    "#         y = unname(oc_mc@e_gc[gene_name,unname(match_rabbit)])\n",
    "# #         x = fmm_legc[gene_name,names(match_rabbit)]\n",
    "# #         y = foc_legc[gene_name,unname(match_rabbit)]\n",
    "#         top_10 = (x+y)^2 >= quantile((x+y)^2, probs = seq(0, 1, 0.1))[10]\n",
    "# #         y = y*max(0.5,min(2,mean(x[top_10]/y[top_10])))\n",
    "#         x = log2(1e-5+x)\n",
    "#         y = log2(1e-5+y)\n",
    "#         x = pmin(x, -10)\n",
    "#         y = pmin(y, -10)\n",
    "#         # Open a pdf file\n",
    "#         pdf(paste0(\"gene_rab_mus_scatters_emb/\", gene_name,\".pdf\"), width=15, height=5)\n",
    "#         # 2. Create a plot\n",
    "#         plot1 <- qplot(\n",
    "#             main=cor(\n",
    "#             foc_legc[tmp[tmp$union_names == gene_name,]$rabbit_int_gene,unname(match_rabbit)], \n",
    "#             foc_legc[gene_name,unname(match_rabbit)], \n",
    "#             ), xlab=tmp[tmp$union_names == gene_name,]$rabbit_int_gene, ylab=gene_name,\n",
    "#             xlim = c(gmin, gmax), ylim = c(gmin, gmax),\n",
    "#             foc_legc[tmp[tmp$union_names == gene_name,]$rabbit_int_gene,unname(match_rabbit)], \n",
    "#             foc_legc[gene_name,unname(match_rabbit)], \n",
    "# #             col = oc_mc@colors[unname(match_rabbit)], \n",
    "#                 ) + theme(legend.position=\"none\") + geom_point(color=oc_mc@colors[unname(match_rabbit)])\n",
    "#         plot2 <- qplot(main=cor(x,y)\n",
    "#             ,xlab='Mouse', ylab='Rabbit',\n",
    "#             xlim = c(gmin, gmax), ylim = c(gmin, gmax),\n",
    "#             x, y,\n",
    "# #             col = oc_mc@colors[unname(match_rabbit)], \n",
    "#             ) + geom_abline(slope = 1, intercept = 0) + geom_abline(slope = 1, intercept = -2, linetype='dashed') + geom_abline(slope = 1, intercept = 2, linetype='dashed') + theme(legend.position=\"none\") + geom_point(color=oc_mc@colors[unname(match_rabbit)])  \n",
    "#         plot3 <- qplot(main=cor(\n",
    "#             fmm_legc[tmp[tmp$union_names == gene_name,]$mouse_int_gene, names(match_rabbit)], \n",
    "#             fmm_legc[gene_name,names(match_rabbit)], \n",
    "#             ), xlab=tmp[tmp$union_names == gene_name,]$mouse_int_gene, ylab=gene_name, xlim = c(gmin, gmax), ylim = c(gmin, gmax),\n",
    "#             fmm_legc[tmp[tmp$union_names == gene_name,]$mouse_int_gene, names(match_rabbit)], \n",
    "#             fmm_legc[gene_name,names(match_rabbit)], \n",
    "# #             col = oc_mc@colors[unname(match_rabbit)], \n",
    "#                 ) + theme(legend.position=\"none\") + geom_point(color=oc_mc@colors[unname(match_rabbit)])\n",
    "#         grid.arrange(plot1, plot2, plot3, ncol=3)\n",
    "#         # Close the pdf file\n",
    "#         dev.off()\n",
    "        \n",
    "# #         pdf(paste0(\"gene_rab_mus_scatters/\", gene_name,\"_dend.pdf\"), width=15, height=5)\n",
    "#         x = unname(mm_mc@e_gc[gene_name,names(match_rabbit)])\n",
    "#         y = unname(oc_mc@e_gc[gene_name,unname(match_rabbit)])\n",
    "#         top_10 = (x+y)^2 >= quantile((x+y)^2, probs = seq(0, 1, 0.1))[10]\n",
    "#         old_correction = max(0.5,min(2,mean(x[top_10]/y[top_10], na.rm=T)))\n",
    "#         correction = unname(lm(x ~ 0 + y)$coefficients)\n",
    "#         corrections[all_genes == gene_name] = correction\n",
    "#         old_corrections[all_genes == gene_name] = old_correction\n",
    "#         y = y*correction\n",
    "#         x = log2(1e-5+x)\n",
    "#         y = log2(1e-5+y)\n",
    "#         xs[all_genes == gene_name,] = x\n",
    "#         ys[all_genes == gene_name,] = y\n",
    "# #         hclust_dend <- as.dendrogram(hclust(dist(abs(x-y))))\n",
    "# #         colors_to_use <- oc_mc@colors[names(rabbit_egc[gene_name,unname(match_rabbit)])][order.dendrogram(hclust_dend)]\n",
    "# #         labels_colors(hclust_dend) <- colors_to_use\n",
    "# #         hclust_dend %>% set(\"leaves_pch\", 19) %>% set(\"leaves_cex\", 1) %>% set(\"leaves_col\", colors_to_use) %>% \n",
    "# #         plot()\n",
    "# #         dev.off()\n",
    "#     }\n",
    "# }"
   ]
  },
  {
   "cell_type": "code",
   "execution_count": null,
   "id": "38acdc38",
   "metadata": {
    "ExecuteTime": {
     "end_time": "2022-10-25T08:15:25.482867Z",
     "start_time": "2022-10-25T08:14:55.013Z"
    }
   },
   "outputs": [],
   "source": [
    "rownames(corrections) = all_genes\n",
    "rownames(old_corrections) = all_genes"
   ]
  },
  {
   "cell_type": "code",
   "execution_count": null,
   "id": "c5fac931",
   "metadata": {
    "ExecuteTime": {
     "end_time": "2022-10-25T08:15:25.497538Z",
     "start_time": "2022-10-25T08:14:57.956Z"
    }
   },
   "outputs": [],
   "source": [
    "length(corrections)"
   ]
  },
  {
   "cell_type": "code",
   "execution_count": null,
   "id": "5b5a1cd5",
   "metadata": {},
   "outputs": [],
   "source": []
  },
  {
   "cell_type": "code",
   "execution_count": null,
   "id": "dab6c4e7",
   "metadata": {
    "ExecuteTime": {
     "end_time": "2022-10-25T08:15:25.516954Z",
     "start_time": "2022-10-25T08:14:59.941Z"
    }
   },
   "outputs": [],
   "source": [
    "corrections[\"PAX6\"]\n",
    "corrections[\"SOX10\"]"
   ]
  },
  {
   "cell_type": "code",
   "execution_count": null,
   "id": "cc671b0d",
   "metadata": {
    "ExecuteTime": {
     "end_time": "2022-10-25T08:15:25.542461Z",
     "start_time": "2022-10-25T08:15:04.660Z"
    }
   },
   "outputs": [],
   "source": [
    "corrections_f = corrections[corrections > 0.2 & corrections < 5 & !is.na(corrections)]\n",
    "xsf = xs[corrections > 0.2 & corrections < 5 & !is.na(corrections),]\n",
    "ysf = ys[corrections > 0.2 & corrections < 5 & !is.na(corrections),]"
   ]
  },
  {
   "cell_type": "code",
   "execution_count": null,
   "id": "536a6ba0",
   "metadata": {
    "ExecuteTime": {
     "end_time": "2022-10-25T08:15:25.557420Z",
     "start_time": "2022-10-25T08:15:05.316Z"
    }
   },
   "outputs": [],
   "source": [
    "length(corrections_f)"
   ]
  },
  {
   "cell_type": "code",
   "execution_count": null,
   "id": "3f12fc17",
   "metadata": {
    "ExecuteTime": {
     "end_time": "2022-09-01T08:22:56.828072Z",
     "start_time": "2022-09-01T08:19:47.306Z"
    }
   },
   "outputs": [],
   "source": [
    "# fwrite(tibble::enframe(corrections_f), \"corrections_f_rn.csv\")"
   ]
  },
  {
   "cell_type": "code",
   "execution_count": null,
   "id": "e50957d9",
   "metadata": {
    "ExecuteTime": {
     "end_time": "2022-10-25T08:15:26.735244Z",
     "start_time": "2022-10-25T08:15:08.540Z"
    }
   },
   "outputs": [],
   "source": [
    "ocf_egc = as.matrix(oc_mc@e_gc[names(corrections_f),])*as.vector(unname(corrections_f))\n",
    "ocf_legc = log2(1e-5+ocf_egc)\n",
    "ocf_legc_n = ocf_legc - rowMeans(ocf_legc)"
   ]
  },
  {
   "cell_type": "code",
   "execution_count": null,
   "id": "634f3635",
   "metadata": {
    "ExecuteTime": {
     "end_time": "2022-10-13T14:29:16.295068Z",
     "start_time": "2022-10-13T14:28:37.801Z"
    }
   },
   "outputs": [],
   "source": [
    "mm_ocf_cors = tgs_cor(mm_legc_n[names(corrections_f),], ocf_legc_n[names(corrections_f),])"
   ]
  },
  {
   "cell_type": "code",
   "execution_count": null,
   "id": "1dab2049",
   "metadata": {
    "ExecuteTime": {
     "end_time": "2022-10-25T08:21:44.254492Z",
     "start_time": "2022-10-25T08:21:43.758Z"
    }
   },
   "outputs": [],
   "source": [
    "double_featured_good = intersect(\n",
    "    union(toupper(names(mm_gset@gene_set)), names(oc_gset@gene_set)),\n",
    "    names(corrections_f)\n",
    "    )"
   ]
  },
  {
   "cell_type": "code",
   "execution_count": null,
   "id": "7e695547",
   "metadata": {
    "ExecuteTime": {
     "end_time": "2022-10-25T08:21:45.159538Z",
     "start_time": "2022-10-25T08:21:44.646Z"
    }
   },
   "outputs": [],
   "source": [
    "length(double_featured_good)"
   ]
  },
  {
   "cell_type": "code",
   "execution_count": null,
   "id": "e964031e",
   "metadata": {
    "ExecuteTime": {
     "end_time": "2022-11-02T10:31:48.364892Z",
     "start_time": "2022-11-02T10:31:48.055Z"
    }
   },
   "outputs": [],
   "source": [
    "oc_mcs = names(oc_mc@colors[oc_mc@colors %in% c('#635547', #Epiblast\n",
    "'#DABE99', #Primitive streak\n",
    "'#c19f70' #Anterior Primitive Streak\n",
    ")])\n",
    "oc_mcs_aps = names(oc_mc@colors[oc_mc@colors %in% c(\n",
    "'#c19f70' #Anterior Primitive Streak\n",
    ")])\n",
    "\n",
    "mm_mcs = names(mm_mc@colors[mm_mc@colors %in% c('#635547', #Epiblast\n",
    "'#DABE99', #Primitive streak\n",
    "'#c19f70' #Anterior Primitive Streak\n",
    ")])\n",
    "mm_mcs_aps = names(mm_mc@colors[mm_mc@colors %in% c(\n",
    "'#c19f70' #Anterior Primitive Streak\n",
    ")])"
   ]
  },
  {
   "cell_type": "code",
   "execution_count": null,
   "id": "1b4d7d1d",
   "metadata": {
    "ExecuteTime": {
     "end_time": "2022-11-02T17:24:30.681521Z",
     "start_time": "2022-11-02T17:24:30.246Z"
    }
   },
   "outputs": [],
   "source": [
    "log2(1e-5)"
   ]
  },
  {
   "cell_type": "code",
   "execution_count": null,
   "id": "6236b19c",
   "metadata": {
    "ExecuteTime": {
     "end_time": "2022-11-02T17:30:15.587679Z",
     "start_time": "2022-11-02T17:30:14.951Z"
    }
   },
   "outputs": [],
   "source": [
    "options(repr.plot.width=5, repr.plot.height=5)\n",
    "gene1 = \"FOXA2\"\n",
    "for(gene2 in c(\"T\", \"CDX1\", \"MSX1\")){\n",
    "    xboth = c(mm_legc[gene1,mm_mcs], oc_legc[gene1,oc_mcs])\n",
    "    xlim = c(min(xboth), max(xboth))\n",
    "    yboth = c(mm_legc[gene2,mm_mcs], oc_legc[gene2,oc_mcs])\n",
    "    ylim = c(min(yboth), max(yboth))\n",
    "    pdf(paste0(paste0(\"Rabbit_FOXA2_\", gene2), \".pdf\"), width=4, height=4)\n",
    "    plot(oc_legc[gene1,oc_mcs], oc_legc[gene2,oc_mcs], col = oc_mc@colors[oc_mcs], pch=19, xlab=gene1, ylab=gene2,main=\"Rabbit\", xlim=xlim, ylim=ylim)\n",
    "#     symbols(x=oc_legc[gene1,oc_mcs_aps], y=oc_legc[gene2,oc_mcs_aps], add=T, inches=F)\n",
    "    dev.off()\n",
    "    pdf(paste0(paste0(\"Mouse_FOXA2_\", gene2), \".pdf\"), width=4, height=4)\n",
    "    plot(mm_legc[gene1,mm_mcs], mm_legc[gene2,mm_mcs], col = mm_mc@colors[mm_mcs], pch=19, xlab=gene1, ylab=gene2,main=\"Mouse\", xlim=xlim, ylim=ylim)\n",
    "#     symbols(x=mm_legc[gene1,mm_mcs_aps], y=mm_legc[gene2,mm_mcs_aps], add=T, inches=F)\n",
    "    dev.off()\n",
    "}"
   ]
  },
  {
   "cell_type": "code",
   "execution_count": null,
   "id": "40c9b71f",
   "metadata": {
    "ExecuteTime": {
     "end_time": "2022-10-13T15:52:36.201301Z",
     "start_time": "2022-10-13T15:52:35.716Z"
    }
   },
   "outputs": [],
   "source": [
    "options(repr.plot.width=5, repr.plot.height=5)\n",
    "gene1 = \"FOXA2\"\n",
    "gene2 = \"CDX1\"\n"
   ]
  },
  {
   "cell_type": "code",
   "execution_count": null,
   "id": "ca876a26",
   "metadata": {
    "ExecuteTime": {
     "end_time": "2022-11-03T10:14:58.265860Z",
     "start_time": "2022-11-03T10:13:13.114Z"
    }
   },
   "outputs": [],
   "source": [
    "df_mm_ocf_cors = tgs_cor(mm_legc[double_featured_good,], ocf_legc[double_featured_good,])\n",
    "df_mm_ocf_cors_n = tgs_cor(mm_legc_n[double_featured_good,], ocf_legc_n[double_featured_good,])"
   ]
  },
  {
   "cell_type": "code",
   "execution_count": null,
   "id": "910f4c0c",
   "metadata": {
    "ExecuteTime": {
     "end_time": "2022-11-03T10:14:58.929807Z",
     "start_time": "2022-11-03T10:13:14.818Z"
    }
   },
   "outputs": [],
   "source": [
    "mm_md = mm_mat@cell_metadata[names(mm_mc@mc),]\n",
    "mm_md$cellid = rownames(mm_md)\n",
    "mm_mc_t = (mm_md %>% left_join(tibble::enframe(mm_mc@mc) %>% rename(cellid=name, mcid=value)) %>% group_by(mcid) %>% summarise(t=mean(developmental_time, na.rm=T)))$t[mm_mc@annots]\n",
    "names(mm_mc_t) = mm_mc@annots\n",
    "\n",
    "oc_md = oc_mat@cell_metadata\n",
    "oc_md$cellid = rownames(oc_md)\n",
    "oc_mc_t = (oc_md %>% left_join(tibble::enframe(oc_mc@mc) %>% rename(cellid=name, mcid=value)) %>% group_by(mcid) %>% summarise(t=mean(gt, na.rm=T)))$t[oc_mc@annots]\n",
    "names(oc_mc_t) = oc_mc@annots"
   ]
  },
  {
   "cell_type": "code",
   "execution_count": null,
   "id": "59ea7de0",
   "metadata": {
    "ExecuteTime": {
     "end_time": "2022-11-03T10:14:58.946717Z",
     "start_time": "2022-11-03T10:13:15.921Z"
    }
   },
   "outputs": [],
   "source": [
    "mm_mc@annots = 1:max(unique(mm_mc@mc))"
   ]
  },
  {
   "cell_type": "code",
   "execution_count": null,
   "id": "df129eb6",
   "metadata": {
    "ExecuteTime": {
     "end_time": "2022-11-03T10:14:58.981965Z",
     "start_time": "2022-11-03T10:13:16.169Z"
    }
   },
   "outputs": [],
   "source": [
    "mm_color_ord = c(\n",
    "'#FACB12', #PGC\n",
    "'#f7f79e', #Surface ectoderm\n",
    "'#C3C388', #Neural crest\n",
    "'#879E86', #Neural plate boundary\n",
    "'#CDE088', #Neural tube/Floor plate\n",
    "'#647A4F', #Forebrain/Midbrain/Hindbrain\n",
    "'#354E23', #Caudal neural plate\n",
    "'#649146', #Rostral neural plate\n",
    "'#90BF75', #Definitive ectoderm\n",
    "'#635547', #Epiblast\n",
    "'#DABE99', #Primitive streak\n",
    "'#9e6762', #Caudal epiblast\n",
    "'#8e7e59', #Tail bud - neural\n",
    "'#703C37', #Tail bud - mesoderm\n",
    "'#C594BF', #Early nascent mesoderm\n",
    "'#DFCDE4', #Late nascent mesoderm\n",
    "'#1a3f52', #Caudal mesoderm\n",
    "'#45d1c5', #Lateral & intermediate mesoderm\n",
    "'#408DA1', #Paraxial mesoderm\n",
    "'#A8DBF7', #Presomitic mesoderm\n",
    "'#1AA2EB', #Somitic mesoderm\n",
    "'#8DB5CE', #Rostral mesoderm\n",
    "'#53f1fc', #Cardiopharyngeal mesoderm\n",
    "'#B51D8D', #Cardiomyocytes\n",
    "'#8870ad', #ExE mesoderm\n",
    "'#cc7818', #Amnion/Chorion progenitor\n",
    "'#824A09', #Amnion/Chorion\n",
    "'#532C8A', #Allantois\n",
    "'#ff891c', #Endothelial cells\n",
    "'#FBBE92', #Haematoendothelial progenitors\n",
    "'#C9A997', #Blood progenitors\n",
    "'#C72228', #Erythroid 1\n",
    "'#FF5608', #Erythroid 3\n",
    "'#D96B2B', #Erythroid 2\n",
    "'#c19f70', #Anterior Primitive Streak\n",
    "'#0F4A9C', #Node/Notochord\n",
    "'#F397C0', #Definitive endoderm\n",
    "'#EF5A9D', #Gut\n",
    "'#F25CD4' #Hindgut\n",
    "# '#BA9BA1', #Visceral endoderm - anterior\n",
    "# '#F6BFCB', #Visceral endoderm\n",
    "# '#7F6874', #ExE visceral endoderm\n",
    "# '#1A1A1A',  #Parietal endoderm\n",
    "# '#33CC33', # 4.5\n",
    "# '#ffad1e', #Chorion\n",
    "# '#ffd854', #Chorion progenitors\n",
    "# '#b2b2b2', #TSC2\n",
    "# '#19ce5b', #SpT-Gly\n",
    "# '#d6616b', #EPC progenitors\n",
    "# '#67000d', #TGC progenitors\n",
    "# '#2e7ebc', #p-TGC\n",
    "# '#ff78fa' #SpA-TGC\n",
    ")\n",
    "\n",
    "oc_color_ord = c( \n",
    "'#FACB12', #PGC\n",
    "'#f7f79e', #Surface ectoderm\n",
    "'#CDE087', #Floor plate\n",
    "'#C3C388', #Neural crest\n",
    "'#879E86', #Neural plate boundary\n",
    "'#CDE088', #Neural tube\n",
    "'#647A4F', #Forebrain/Midbrain/Hindbrain\n",
    "'#354E23', #Caudal neurectoderm\n",
    "'#649146', #rostral neurectoderm\n",
    "'#90BF75', #Ectoderm - Definitive\n",
    "'#635547', #epiblast\n",
    "'#DABE99', #Primitive streak\n",
    "'#9e6762', #caudal epiblast\n",
    "'#E2F700', #Median TFAP\n",
    "'#C594BF', #nascent mesoderm\n",
    "'#1a3f52', #caudal mesoderm\n",
    "'#45d1c5', #Lateral & intermediate mesoderm\n",
    "'#408DA1', #Paraxial Mesoderm\n",
    "'#A8DBF7', #Presomitic mesoderm\n",
    "'#1AA2EB', #Somitic mesoderm\n",
    "'#8DB5CE', #rostral mesoderm\n",
    "'#53f1fc', #Cardiopharyngeal mesoderm\n",
    "'#B51D8D', #Caridac\n",
    "'#B6A8ED', #Nascent mesoderm - extraembryonic\n",
    "'#8870ad', #ExE mesoderm\n",
    "'#cc7818', #Amnion\n",
    "'#532C8A', #Allantois\n",
    "'#A69369', #chorionic mesothelium\n",
    "'#966F1B', #Endothelial2\n",
    "'#ff891c', #Endothelial\n",
    "'#FBBE92', #Hematoendothelial\n",
    "'#c9a997', #Blood progenitors\n",
    "'#C72228', #Erythroid1\n",
    "'#FF5608', #Erythroid2\n",
    "'#c19f70', #Anterior primitive streak\n",
    "'#6666ED', #Node\n",
    "'#0F4A9C', #notochord\n",
    "'#F397C0', #definitive endoderm\n",
    "'#EF5A9E', #Gut\n",
    "'#EF5A9D', #Foregut\n",
    "'#F25CD4' #Hindgut\n",
    "# '#CF6191', #Hypoblast-Anterior (Hhex/Lhx1/Cer1)\n",
    "# '#F6BFCB', #hypoblast\n",
    "# '#572E48', #Yolk sac\n",
    "# '#050505', #Parietal Endoderm\n",
    "# '#7B00FF', #Dppa3 Hand1\n",
    "# '#00FF15', #Dppa3 low Dusp6 neg\n",
    "# '#FF00B7', #DPPA3 TGM3\n",
    "# '#D4EB63', #Dusp6 not other\n",
    "# '#FFFF00', #Gata2 Hand1\n",
    "# '#FFA600', #Lgals3\n",
    "# '#54DCE3' #Wfdc2 Aldoc\n",
    ")\n",
    "mm_col_to_rank = c(1:length(mm_color_ord))\n",
    "names(mm_col_to_rank) = mm_color_ord\n",
    "mc_rank = 1000*mm_col_to_rank[mm_mc@colors] + mm_mc_t\n",
    "mm_mc_ord = order(mc_rank)\n",
    "mm_mc_ordered = names(mm_mc@colors)[mm_mc_ord]\n",
    "\n",
    "oc_col_to_rank = c(1:length(oc_color_ord))\n",
    "names(oc_col_to_rank) = oc_color_ord\n",
    "mc_rank = 1000*oc_col_to_rank[oc_mc@colors] + oc_mc_t\n",
    "oc_mc_ord = order(mc_rank)\n",
    "oc_mc_ordered = names(oc_mc@colors)[oc_mc_ord]"
   ]
  },
  {
   "cell_type": "code",
   "execution_count": null,
   "id": "e2928960",
   "metadata": {
    "ExecuteTime": {
     "end_time": "2022-11-03T10:14:58.997675Z",
     "start_time": "2022-11-03T10:13:17.433Z"
    }
   },
   "outputs": [],
   "source": [
    "oc_mc@color_key$group = rownames(oc_mc@color_key)\n",
    "mm_mc@color_key$group = rownames(mm_mc@color_key)"
   ]
  },
  {
   "cell_type": "code",
   "execution_count": null,
   "id": "b18cdb05",
   "metadata": {},
   "outputs": [],
   "source": []
  },
  {
   "cell_type": "code",
   "execution_count": null,
   "id": "26e32806",
   "metadata": {
    "ExecuteTime": {
     "end_time": "2022-11-03T10:14:59.011604Z",
     "start_time": "2022-11-03T10:13:17.729Z"
    }
   },
   "outputs": [],
   "source": [
    "rownames(mm_mc@color_key) = mm_mc@color_key$group"
   ]
  },
  {
   "cell_type": "code",
   "execution_count": null,
   "id": "18da82fb",
   "metadata": {
    "ExecuteTime": {
     "end_time": "2022-11-03T10:14:59.047086Z",
     "start_time": "2022-11-03T10:13:17.994Z"
    }
   },
   "outputs": [],
   "source": [
    "oc_col2cat = oc_mc@color_key$group\n",
    "names(oc_col2cat) = oc_mc@color_key$color\n",
    "\n",
    "mm_col2cat = mm_mc@color_key$group\n",
    "names(mm_col2cat) = mm_mc@color_key$color\n",
    "\n",
    "oc_cat2col = oc_mc@color_key$color\n",
    "names(oc_cat2col) = oc_mc@color_key$group\n",
    "\n",
    "mm_cat2col = mm_mc@color_key$color\n",
    "names(mm_cat2col) = mm_mc@color_key$group\n",
    "\n",
    "oc_mc_cats = unname(oc_col2cat[oc_mc@colors])\n",
    "names(oc_mc_cats) = names(oc_mc@colors)\n",
    "mm_mc_cats = unname(mm_col2cat[mm_mc@colors])\n",
    "names(mm_mc_cats) = names(mm_mc@colors)"
   ]
  },
  {
   "cell_type": "code",
   "execution_count": null,
   "id": "209b3334",
   "metadata": {
    "ExecuteTime": {
     "end_time": "2022-09-07T15:52:43.040804Z",
     "start_time": "2022-09-07T15:52:42.657Z"
    }
   },
   "outputs": [],
   "source": [
    "tmp = oc_mc@e_gc[c(\"DNMT1\", \"DNMT3A\", \"DNMT3B\", \"TET1\", \"TET2\", \"TET3\"), intersect(oc_mc_ordered, names(oc_mc_cats[oc_mc_cats == \"PGC\"]))]"
   ]
  },
  {
   "cell_type": "code",
   "execution_count": null,
   "id": "d867f638",
   "metadata": {
    "ExecuteTime": {
     "end_time": "2022-09-07T15:53:20.356955Z",
     "start_time": "2022-09-07T15:53:19.969Z"
    }
   },
   "outputs": [],
   "source": [
    "tmpl = log2(1e-5+tmp)\n",
    "tmpln = tmpl - rowMeans(tmpl)"
   ]
  },
  {
   "cell_type": "code",
   "execution_count": null,
   "id": "00aabce6",
   "metadata": {
    "ExecuteTime": {
     "end_time": "2022-09-07T16:07:52.578719Z",
     "start_time": "2022-09-07T16:07:52.179Z"
    }
   },
   "outputs": [],
   "source": [
    "tmpl = log2(1e-5+oc_mc@e_gc[double_featured_good,intersect(oc_mc_ordered, names(oc_mc_cats[oc_mc_cats == \"PGC\"]))])\n",
    "tmpln = tmpl - rowMeans(tmpl)"
   ]
  },
  {
   "cell_type": "code",
   "execution_count": null,
   "id": "b4c2dbb4",
   "metadata": {
    "ExecuteTime": {
     "end_time": "2022-09-07T16:10:32.399958Z",
     "start_time": "2022-09-07T16:10:31.995Z"
    }
   },
   "outputs": [],
   "source": [
    "log2(1e-5+oc_mc@e_gc[\"T\",intersect(oc_mc_ordered, names(oc_mc_cats[oc_mc_cats == \"PGC\"]))])"
   ]
  },
  {
   "cell_type": "code",
   "execution_count": null,
   "id": "1617245a",
   "metadata": {
    "ExecuteTime": {
     "end_time": "2022-09-07T16:07:53.352632Z",
     "start_time": "2022-09-07T16:07:52.962Z"
    }
   },
   "outputs": [],
   "source": [
    "tt = oc_mc_t[intersect(oc_mc_ordered, names(oc_mc_cats[oc_mc_cats == \"PGC\"]))]"
   ]
  },
  {
   "cell_type": "code",
   "execution_count": null,
   "id": "bf71643f",
   "metadata": {
    "ExecuteTime": {
     "end_time": "2022-09-07T16:07:54.830102Z",
     "start_time": "2022-09-07T16:07:53.362Z"
    }
   },
   "outputs": [],
   "source": [
    "test = tgs_cor(t(tmpln[,names(tt)]), as.matrix(tt))"
   ]
  },
  {
   "cell_type": "code",
   "execution_count": null,
   "id": "5146de7e",
   "metadata": {
    "ExecuteTime": {
     "end_time": "2022-09-07T16:07:54.868049Z",
     "start_time": "2022-09-07T16:07:53.771Z"
    }
   },
   "outputs": [],
   "source": [
    "nn = rownames(test)[!is.na(test)]\n",
    "tmp = test[!is.na(test)]\n",
    "names(tmp) = nn"
   ]
  },
  {
   "cell_type": "code",
   "execution_count": null,
   "id": "12c3139e",
   "metadata": {
    "ExecuteTime": {
     "end_time": "2022-09-07T16:07:55.652444Z",
     "start_time": "2022-09-07T16:07:55.243Z"
    }
   },
   "outputs": [],
   "source": [
    "head(tmp[order(tmp)], 100)"
   ]
  },
  {
   "cell_type": "code",
   "execution_count": null,
   "id": "c7f76ef3",
   "metadata": {
    "ExecuteTime": {
     "end_time": "2022-09-07T16:07:59.321824Z",
     "start_time": "2022-09-07T16:07:58.819Z"
    }
   },
   "outputs": [],
   "source": [
    "tail(tmp[order(tmp)], 100)"
   ]
  },
  {
   "cell_type": "code",
   "execution_count": null,
   "id": "d9700451",
   "metadata": {
    "ExecuteTime": {
     "end_time": "2022-09-07T15:54:07.745739Z",
     "start_time": "2022-09-07T15:54:07.242Z"
    }
   },
   "outputs": [],
   "source": [
    "pheatmap::pheatmap(\n",
    "    tmpl,\n",
    "#     cluster_rows = F,\n",
    "    cluster_cols = F\n",
    "                  )"
   ]
  },
  {
   "cell_type": "code",
   "execution_count": null,
   "id": "bf888567",
   "metadata": {
    "ExecuteTime": {
     "end_time": "2022-09-11T07:37:13.146332Z",
     "start_time": "2022-09-11T07:37:12.357Z"
    }
   },
   "outputs": [],
   "source": [
    "options(repr.plot.width=3.5, repr.plot.height=4)\n",
    "paletteLength = 100\n",
    "\n",
    "myColor <- colorRampPalette(c(\"white\",\"white\", \"red\"))(paletteLength)\n",
    "myBreaks <- c(seq(0.5, 0.69, length.out=ceiling(paletteLength/2) + 1),\n",
    "              seq(0.7, 0.85, length.out=floor(paletteLength/2)))\n",
    "pheatmap::pheatmap(\n",
    "    t(df_mm_ocf_cors[intersect(mm_mc_ordered, names(mm_mc_cats[mm_mc_cats == \"PGC\"])), intersect(oc_mc_ordered, names(oc_mc_cats[oc_mc_cats == \"PGC\"]))]), \n",
    "    col=myColor, \n",
    "    breaks=myBreaks,\n",
    "    annotation_row = data.frame(rabbit_color = oc_mc_cats),\n",
    "    annotation_col = data.frame(mouse_color=mm_mc_cats),\n",
    "    annotation_colors = list(rabbit_color=oc_cat2col, mouse_color=mm_cat2col),\n",
    "    cluster_rows = F,\n",
    "    cluster_cols = F\n",
    ")"
   ]
  },
  {
   "cell_type": "code",
   "execution_count": null,
   "id": "2abb90e7",
   "metadata": {
    "ExecuteTime": {
     "end_time": "2022-10-02T06:57:02.894514Z",
     "start_time": "2022-10-02T06:57:01.546Z"
    }
   },
   "outputs": [],
   "source": [
    "ocf_legc = ocf_legc[,names(oc_mc_cats[oc_mc_cats %in% c(\"epiblast\", \"Primitive Streak\")])]\n",
    "ocf_legc_n = ocf_legc - rowMeans(ocf_legc)\n",
    "\n",
    "rownames(mm_mc@e_gc) = toupper(rownames(mm_mc@e_gc))\n",
    "mm_legc = log2(1e-5+mm_mc@e_gc[,names(mm_mc_cats[mm_mc_cats %in% c(\"Epiblast\", \"Primitive Streak\")])])\n",
    "mm_legc_n = mm_legc - rowMeans(mm_legc)"
   ]
  },
  {
   "cell_type": "code",
   "execution_count": null,
   "id": "223fbe46",
   "metadata": {
    "ExecuteTime": {
     "end_time": "2022-10-02T06:58:03.147790Z",
     "start_time": "2022-10-02T06:58:00.587Z"
    }
   },
   "outputs": [],
   "source": [
    "options(repr.plot.width=9, repr.plot.height=8)\n",
    "com = cbind(rowMeans(mm_legc[double_featured_good,]), rowMeans(ocf_legc[double_featured_good,]))\n",
    "colnames(com) = c('mm', 'oc')\n",
    "com = as.data.frame(com)\n",
    "com$gene = double_featured_good\n",
    "\n",
    "epips = com\n",
    "ondiag = epips[abs(epips$oc - epips$mm) < 1,]\n",
    "offdiag = epips[abs(epips$oc - epips$mm) > 1,]\n",
    "offdiag$oc_mm_diff = offdiag$oc - offdiag$mm\n",
    "ondiag$oc_mm_sum = ondiag$oc + ondiag$mm\n",
    "dw_dw = ondiag[order(ondiag$oc_mm_sum),][1:15,]\n",
    "up_up = ondiag[order(-ondiag$oc_mm_sum),][1:15,]\n",
    "up_dw = offdiag[order(offdiag$oc_mm_diff),][1:15,]\n",
    "dw_up = offdiag[order(-offdiag$oc_mm_diff),][1:15,]\n",
    "\n",
    "gene_order = c(rownames(dw_dw),rownames(up_up),rownames(up_dw),rownames(dw_up))\n",
    "epips[setdiff(rownames(epips),gene_order),]$gene = ''\n",
    "gene_annot = tibble::enframe(rownames(epips))\n",
    "gene_annot$type = \"other\"\n",
    "rownames(gene_annot) = rownames(epips)\n",
    "gene_annot[rownames(dw_dw),]$type = \"dw_dw\"\n",
    "rownames(gene_annot) = rownames(epips)\n",
    "gene_annot[rownames(up_up),]$type = \"up_up\"\n",
    "rownames(gene_annot) = rownames(epips)\n",
    "gene_annot[rownames(up_dw),]$type = \"up_dw\"\n",
    "rownames(gene_annot) = rownames(epips)\n",
    "gene_annot[rownames(dw_up),]$type = \"dw_up\"\n",
    "rownames(gene_annot) = rownames(epips)\n",
    "gene_annot = gene_annot[,\"type\", drop=FALSE]\n",
    "rownames(gene_annot) = rownames(epips)\n",
    "ggplot(epips, aes(oc, mm, label = gene)) +\n",
    "  geom_point(data = epips, color = \"grey50\") +\n",
    "  geom_text_repel(box.padding = 0.5, max.overlaps = Inf) +\n",
    "  geom_point(data = epips[rownames(dw_dw),], color = \"darkblue\")+\n",
    "  geom_point(data = epips[rownames(up_up),], color = \"darkred\")+\n",
    "  geom_point(data = epips[rownames(up_dw),], color = \"purple\")+\n",
    "  geom_point(data = epips[rownames(dw_up),], color = \"orange\")+\n",
    "  geom_abline(intercept = 0, slope = 1,) + \n",
    "  geom_abline(intercept = 1, slope = 1, linetype=\"dashed\") + \n",
    "  geom_abline(intercept = -1, slope = 1, linetype=\"dashed\")"
   ]
  },
  {
   "cell_type": "code",
   "execution_count": null,
   "id": "89fabd7a",
   "metadata": {
    "ExecuteTime": {
     "end_time": "2022-10-02T06:58:14.179860Z",
     "start_time": "2022-10-02T06:58:02.882Z"
    }
   },
   "outputs": [],
   "source": [
    "ggplot(com, aes(oc, mm, label = gene))+\n",
    "        geom_point(data = com[com$sf == FALSE,], color = \"black\")+\n",
    "                geom_text_repel(box.padding = 0.5, max.overlaps = Inf)+\n",
    "                geom_point(data = com[com$sf == TRUE,], color = \"red\") + \n",
    "                geom_abline(intercept = 0, slope = 1,) + \n",
    "                geom_abline(intercept = 2, slope = 1, linetype=\"dashed\") + \n",
    "                geom_abline(intercept = -2, slope = 1, linetype=\"dashed\")"
   ]
  },
  {
   "cell_type": "code",
   "execution_count": null,
   "id": "f4541a75",
   "metadata": {
    "ExecuteTime": {
     "end_time": "2022-11-03T10:17:25.475006Z",
     "start_time": "2022-11-03T10:17:10.038Z"
    }
   },
   "outputs": [],
   "source": [
    "options(repr.plot.width=15, repr.plot.height=12)\n",
    "paletteLength = 100\n",
    "\n",
    "myColor <- colorRampPalette(c(\"white\",\"white\", \"red\"))(paletteLength)\n",
    "myBreaks <- c(seq(min(df_mm_ocf_cors), 0.69, length.out=ceiling(paletteLength/2) + 1),\n",
    "              seq(0.7, max(df_mm_ocf_cors), length.out=floor(paletteLength/2)))\n",
    "ph = pheatmap::pheatmap(\n",
    "    df_mm_ocf_cors[mm_mc_ordered, oc_mc_ordered], \n",
    "    col=myColor, \n",
    "    breaks=myBreaks,\n",
    "    annotation_col = data.frame(rabbit_color = oc_mc_cats),\n",
    "    annotation_row = data.frame(mouse_color=mm_mc_cats),\n",
    "    annotation_colors = list(rabbit_color=oc_cat2col, mouse_color=mm_cat2col),\n",
    "    cluster_rows = F,\n",
    "    cluster_cols = F\n",
    ")"
   ]
  },
  {
   "cell_type": "code",
   "execution_count": null,
   "id": "a11e6abe",
   "metadata": {
    "ExecuteTime": {
     "end_time": "2022-11-03T10:18:44.123547Z",
     "start_time": "2022-11-03T10:18:30.701Z"
    }
   },
   "outputs": [],
   "source": [
    "save_pheatmap_pdf(ph, \"mc_mc_cor_all.pdf\", width=15, height=12)"
   ]
  },
  {
   "cell_type": "code",
   "execution_count": null,
   "id": "ec077247",
   "metadata": {
    "ExecuteTime": {
     "end_time": "2022-10-11T05:37:31.827833Z",
     "start_time": "2022-10-11T05:37:31.294Z"
    }
   },
   "outputs": [],
   "source": [
    "max_cors_and_types = tibble::enframe(apply(df_mm_ocf_cors, 2, max)) %>% left_join(tibble::enframe(oc_mc_cats), by=\"name\") %>% left_join(tibble::enframe(oc_mc@colors), by=\"name\") %>% rename(mcid=name, maxcor=value.x, cat=value.y, col=value)\n",
    "max_cors_and_types = max_cors_and_types %>% left_join(tibble::enframe(rev(oc_color_ord)) %>% rename(col=value, ord=name))"
   ]
  },
  {
   "cell_type": "code",
   "execution_count": null,
   "id": "4fe14867",
   "metadata": {
    "ExecuteTime": {
     "end_time": "2022-10-11T05:37:34.288811Z",
     "start_time": "2022-10-11T05:37:33.997Z"
    }
   },
   "outputs": [],
   "source": [
    "max_cors_and_types[max_cors_and_types$cat == \"PGC\",]"
   ]
  },
  {
   "cell_type": "code",
   "execution_count": null,
   "id": "468fef5f",
   "metadata": {
    "ExecuteTime": {
     "end_time": "2022-10-11T05:37:36.347677Z",
     "start_time": "2022-10-11T05:37:35.949Z"
    }
   },
   "outputs": [],
   "source": [
    "library(ggridges)"
   ]
  },
  {
   "cell_type": "code",
   "execution_count": null,
   "id": "27e70784",
   "metadata": {
    "ExecuteTime": {
     "end_time": "2022-10-11T05:37:41.533529Z",
     "start_time": "2022-10-11T05:37:40.012Z"
    }
   },
   "outputs": [],
   "source": [
    "options(repr.plot.width=16, repr.plot.height=20)\n",
    "# ggplot(df, aes(x = depth, y = color, fill = color)) +\n",
    "#   geom_density_ridges()\n",
    "\n",
    "ggplot(max_cors_and_types, aes(x = maxcor, y = ord, fill = col))+\n",
    "  geom_density_ridges()+scale_fill_identity()\n",
    "# geom_vline(aes(xintercept=prc95), linetype=\"dashed\")\n",
    "# theme_ipsum()\n",
    "# ggsave(\"max_cor_density_ridges_emb.pdf\")"
   ]
  },
  {
   "cell_type": "code",
   "execution_count": null,
   "id": "ae2ce493",
   "metadata": {
    "ExecuteTime": {
     "end_time": "2022-08-15T11:19:50.258519Z",
     "start_time": "2022-08-15T11:19:47.502Z"
    }
   },
   "outputs": [],
   "source": [
    "options(repr.plot.width=15, repr.plot.height=10)\n",
    "# ggplot(df, aes(x = depth, y = color, fill = color)) +\n",
    "#   geom_density_ridges()\n",
    "\n",
    "# ggplot(max_cors_and_types, aes(x = maxcor, y = ord, fill = col))+\n",
    "#   geom_density_ridges()+scale_fill_identity()\n",
    "# ggsave(\"max_cor_density_ridges.pdf\")\n",
    "# \n",
    "ggplot(data=max_cors_and_types, aes(x=maxcor, group=ord, fill=col)) +\n",
    "    scale_fill_identity()+geom_density(adjust=1.5, position = \"stack\")\n",
    "ggsave(\"stacked_max_cor_density_ridges_emb.pdf\")"
   ]
  },
  {
   "cell_type": "code",
   "execution_count": null,
   "id": "a6eee27e",
   "metadata": {
    "ExecuteTime": {
     "end_time": "2022-08-09T11:11:52.396008Z",
     "start_time": "2022-08-09T11:11:51.930Z"
    }
   },
   "outputs": [],
   "source": [
    "# # Libraries\n",
    "# library(ggplot2)\n",
    "# library(hrbrthemes)\n",
    "# library(dplyr)\n",
    "# library(tidyr)\n",
    "# library(viridis)"
   ]
  },
  {
   "cell_type": "code",
   "execution_count": null,
   "id": "5b34fabc",
   "metadata": {
    "ExecuteTime": {
     "end_time": "2022-10-11T05:37:48.747915Z",
     "start_time": "2022-10-11T05:37:48.373Z"
    },
    "scrolled": false
   },
   "outputs": [],
   "source": [
    "options(repr.plot.width=8, repr.plot.height=4)\n",
    "# pdf(\"maxcor_density.pdf\", width=8, height=4)\n",
    "# plot(density(apply(df_mm_ocf_cors, 1, max)))\n",
    "prc95 = unname(quantile(max_cors_and_types$maxcor, 0.05))\n",
    "plot(density(max_cors_and_types$maxcor), main=paste0(round(sum(max_cors_and_types$maxcor>prc95)/length(max_cors_and_types$maxcor),3), \" over \", round(prc95, 3)))\n",
    "abline(v=prc95, lty=2)\n",
    "# dev.off()"
   ]
  },
  {
   "cell_type": "code",
   "execution_count": null,
   "id": "63be3a77",
   "metadata": {
    "ExecuteTime": {
     "end_time": "2022-10-12T13:04:17.161394Z",
     "start_time": "2022-10-12T13:04:15.664Z"
    }
   },
   "outputs": [],
   "source": [
    "long_mm_ocf_cors = as.data.frame(df_mm_ocf_cors_n) %>% tibble::rownames_to_column(\"mouse_mc\") %>% pivot_longer(cols=colnames(mc_cors), names_to = \"rabbit_mc\", values_to = \"cor\", )\n",
    "long_mm_ocf_cors_colored = long_mm_ocf_cors %>% left_join(tibble::enframe(oc_mc@colors) %>% rename(rabbit_mc=name, rabbit_col=value)) %>% left_join(tibble::enframe(mm_mc@colors) %>% rename(mouse_mc=name, mouse_col=value))"
   ]
  },
  {
   "cell_type": "code",
   "execution_count": null,
   "id": "99de2e18",
   "metadata": {
    "ExecuteTime": {
     "end_time": "2022-10-12T14:59:58.252362Z",
     "start_time": "2022-10-12T14:59:55.294Z"
    }
   },
   "outputs": [],
   "source": [
    "# pdf(\"oc_annot_by_mm_top10.pdf\", width=50, height=10)\n",
    "oc_by_mm_top5 = long_mm_ocf_cors_colored %>% group_by(rabbit_mc) %>% top_n(10, cor)\n",
    "test = t(table(oc_by_mm_top5$rabbit_mc, oc_by_mm_top5$mouse_col))\n",
    "options(repr.plot.width=50, repr.plot.height=10)\n",
    "barplot(test[,oc_mc_ordered],col = rownames(test), border=NA)\n",
    "# dev.off()"
   ]
  },
  {
   "cell_type": "code",
   "execution_count": null,
   "id": "4ac8d4b9",
   "metadata": {
    "ExecuteTime": {
     "end_time": "2022-10-12T13:09:45.578633Z",
     "start_time": "2022-10-12T13:09:45.385Z"
    }
   },
   "outputs": [],
   "source": [
    "tmp = apply(test,2,which.max)\n",
    "oc_mc_col_by_mm = rownames(test)[tmp]\n",
    "names(oc_mc_col_by_mm) = names(tmp)"
   ]
  },
  {
   "cell_type": "code",
   "execution_count": null,
   "id": "9422b8c4",
   "metadata": {
    "ExecuteTime": {
     "end_time": "2022-10-12T14:59:50.667904Z",
     "start_time": "2022-10-12T14:59:50.318Z"
    }
   },
   "outputs": [],
   "source": [
    "options(repr.plot.width=50, repr.plot.height=3)\n",
    "# pdf(\"oc_annot_yoav.pdf\", width=50, height=3)\n",
    "barplot(rep(1,length(oc_mc_ordered)),col = oc_mc@colors[oc_mc_ordered], border=NA)\n",
    "# dev.off()"
   ]
  },
  {
   "cell_type": "code",
   "execution_count": null,
   "id": "5d1d3f0a",
   "metadata": {
    "ExecuteTime": {
     "end_time": "2022-10-12T14:59:50.872170Z",
     "start_time": "2022-10-12T14:59:50.517Z"
    }
   },
   "outputs": [],
   "source": [
    "options(repr.plot.width=50, repr.plot.height=3)\n",
    "# pdf(\"oc_annot_by_mm_voting.pdf\", width=50, height=3)\n",
    "barplot(rep(1,length(oc_mc_ordered)),col = oc_mc_col_by_mm[oc_mc_ordered], border=NA)\n",
    "# dev.off()"
   ]
  },
  {
   "cell_type": "code",
   "execution_count": null,
   "id": "4be404d2",
   "metadata": {
    "ExecuteTime": {
     "end_time": "2022-10-12T13:10:11.326418Z",
     "start_time": "2022-10-12T13:10:11.066Z"
    }
   },
   "outputs": [],
   "source": [
    "fwrite(tibble::enframe(oc_mc_col_by_mm), \"oc_mc_col_by_mm.csv\")"
   ]
  },
  {
   "cell_type": "code",
   "execution_count": null,
   "id": "9cdeaf92",
   "metadata": {
    "ExecuteTime": {
     "end_time": "2022-08-15T11:20:10.195976Z",
     "start_time": "2022-08-15T11:20:08.550Z"
    }
   },
   "outputs": [],
   "source": [
    "mm_by_oc_top5 = long_mm_ocf_cors_colored %>% group_by(mouse_mc) %>% top_n(5, cor)\n",
    "test = t(table(mm_by_oc_top5$mouse_mc, mm_by_oc_top5$rabbit_col))\n",
    "options(repr.plot.width=50, repr.plot.height=10)\n",
    "barplot(test[,mm_mc_ordered],col = rownames(test), border=NA)"
   ]
  },
  {
   "cell_type": "code",
   "execution_count": null,
   "id": "d79c35f1",
   "metadata": {
    "ExecuteTime": {
     "end_time": "2022-08-15T11:20:11.842413Z",
     "start_time": "2022-08-15T11:20:08.870Z"
    }
   },
   "outputs": [],
   "source": [
    "mm_by_oc_top5 = long_mm_ocf_cors_colored %>% group_by(mouse_mc) %>% top_n(10, cor)\n",
    "test = t(table(mm_by_oc_top5$mouse_mc, mm_by_oc_top5$rabbit_col))\n",
    "options(repr.plot.width=50, repr.plot.height=10)\n",
    "barplot(test[,mm_mc_ordered],col = rownames(test), border=NA)"
   ]
  },
  {
   "cell_type": "code",
   "execution_count": null,
   "id": "b652616d",
   "metadata": {
    "ExecuteTime": {
     "end_time": "2022-08-15T11:20:12.029034Z",
     "start_time": "2022-08-15T11:20:09.534Z"
    }
   },
   "outputs": [],
   "source": [
    "options(repr.plot.width=50, repr.plot.height=3)\n",
    "barplot(rep(1,length(mm_mc_ordered)),col = mm_mc@colors[mm_mc_ordered], border=NA)"
   ]
  },
  {
   "cell_type": "code",
   "execution_count": null,
   "id": "10137845",
   "metadata": {
    "ExecuteTime": {
     "end_time": "2022-08-15T11:20:13.491657Z",
     "start_time": "2022-08-15T11:20:10.054Z"
    }
   },
   "outputs": [],
   "source": [
    "mm_by_oc_top5 = long_mm_ocf_cors_colored %>% group_by(mouse_mc) %>% top_n(5, cor)\n",
    "test = t(table(mm_by_oc_top5$mouse_mc, mm_by_oc_top5$rabbit_col))\n",
    "options(repr.plot.width=50, repr.plot.height=10)\n",
    "barplot(test[,mm_mc_ordered],col = rownames(test), border=NA)"
   ]
  },
  {
   "cell_type": "code",
   "execution_count": null,
   "id": "aed5b4a7",
   "metadata": {
    "ExecuteTime": {
     "end_time": "2022-08-15T11:20:13.624481Z",
     "start_time": "2022-08-15T11:20:12.358Z"
    }
   },
   "outputs": [],
   "source": [
    "mm_top_col = mm_by_oc_top5 %>% group_by(mouse_mc) %>% top_n(1, cor)\n",
    "mm_mc_top_col = mm_top_col$rabbit_col\n",
    "names(mm_mc_top_col) = mm_top_col$mouse_mc\n",
    "\n",
    "mm_mc_maj_cols = colnames(t(test))[max.col(t(test),ties.method=\"first\")]\n",
    "names(mm_mc_maj_cols) = colnames(test)\n",
    "table(mm_mc_top_col[names(mm_mc_maj_cols)] == mm_mc_maj_cols)"
   ]
  },
  {
   "cell_type": "code",
   "execution_count": null,
   "id": "d46c7448",
   "metadata": {
    "ExecuteTime": {
     "end_time": "2022-08-15T11:20:20.979122Z",
     "start_time": "2022-08-15T11:20:20.649Z"
    }
   },
   "outputs": [],
   "source": [
    "length(double_featured_good)"
   ]
  },
  {
   "cell_type": "code",
   "execution_count": null,
   "id": "6832f654",
   "metadata": {
    "ExecuteTime": {
     "end_time": "2022-10-25T08:26:41.856488Z",
     "start_time": "2022-10-25T08:26:41.454Z"
    }
   },
   "outputs": [],
   "source": [
    "save_pheatmap_pdf <- function(x, filename, width=7, height=7) {\n",
    "    stopifnot(!missing(x))\n",
    "    stopifnot(!missing(filename))\n",
    "    pdf(filename, width=width, height=height)\n",
    "    grid::grid.newpage()\n",
    "    grid::grid.draw(x$gtable)\n",
    "    dev.off()\n",
    "}"
   ]
  },
  {
   "cell_type": "code",
   "execution_count": null,
   "id": "4b512b9e",
   "metadata": {
    "ExecuteTime": {
     "end_time": "2022-08-22T15:21:53.775362Z",
     "start_time": "2022-08-22T15:21:51.880Z"
    }
   },
   "outputs": [],
   "source": [
    "max_cors_and_types = tibble::enframe(apply(df_mm_ocf_cors_n, 2, max)) %>% left_join(tibble::enframe(oc_mc_cats), by=\"name\") %>% left_join(tibble::enframe(oc_mc@colors), by=\"name\") %>% rename(mcid=name, maxcor=value.x, cat=value.y, col=value)\n",
    "max_cors_and_types = max_cors_and_types %>% left_join(tibble::enframe(rev(oc_color_ord)) %>% rename(col=value, ord=name))\n",
    "long_mm_ocf_cors = as.data.frame(df_mm_ocf_cors_n) %>% tibble::rownames_to_column(\"mouse_mc\") %>% pivot_longer(cols=colnames(mc_cors), names_to = \"rabbit_mc\", values_to = \"cor\", )\n",
    "long_mm_ocf_cors_colored = long_mm_ocf_cors %>% left_join(tibble::enframe(oc_mc@colors) %>% rename(rabbit_mc=name, rabbit_col=value)) %>% left_join(tibble::enframe(mm_mc@colors) %>% rename(mouse_mc=name, mouse_col=value))"
   ]
  },
  {
   "cell_type": "code",
   "execution_count": null,
   "id": "52a77f4b",
   "metadata": {
    "ExecuteTime": {
     "end_time": "2022-08-22T15:20:50.153971Z",
     "start_time": "2022-08-22T15:20:49.630Z"
    }
   },
   "outputs": [],
   "source": [
    "type_type_mcor"
   ]
  },
  {
   "cell_type": "code",
   "execution_count": null,
   "id": "215e0200",
   "metadata": {
    "ExecuteTime": {
     "end_time": "2022-08-22T15:22:14.520600Z",
     "start_time": "2022-08-22T15:22:14.103Z"
    }
   },
   "outputs": [],
   "source": [
    "max(df_mm_ocf_cors_n)"
   ]
  },
  {
   "cell_type": "code",
   "execution_count": null,
   "id": "02fdd1ca",
   "metadata": {
    "ExecuteTime": {
     "end_time": "2022-08-22T15:22:01.656664Z",
     "start_time": "2022-08-22T15:21:59.864Z"
    },
    "scrolled": false
   },
   "outputs": [],
   "source": [
    "options(repr.plot.width=15, repr.plot.height=11)\n",
    "paletteLength = 100\n",
    "\n",
    "myColor <- colorRampPalette(c(\"blue\",\"white\", \"red\"))(paletteLength)\n",
    "myBreaks <- c(seq(-max(df_mm_ocf_cors_n), -0.01, length.out=ceiling(paletteLength/2) + 1),\n",
    "              seq(0, max(df_mm_ocf_cors_n), length.out=floor(paletteLength/2)))\n",
    "\n",
    "type_type_mcor = as.data.frame(pivot_wider(data = long_mm_ocf_cors_colored %>% group_by(rabbit_col, mouse_col) %>% summarise(mcor=mean(cor)), names_from = \"mouse_col\", values_from = \"mcor\", ))\n",
    "rn = type_type_mcor$rabbit_col\n",
    "type_type_mcor$rabbit_col <- NULL\n",
    "rownames(type_type_mcor) <- rn\n",
    "type_type_mcor = type_type_mcor[\n",
    "        intersect(oc_color_ord, rownames(type_type_mcor)), \n",
    "        intersect(mm_color_ord, colnames(type_type_mcor))\n",
    "    ]\n",
    "rownames(type_type_mcor) = unname(oc_col2cat[rownames(type_type_mcor)])\n",
    "colnames(type_type_mcor) = unname(mm_col2cat[colnames(type_type_mcor)])\n",
    "ph = pheatmap::pheatmap(\n",
    "    breaks = myBreaks, \n",
    "    color = myColor,\n",
    "    type_type_mcor, \n",
    "    cluster_rows = F, \n",
    "    cluster_cols = F,\n",
    "    annotation_row = data.frame(rabbit_color=rownames(type_type_mcor), row.names=rownames(type_type_mcor)),\n",
    "    annotation_col = data.frame(mouse_color = colnames(type_type_mcor), row.names=colnames(type_type_mcor)),\n",
    "    annotation_colors = list(rabbit_color=oc_cat2col, mouse_color=mm_cat2col)\n",
    ")\n",
    "save_pheatmap_pdf(ph,paste0(\"pheatmap_type_type.pdf\"), width=15, height=11)"
   ]
  },
  {
   "cell_type": "code",
   "execution_count": null,
   "id": "cf4e6a21",
   "metadata": {
    "ExecuteTime": {
     "end_time": "2022-11-03T12:14:45.723146Z",
     "start_time": "2022-11-03T12:14:44.917Z"
    }
   },
   "outputs": [],
   "source": [
    "options(repr.plot.width=5, repr.plot.height=5)\n",
    "plot(oc_mc_t, oc_legc[\"BMP4\",], col = oc_mc@colors, pch=19, main=\"Rabbit BMP4\", xlim=c(6,8.6))"
   ]
  },
  {
   "cell_type": "code",
   "execution_count": null,
   "id": "8444ba4c",
   "metadata": {
    "ExecuteTime": {
     "end_time": "2022-08-15T11:21:09.744185Z",
     "start_time": "2022-08-15T11:20:58.792Z"
    },
    "scrolled": false
   },
   "outputs": [],
   "source": [
    "ph = pheatmap::pheatmap(breaks = myBreaks, color = myColor, cluster_cols = F,\n",
    "    type_type_mcor,\n",
    "    annotation_row = data.frame(rabbit_color=rownames(type_type_mcor), row.names=rownames(type_type_mcor)),\n",
    "    annotation_col = data.frame(mouse_color = colnames(type_type_mcor), row.names=colnames(type_type_mcor)),\n",
    "    annotation_colors = list(rabbit_color=oc_cat2col, mouse_color=mm_cat2col)\n",
    ")\n",
    "oc_tree = ph$tree_row\n",
    "clusts = data.frame(cluster = cutree(oc_tree, k = 8))\n",
    "for(clst in unique(clusts$cluster)){\n",
    "    oc_clst_types = rownames(clusts)[clusts$cluster==clst]\n",
    "    mm_clst_types = colnames(type_type_mcor)[colSums(as.matrix(type_type_mcor[oc_clst_types,]) > 0.25)>0]\n",
    "    oc_clst_mcs = names(oc_mc@colors[oc_mc@colors %in% oc_cat2col[oc_clst_types]])\n",
    "    mm_clst_mcs = names(mm_mc@colors[mm_mc@colors %in% mm_cat2col[mm_clst_types]])\n",
    "    clst_mc_cors = df_mm_ocf_cors[\n",
    "        intersect(mm_mc_ordered, mm_clst_mcs),\n",
    "        intersect(oc_mc_ordered, oc_clst_mcs)\n",
    "    ]\n",
    "    myColor <- colorRampPalette(c(\"blue\",\"white\", \"red\"))(paletteLength)\n",
    "    myBreaks <- c(seq(min(clst_mc_cors), 0, length.out=ceiling(paletteLength/2) + 1),\n",
    "                  seq(3/paletteLength, max(clst_mc_cors), length.out=floor(paletteLength/2)))\n",
    "    pheatmap::pheatmap(\n",
    "        t(clst_mc_cors), \n",
    "        col=myColor, \n",
    "        breaks=myBreaks,\n",
    "        annotation_col = data.frame(mouse_color=mm_mc_cats),\n",
    "        annotation_row = data.frame(rabbit_color = oc_mc_cats),\n",
    "        annotation_colors = list(rabbit_color=oc_cat2col, mouse_color=mm_cat2col),\n",
    "#         cluster_rows = F,\n",
    "        cluster_cols = F\n",
    "    )\n",
    "}\n"
   ]
  },
  {
   "cell_type": "code",
   "execution_count": null,
   "id": "c2e56ccd",
   "metadata": {
    "ExecuteTime": {
     "end_time": "2022-10-02T06:51:09.445356Z",
     "start_time": "2022-10-02T06:51:08.791Z"
    }
   },
   "outputs": [],
   "source": [
    "library(ggrepel)\n",
    "require(gridExtra)\n",
    "library(stringr)"
   ]
  },
  {
   "cell_type": "code",
   "execution_count": null,
   "id": "c26d7be6",
   "metadata": {
    "ExecuteTime": {
     "end_time": "2022-08-15T11:21:21.189745Z",
     "start_time": "2022-08-15T11:21:19.657Z"
    }
   },
   "outputs": [],
   "source": [
    "max_cors_and_types = tibble::enframe(apply(df_mm_ocf_cors, 2, max)) %>% left_join(tibble::enframe(oc_mc_cats), by=\"name\") %>% left_join(tibble::enframe(oc_mc@colors), by=\"name\") %>% rename(mcid=name, maxcor=value.x, cat=value.y, col=value)\n",
    "max_cors_and_types = max_cors_and_types %>% left_join(tibble::enframe(rev(oc_color_ord)) %>% rename(col=value, ord=name))\n",
    "long_mm_ocf_cors = as.data.frame(df_mm_ocf_cors) %>% tibble::rownames_to_column(\"mouse_mc\") %>% pivot_longer(cols=colnames(mc_cors), names_to = \"rabbit_mc\", values_to = \"cor\", )\n",
    "long_mm_ocf_cors_colored = long_mm_ocf_cors %>% left_join(tibble::enframe(oc_mc@colors) %>% rename(rabbit_mc=name, rabbit_col=value)) %>% left_join(tibble::enframe(mm_mc@colors) %>% rename(mouse_mc=name, mouse_col=value))"
   ]
  },
  {
   "cell_type": "code",
   "execution_count": null,
   "id": "07cdce14",
   "metadata": {
    "ExecuteTime": {
     "end_time": "2022-08-15T11:21:21.389797Z",
     "start_time": "2022-08-15T11:21:20.577Z"
    }
   },
   "outputs": [],
   "source": [
    "col_col_mcor = long_mm_ocf_cors_colored %>% group_by(rabbit_col, mouse_col) %>% summarise(mcor=mean(cor))"
   ]
  },
  {
   "cell_type": "code",
   "execution_count": null,
   "id": "5538e474",
   "metadata": {
    "ExecuteTime": {
     "end_time": "2022-10-11T05:37:06.230905Z",
     "start_time": "2022-10-11T05:37:05.948Z"
    }
   },
   "outputs": [],
   "source": [
    "orth_tfs = c('NOTO', 'HOXC10', 'EOMES', 'GFI1B', 'CDX4', 'CDX1', 'HOXB6', 'TAL1', 'HOXB2', 'OTX2', 'SMYD1', 'T', 'CDX2', 'TBX6', 'HOXC8', 'FOXA2', 'NKX2-5', 'EN1', 'SOX17', 'HOXA10', 'HOXA3', 'POU5F1', 'GATA6', 'HAND1', 'FOXD3', 'HOXB3', 'HOXB8', 'HOXC6', 'SOX7', 'NFE2', 'FOXC1', 'GRHL2', 'FLI1', 'HAND2', 'TBX20', 'HHEX', 'UTF1', 'PRDM1', 'PAX3', 'FOXA1', 'HOXB9', 'GATA4', 'HOXB1', 'SOX2', 'ETV2', 'HOXA7', 'HES3', 'MEOX1', 'GATA1', 'EVX1', 'SOX1', 'TCF15', 'HOXC4', 'NKX1-2', 'ETV4', 'MIXL1', 'TBX3', 'HMGA2', 'HOXA1', 'SOX3', 'GATA3', 'ZIC3', 'HES7', 'MSX2', 'LHX1', 'HESX1', 'EPAS1', 'TEAD2', 'SP5', 'IRX5', 'SOX18', 'LHX2', 'SALL2', 'ELK3', 'NR2F2', 'NR2F1', 'NR6A1', 'XBP1', 'MEIS1', 'TBX4', 'LEF1', 'GSC', 'MLLT3', 'TEAD1', 'TCF7L1', 'PITX2', 'MSX1', 'KLF6', 'IRX3', 'ISL1', 'CITED1', 'TCF4', 'ETV5', 'PSMC5', 'EZH2', 'CBX2', 'HOXA4', 'CITED2', 'RUNX1', 'NDN', 'SIX2', 'ANKRD1', 'ID2', 'TCERG1', 'SALL1', 'MYCN', 'DLX5', 'SOX15', 'TCF21', 'TRIM28', 'PDLIM4', 'TGFB1I1', 'SOX4', 'BASP1', 'LMO2', 'SMAD7', 'SOX11', 'TCF12', 'SNAI2', 'GRHL3', 'SNAI1', 'ELF3', 'KDM5B', 'MAGED1', 'ID3', 'TCF7L2', 'YAF2', 'CEBPG', 'HIF1A', 'SSBP3', 'LDB2', 'GATA2', 'IRX2', 'SMARCD3', 'POU2F1', 'GLI3', 'RUNX1T1', 'BBX', 'SMAD2', 'JDP2', 'MYBBP1A', 'ID1', 'POLR2H', 'PDLIM1', 'ACTN1', 'HES1', 'SQSTM1', 'ALX1', 'MYC', 'RYBP', 'MLLT10', 'PAPOLA', 'CCAR1', 'YAP1', 'RBBP7', 'SUB1', 'MYOCD', 'JARID2', 'E2F4', 'ZFP36L1', 'HIC2', 'RAB11A', 'PBX3', 'BAZ2A', 'FHL2', 'ETS1', 'FOXP1', 'CBX3', 'IVNS1ABP', 'ATF4', 'SOX9', 'TFDP2', 'SATB1', 'NRIP1', 'FOS', 'ACTN4', 'BAZ1A', 'IRX4', 'DACH1', 'HMGB2', 'NCOA4', 'PRRX2', 'CTBP2', 'BDP1', 'BCOR', 'ARID3B', 'HOXD1', 'GTF2I', 'HMGB3', 'PBX1', 'TEAD3', 'MTA3', 'HEY1', 'DLX3', 'SHANK3', 'RAI14', 'SIN3B', 'MED13', 'DNMT3A', 'UGP2', 'ATF1', 'CDK2', 'ELF1', 'JUN', 'PLAGL1', 'MXI1', 'FEM1B', 'PPP1R13B', 'WWTR1', 'CASP8AP2', 'TRIM24', 'KLF3', 'PEG3', 'GTF2H1', 'NFE2L3', 'JUP', 'ESRRB', 'HLTF', 'CBFB', 'LMO4', 'CALCOCO1', 'SEC14L2', 'NFE2L2', 'SKIL', 'ZFP42', 'SMAD1', 'OSTF1', 'KLF5', 'POU3F1', 'KDM3A', 'KLF4', 'HMGCS1', 'CEBPB', 'CEBPD', 'DPPA2', 'RAP2C', 'E2F8', 'FOXO4', 'DPPA4', 'HES6', 'SIAH2', 'BTG2', 'MECOM', 'MAFB', 'ETS2', 'DDX58', 'TOB1', 'STAT1', 'FOSL1', 'CEBPA', 'MITF', 'PPARD', 'HOPX', 'CITED4')\n",
    "length(orth_tfs)"
   ]
  },
  {
   "cell_type": "code",
   "execution_count": null,
   "id": "7888c405",
   "metadata": {
    "ExecuteTime": {
     "end_time": "2022-10-11T05:37:06.843220Z",
     "start_time": "2022-10-11T05:37:06.556Z"
    }
   },
   "outputs": [],
   "source": [
    "all_tfs = toupper(c(\"Adnp\",\n",
    "\"Aebp1\",\n",
    "\"Aebp2\",\n",
    "\"Nr0b1\",\n",
    "\"Ahr\",\n",
    "\"Ahrr\",\n",
    "\"Aip\",\n",
    "\"Aire\",\n",
    "\"Alx3\",\n",
    "\"Alx4\",\n",
    "\"Ank1\",\n",
    "\"Ankfy1\",\n",
    "\"Nr2f2\",\n",
    "\"Ar\",\n",
    "\"Phox2a\",\n",
    "\"Arnt\",\n",
    "\"Arnt2\",\n",
    "\"Arntl\",\n",
    "\"Arx\",\n",
    "\"Atbf1\",\n",
    "\"Atf1\",\n",
    "\"Atf2\",\n",
    "\"Atf3\",\n",
    "\"Atf4\",\n",
    "\"Atm\",\n",
    "\"Atoh1\",\n",
    "\"Neurod6\",\n",
    "\"Neurod4\",\n",
    "\"Neurog2\",\n",
    "\"Neurog3\",\n",
    "\"Hnrpd\",\n",
    "\"Bach1\",\n",
    "\"Bach2\",\n",
    "\"Bapx1\",\n",
    "\"Bard1\",\n",
    "\"Barx1\",\n",
    "\"Barx2\",\n",
    "\"Bcl6b\",\n",
    "\"Bcl3\",\n",
    "\"Bcl6\",\n",
    "\"Prdm1\",\n",
    "\"Bmi1\",\n",
    "\"Bnc1\",\n",
    "\"Smyd1\",\n",
    "\"Brca1\",\n",
    "\"Zfp36l1\",\n",
    "\"Klf5\",\n",
    "\"C2ta\",\n",
    "\"Camk4\",\n",
    "\"Nr1i3\",\n",
    "\"Catnb\",\n",
    "\"Runx2\",\n",
    "\"Runx1\",\n",
    "\"Cbfa2t1h\",\n",
    "\"Runx3\",\n",
    "\"Cbfb\",\n",
    "\"Cbx2\",\n",
    "\"Cbx3\",\n",
    "\"Cbx4\",\n",
    "\"Ccnk\",\n",
    "\"Ccnt1\",\n",
    "\"Cdk2\",\n",
    "\"Cdk4\",\n",
    "\"Cdk7\",\n",
    "\"Cdkn2a\",\n",
    "\"Cdkn2b\",\n",
    "\"Cdkn2c\",\n",
    "\"Cdkn2d\",\n",
    "\"Cdx1\",\n",
    "\"Cdx2\",\n",
    "\"Cdx4\",\n",
    "\"Cebpa\",\n",
    "\"Cebpz\",\n",
    "\"Cebpb\",\n",
    "\"Cebpd\",\n",
    "\"Cebpg\",\n",
    "\"Chgb\",\n",
    "\"Chx10\",\n",
    "\"Cited1\",\n",
    "\"Clock\",\n",
    "\"Cnbp1\",\n",
    "\"Cops2\",\n",
    "\"Creb1\",\n",
    "\"Creb3\",\n",
    "\"Crebbp\",\n",
    "\"Crebl1\",\n",
    "\"Crem\",\n",
    "\"Crx\",\n",
    "\"Ctbp2\",\n",
    "\"Ctcf\",\n",
    "\"Cutl1\",\n",
    "\"Cutl2\",\n",
    "\"Dach1\",\n",
    "\"Daxx\",\n",
    "\"Dbp\",\n",
    "\"Dbx1\",\n",
    "\"Pcbd\",\n",
    "\"Ddef1\",\n",
    "\"Ddit3\",\n",
    "\"Twist2\",\n",
    "\"Dlx1\",\n",
    "\"Dlx2\",\n",
    "\"Dlx3\",\n",
    "\"Dlx4\",\n",
    "\"Dlx5\",\n",
    "\"Dlx6\",\n",
    "\"Dnmt1\",\n",
    "\"Dnmt3a\",\n",
    "\"Dr1\",\n",
    "\"Drg1\",\n",
    "\"Arid3a\",\n",
    "\"E2f1\",\n",
    "\"E2f3\",\n",
    "\"E2f5\",\n",
    "\"E4f1\",\n",
    "\"Ebf1\",\n",
    "\"Ebf2\",\n",
    "\"Ebf3\",\n",
    "\"Eed\",\n",
    "\"Egr1\",\n",
    "\"Egr2\",\n",
    "\"Egr3\",\n",
    "\"Egr4\",\n",
    "\"Ehf\",\n",
    "\"Elf1\",\n",
    "\"Elf3\",\n",
    "\"Elf5\",\n",
    "\"Elk1\",\n",
    "\"Elk3\",\n",
    "\"Elk4\",\n",
    "\"Ell\",\n",
    "\"Emx1\",\n",
    "\"Emx2\",\n",
    "\"En1\",\n",
    "\"En2\",\n",
    "\"Eomes\",\n",
    "\"Epas1\",\n",
    "\"Nr2f6\",\n",
    "\"Nr2f1\",\n",
    "\"Ercc2\",\n",
    "\"Ercc3\",\n",
    "\"Erf\",\n",
    "\"Erg\",\n",
    "\"Esr1\",\n",
    "\"Esr2\",\n",
    "\"Esx1\",\n",
    "\"Etsrp71\",\n",
    "\"Etv1\",\n",
    "\"Etv6\",\n",
    "\"Evi1\",\n",
    "\"Bcl11a\",\n",
    "\"Evx1\",\n",
    "\"Evx2\",\n",
    "\"Ewsh\",\n",
    "\"Ezh1\",\n",
    "\"Ezh2\",\n",
    "\"Fah\",\n",
    "\"Fusip1\",\n",
    "\"Foxh1\",\n",
    "\"Fem1a\",\n",
    "\"Fem1b\",\n",
    "\"Fhl2\",\n",
    "\"Foxi1\",\n",
    "\"Foxc2\",\n",
    "\"Foxm1\",\n",
    "\"Foxn2\",\n",
    "\"Foxd4\",\n",
    "\"Foxf2\",\n",
    "\"Fkhl18\",\n",
    "\"Foxb2\",\n",
    "\"Foxl1\",\n",
    "\"Fli1\",\n",
    "\"Fos\",\n",
    "\"Fosb\",\n",
    "\"Fosl1\",\n",
    "\"Fosl2\",\n",
    "\"Fxr1h\",\n",
    "\"Gabpa\",\n",
    "\"Gabpb1\",\n",
    "\"Gas7\",\n",
    "\"Gata1\",\n",
    "\"Gata2\",\n",
    "\"Gata3\",\n",
    "\"Gata4\",\n",
    "\"Gata5\",\n",
    "\"Gata6\",\n",
    "\"Gbx2\",\n",
    "\"Mtpn\",\n",
    "\"Gcm1\",\n",
    "\"Gcn5l2\",\n",
    "\"Nr6a1\",\n",
    "\"Gfi1\",\n",
    "\"Gfi1b\",\n",
    "\"Dsip1\",\n",
    "\"Gli\",\n",
    "\"Gli2\",\n",
    "\"Gli3\",\n",
    "\"Glrp1\",\n",
    "\"Aes\",\n",
    "\"Nr3c1\",\n",
    "\"Gsc\",\n",
    "\"Gsh1\",\n",
    "\"Gsh2\",\n",
    "\"Gtf2h1\",\n",
    "\"Gtf2h4\",\n",
    "\"Gtf2i\",\n",
    "\"Baz1a\",\n",
    "\"Nkx6-2\",\n",
    "\"Hand1\",\n",
    "\"Hand2\",\n",
    "\"Hcfc1\",\n",
    "\"Hcls1\",\n",
    "\"Hdac1\",\n",
    "\"Hdac2\",\n",
    "\"Hdac3\",\n",
    "\"Hdac5\",\n",
    "\"Hdac6\",\n",
    "\"Hdgfrp2\",\n",
    "\"Hes1\",\n",
    "\"Hes2\",\n",
    "\"Hes3\",\n",
    "\"Hes5\",\n",
    "\"Hesx1\",\n",
    "\"Hey1\",\n",
    "\"Hey2\",\n",
    "\"Foxn1\",\n",
    "\"Foxq1\",\n",
    "\"Foxd3\",\n",
    "\"Foxj1\",\n",
    "\"Foxf1a\",\n",
    "\"Foxg1\",\n",
    "\"Foxd1\",\n",
    "\"Hhex\",\n",
    "\"Hic1\",\n",
    "\"Hif1a\",\n",
    "\"Hipk2\",\n",
    "\"Hira\",\n",
    "\"Hivep2\",\n",
    "\"Hlx\",\n",
    "\"Hlxb9\",\n",
    "\"Hmgn2\",\n",
    "\"Hmg20b\",\n",
    "\"Hmgb3\",\n",
    "\"Hmga1\",\n",
    "\"Hmga2\",\n",
    "\"Nr4a1\",\n",
    "\"Hmx1\",\n",
    "\"Hmx2\",\n",
    "\"Hmx3\",\n",
    "\"Foxa1\",\n",
    "\"Foxa2\",\n",
    "\"Foxa3\",\n",
    "\"Hnf4\",\n",
    "\"Onecut1\",\n",
    "\"Hnrpab\",\n",
    "\"Hoxa1\",\n",
    "\"Hoxa10\",\n",
    "\"Hoxa11\",\n",
    "\"Hoxa11s\",\n",
    "\"Hoxa13\",\n",
    "\"Hoxa2\",\n",
    "\"Hoxa3\",\n",
    "\"Hoxa4\",\n",
    "\"Hoxa5\",\n",
    "\"Hoxa6\",\n",
    "\"Hoxa7\",\n",
    "\"Hoxa9\",\n",
    "\"Hoxb1\",\n",
    "\"Hoxb13\",\n",
    "\"Hoxb3\",\n",
    "\"Hoxb4\",\n",
    "\"Hoxb5\",\n",
    "\"Hoxb6\",\n",
    "\"Hoxb7\",\n",
    "\"Hoxb8\",\n",
    "\"Hoxb9\",\n",
    "\"Hoxc12\",\n",
    "\"Hoxc13\",\n",
    "\"Hoxc4\",\n",
    "\"Hoxc5\",\n",
    "\"Hoxc6\",\n",
    "\"Hoxc8\",\n",
    "\"Hoxc9\",\n",
    "\"Hoxd1\",\n",
    "\"Hoxd10\",\n",
    "\"Hoxd11\",\n",
    "\"Hoxd12\",\n",
    "\"Hoxd13\",\n",
    "\"Hoxd3\",\n",
    "\"Hoxd4\",\n",
    "\"Hoxd8\",\n",
    "\"Hoxd9\",\n",
    "\"hr\",\n",
    "\"Hsf1\",\n",
    "\"Hsf2\",\n",
    "\"Htr5a\",\n",
    "\"Elavl2\",\n",
    "\"Icsbp1\",\n",
    "\"Idb1\",\n",
    "\"Idb2\",\n",
    "\"Idb3\",\n",
    "\"Idb4\",\n",
    "\"Ifi16\",\n",
    "\"Ifnar2\",\n",
    "\"Ikbkb\",\n",
    "\"Ikbkg\",\n",
    "\"Ilf3\",\n",
    "\"Invs\",\n",
    "\"Irf1\",\n",
    "\"Irf2\",\n",
    "\"Irf4\",\n",
    "\"Irx1\",\n",
    "\"Irx2\",\n",
    "\"Irx3\",\n",
    "\"Isgf3g\",\n",
    "\"Isl1\",\n",
    "\"Jun\",\n",
    "\"Junb\",\n",
    "\"Jund1\",\n",
    "\"Klf1\",\n",
    "\"Klf12\",\n",
    "\"Klf2\",\n",
    "\"Klf3\",\n",
    "\"Klf4\",\n",
    "\"Bteb1\",\n",
    "\"Hivep3\",\n",
    "\"Mafb\",\n",
    "\"Labx\",\n",
    "\"Laf4\",\n",
    "\"Lbx1h\",\n",
    "\"Lbx2h\",\n",
    "\"Ldb1\",\n",
    "\"Ldb2\",\n",
    "\"Lef1\",\n",
    "\"Lhx1\",\n",
    "\"Lhx2\",\n",
    "\"Lhx3\",\n",
    "\"Lhx4\",\n",
    "\"Lhx5\",\n",
    "\"Lhx6\",\n",
    "\"Lhx8\",\n",
    "\"Lhx9\",\n",
    "\"Lmo2\",\n",
    "\"Lmo4\",\n",
    "\"Lmx1b\",\n",
    "\"Lmyc1\",\n",
    "\"Zbtb7\",\n",
    "\"Lyl1\",\n",
    "\"Mad\",\n",
    "\"Mad3\",\n",
    "\"Mad4\",\n",
    "\"Madh1\",\n",
    "\"Madh2\",\n",
    "\"Madh3\",\n",
    "\"Madh4\",\n",
    "\"Madh5\",\n",
    "\"Madh6\",\n",
    "\"Madh7\",\n",
    "\"Maf\",\n",
    "\"Maff\",\n",
    "\"Mafg\",\n",
    "\"Mafk\",\n",
    "\"Ascl1\",\n",
    "\"Ascl2\",\n",
    "\"Max\",\n",
    "\"Maz\",\n",
    "\"Mbd2\",\n",
    "\"Mbd3\",\n",
    "\"Mcm3\",\n",
    "\"Mcm2\",\n",
    "\"Mcm4\",\n",
    "\"Mcm5\",\n",
    "\"Mcm6\",\n",
    "\"Mcm7\",\n",
    "\"Mecp2\",\n",
    "\"Mef2a\",\n",
    "\"Mef2b\",\n",
    "\"Mef2c\",\n",
    "\"Mef2d\",\n",
    "\"Meis1\",\n",
    "\"Rab8a\",\n",
    "\"Men1\",\n",
    "\"Meox1\",\n",
    "\"Meox2\",\n",
    "\"Foxc1\",\n",
    "\"Foxd2\",\n",
    "\"Mid1\",\n",
    "\"Mist1\",\n",
    "\"Mitf\",\n",
    "\"Miz1\",\n",
    "\"Mllt10\",\n",
    "\"Mllt2h\",\n",
    "\"Mnat1\",\n",
    "\"Foxk1\",\n",
    "\"Mnt\",\n",
    "\"Mpl\",\n",
    "\"Mrg1\",\n",
    "\"Mrg2\",\n",
    "\"Msc\",\n",
    "\"Cited2\",\n",
    "\"Msl31\",\n",
    "\"Msx1\",\n",
    "\"Msx2\",\n",
    "\"Msx3\",\n",
    "\"Polr2k\",\n",
    "\"Mtf1\",\n",
    "\"Mtf2\",\n",
    "\"Mxi1\",\n",
    "\"Myb\",\n",
    "\"Mybl1\",\n",
    "\"Mybl2\",\n",
    "\"Myc\",\n",
    "\"Mycs\",\n",
    "\"Myef2\",\n",
    "\"Myf5\",\n",
    "\"Myf6\",\n",
    "\"Myod1\",\n",
    "\"Myog\",\n",
    "\"Myt1\",\n",
    "\"Myt1l\",\n",
    "\"Nab1\",\n",
    "\"Nab2\",\n",
    "\"Naca\",\n",
    "\"Ncoa1\",\n",
    "\"Ncoa2\",\n",
    "\"Ncoa3\",\n",
    "\"Ndn\",\n",
    "\"Nedd8\",\n",
    "\"Neurod1\",\n",
    "\"Neurod2\",\n",
    "\"Neurog1\",\n",
    "\"Nfatc1\",\n",
    "\"Nfatc2\",\n",
    "\"Nfatc2ip\",\n",
    "\"Nfatc3\",\n",
    "\"Nfe2\",\n",
    "\"Nfe2l1\",\n",
    "\"Nfe2l2\",\n",
    "\"Nfe2l3\",\n",
    "\"Nfia\",\n",
    "\"Nfib\",\n",
    "\"Nfic\",\n",
    "\"Nfil3\",\n",
    "\"Nfix\",\n",
    "\"Nfkb1\",\n",
    "\"Nfkb2\",\n",
    "\"Nfkbib\",\n",
    "\"Nfkbie\",\n",
    "\"Nfkbil1\",\n",
    "\"Nfya\",\n",
    "\"Nfyb\",\n",
    "\"Nfyc\",\n",
    "\"Nhlh1\",\n",
    "\"Nhlh2\",\n",
    "\"Nkx2-2\",\n",
    "\"Nkx2-3\",\n",
    "\"Nkx2-5\",\n",
    "\"Nkx2-6\",\n",
    "\"Nkx2-9\",\n",
    "\"Nkx3-1\",\n",
    "\"Nkx6-1\",\n",
    "\"Nmyc1\",\n",
    "\"Nr4a3\",\n",
    "\"Notch1\",\n",
    "\"Notch2\",\n",
    "\"Notch3\",\n",
    "\"Notch4\",\n",
    "\"Uhrf1\",\n",
    "\"Npas1\",\n",
    "\"Npas2\",\n",
    "\"Nr1i2\",\n",
    "\"Nrf1\",\n",
    "\"Nrl\",\n",
    "\"Nsd1\",\n",
    "\"Musk\",\n",
    "\"Nr4a2\",\n",
    "\"Og2x\",\n",
    "\"Og9x\",\n",
    "\"Orc2l\",\n",
    "\"Sqstm1\",\n",
    "\"Otp\",\n",
    "\"Otx1\",\n",
    "\"Otx2\",\n",
    "\"Ovol1\",\n",
    "\"Mybbp1a\",\n",
    "\"Pax1\",\n",
    "\"Pax2\",\n",
    "\"Pax3\",\n",
    "\"Pax4\",\n",
    "\"Pax5\",\n",
    "\"Pax6\",\n",
    "\"Pax7\",\n",
    "\"Pax8\",\n",
    "\"Pax9\",\n",
    "\"Pbx1\",\n",
    "\"Pbx2\",\n",
    "\"Pbx3\",\n",
    "\"Pcaf\",\n",
    "\"Pdcd11\",\n",
    "\"Enpp2\",\n",
    "\"Ipf1\",\n",
    "\"Etv4\",\n",
    "\"Peg3\",\n",
    "\"Pem\",\n",
    "\"Per1\",\n",
    "\"Per2\",\n",
    "\"Per3\",\n",
    "\"Pgr\",\n",
    "\"Phf2\",\n",
    "\"Phtf1\",\n",
    "\"Pit1\",\n",
    "\"Pitx1\",\n",
    "\"Pitx2\",\n",
    "\"Pitx3\",\n",
    "\"Pknox1\",\n",
    "\"Papola\",\n",
    "\"Pml\",\n",
    "\"Prrx1\",\n",
    "\"Phox2b\",\n",
    "\"Cnot7\",\n",
    "\"Pou2af1\",\n",
    "\"Pou2f1\",\n",
    "\"Pou2f2\",\n",
    "\"Pou2f3\",\n",
    "\"Pou3f-rs1\",\n",
    "\"Pou3f1\",\n",
    "\"Pou3f2\",\n",
    "\"Pou3f3\",\n",
    "\"Pou3f4\",\n",
    "\"Pou4f-rs1\",\n",
    "\"Pou4f1\",\n",
    "\"Pou4f2\",\n",
    "\"Pou4f3\",\n",
    "\"Pou5f1\",\n",
    "\"Pou6f1\",\n",
    "\"Ppara\",\n",
    "\"Pparbp\",\n",
    "\"Ppard\",\n",
    "\"Pparg\",\n",
    "\"Ppargc1a\",\n",
    "\"Scand1\",\n",
    "\"Ppp1r1b\",\n",
    "\"Ppp3cb\",\n",
    "\"Ppp5c\",\n",
    "\"Prkar1a\",\n",
    "\"Mapk8ip\",\n",
    "\"Prop1\",\n",
    "\"Prox1\",\n",
    "\"Psmc3\",\n",
    "\"Psmc5\",\n",
    "\"Psx1\",\n",
    "\"Ptf1a\",\n",
    "\"Ptma\",\n",
    "\"Pura\",\n",
    "\"Purb\",\n",
    "\"Rab11b\",\n",
    "\"Rab18\",\n",
    "\"Rai1\",\n",
    "\"Rara\",\n",
    "\"Rarg\",\n",
    "\"Rax\",\n",
    "\"Rb1\",\n",
    "\"Rbl1\",\n",
    "\"Rbl2\",\n",
    "\"Rbpsuh\",\n",
    "\"Rbpsuhl\",\n",
    "\"Recc1\",\n",
    "\"Rel\",\n",
    "\"Rela\",\n",
    "\"Relb\",\n",
    "\"Dpf2\",\n",
    "\"Rest\",\n",
    "\"Rfx1\",\n",
    "\"Rfx2\",\n",
    "\"Rfx3\",\n",
    "\"Rfxank\",\n",
    "\"Ring1\",\n",
    "\"Rnf12\",\n",
    "\"Rnf4\",\n",
    "\"Rnps1\",\n",
    "\"Rora\",\n",
    "\"Rorc\",\n",
    "\"Rpo1-1\",\n",
    "\"Rpo1-2\",\n",
    "\"Rpo1-3\",\n",
    "\"Rpo1-4\",\n",
    "\"Polr2a\",\n",
    "\"Polr2c\",\n",
    "\"Polr2j\",\n",
    "\"Rpo2tc1\",\n",
    "\"Trim30\",\n",
    "\"Ruvbl2\",\n",
    "\"Rxra\",\n",
    "\"Rxrb\",\n",
    "\"Rxrg\",\n",
    "\"Ncor1\",\n",
    "\"Nr1h4\",\n",
    "\"Prrx2\",\n",
    "\"Khdrbs1\",\n",
    "\"Sap18\",\n",
    "\"Satb1\",\n",
    "\"Nkx1-2\",\n",
    "\"Nkx1-1\",\n",
    "\"Scx\",\n",
    "\"Foxp3\",\n",
    "\"Sfpi1\",\n",
    "\"Sfrs5\",\n",
    "\"Ostf1\",\n",
    "\"Shox2\",\n",
    "\"Siah2\",\n",
    "\"Sim1\",\n",
    "\"Sim2\",\n",
    "\"Sin3a\",\n",
    "\"Sin3b\",\n",
    "\"Six1\",\n",
    "\"Six2\",\n",
    "\"Six3\",\n",
    "\"Six4\",\n",
    "\"Six5\",\n",
    "\"Six6\",\n",
    "\"Skd3\",\n",
    "\"Ski\",\n",
    "\"Snai2\",\n",
    "\"Smarca3\",\n",
    "\"Smarca4\",\n",
    "\"Smarcb1\",\n",
    "\"Ighmbp2\",\n",
    "\"Jarid1c\",\n",
    "\"Jarid1d\",\n",
    "\"Ncor2\",\n",
    "\"Snai1\",\n",
    "\"Snrpb\",\n",
    "\"Sox1\",\n",
    "\"Sox10\",\n",
    "\"Sox11\",\n",
    "\"Sox12\",\n",
    "\"Sox13\",\n",
    "\"Sox14\",\n",
    "\"Sox15\",\n",
    "\"Sox17\",\n",
    "\"Sox18\",\n",
    "\"Sox19\",\n",
    "\"Sox2\",\n",
    "\"Sox3\",\n",
    "\"Sox4\",\n",
    "\"Sox5\",\n",
    "\"Sox6\",\n",
    "\"Sox7\",\n",
    "\"Sox8\",\n",
    "\"Sox9\",\n",
    "\"Sp1\",\n",
    "\"Sp3\",\n",
    "\"Sp4\",\n",
    "\"Sall3\",\n",
    "\"Spic\",\n",
    "\"Srebf1\",\n",
    "\"Srebf2\",\n",
    "\"Srf\",\n",
    "\"Srst\",\n",
    "\"Ssrp1\",\n",
    "\"Zfp143\",\n",
    "\"Stag1\",\n",
    "\"Stat1\",\n",
    "\"Stat2\",\n",
    "\"Stat3\",\n",
    "\"Stat4\",\n",
    "\"Stat5a\",\n",
    "\"Stat5b\",\n",
    "\"Stat6\",\n",
    "\"Bhlhb2\",\n",
    "\"Strap\",\n",
    "\"Strm\",\n",
    "\"Supt4h\",\n",
    "\"Supt4h2\",\n",
    "\"Supt5h\",\n",
    "\"T\",\n",
    "\"Taf1a\",\n",
    "\"Taf1b\",\n",
    "\"Taf1c\",\n",
    "\"Taf6\",\n",
    "\"Tal1\",\n",
    "\"Tal2\",\n",
    "\"Tbp\",\n",
    "\"Tbr1\",\n",
    "\"Tbx1\",\n",
    "\"Tbx13\",\n",
    "\"Tbx14\",\n",
    "\"Tbx15\",\n",
    "\"Tbx2\",\n",
    "\"Tbx3\",\n",
    "\"Tbx4\",\n",
    "\"Tbx5\",\n",
    "\"Tbx6\",\n",
    "\"Tcea1\",\n",
    "\"Tcea2\",\n",
    "\"Tcea3\",\n",
    "\"Tcf1\",\n",
    "\"Tcf12\",\n",
    "\"Tcf15\",\n",
    "\"Zfp354a\",\n",
    "\"Tcf2\",\n",
    "\"Tcf20\",\n",
    "\"Tcf21\",\n",
    "\"Tcf4\",\n",
    "\"Tcf7\",\n",
    "\"Tcf3\",\n",
    "\"Tcf7l2\",\n",
    "\"Zfhx1a\",\n",
    "\"Tcfap2a\",\n",
    "\"Tcfap2b\",\n",
    "\"Tcfap2c\",\n",
    "\"Tcfcp2\",\n",
    "\"Tcfe2a\",\n",
    "\"Tcfeb\",\n",
    "\"Tcfec\",\n",
    "\"Tcfl1\",\n",
    "\"Tcfl4\",\n",
    "\"Ubtf\",\n",
    "\"Phf1\",\n",
    "\"Sry\",\n",
    "\"Tead1\",\n",
    "\"Tead2\",\n",
    "\"Tead3\",\n",
    "\"Tead4\",\n",
    "\"Tef\",\n",
    "\"Tfam\",\n",
    "\"Tfdp1\",\n",
    "\"Tfdp2\",\n",
    "\"Tgfb1i1\",\n",
    "\"Tgfb1i4\",\n",
    "\"Tgif\",\n",
    "\"Thra\",\n",
    "\"Thrb\",\n",
    "\"Thrsp\",\n",
    "\"Tial1\",\n",
    "\"Tieg1\",\n",
    "\"Trim24\",\n",
    "\"Trim28\",\n",
    "\"Titf1\",\n",
    "\"Tle1\",\n",
    "\"Tle2\",\n",
    "\"Tle3\",\n",
    "\"Tle4\",\n",
    "\"Nr2e1\",\n",
    "\"Tlx1\",\n",
    "\"Tlx2\",\n",
    "\"Tmpo\",\n",
    "\"Tnfaip3\",\n",
    "\"Dedd\",\n",
    "\"Ppp1r13b\",\n",
    "\"Nr2c1\",\n",
    "\"Nr2c2\",\n",
    "\"Trip6\",\n",
    "\"Tob1\",\n",
    "\"Trp53\",\n",
    "\"Trp63\",\n",
    "\"Trp73\",\n",
    "\"Tsg101\",\n",
    "\"Twist1\",\n",
    "\"Ube1c\",\n",
    "\"Ubp1\",\n",
    "\"Uncx4.1\",\n",
    "\"Nr1h3\",\n",
    "\"Nr1h2\",\n",
    "\"Usf1\",\n",
    "\"Usf2\",\n",
    "\"Utf1\",\n",
    "\"Vax1\",\n",
    "\"Vdr\",\n",
    "\"Wbp7\",\n",
    "\"Baz1b\",\n",
    "\"Wt1\",\n",
    "\"Xbp1\",\n",
    "\"Nsep1\",\n",
    "\"Yy1\",\n",
    "\"Plagl1\",\n",
    "\"Zfa\",\n",
    "\"Zfp1\",\n",
    "\"Zfp100\",\n",
    "\"Zfp105\",\n",
    "\"Zfp13\",\n",
    "\"Rnf110\",\n",
    "\"Zfp148\",\n",
    "\"Zfp161\",\n",
    "\"Zfp162\",\n",
    "\"Zfp2\",\n",
    "\"Zfp207\",\n",
    "\"Zfp239\",\n",
    "\"Zfp27\",\n",
    "\"Zfp29\",\n",
    "\"Zfp35\",\n",
    "\"Zfp36\",\n",
    "\"Zfp37\",\n",
    "\"Zipro1\",\n",
    "\"Zfp39\",\n",
    "\"Zfp40\",\n",
    "\"Zfp41\",\n",
    "\"Zfp42\",\n",
    "\"Zfp46\",\n",
    "\"Zfp51\",\n",
    "\"Zfp52\",\n",
    "\"Zfp54\",\n",
    "\"Zfp57\",\n",
    "\"Zfp59\",\n",
    "\"Zfp60\",\n",
    "\"Zfp61\",\n",
    "\"Zfp64\",\n",
    "\"Zfp9\",\n",
    "\"Zfp90\",\n",
    "\"Zfp92\",\n",
    "\"Zfp93\",\n",
    "\"Zfp94\",\n",
    "\"Zfp95\",\n",
    "\"Zfp96\",\n",
    "\"Zfp97\",\n",
    "\"Zfpm1\",\n",
    "\"Zfpm2\",\n",
    "\"Zfx\",\n",
    "\"Zfy1\",\n",
    "\"Zfy2\",\n",
    "\"Zhx1\",\n",
    "\"Zic1\",\n",
    "\"Zic2\",\n",
    "\"Zic3\",\n",
    "\"Zik1\",\n",
    "\"Zim1\",\n",
    "\"Zfpn1a1\",\n",
    "\"Zfpn1a2\",\n",
    "\"Zfpn1a3\",\n",
    "\"Ash2l\",\n",
    "\"Bpnt1\",\n",
    "\"Copeb\",\n",
    "\"Creg\",\n",
    "\"Dido1\",\n",
    "\"Dmtf1\",\n",
    "\"Ets1\",\n",
    "\"Ets2\",\n",
    "\"Gcl\",\n",
    "\"Gtf2h2\",\n",
    "\"Mta2\",\n",
    "\"Nr0b2\",\n",
    "\"Nr2e3\",\n",
    "\"Thrap4\",\n",
    "\"Dazap2\",\n",
    "\"Sra1\",\n",
    "\"Taf7\",\n",
    "\"Taf10\",\n",
    "\"Vax2\",\n",
    "\"Whsc2\",\n",
    "\"Zfp68\",\n",
    "\"Zfhx1b\",\n",
    "\"Ing1\",\n",
    "\"AW210570\",\n",
    "\"Esrra\",\n",
    "\"Esrrb\",\n",
    "\"Esrrg\",\n",
    "\"Hsf4\",\n",
    "\"Map3k12\",\n",
    "\"Mapk1\",\n",
    "\"Mapk3\",\n",
    "\"Mapk8\",\n",
    "\"Nr5a1\",\n",
    "\"Nr5a2\",\n",
    "\"Creb3l1\",\n",
    "\"Bdp1\",\n",
    "\"Zfp146\",\n",
    "\"Irebf1\",\n",
    "\"Cops5\",\n",
    "\"Foxl2\",\n",
    "\"Polr3e\",\n",
    "\"Etv3\",\n",
    "\"Irf5\",\n",
    "\"Ncoa4\",\n",
    "\"Sh3d19\",\n",
    "\"Zfp275\",\n",
    "\"Tlx3\",\n",
    "\"Mixl1\",\n",
    "\"Trp53bp1\",\n",
    "\"Tceb3\",\n",
    "\"Zfp354b\",\n",
    "\"Npas3\",\n",
    "\"Ing4\",\n",
    "\"Limd1\",\n",
    "\"Mga\",\n",
    "\"Zfp385\",\n",
    "\"Neud4\",\n",
    "\"Scmh1\",\n",
    "\"Zfp292\",\n",
    "\"Spdef\",\n",
    "\"Pdlim4\",\n",
    "\"Fbxl10\",\n",
    "\"Foxe3\",\n",
    "\"Snai3\",\n",
    "\"Zfp238\",\n",
    "\"Hnf4g\",\n",
    "\"Zfp354c\",\n",
    "\"Abt1\",\n",
    "\"Cbx8\",\n",
    "\"E2f6\",\n",
    "\"Sall2\",\n",
    "\"Sirt6\",\n",
    "\"Fbxw7\",\n",
    "\"Nrbf2\",\n",
    "\"Lsm4\",\n",
    "\"Klf13\",\n",
    "\"Dmrt1\",\n",
    "\"Solh\",\n",
    "\"Keap1\",\n",
    "\"Nsbp1\",\n",
    "\"Preb\",\n",
    "\"Olig2\",\n",
    "\"Olig1\",\n",
    "\"Irx4\",\n",
    "\"Pdcd7\",\n",
    "\"Ppp2r1a\",\n",
    "\"Ccnc\",\n",
    "\"D19Ertd675e\",\n",
    "\"Ppp1r10\",\n",
    "\"D1Ertd161e\",\n",
    "\"Carhsp1\",\n",
    "\"D15Ertd417e\",\n",
    "\"D11Ertd530e\",\n",
    "\"Hrb2\",\n",
    "\"D12Ertd748e\",\n",
    "\"Zfp535\",\n",
    "\"D11Bwg0517e\",\n",
    "\"Batf\",\n",
    "\"Plrg1\",\n",
    "\"Pla2g6\",\n",
    "\"Psmd10\",\n",
    "\"Htatip2\",\n",
    "\"Hif3a\",\n",
    "\"Insm1\",\n",
    "\"Rab25\",\n",
    "\"Rab11a\",\n",
    "\"Rfx5\",\n",
    "\"Ddx20\",\n",
    "\"Deaf1\",\n",
    "\"Irf7\",\n",
    "\"Irf3\",\n",
    "\"Pdlim1\",\n",
    "\"Irf6\",\n",
    "\"Myst4\",\n",
    "\"Atf7ip\",\n",
    "\"Irx5\",\n",
    "\"Hils1\",\n",
    "\"Barhl1\",\n",
    "\"Nfat5\",\n",
    "\"Lrrc6\",\n",
    "\"Mllt7\",\n",
    "\"Pqbp1\",\n",
    "\"Zfp108\",\n",
    "\"Plagl2\",\n",
    "\"Hes6\",\n",
    "\"Sertad1\",\n",
    "\"Madh9\",\n",
    "\"D1Bwg0491e\",\n",
    "\"Tcerg1\",\n",
    "\"Ttrap\",\n",
    "\"Heyl\",\n",
    "\"Zfp278\",\n",
    "\"Zfp386\",\n",
    "\"Cited4\",\n",
    "\"Hdac7a\",\n",
    "\"Rbm14\",\n",
    "\"Mycbp\",\n",
    "\"Nupr1\",\n",
    "\"Zfp113\",\n",
    "\"Aatf\",\n",
    "\"Rybp\",\n",
    "\"Arid3b\",\n",
    "\"Mint\",\n",
    "\"Trip4\",\n",
    "\"Ncoa6\",\n",
    "\"Csda\",\n",
    "\"Foxo1\",\n",
    "\"Pias1\",\n",
    "\"Foxo3\",\n",
    "\"Zfp288\",\n",
    "\"Elf4\",\n",
    "\"Gbif\",\n",
    "\"Ruvbl1\",\n",
    "\"Papolb\",\n",
    "\"Pmfbp1\",\n",
    "\"Zfp235\",\n",
    "\"Rps6ka4\",\n",
    "\"Ankrd2\",\n",
    "\"Zfp111\",\n",
    "\"Rnf14\",\n",
    "\"Usp49\",\n",
    "\"Garnl1\",\n",
    "\"Ascl3\",\n",
    "\"Zbtb33\",\n",
    "\"Gmeb1\",\n",
    "\"Insm2\",\n",
    "\"Zfp109\",\n",
    "\"Gtf2ird1\",\n",
    "\"Hcngp\",\n",
    "\"Tbx20\",\n",
    "\"Th1l\",\n",
    "\"C1d\",\n",
    "\"Smarce1\",\n",
    "\"Ehox\",\n",
    "\"Zfp112\",\n",
    "\"Jmy\",\n",
    "\"Fhl5\",\n",
    "\"Tbx21\",\n",
    "\"Rbak\",\n",
    "\"Sertad2\",\n",
    "\"Hic2\",\n",
    "\"Sall1\",\n",
    "\"A730008L03Rik\",\n",
    "\"Rog\",\n",
    "\"Shank3\",\n",
    "\"Wbscr14\",\n",
    "\"Piasy\",\n",
    "\"Rab2\",\n",
    "\"Tnrc11\",\n",
    "\"Ureb1\",\n",
    "\"Carm1\",\n",
    "\"Zfp191\",\n",
    "\"Bhlhb5\",\n",
    "\"Nrip2\",\n",
    "\"Sap30\",\n",
    "\"Foxj2\",\n",
    "\"Gas41\",\n",
    "\"Mllt1\",\n",
    "\"Foxb1\",\n",
    "\"Irx6\",\n",
    "\"Sirt2\",\n",
    "\"Sirt3\",\n",
    "\"Sp5\",\n",
    "\"D10Jhu82e\",\n",
    "\"Nmi\",\n",
    "\"Zfp110\",\n",
    "\"Asb1\",\n",
    "\"Asb4\",\n",
    "\"Asb2\",\n",
    "\"Asb3\",\n",
    "\"2300009P13Rik\",\n",
    "\"1110005A23Rik\",\n",
    "\"Znrd1\",\n",
    "\"Crsp9\",\n",
    "\"Dmap1\",\n",
    "\"Klf15\",\n",
    "\"Blzf1\",\n",
    "\"3100002L24Rik\",\n",
    "\"Polr2e\",\n",
    "\"Taf12\",\n",
    "\"Polr2l\",\n",
    "\"Zmynd11\",\n",
    "\"Drap1\",\n",
    "\"Gtf3a\",\n",
    "\"5730410I19Rik\",\n",
    "\"Mcm8\",\n",
    "\"Ctnnbl1\",\n",
    "\"Ccnh\",\n",
    "\"4733401N12Rik\",\n",
    "\"4921520G13Rik\",\n",
    "\"6130401J04Rik\",\n",
    "\"Hmg20a\",\n",
    "\"1200013F24Rik\",\n",
    "\"2610016F04Rik\",\n",
    "\"Fank1\",\n",
    "\"2310043K02Rik\",\n",
    "\"Ssbp2\",\n",
    "\"Zdhhc6\",\n",
    "\"2400009B11Rik\",\n",
    "\"Yaf2\",\n",
    "\"Polr3d\",\n",
    "\"Nrarp\",\n",
    "\"Rnf141\",\n",
    "\"Psmd9\",\n",
    "\"Smarca2\",\n",
    "\"Pfdn1\",\n",
    "\"Zfp99\",\n",
    "\"Lass4\",\n",
    "\"3110004H13Rik\",\n",
    "\"3110031B13Rik\",\n",
    "\"1810007M14Rik\",\n",
    "\"Zfp606\",\n",
    "\"Dedd2\",\n",
    "\"Vdrip\",\n",
    "\"1110035L05Rik\",\n",
    "\"3632451O06Rik\",\n",
    "\"Xab2\",\n",
    "\"4930430A15Rik\",\n",
    "\"Rabl3\",\n",
    "\"Tceb2\",\n",
    "\"1700020N01Rik\",\n",
    "\"Polr2g\",\n",
    "\"Sec14l2\",\n",
    "\"Sncaip\",\n",
    "\"2410018C20Rik\",\n",
    "\"Mki67ip\",\n",
    "\"Ssxb1\",\n",
    "\"Nudt12\",\n",
    "\"3110024A21Rik\",\n",
    "\"Gtf2e2\",\n",
    "\"Hsbp1\",\n",
    "\"Zdhhc21\",\n",
    "\"Sirt5\",\n",
    "\"Phf5a\",\n",
    "\"Ankra2\",\n",
    "\"1110033I14Rik\",\n",
    "\"Gtf2f2\",\n",
    "\"Taf11\",\n",
    "\"1110054N06Rik\",\n",
    "\"Tulp4\",\n",
    "\"Asb11\",\n",
    "\"Zfp467\",\n",
    "\"1190004M21Rik\",\n",
    "\"Zfp580\",\n",
    "\"1500031N24Rik\",\n",
    "\"Cnot8\",\n",
    "\"Ppp1r12b\",\n",
    "\"1810037G04Rik\",\n",
    "\"Mll5\",\n",
    "\"2810407K09Rik\",\n",
    "\"2610028L19Rik\",\n",
    "\"Elf2\",\n",
    "\"Ing1l\",\n",
    "\"Asb9\",\n",
    "\"1700001F22Rik\",\n",
    "\"1700014N06Rik\",\n",
    "\"2300002D11Rik\",\n",
    "\"2310020P08Rik\",\n",
    "\"2310042L19Rik\",\n",
    "\"Trip13\",\n",
    "\"Thrap6\",\n",
    "\"1810060D16Rik\",\n",
    "\"Zfp219\",\n",
    "\"Polr2i\",\n",
    "\"2810021J22Rik\",\n",
    "\"1700030J15Rik\",\n",
    "\"Mllt3\",\n",
    "\"Dpf3\",\n",
    "\"Hdac8\",\n",
    "\"Basp1\",\n",
    "\"Asb12\",\n",
    "\"3010019O03Rik\",\n",
    "\"Polr3b\",\n",
    "\"2610303A01Rik\",\n",
    "\"Arhgap17\",\n",
    "\"Bbx\",\n",
    "\"5730461K03Rik\",\n",
    "\"Crsp7\",\n",
    "\"5730521P14Rik\",\n",
    "\"Zcchc8\",\n",
    "\"Prdm16\",\n",
    "\"Prdm5\",\n",
    "\"Zdhhc1\",\n",
    "\"4631416I11Rik\",\n",
    "\"Hmgb2l1\",\n",
    "\"4921509B22Rik\",\n",
    "\"4931423N10Rik\",\n",
    "\"Rnf134\",\n",
    "\"Zfp597\",\n",
    "\"4933416E05Rik\",\n",
    "\"Rfx4\",\n",
    "\"4933426I21Rik\",\n",
    "\"Fbxo24\",\n",
    "\"Dmrtc2\",\n",
    "\"4933429H19Rik\",\n",
    "\"Arid5b\",\n",
    "\"Ches1\",\n",
    "\"Fmnl2\",\n",
    "\"Bcor\",\n",
    "\"Obox1\",\n",
    "\"Pogk\",\n",
    "\"9130012O13Rik\",\n",
    "\"Cdc5l\",\n",
    "\"Cic\",\n",
    "\"1300004C11Rik\",\n",
    "\"1300019N10Rik\",\n",
    "\"Ing3\",\n",
    "\"1110001J12Rik\",\n",
    "\"1110020M19Rik\",\n",
    "\"Gtf2a1lf\",\n",
    "\"Zfp297b\",\n",
    "\"Phf7\",\n",
    "\"1700012B18Rik\",\n",
    "\"2310076O14Rik\",\n",
    "\"Lass5\",\n",
    "\"Ddx54\",\n",
    "\"Ckn1\",\n",
    "\"Phf10\",\n",
    "\"Harp\",\n",
    "\"2600014C22Rik\",\n",
    "\"2810405K07Rik\",\n",
    "\"2610524B01Rik\",\n",
    "\"Mms19l\",\n",
    "\"Lsm11\",\n",
    "\"Nkd2\",\n",
    "\"Asb6\",\n",
    "\"2410004N05Rik\",\n",
    "\"Ankrd3\",\n",
    "\"2600017A12Rik\",\n",
    "\"Zfp131\",\n",
    "\"Ssbp3\",\n",
    "\"2700043M03Rik\",\n",
    "\"Bclaf1\",\n",
    "\"2700067D09Rik\",\n",
    "\"Zfp248\",\n",
    "\"B3Gat3\",\n",
    "\"Skz1\",\n",
    "\"2810455B10Rik\",\n",
    "\"Ccnt2\",\n",
    "\"2900054J07Rik\",\n",
    "\"Wasl\",\n",
    "\"Nfatc4\",\n",
    "\"Nptxr\",\n",
    "\"Hbp1\",\n",
    "\"1700065O13Rik\",\n",
    "\"Rnf38\",\n",
    "\"Mbd3l1\",\n",
    "\"1700123A16Rik\",\n",
    "\"1700123J19Rik\",\n",
    "\"4933409K03Rik\",\n",
    "\"4933417L02Rik\",\n",
    "\"D8Ertd69e\",\n",
    "\"Btbd11\",\n",
    "\"Gasz\",\n",
    "\"1200006M05Rik\",\n",
    "\"Zfp263\",\n",
    "\"Foxp4\",\n",
    "\"1300003B13Rik\",\n",
    "\"Nfx1\",\n",
    "\"Zdhhc16\",\n",
    "\"Gtf2e1\",\n",
    "\"1700086D15Rik\",\n",
    "\"Hod\",\n",
    "\"Cxxc1\",\n",
    "\"Hnrpr\",\n",
    "\"Xrcc3\",\n",
    "\"Zfp84\",\n",
    "\"Hsf2bp\",\n",
    "\"4933430F08Rik\",\n",
    "\"Zfp336\",\n",
    "\"9130417I07Rik\",\n",
    "\"9130423L19Rik\",\n",
    "\"Narg1\",\n",
    "\"4930532L20Rik\",\n",
    "\"4930539I12Rik\",\n",
    "\"Prr3\",\n",
    "\"Zbtb3\",\n",
    "\"4930564N15Rik\",\n",
    "\"4930548G07Rik\",\n",
    "\"Sirt4\",\n",
    "\"1700003F12Rik\",\n",
    "\"Hspb9\",\n",
    "\"1700013G10Rik\",\n",
    "\"Acyp2\",\n",
    "\"2010005A06Rik\",\n",
    "\"Jarid1b\",\n",
    "\"Rai14\",\n",
    "\"4932409F11Rik\",\n",
    "\"Mitc1\",\n",
    "\"Zfp198\",\n",
    "\"5830417I10Rik\",\n",
    "\"Asb5\",\n",
    "\"1110011F09Rik\",\n",
    "\"Tbx18\",\n",
    "\"1700012M14Rik\",\n",
    "\"Mrsb\",\n",
    "\"1700012H05Rik\",\n",
    "\"2210008I11Rik\",\n",
    "\"Snip1\",\n",
    "\"2410141K09Rik\",\n",
    "\"Jmjd2c\",\n",
    "\"2810438M17Rik\",\n",
    "\"Lass2\",\n",
    "\"Ssbp4\",\n",
    "\"4921524J06Rik\",\n",
    "\"6030426L16Rik\",\n",
    "\"6720457D02Rik\",\n",
    "\"Zfp142\",\n",
    "\"9430034D17Rik\",\n",
    "\"C030011J08Rik\",\n",
    "\"C330002I19Rik\",\n",
    "\"9230102N17Rik\",\n",
    "\"Lbh\",\n",
    "\"9230110K08Rik\",\n",
    "\"A030003K21Rik\",\n",
    "\"4930522L14Rik\",\n",
    "\"5730467H21Rik\",\n",
    "\"2410141M05Rik\",\n",
    "\"4921504N20Rik\",\n",
    "\"Creb3l4\",\n",
    "\"Helz\",\n",
    "\"1700090G07Rik\",\n",
    "\"Asb8\",\n",
    "\"9530049C15Rik\",\n",
    "\"Brd8\",\n",
    "\"C330022B21Rik\",\n",
    "\"C330013J21Rik\",\n",
    "\"Brpf1\",\n",
    "\"0610009M14Rik\",\n",
    "\"Asb15\",\n",
    "\"Sp2\",\n",
    "\"9130019O22Rik\",\n",
    "\"Polr3h\",\n",
    "\"Hdac9\",\n",
    "\"Zfp319\",\n",
    "\"Bhlhb3\",\n",
    "\"Spz1\",\n",
    "\"Abtb1\",\n",
    "\"2210021A15Rik\",\n",
    "\"Pbx4\",\n",
    "\"Mynn\",\n",
    "\"AA408868\",\n",
    "\"Zfp202\",\n",
    "\"Htatip\",\n",
    "\"Zfp297\",\n",
    "\"Jundm2\",\n",
    "\"Bat4\",\n",
    "\"Tcfcp2l1\",\n",
    "\"Tfap4\",\n",
    "\"Sp6\",\n",
    "\"Glis2\",\n",
    "\"Lin28\",\n",
    "\"Gtf2a1\",\n",
    "\"Trps1\",\n",
    "\"Tbx19\",\n",
    "\"Hes7\",\n",
    "\"Cml3\",\n",
    "\"Zfp192\",\n",
    "\"Rbm9\",\n",
    "\"Klf7\",\n",
    "\"Sirt1\",\n",
    "\"Arid1a\",\n",
    "\"Smarca1\",\n",
    "\"Smarca5\",\n",
    "\"Dach2\",\n",
    "\"Wdr9\",\n",
    "\"Cecr6\",\n",
    "\"Pcqap\",\n",
    "\"Zfp423\",\n",
    "\"Maged1\",\n",
    "\"Ptges2\",\n",
    "\"2310058J06Rik\",\n",
    "\"Hmgb2\",\n",
    "\"2810405L04Rik\",\n",
    "\"Zfp451\",\n",
    "\"Sall4\",\n",
    "\"Taf13\",\n",
    "\"Hkr3\",\n",
    "\"AF013969\",\n",
    "\"Aprin\",\n",
    "\"AW538212\",\n",
    "\"Zfp282\",\n",
    "\"Tada3l\",\n",
    "\"Taf5l\",\n",
    "\"Snapc2\",\n",
    "\"Ankrd10\",\n",
    "\"2310058A11Rik\",\n",
    "\"Maml1\",\n",
    "\"Hoxb2\",\n",
    "\"Hfh7\",\n",
    "\"Zfp119\",\n",
    "\"Isl2\",\n",
    "\"Rcor1\",\n",
    "\"Psx2\",\n",
    "\"E2f4\",\n",
    "\"Rab15\",\n",
    "\"C730024G01Rik\",\n",
    "\"C330003B14Rik\",\n",
    "\"AI481750\",\n",
    "\"Tcf19\",\n",
    "\"A630042L21Rik\",\n",
    "\"D330024H06Rik\",\n",
    "\"Gsh5\",\n",
    "\"Myt2\",\n",
    "\"Atf5\",\n",
    "\"8030445B08Rik\",\n",
    "\"Zfp339\",\n",
    "\"Prrxl1\",\n",
    "\"Ankrd1\",\n",
    "\"Bmyc\",\n",
    "\"Gcm2\",\n",
    "\"Chd4\",\n",
    "\"Cdk9\",\n",
    "\"Nkx2-7\",\n",
    "\"Surb7\",\n",
    "\"Taf9\",\n",
    "\"Foxp1\",\n",
    "\"Zdhhc15\",\n",
    "\"Ankhd1\",\n",
    "\"Uhrf2\",\n",
    "\"Supt3h\",\n",
    "\"Tbx10\",\n",
    "\"Lmo1\",\n",
    "\"Hoxc11\",\n",
    "\"Ank2\",\n",
    "\"Zfp98\",\n",
    "\"Zfp91\",\n",
    "\"Hfh5\",\n",
    "\"Hfh6\",\n",
    "\"Hfh3\",\n",
    "\"Tcfap4\",\n",
    "\"Dek\",\n",
    "\"Gsh3\",\n",
    "\"Dbx2\",\n",
    "\"Nol1\",\n",
    "\"Bat8\",\n",
    "\"Sprm1\",\n",
    "\"Hivep1\",\n",
    "\"Mjd\",\n",
    "\"Hoxb3s\",\n",
    "\"Nztf2\",\n",
    "\"Lmx1a\",\n",
    "\"Nr3c2\",\n",
    "\"Sdccag33\",\n",
    "\"Foxe1\",\n",
    "\"Pou5f1-rs10\",\n",
    "\"Mop3\",\n",
    "\"Foxp2\",\n",
    "\"Zfp295\",\n",
    "\"Tle6\",\n",
    "\"Brdt\",\n",
    "\"Pawr\",\n",
    "\"Vsx1\",\n",
    "\"Foxn4\",\n",
    "\"Baz2a\",\n",
    "\"Mta1\",\n",
    "\"Mta3\",\n",
    "\"Sox16\",\n",
    "\"Taf4b\",\n",
    "\"Ivns1abp\",\n",
    "\"Asb10\",\n",
    "\"Klf16\",\n",
    "\"Otx3\",\n",
    "\"Trrap\",\n",
    "\"Centb5\",\n",
    "\"Ankrd6\",\n",
    "\"Rem2\",\n",
    "\"Sp7\",\n",
    "\"Ubn1\",\n",
    "\"Scrt1\",\n",
    "\"Zfp287\",\n",
    "\"Rfxap\",\n",
    "\"Hdac10\",\n",
    "\"Rnpc2\",\n",
    "\"Ppargc1b\",\n",
    "\"Zfp617\",\n",
    "\"Ash1l\",\n",
    "\"Clp1\",\n",
    "\"Bhc80\",\n",
    "\"MGC39058\",\n",
    "\"Ell2\",\n",
    "\"Jmjd2b\",\n",
    "\"Gscl\",\n",
    "\"Pknox2\",\n",
    "\"A930021G21Rik\",\n",
    "\"Dot1l\",\n",
    "\"9030612M13Rik\",\n",
    "\"Kbtbd9\",\n",
    "\"Creb3l3\",\n",
    "\"Hmgcs1\",\n",
    "\"Sirt7\",\n",
    "\"D5Ertd679e\",\n",
    "\"Taf3\",\n",
    "\"DXImx41e\",\n",
    "\"Tcfe3\",\n",
    "\"Hoxc10\",\n",
    "\"Mlr1\",\n",
    "\"Zfp180\",\n",
    "\"9430065N20Rik\",\n",
    "\"6720489N17Rik\",\n",
    "\"Zswim4\",\n",
    "\"BC055310\",\n",
    "\"Mlr2\",\n",
    "\"Satb2\",\n",
    "\"A830025F02Rik\",\n",
    "\"Centg3\",\n",
    "\"Sox30\",\n",
    "\"Mll\",\n",
    "\"Myocd\",\n",
    "\"L3mbtl2\",\n",
    "\"Jarid1a\",\n",
    "\"Vgll2\",\n",
    "\"Polrmt\",\n",
    "\"Thrap5\",\n",
    "\"Cart1\",\n",
    "\"Gls2\",\n",
    "\"Ugp2\",\n",
    "\"9630006B20Rik\",\n",
    "\"Tada2l\",\n",
    "\"Hlf\",\n",
    "\"Myst2\",\n",
    "\"Nr1d1\",\n",
    "\"6030408C04Rik\",\n",
    "\"D130006K24Rik\",\n",
    "\"6430502M16Rik\",\n",
    "\"Btf3\",\n",
    "\"Glmr\",\n",
    "\"Rarb\",\n",
    "\"6720456H20Rik\",\n",
    "\"F830020C16Rik\",\n",
    "\"Sox21\",\n",
    "\"C730048E16Rik\",\n",
    "\"Mkl1\",\n",
    "\"Atf7\",\n",
    "\"ORF63\",\n",
    "\"6720480D16Rik\",\n",
    "\"Zfp523\",\n",
    "\"Hszfp36\",\n",
    "\"Trerf1\",\n",
    "\"AI255170\",\n",
    "\"AU018122\",\n",
    "\"Fbxl11\",\n",
    "\"Taf6l\",\n",
    "\"Rorb\",\n",
    "\"Dmrt2\",\n",
    "\"Taf5\",\n",
    "\"Zfp281\",\n",
    "\"Atf6\",\n",
    "\"Elys\",\n",
    "\"Tcfap2d\",\n",
    "\"Pms1\",\n",
    "\"Snapc4\",\n",
    "\"XPMC2H\",\n",
    "\"5830435C13Rik\",\n",
    "\"Zdhhc5\",\n",
    "\"Ebf4\",\n",
    "\"Nkx2-4\",\n",
    "\"Trib3\",\n",
    "\"Asxl1\",\n",
    "\"6820402O20Rik\",\n",
    "\"Tgif2\",\n",
    "\"Ppp1r16b\",\n",
    "\"Ncoa5\",\n",
    "\"Zfp334\",\n",
    "\"3632413B07Rik\",\n",
    "\"Taf4a\",\n",
    "\"Gmeb2\",\n",
    "\"Pbxip1\",\n",
    "\"D3Jfr1\",\n",
    "\"Gtf2b\",\n",
    "\"Ddx58\",\n",
    "\"Zfp189\",\n",
    "\"Glis1\",\n",
    "\"Jmjd2a\",\n",
    "\"C330039G02Rik\",\n",
    "\"Thrap3\",\n",
    "\"Tardbp\",\n",
    "\"Phf13\",\n",
    "\"B930041F14Rik\",\n",
    "\"Gbx1\",\n",
    "\"Mll3\",\n",
    "\"Polr2b\",\n",
    "\"A730098D12Rik\",\n",
    "\"AI591476\",\n",
    "\"Creb5\",\n",
    "\"Hdac11\",\n",
    "\"LOC232337\",\n",
    "\"Ppp1r12c\",\n",
    "\"5730403M16Rik\",\n",
    "\"A230102I05Rik\",\n",
    "\"Hkr2\",\n",
    "\"6430596G11Rik\",\n",
    "\"6330581L23Rik\",\n",
    "\"Zfp592\",\n",
    "\"Zf\",\n",
    "\"Gtf3c1\",\n",
    "\"Zfp553\",\n",
    "\"BC026432\",\n",
    "\"Fus\",\n",
    "\"LOC233987\",\n",
    "\"Zfp612\",\n",
    "\"Crsp6\",\n",
    "\"Zfp426\",\n",
    "\"Ankrd25\",\n",
    "\"BC005471\",\n",
    "\"Zfp145\",\n",
    "\"Rab8b\",\n",
    "\"6230410P16Rik\",\n",
    "\"Scap\",\n",
    "\"AW610627\",\n",
    "\"BC021921\",\n",
    "\"Tceal1\",\n",
    "\"Tbpl1\",\n",
    "\"BC024063\",\n",
    "\"G431002C21Rik\",\n",
    "\"Zfp454\",\n",
    "\"3526402J09Rik\",\n",
    "\"Arid4a\",\n",
    "\"Homez\",\n",
    "\"6030449J21\",\n",
    "\"9930016F01Rik\",\n",
    "\"6030490I01Rik\",\n",
    "\"BC031441\",\n",
    "\"Fem1c\",\n",
    "\"Setbp1\",\n",
    "\"BC024969\",\n",
    "\"6430585N13Rik\",\n",
    "\"Dmrt3\",\n",
    "\"St18\",\n",
    "\"Carf\",\n",
    "\"Lass6\",\n",
    "\"D430039N05Rik\",\n",
    "\"Dmrta1\",\n",
    "\"Dmrta2\",\n",
    "\"E2f2\",\n",
    "\"E130309B19Rik\",\n",
    "\"Zfp128\",\n",
    "\"4732429I09Rik\",\n",
    "\"Zfp537\",\n",
    "\"D030014N22Rik\",\n",
    "\"Hip14l\",\n",
    "\"Myst3\",\n",
    "\"D230022C05Rik\",\n",
    "\"Bsx\",\n",
    "\"6030424L22Rik\",\n",
    "\"Tbx22\",\n",
    "\"Tgifx1\",\n",
    "\"D030011N01Rik\",\n",
    "\"Rbbp7\",\n",
    "\"Polr2h\",\n",
    "\"Onecut3\",\n",
    "\"Zfp277\",\n",
    "\"Mllt6\",\n",
    "\"Obox3\",\n",
    "\"Obox5\",\n",
    "\"Fev\",\n",
    "\"Shprh\",\n",
    "\"4921515A04Rik\",\n",
    "\"G431001E03Rik\",\n",
    "\"Phf12\",\n",
    "\"Zbtb1\",\n",
    "\"5730589K01Rik\",\n",
    "\"Nrip1\",\n",
    "\"Caskin1\",\n",
    "\"Gtf3c4\",\n",
    "\"Cyln2\",\n",
    "\"A630035I11Rik\",\n",
    "\"Gcdh\",\n",
    "\"B430306D02Rik\",\n",
    "\"BC024139\",\n",
    "\"A730032D07Rik\",\n",
    "\"Zfp398\",\n",
    "\"Irf2bp1\",\n",
    "\"Spib\",\n",
    "\"Tcfl5\",\n",
    "\"Ankrd5\",\n",
    "\"4921509E05Rik\",\n",
    "\"6330583I20Rik\",\n",
    "\"A830014H24Rik\",\n",
    "\"5830403E09Rik\",\n",
    "\"E430039K05Rik\",\n",
    "\"6330416L07Rik\",\n",
    "\"4932422E22Rik\",\n",
    "\"D130026O16Rik\",\n",
    "\"D830019J24Rik\",\n",
    "\"B930011H20Rik\",\n",
    "\"Lba1\",\n",
    "\"A630089N07Rik\",\n",
    "\"Phf8\",\n",
    "\"A730019I05Rik\",\n",
    "\"Zhx3\",\n",
    "\"A830023I12Rik\",\n",
    "\"Rfxdc1\",\n",
    "\"Ep300\",\n",
    "\"A730012O14Rik\",\n",
    "\"AW146020\",\n",
    "\"Zfp82\",\n",
    "\"Tcfap2e\",\n",
    "\"D030022P06Rik\",\n",
    "\"Tieg2\",\n",
    "\"Nr1d2\",\n",
    "\"2810021G02Rik\",\n",
    "\"Mafa\",\n",
    "\"9130211I03Rik\",\n",
    "\"Mzf6d\",\n",
    "\"Cri2\",\n",
    "\"Dppa5a\",\n",
    "\"Dppa4\",\n",
    "\"Dppa2\",\n",
    "\"Actn1\",\n",
    "\"Actn4\",\n",
    "\"Adnp2\",\n",
    "\"Aff1\",\n",
    "\"Aff3\",\n",
    "\"Ahctf1\",\n",
    "\"Akna\",\n",
    "\"Alx1\",\n",
    "\"Apex1\",\n",
    "\"Arl2bp\",\n",
    "\"Ascc1\",\n",
    "\"Atf6b\",\n",
    "\"Atxn7l3\",\n",
    "\"Batf3\",\n",
    "\"Bmpr1a\",\n",
    "\"Brd7\",\n",
    "\"Btg2\",\n",
    "\"C1qbp\",\n",
    "\"Calcoco1\",\n",
    "\"Camta1\",\n",
    "\"Camta2\",\n",
    "\"Casp8ap2\",\n",
    "\"Cbfa2t2\",\n",
    "\"Cbfa2t3\",\n",
    "\"Cc2d1a\",\n",
    "\"Cc2d1b\",\n",
    "\"Ccar1\",\n",
    "\"Ccnd1\",\n",
    "\"Cdyl\",\n",
    "\"Cenpj\",\n",
    "\"Cggbp1\",\n",
    "\"Chchd3\",\n",
    "\"Ciao1\",\n",
    "\"Creb3l2\",\n",
    "\"Cry1\",\n",
    "\"Csrnp1\",\n",
    "\"Csrnp2\",\n",
    "\"Ctbp1\",\n",
    "\"Ctnnb1\",\n",
    "\"D3Ertd254e\",\n",
    "\"Ddx1\",\n",
    "\"Ddx17\",\n",
    "\"Dyrk1b\",\n",
    "\"E2f7\",\n",
    "\"E2f8\",\n",
    "\"Ecsit\",\n",
    "\"Edf1\",\n",
    "\"Eid1\",\n",
    "\"Elp2\",\n",
    "\"Eny2\",\n",
    "\"Etv2\",\n",
    "\"Etv5\",\n",
    "\"Foxi2\",\n",
    "\"Foxj3\",\n",
    "\"Foxk2\",\n",
    "\"Foxo4\",\n",
    "\"Fubp3\",\n",
    "\"Gatad2b\",\n",
    "\"Gli1\",\n",
    "\"Gmnn\",\n",
    "\"Gpbp1\",\n",
    "\"Gps2\",\n",
    "\"Grhl2\",\n",
    "\"Grhl3\",\n",
    "\"Gtf2a2\",\n",
    "\"Gzf1\",\n",
    "\"Hdac4\",\n",
    "\"Hipk1\",\n",
    "\"Hltf\",\n",
    "\"Hmbox1\",\n",
    "\"Hnrnpab\",\n",
    "\"Hopx\",\n",
    "\"Hyal2\",\n",
    "\"Id1\",\n",
    "\"Id3\",\n",
    "\"Ikzf5\",\n",
    "\"Irf2bp2\",\n",
    "\"Jarid2\",\n",
    "\"Jdp2\",\n",
    "\"Jund\",\n",
    "\"Jup\",\n",
    "\"Kat2a\",\n",
    "\"Kat5\",\n",
    "\"Kcnip3\",\n",
    "\"Kctd1\",\n",
    "\"Kdm3a\",\n",
    "\"Kdm5b\",\n",
    "\"Klf11\",\n",
    "\"Klf6\",\n",
    "\"Loxl2\",\n",
    "\"Lpin1\",\n",
    "\"Lpin2\",\n",
    "\"Maml3\",\n",
    "\"Map3k10\",\n",
    "\"Mecom\",\n",
    "\"Med1\",\n",
    "\"Med10\",\n",
    "\"Med11\",\n",
    "\"Med13\",\n",
    "\"Med13l\",\n",
    "\"Med14\",\n",
    "\"Med17\",\n",
    "\"Med19\",\n",
    "\"Med22\",\n",
    "\"Med24\",\n",
    "\"Med26\",\n",
    "\"Med27\",\n",
    "\"Med30\",\n",
    "\"Med31\",\n",
    "\"Med4\",\n",
    "\"Med6\",\n",
    "\"Med7\",\n",
    "\"Med8\",\n",
    "\"Meis3\",\n",
    "\"Mina\",\n",
    "\"Mkl2\",\n",
    "\"Mlxip\",\n",
    "\"Mtdh\",\n",
    "\"Mycn\",\n",
    "\"Mysm1\",\n",
    "\"N4bp2l2\",\n",
    "\"Ncoa7\",\n",
    "\"Npat\",\n",
    "\"Npm1\",\n",
    "\"Nucks1\",\n",
    "\"Pex14\",\n",
    "\"Phb\",\n",
    "\"Phf21a\",\n",
    "\"Pir\",\n",
    "\"Plscr1\",\n",
    "\"Pmf1\",\n",
    "\"Prdm15\",\n",
    "\"Prpf6\",\n",
    "\"Psip1\",\n",
    "\"Psmc3ip\",\n",
    "\"Ptpn14\",\n",
    "\"Pus1\",\n",
    "\"Rad21\",\n",
    "\"Rad54l2\",\n",
    "\"Rap2c\",\n",
    "\"Rbbp8\",\n",
    "\"Rcor2\",\n",
    "\"Rere\",\n",
    "\"Rfx7\",\n",
    "\"Rnf20\",\n",
    "\"Rreb1\",\n",
    "\"Runx1t1\",\n",
    "\"Sap130\",\n",
    "\"Setd8\",\n",
    "\"Skil\",\n",
    "\"Slc30a9\",\n",
    "\"Smad1\",\n",
    "\"Smad2\",\n",
    "\"Smad4\",\n",
    "\"Smad5\",\n",
    "\"Smad6\",\n",
    "\"Smad7\",\n",
    "\"Smarcd3\",\n",
    "\"Snapc5\",\n",
    "\"Snw1\",\n",
    "\"Sp8\",\n",
    "\"Ss18\",\n",
    "\"Ss18l1\",\n",
    "\"Strn3\",\n",
    "\"Sub1\",\n",
    "\"Supt7l\",\n",
    "\"Tada2a\",\n",
    "\"Tada3\",\n",
    "\"Taf1\",\n",
    "\"Taf2\",\n",
    "\"Tbl1x\",\n",
    "\"Tbl1xr1\",\n",
    "\"Tcf7l1\",\n",
    "\"Tdg\",\n",
    "\"Tdrd3\",\n",
    "\"Tgif1\",\n",
    "\"Tsc22d4\",\n",
    "\"Ube3a\",\n",
    "\"Usp22\",\n",
    "\"Uxt\",\n",
    "\"Wbp2\",\n",
    "\"Wdr75\",\n",
    "\"Wdr77\",\n",
    "\"Wtip\",\n",
    "\"Wwc1\",\n",
    "\"Wwp2\",\n",
    "\"Wwtr1\",\n",
    "\"Yap1\",\n",
    "\"Zbtb16\",\n",
    "\"Zbtb38\",\n",
    "\"Zbtb7a\",\n",
    "\"Zc3h8\",\n",
    "\"Zcchc18\",\n",
    "\"Zeb1\",\n",
    "\"Zfhx3\",\n",
    "\"Zfp12\",\n",
    "\"Zfp212\",\n",
    "\"Zfp213\",\n",
    "\"Zfp217\",\n",
    "\"Zfp260\",\n",
    "\"Zfp280b\",\n",
    "\"Zfp322a\",\n",
    "\"Zfp397\",\n",
    "\"Zfp445\",\n",
    "\"Zfp516\",\n",
    "\"Zfp518b\",\n",
    "\"Zfp560\",\n",
    "\"Zfp568\",\n",
    "\"Zfp623\",\n",
    "\"Zfp628\",\n",
    "\"Zfp639\",\n",
    "\"Zfp647\",\n",
    "\"Zfp668\",\n",
    "\"Zfp691\",\n",
    "\"Zfp7\",\n",
    "\"Zfp707\",\n",
    "\"Zfp710\",\n",
    "\"Zfp746\",\n",
    "\"Zfp770\",\n",
    "\"Zfp775\",\n",
    "\"Zfp869\",\n",
    "\"Zfp937\",\n",
    "\"Zfp948\",\n",
    "\"Zhx2\",\n",
    "\"Zkscan1\",\n",
    "\"Zkscan3\",\n",
    "\"Zkscan5\",\n",
    "\"Zkscan6\",\n",
    "\"Zmiz2\",\n",
    "\"Zmym5\",\n",
    "\"Zscan10\",\n",
    "\"Zscan12\",\n",
    "\"Zscan18\",\n",
    "\"Zscan21\",\n",
    "\"Zscan22\",\n",
    "\"Zxdc\",\n",
    "\"Noto\",\n",
    "\"Id2\",\n",
    "\"Prdm14\",\n",
    "\"Foxj1\",\n",
    "\"Mesp1\",\n",
    "\"Mesp2\",\n",
    "\"Prrx1\",\n",
    "\"Pax6\"))"
   ]
  },
  {
   "cell_type": "code",
   "execution_count": null,
   "id": "9252cd5b",
   "metadata": {
    "ExecuteTime": {
     "end_time": "2022-08-15T11:32:50.875414Z",
     "start_time": "2022-08-15T11:21:40.962Z"
    }
   },
   "outputs": [],
   "source": [
    "options(repr.plot.width=5, repr.plot.height=5)\n",
    "col_col_mcor = long_mm_ocf_cors_colored %>% group_by(rabbit_col, mouse_col) %>% summarise(mcor=mean(cor))\n",
    "col_col_mcor = col_col_mcor[col_col_mcor$mcor > 0.7,]\n",
    "options(repr.plot.width=4, repr.plot.height=4)\n",
    "genes = double_featured_good\n",
    "for(rab_col in unique(col_col_mcor$rabbit_col)){\n",
    "# for(rab_col in c(\"#FACB12\")){\n",
    "    for(mus_col in col_col_mcor[col_col_mcor$rabbit_col==rab_col,]$mouse_col){\n",
    "        oc_mcids = names(oc_mc@colors[oc_mc@colors==rab_col])\n",
    "        mm_mcids = names(mm_mc@colors[mm_mc@colors==mus_col])\n",
    "        oc = log2(1e-5+ocf_egc[genes,oc_mcids])\n",
    "        mm = log2(1e-5+as.matrix(mm_mc@e_gc[genes,mm_mcids]))\n",
    "        if(dim(mm_mc@e_gc)[2]>0 & dim(ocf_egc)[2]>0){\n",
    "#             bmc = which.max(diag(tgs_cor(oc, mm)))\n",
    "#             com = cbind(oc[,bmc], mm[,bmc])\n",
    "            com = cbind(rowMeans(oc), rowMeans(mm))\n",
    "            colnames(com) = c('oc', 'mm')\n",
    "            com = as.data.frame(com)\n",
    "            com$gene = rownames(com)\n",
    "            com$oc = com$oc\n",
    "            com$sf = abs(com$oc-com$mm)>2\n",
    "            com[!com$gene %in% all_tfs,]$sf = FALSE\n",
    "            com[com$sf==FALSE,]$gene = \"\"\n",
    "        #     com$gene = \"\"\n",
    "            ggplot(com, aes(oc, mm, label = gene))+\n",
    "                labs(\n",
    "                    title=paste0(\n",
    "    #                     oc_mcids,\n",
    "    #                     ' - ',\n",
    "                        oc_col2cat[rab_col], \n",
    "                        '\\n',\n",
    "    #                     mm_mcids,\n",
    "    #                     ' - ',\n",
    "                        mm_col2cat[mus_col],\n",
    "                        '\\n',\n",
    "                        \" cor=\",\n",
    "                        round(cor(com$oc, com$mm),2)\n",
    "                    ))+\n",
    "                geom_point(data = com[com$sf == FALSE,], color = rab_col)+\n",
    "                geom_text_repel(box.padding = 0.5, max.overlaps = Inf)+\n",
    "                geom_point(data = com[com$sf == TRUE,], color = \"red\") + \n",
    "                geom_abline(intercept = 0, slope = 1,) + \n",
    "                geom_abline(intercept = 2, slope = 1, linetype=\"dashed\") + \n",
    "                geom_abline(intercept = -2, slope = 1, linetype=\"dashed\")\n",
    "                ggsave(paste0(\"type_type_scatters/\",\n",
    "    #                     oc_mcids,\n",
    "    #                     ' - ',\n",
    "                    str_replace_all(oc_col2cat[rab_col], \"[^[:alnum:]]\", \" \"), \n",
    "                        '__',\n",
    "    #                     mm_mcids,\n",
    "    #                     ' - ',\n",
    "                    str_replace_all(mm_col2cat[mus_col], \"[^[:alnum:]]\", \" \"),\n",
    "                        '__',\n",
    "                        \" cor=\",\n",
    "                        round(cor(com$oc, com$mm),2),\n",
    "                \".pdf\"\n",
    "                ))\n",
    "        }\n",
    "    }\n",
    "}"
   ]
  },
  {
   "cell_type": "code",
   "execution_count": null,
   "id": "e1a9b010",
   "metadata": {
    "ExecuteTime": {
     "end_time": "2022-10-11T05:38:31.482962Z",
     "start_time": "2022-10-11T05:38:31.205Z"
    }
   },
   "outputs": [],
   "source": [
    "orth_tfs = intersect(double_featured_good, all_tfs)\n",
    "length(orth_tfs)"
   ]
  },
  {
   "cell_type": "code",
   "execution_count": null,
   "id": "0fc11f0d",
   "metadata": {
    "ExecuteTime": {
     "end_time": "2022-10-11T05:46:17.750219Z",
     "start_time": "2022-10-11T05:46:17.469Z"
    }
   },
   "outputs": [],
   "source": [
    "diverging = rowSums(abs(fmm_legc[orth_tfs,] - foc_legc[orth_tfs,]) > 2)\n",
    "sum(diverging > 0)"
   ]
  },
  {
   "cell_type": "code",
   "execution_count": null,
   "id": "88ad0f5b",
   "metadata": {
    "ExecuteTime": {
     "end_time": "2022-10-11T05:46:24.405449Z",
     "start_time": "2022-10-11T05:46:24.131Z"
    }
   },
   "outputs": [],
   "source": [
    "129/189"
   ]
  },
  {
   "cell_type": "code",
   "execution_count": null,
   "id": "a7d65ad6",
   "metadata": {
    "ExecuteTime": {
     "end_time": "2022-10-11T05:38:47.072368Z",
     "start_time": "2022-10-11T05:38:37.181Z"
    }
   },
   "outputs": [],
   "source": [
    "gene_cors_tf = tgs_cor(t(fmm_legc[orth_tfs,]), t(foc_legc[orth_tfs,]))"
   ]
  },
  {
   "cell_type": "code",
   "execution_count": null,
   "id": "c44468ce",
   "metadata": {
    "ExecuteTime": {
     "end_time": "2022-10-11T05:38:47.105418Z",
     "start_time": "2022-10-11T05:38:38.726Z"
    }
   },
   "outputs": [],
   "source": [
    "dim(fmm_legc[orth_tfs,])\n",
    "dim(foc_legc[orth_tfs,])\n",
    "dim(gene_cors_tf)"
   ]
  },
  {
   "cell_type": "code",
   "execution_count": null,
   "id": "32676446",
   "metadata": {
    "ExecuteTime": {
     "end_time": "2022-10-11T05:38:47.182190Z",
     "start_time": "2022-10-11T05:38:42.837Z"
    }
   },
   "outputs": [],
   "source": [
    "library(matrixStats)\n",
    "quantile(colMaxs(as.matrix(gene_cors_tf)))"
   ]
  },
  {
   "cell_type": "code",
   "execution_count": null,
   "id": "3428670d",
   "metadata": {
    "ExecuteTime": {
     "end_time": "2022-10-11T05:39:48.587644Z",
     "start_time": "2022-10-11T05:39:48.311Z"
    }
   },
   "outputs": [],
   "source": [
    "quantile(diag(gene_cors_tf))"
   ]
  },
  {
   "cell_type": "code",
   "execution_count": null,
   "id": "ba921af7",
   "metadata": {
    "ExecuteTime": {
     "end_time": "2022-10-02T06:51:59.186863Z",
     "start_time": "2022-10-02T06:51:55.703Z"
    }
   },
   "outputs": [],
   "source": [
    "top_50_cor_tfs = colnames(gene_cors_tf)[colMaxs(as.matrix(gene_cors_tf)) > 0.8575]"
   ]
  },
  {
   "cell_type": "code",
   "execution_count": null,
   "id": "5b9586b7",
   "metadata": {
    "ExecuteTime": {
     "end_time": "2022-08-15T11:34:19.070242Z",
     "start_time": "2022-08-15T11:34:18.749Z"
    }
   },
   "outputs": [],
   "source": [
    "length(top_50_cor_tfs)"
   ]
  },
  {
   "cell_type": "code",
   "execution_count": null,
   "id": "6ee7447e",
   "metadata": {
    "ExecuteTime": {
     "end_time": "2022-08-23T07:13:15.100088Z",
     "start_time": "2022-08-23T07:13:14.714Z"
    }
   },
   "outputs": [],
   "source": [
    "min(tmp)\n",
    "max(tmp)"
   ]
  },
  {
   "cell_type": "code",
   "execution_count": null,
   "id": "73a6af66",
   "metadata": {
    "ExecuteTime": {
     "end_time": "2022-08-23T06:59:40.323699Z",
     "start_time": "2022-08-23T06:59:39.667Z"
    }
   },
   "outputs": [],
   "source": [
    "options(repr.plot.width=8, repr.plot.height=8)\n",
    "tmp = gene_cors_tf[top_50_cor_tfs,top_50_cor_tfs]\n",
    "paletteLength = 100\n",
    "myColor <- colorRampPalette(c(\"blue\",\"white\", \"red\"))(paletteLength)\n",
    "myBreaks <- c(seq(min(tmp), 0, length.out=ceiling(paletteLength/2) + 1),\n",
    "              seq(3/paletteLength, max(tmp), length.out=floor(paletteLength/2)))\n",
    "ph = pheatmap::pheatmap(tmp, color = myColor, breaks = myBreaks)"
   ]
  },
  {
   "cell_type": "code",
   "execution_count": null,
   "id": "9bff9e34",
   "metadata": {
    "ExecuteTime": {
     "end_time": "2022-08-23T06:59:40.370969Z",
     "start_time": "2022-08-23T06:59:39.979Z"
    }
   },
   "outputs": [],
   "source": [
    "ann_col_rabbit = data.frame(color_rabbit=oc_mc@colors)\n",
    "names(oc_mc_ordered) = 1:length(oc_mc_ordered)\n",
    "clst_mean_mat = oc_legc[top_50_cor_tfs,oc_mc_ord]\n",
    "gene_order = names(apply(clst_mean_mat,1,which.max))[order(match(apply(clst_mean_mat,1,which.max),oc_mc_ord))]"
   ]
  },
  {
   "cell_type": "code",
   "execution_count": null,
   "id": "ba9a7be9",
   "metadata": {
    "ExecuteTime": {
     "end_time": "2022-08-23T06:59:42.039521Z",
     "start_time": "2022-08-23T06:59:41.643Z"
    }
   },
   "outputs": [],
   "source": [
    "rab_gene_cols = colnames(oc_legc)[match(apply(clst_mean_mat,1,which.max),oc_mc_ord)]\n",
    "names(rab_gene_cols) = gene_order\n",
    "rab_gene_cols = tibble::enframe(rab_gene_cols) %>% rename(color_rabbit=value)\n",
    "rownames(rab_gene_cols) = rab_gene_cols$name"
   ]
  },
  {
   "cell_type": "code",
   "execution_count": null,
   "id": "a890eba2",
   "metadata": {
    "ExecuteTime": {
     "end_time": "2022-08-23T06:59:42.962661Z",
     "start_time": "2022-08-23T06:59:42.363Z"
    }
   },
   "outputs": [],
   "source": [
    "options(repr.plot.width=8, repr.plot.height=8)\n",
    "phgo = top_50_cor_tfs[ph$tree_col$order]\n",
    "options(repr.plot.width=6, repr.plot.height=6)\n",
    "tmp = tmp[phgo,phgo]\n",
    "paletteLength = 100\n",
    "myColor <- colorRampPalette(c(\"blue\",\"white\", \"red\"))(paletteLength)\n",
    "myBreaks <- c(seq(min(tmp), 0, length.out=ceiling(paletteLength/2) + 1),\n",
    "              seq(3/paletteLength, max(tmp), length.out=floor(paletteLength/2)))\n",
    "pheatmap::pheatmap(tmp, color = myColor, breaks = myBreaks,\n",
    "# ph = pheatmap::pheatmap(tmp, color = myColor, breaks = myBreaks,\n",
    "                   cluster_rows = F, cluster_cols = F,\n",
    "#                   annotation_col = rab_gene_cols,\n",
    "#                    annotation_row = rab_gene_cols,\n",
    "#                 annotation_colors = list(color_rabbit=oc_cat2col, color_mouse=mm_cat2col)\n",
    "                  )\n",
    "# save_pheatmap_pdf(ph,paste0(\"fig3D.pdf\"), width=12, height=10)"
   ]
  },
  {
   "cell_type": "code",
   "execution_count": null,
   "id": "ca0fc2fb",
   "metadata": {
    "ExecuteTime": {
     "end_time": "2022-08-23T06:59:44.439805Z",
     "start_time": "2022-08-23T06:59:44.068Z"
    }
   },
   "outputs": [],
   "source": [
    "sh = slanter::slanted_orders(data = 1+tmp, same_order = T)\n",
    "shgo = phgo[sh$rows]"
   ]
  },
  {
   "cell_type": "code",
   "execution_count": null,
   "id": "b938275a",
   "metadata": {
    "ExecuteTime": {
     "end_time": "2022-08-23T06:59:47.134158Z",
     "start_time": "2022-08-23T06:59:46.620Z"
    }
   },
   "outputs": [],
   "source": [
    "options(repr.plot.width=8, repr.plot.height=8)\n",
    "phgo = top_50_cor_tfs[ph$tree_col$order]\n",
    "options(repr.plot.width=6, repr.plot.height=6)\n",
    "tmp2 = tmp[shgo,shgo]\n",
    "paletteLength = 100\n",
    "myColor <- colorRampPalette(c(\"blue\",\"white\", \"red\"))(paletteLength)\n",
    "myBreaks <- c(seq(min(tmp), 0, length.out=ceiling(paletteLength/2) + 1),\n",
    "              seq(3/paletteLength, max(tmp), length.out=floor(paletteLength/2)))\n",
    "pheatmap::pheatmap(tmp2, color = myColor, breaks = myBreaks,\n",
    "                   cluster_rows = F, cluster_cols = F,\n",
    "#                   annotation_col = rab_gene_cols,\n",
    "#                    annotation_row = rab_gene_cols,\n",
    "#                 annotation_colors = list(color_rabbit=oc_cat2col, color_mouse=mm_cat2col)\n",
    "                  )"
   ]
  },
  {
   "cell_type": "code",
   "execution_count": null,
   "id": "e9e9606a",
   "metadata": {
    "ExecuteTime": {
     "end_time": "2022-08-23T06:59:48.085141Z",
     "start_time": "2022-08-23T06:59:47.483Z"
    }
   },
   "outputs": [],
   "source": [
    "options(repr.plot.width=8, repr.plot.height=8)\n",
    "tmp3 = tmp2\n",
    "paletteLength = 100\n",
    "myColor <- colorRampPalette(c(\"blue\",\"white\", \"red\"))(paletteLength)\n",
    "myBreaks <- c(seq(min(tmp), 0, length.out=ceiling(paletteLength/2) + 1),\n",
    "              seq(3/paletteLength, max(tmp), length.out=floor(paletteLength/2)))\n",
    "ph = pheatmap::pheatmap(tmp3, color = myColor, breaks = myBreaks)"
   ]
  },
  {
   "cell_type": "code",
   "execution_count": null,
   "id": "1e4ae7b7",
   "metadata": {
    "ExecuteTime": {
     "end_time": "2022-08-23T07:00:08.316386Z",
     "start_time": "2022-08-23T07:00:07.668Z"
    }
   },
   "outputs": [],
   "source": [
    "options(repr.plot.width=8, repr.plot.height=8)\n",
    "phgo = colnames(tmp3)[ph$tree_col$order]\n",
    "options(repr.plot.width=6, repr.plot.height=6)\n",
    "tmp4 = tmp3[phgo,phgo]\n",
    "paletteLength = 100\n",
    "myColor <- colorRampPalette(c(\"blue\",\"white\", \"red\"))(paletteLength)\n",
    "myBreaks <- c(seq(min(tmp), 0, length.out=ceiling(paletteLength/2) + 1),\n",
    "              seq(3/paletteLength, max(tmp), length.out=floor(paletteLength/2)))\n",
    "ph = pheatmap::pheatmap(tmp4, color = myColor, breaks = myBreaks,\n",
    "                   cluster_rows = F, cluster_cols = F,\n",
    "#                   annotation_col = rab_gene_cols,\n",
    "#                    annotation_row = rab_gene_cols,\n",
    "#                 annotation_colors = list(color_rabbit=oc_cat2col, color_mouse=mm_cat2col)\n",
    "                  )\n",
    "save_pheatmap_pdf(ph,paste0(\"fig3D2.pdf\"), width=12, height=10)"
   ]
  },
  {
   "cell_type": "code",
   "execution_count": null,
   "id": "96193afc",
   "metadata": {
    "ExecuteTime": {
     "end_time": "2022-10-02T06:49:32.856166Z",
     "start_time": "2022-10-02T06:49:26.134Z"
    }
   },
   "outputs": [],
   "source": [
    "load_all(\"../mcATAC/\")\n",
    "get_rna_markers <- function(mc_egc_ext, n_genes = 100, minimal_max_log_fraction = -13, minimal_relative_log_fraction = 2, fold_change_reg = 0.1, genes = NULL, rm_zeros = TRUE, epsilon = 1e-5) {\n",
    "    mc_egc <- log2(mc_egc_ext)\n",
    "\n",
    "    max_log_fractions_of_genes <- sparseMatrixStats::rowMaxs(mc_egc, na.rm = TRUE)\n",
    "    interesting_genes_mask <- max_log_fractions_of_genes >= minimal_max_log_fraction\n",
    "    cli_alert(\"removing {.val {sum(!interesting_genes_mask)}} genes with no RNA expression (log2) of above {.field {minimal_max_log_fraction}} in any metacell.\")\n",
    "\n",
    "    mc_egc <- mc_egc[interesting_genes_mask, , drop = FALSE]\n",
    "    fold_matrix <- sweep(mc_egc, 1, sparseMatrixStats::rowMedians(mc_egc, na.rm = TRUE))\n",
    "    fold_matrix <- fold_matrix + fold_change_reg\n",
    "    max_relative_log_fractions_of_genes <- sparseMatrixStats::rowMaxs(fold_matrix, na.rm = TRUE)\n",
    "    interesting_genes_mask <- max_relative_log_fractions_of_genes >= minimal_relative_log_fraction\n",
    "    cli_alert(\"removing {.val {sum(!interesting_genes_mask)}} genes with no fold change (log2) of above {.field {minimal_relative_log_fraction}} in any metacell.\")\n",
    "    fold_matrix[interesting_genes_mask, , drop = FALSE]\n",
    "\n",
    "    cli_alert_info(\"{.val {nrow(fold_matrix)}} genes left for consideration.\")\n",
    "\n",
    "    if (nrow(fold_matrix) < n_genes) {\n",
    "        cli_abort(\"not enough genes left to return {.val {n_genes}} markers. Please try to set a lower value for {.field minimal_max_log_fraction} or {.field minimal_relative_log_fraction}.\")\n",
    "    }\n",
    "\n",
    "    if (nrow(fold_matrix) > n_genes) {\n",
    "        gene_ranks <- sparseMatrixStats::colRanks(fold_matrix, useNames = TRUE, preserveShape = TRUE, ties.method = \"first\")\n",
    "        max_gene_ranks <- sparseMatrixStats::rowMaxs(gene_ranks, na.rm = TRUE, useNames = TRUE)\n",
    "        markers <- sort(max_gene_ranks, decreasing = TRUE) %>%\n",
    "            head(n = n_genes) %>%\n",
    "            names()\n",
    "    } else {\n",
    "        markers <- rownames(fold_matrix)\n",
    "    }\n",
    "\n",
    "    cli_alert_success(\"{.val {length(markers)}} marker genes selected.\")\n",
    "\n",
    "    return(markers)\n",
    "}"
   ]
  },
  {
   "cell_type": "code",
   "execution_count": null,
   "id": "0920f793",
   "metadata": {
    "ExecuteTime": {
     "end_time": "2022-10-02T06:49:22.969129Z",
     "start_time": "2022-10-02T06:49:22.278Z"
    }
   },
   "outputs": [],
   "source": [
    "all_genes = union_names\n",
    "ee = c()  # potentially exclude rabbit early epiblast\n",
    "def_ect_oc_mc = names(oc_mc@colors[oc_mc@colors == '#90BF75'])\n",
    "ps_oc_mc = names(oc_mc@colors[oc_mc@colors == '#DABE99'])\n",
    "epi_oc_mc = setdiff(names(oc_mc@colors[oc_mc@colors == '#635547']), ee)\n",
    "oc_epips = cbind(rowSums(oc_mc@e_gc[intersect(all_genes, rownames(oc_mc@e_gc)),epi_oc_mc]), rowSums(oc_mc@e_gc[intersect(all_genes, rownames(oc_mc@e_gc)),ps_oc_mc]))\n",
    "oc_markers = get_rna_markers(oc_epips[apply(oc_epips,1,max) > 0.002,], n_genes = 50)\n",
    "\n",
    "def_ect_mm_mc = names(mm_mc@colors[mm_mc@colors == '#90BF75'])\n",
    "ps_mm_mc = names(mm_mc@colors[mm_mc@colors == '#DABE99'])\n",
    "epi_mm_mc = names(mm_mc@colors[mm_mc@colors == '#635547'])\n",
    "mm_epips = cbind(rowSums(mm_mc@e_gc[intersect(all_genes, rownames(mm_mc@e_gc)),epi_mm_mc]), rowSums(mm_mc@e_gc[intersect(all_genes, rownames(mm_mc@e_gc)),ps_mm_mc]))\n",
    "mm_markers = get_rna_markers(mm_epips[apply(mm_epips,1,max) > 0.002,], n_genes = 50,)"
   ]
  },
  {
   "cell_type": "code",
   "execution_count": null,
   "id": "28e9afee",
   "metadata": {
    "ExecuteTime": {
     "end_time": "2022-08-04T11:46:36.169049Z",
     "start_time": "2022-08-04T11:46:35.878Z"
    }
   },
   "outputs": [],
   "source": [
    "# # mouse_mc_cols_ede = mouse_mc_cols[rownames(ann_col_mouse)[ann_col_mouse$color_mouse %in% c('Epiblast', 'Definitive ectoderm')]]\n",
    "# # rabbit_mc_cols_ede = rabbit_mc_cols[rownames(ann_col_rabbit)[ann_col_rabbit$color_rabbit %in% c('epiblast', 'Ectoderm - Definitive')]]\n",
    "# mouse_mc_cols_ede = mouse_mc_cols[rownames(ann_col_mouse)[ann_col_mouse$color_mouse %in% c('Epiblast', 'Primitive streak')]]\n",
    "# rabbit_mc_cols_ede = rabbit_mc_cols[rownames(ann_col_rabbit)[ann_col_rabbit$color_rabbit %in% c('epiblast', 'Primitive streak')]]\n",
    "# mm_ede = mm_egc[,names(mouse_mc_cols_ede)]\n",
    "# oc_ede = ocf_egc[,names(rabbit_mc_cols_ede)]\n",
    "\n",
    "# colnames(mm_ede) = paste0('mm_',colnames(mm_ede))\n",
    "# colnames(oc_ede) = paste0('oc_',colnames(oc_ede))\n",
    "\n",
    "# oc_mm_ede = cbind(oc_ede, mm_ede)"
   ]
  },
  {
   "cell_type": "code",
   "execution_count": null,
   "id": "414e4ec2",
   "metadata": {
    "ExecuteTime": {
     "end_time": "2022-08-07T11:00:53.130572Z",
     "start_time": "2022-08-07T11:00:52.690Z"
    }
   },
   "outputs": [],
   "source": [
    "# oc_int_markers = get_rna_markers(oc_mc@e_gc[intersect(all_genes, rownames(oc_mc@e_gc)),setdiff(rownames(oc_epips), ee)], n_genes = 100)\n",
    "# mm_int_markers = get_rna_markers(mm_mc@e_gc[intersect(all_genes, rownames(mm_mc@e_gc)),names(mouse_mc_cols_eps)], n_genes = 100)\n",
    "uu_markers = union(oc_markers, mm_markers)"
   ]
  },
  {
   "cell_type": "code",
   "execution_count": null,
   "id": "7de99d9c",
   "metadata": {
    "ExecuteTime": {
     "end_time": "2022-08-07T11:00:54.628144Z",
     "start_time": "2022-08-07T11:00:54.121Z"
    }
   },
   "outputs": [],
   "source": [
    "mm_eps = mm_mc@e_gc[intersect(uu_markers, rownames(mm_mc@e_gc)),union(epi_mm_mc, ps_mm_mc)]\n",
    "oc_eps = oc_mc@e_gc[intersect(uu_markers, rownames(oc_mc@e_gc)),setdiff(union(epi_oc_mc, ps_oc_mc), ee)]\n",
    "oc_corrections = corrections[rownames(oc_eps)][!is.na(corrections[rownames(oc_eps)])]\n",
    "oc_eps[names(oc_corrections),] = as.matrix(oc_eps[names(oc_corrections),])*as.vector(unname(oc_corrections))\n",
    "\n",
    "mm_fill = matrix(data = -1e-5, nrow = length(setdiff(uu_markers, rownames(mm_mc@e_gc))), ncol = length(colnames(mm_mc@e_gc)))\n",
    "colnames(mm_fill) = colnames(mm_mc@e_gc)\n",
    "mm_eps_filled = rbind(mm_eps, mm_fill[,colnames(mm_eps)])\n",
    "rownames(mm_eps_filled) = c(rownames(mm_eps), setdiff(uu_markers, rownames(mm_eps)))\n",
    "\n",
    "oc_fill = matrix(data = -1e-5, nrow = length(setdiff(uu_markers, rownames(oc_mc@e_gc))), ncol = length(colnames(oc_mc@e_gc)))\n",
    "colnames(oc_fill) = colnames(oc_mc@e_gc)\n",
    "rownames(oc_fill) = setdiff(uu_markers, rownames(oc_mc@e_gc))\n",
    "oc_eps_filled = rbind(oc_eps, oc_fill[,colnames(oc_eps)])\n",
    "rownames(oc_eps_filled) = c(rownames(oc_eps), setdiff(uu_markers, rownames(oc_eps)))\n",
    "\n",
    "colnames(mm_eps_filled) = paste0('mm_',colnames(mm_eps_filled))\n",
    "colnames(oc_eps_filled) = paste0('oc_',colnames(oc_eps_filled))\n",
    "\n",
    "oc_mm_eps = cbind(oc_eps_filled, mm_eps_filled[rownames(oc_eps_filled),])"
   ]
  },
  {
   "cell_type": "code",
   "execution_count": null,
   "id": "71b07ac3",
   "metadata": {
    "ExecuteTime": {
     "end_time": "2022-10-02T07:00:27.246971Z",
     "start_time": "2022-10-02T07:00:26.780Z"
    }
   },
   "outputs": [],
   "source": [
    "ann_col_mouse = data.frame(color_mouse=mm_mc_cats)\n",
    "ann_col_rabbit = data.frame(color_rabbit = oc_mc_cats)\n",
    "rownames(ann_col_mouse) = paste0('mm_',rownames(ann_col_mouse))\n",
    "rownames(ann_col_rabbit) = paste0('oc_',rownames(ann_col_rabbit))"
   ]
  },
  {
   "cell_type": "code",
   "execution_count": null,
   "id": "68d2db5e",
   "metadata": {
    "ExecuteTime": {
     "end_time": "2022-10-02T07:00:27.698333Z",
     "start_time": "2022-10-02T07:00:27.283Z"
    }
   },
   "outputs": [],
   "source": [
    "combr = ann_col_rabbit\n",
    "combr$color_mouse = NA\n",
    "combm = ann_col_mouse\n",
    "combm$color_rabbit = NA\n",
    "comb = rbind(combm, combr)"
   ]
  },
  {
   "cell_type": "code",
   "execution_count": null,
   "id": "5bf9b42b",
   "metadata": {
    "ExecuteTime": {
     "end_time": "2022-10-02T07:02:12.878353Z",
     "start_time": "2022-10-02T07:02:11.583Z"
    }
   },
   "outputs": [],
   "source": [
    "options(repr.plot.width=13, repr.plot.height=13)\n",
    "z_oc_mm_eps = oc_mm_eps\n",
    "z_oc_mm_eps[z_oc_mm_eps<0] = 0\n",
    "oc_mm_legc_eps = log2(1e-5+z_oc_mm_eps)\n",
    "custom_row_means = rowMeans(oc_mm_legc_eps)\n",
    "custom_row_means[rownames(oc_fill)] = rowMeans(log2(1e-5+mm_eps))[rownames(oc_fill)]\n",
    "custom_row_means[rownames(mm_fill)] = rowMeans(log2(1e-5+oc_eps))[rownames(mm_fill)]\n",
    "oc_mm_legc_eps = oc_mm_legc_eps-custom_row_means\n",
    "grey_val = round(min(oc_mm_legc_eps))-1\n",
    "oc_mm_legc_eps[oc_mm_eps<0] = grey_val\n",
    "\n",
    "other_min = min(oc_mm_legc_eps[!oc_mm_eps<0])\n",
    "paletteLength = 100\n",
    "myColor <- colorRampPalette(c(\"grey\", \"blue\", \"white\", \"red\"))(paletteLength)\n",
    "myBreaks <- c(seq(grey_val, other_min, length.out=ceiling(paletteLength/2) + 1),\n",
    "              seq(other_min+3/paletteLength, max(oc_mm_legc_eps), length.out=floor(paletteLength/2)))\n",
    "pheatmap::pheatmap(\n",
    "    oc_mm_legc_eps,\n",
    "    col=myColor, \n",
    "    breaks=myBreaks,\n",
    "    cluster_cols=F,\n",
    "    cluster_rows=F,\n",
    "    annotation_col = comb,\n",
    "    annotation_colors = list(color_rabbit=oc_cat2col, color_mouse=mm_cat2col))"
   ]
  },
  {
   "cell_type": "code",
   "execution_count": null,
   "id": "e5627f02",
   "metadata": {},
   "outputs": [],
   "source": [
    "all_genes = union_names\n",
    "ee = c()  # potentially exclude rabbit early epiblast\n",
    "ps_oc_mc = names(oc_mc@colors[oc_mc@colors == col1])\n",
    "epi_oc_mc = setdiff(names(oc_mc@colors[oc_mc@colors == col2]), ee)\n",
    "oc_epips = cbind(rowSums(oc_mc@e_gc[intersect(all_genes, rownames(oc_mc@e_gc)),epi_oc_mc]), rowSums(oc_mc@e_gc[intersect(all_genes, rownames(oc_mc@e_gc)),ps_oc_mc]))\n",
    "oc_markers = get_rna_markers(oc_epips[apply(oc_epips,1,max) > 0.002,], n_genes = 50)\n",
    "\n",
    "ps_mm_mc = names(mm_mc@colors[mm_mc@colors == col1])\n",
    "epi_mm_mc = names(mm_mc@colors[mm_mc@colors == col2])\n",
    "mm_epips = cbind(rowSums(mm_mc@e_gc[intersect(all_genes, rownames(mm_mc@e_gc)),epi_mm_mc]), rowSums(mm_mc@e_gc[intersect(all_genes, rownames(mm_mc@e_gc)),ps_mm_mc]))\n",
    "mm_markers = get_rna_markers(mm_epips[apply(mm_epips,1,max) > 0.002,], n_genes = 50,)"
   ]
  },
  {
   "cell_type": "code",
   "execution_count": null,
   "id": "95271b68",
   "metadata": {
    "ExecuteTime": {
     "end_time": "2022-08-10T11:49:49.419405Z",
     "start_time": "2022-08-10T11:49:48.985Z"
    }
   },
   "outputs": [],
   "source": [
    "plot_transition <- function(col1 = '#DABE99', col2 = '#635547', box_size = 0.7){\n",
    "\n",
    "    ps_oc_mc = names(oc_mc@colors[oc_mc@colors == col1])\n",
    "    epi_oc_mc = setdiff(names(oc_mc@colors[oc_mc@colors == col2]), ee)\n",
    "    \n",
    "    all_genes = union_names\n",
    "    rab_epi = oc_mc@e_gc[intersect(intersect(all_genes, rownames(oc_mc@e_gc)), names(corrections_f)),epi_oc_mc]\n",
    "    rab_epi = as.matrix(rab_epi)*as.vector(unname(corrections[rownames(rab_epi)]))\n",
    "\n",
    "    rab_ps = oc_mc@e_gc[intersect(intersect(all_genes, rownames(oc_mc@e_gc)), names(corrections_f)),ps_oc_mc]\n",
    "    rab_ps = as.matrix(rab_ps)*as.vector(unname(corrections[rownames(rab_ps)]))\n",
    "\n",
    "    rab_epi = log2(1e-5+rowSums(rab_epi)/sum(rab_epi))\n",
    "    rab_ps = log2(1e-5+rowSums(rab_ps)/sum(rab_ps))\n",
    "\n",
    "    ps_mm_mc = names(mm_mc@colors[mm_mc@colors == col1])\n",
    "    epi_mm_mc = names(mm_mc@colors[mm_mc@colors == col2])\n",
    "    \n",
    "    mouse_epi = mm_mc@e_gc[intersect(all_genes, rownames(mm_mc@e_gc)),epi_mm_mc]\n",
    "    mouse_ps = mm_mc@e_gc[intersect(all_genes, rownames(mm_mc@e_gc)),ps_mm_mc]\n",
    "\n",
    "    mouse_epi = log2(1e-5+rowSums(mouse_epi)/sum(mouse_epi))\n",
    "    mouse_ps = log2(1e-5+rowSums(mouse_ps)/sum(mouse_ps))\n",
    "\n",
    "    epips = cbind((rab_ps-rab_epi)[intersect(names(rab_epi), names(mouse_epi))], (mouse_ps-mouse_epi)[intersect(names(rab_epi), names(mouse_epi))])\n",
    "    colnames(epips) = c('oc', 'mm')\n",
    "    epips = as.data.frame(epips)\n",
    "    epips$gene = rownames(epips)\n",
    "    epips$sf = epips$oc^2+epips$mm^2 > 0.9\n",
    "    # epips = epips[!is.na(epips$sf),]\n",
    "    epips[epips$sf == FALSE,]$gene = ''\n",
    "    pdf(paste0(\"scatter\", col1, \"_\", col2,\".pdf\"), width=13, height=10)\n",
    "    ggplot(epips, aes(oc, mm, label = gene)) +\n",
    "      geom_point(data = epips[epips$sf == FALSE,], color = \"grey50\") +\n",
    "      geom_text_repel(box.padding = 0.5, max.overlaps = Inf) +\n",
    "      geom_point(data = epips[epips$sf == TRUE,], color = \"red\")+\n",
    "      geom_abline(intercept = 0, slope = 1,) + \n",
    "      geom_abline(intercept = 1, slope = 1, linetype=\"dashed\") + \n",
    "      geom_abline(intercept = -1, slope = 1, linetype=\"dashed\") +\n",
    "      geom_hline(yintercept = box_size)+geom_hline(yintercept = -box_size)+geom_vline(xintercept = box_size)+geom_vline(xintercept = -box_size)\n",
    "    dev.off()\n",
    "\n",
    "    epips_gt1_gt1 = epips$oc > box_size & epips$mm > box_size\n",
    "    epips_ltm1_ltm1 = epips$oc < -box_size & epips$mm < -box_size\n",
    "    epips_gt1_ltm1 = (epips$oc > box_size & epips$mm < box_size) | (epips$oc > -box_size & epips$mm < -box_size)\n",
    "    epips_ltm1_gt1 = (epips$oc < box_size & epips$mm > box_size) | (epips$oc < -box_size & epips$mm > -box_size)\n",
    "\n",
    "    gene_order = c(\n",
    "        rownames(epips)[epips_gt1_gt1], \n",
    "        rownames(epips)[epips_ltm1_ltm1],\n",
    "        rownames(epips)[epips_gt1_ltm1],\n",
    "        rownames(epips)[epips_ltm1_gt1]\n",
    "    )\n",
    "    gene_annot = tibble::enframe(rownames(epips))\n",
    "    gene_annot$type = \"other\"\n",
    "    gene_annot[epips_gt1_gt1,]$type = \"gt1_gt1\"\n",
    "    gene_annot[epips_ltm1_ltm1,]$type = \"ltm1_ltm1\"\n",
    "    gene_annot[epips_gt1_ltm1,]$type = \"gt1_ltm1\"\n",
    "    gene_annot[epips_ltm1_gt1,]$type = \"ltm1_gt1\"\n",
    "    gene_annot = gene_annot[,\"type\", drop=FALSE]\n",
    "    rownames(gene_annot) = rownames(epips)\n",
    "\n",
    "    uu_markers = gene_order\n",
    "    mm_eps = mm_mc@e_gc[intersect(uu_markers, rownames(mm_mc@e_gc)),union(epi_mm_mc, ps_mm_mc)]\n",
    "    oc_eps = oc_mc@e_gc[intersect(uu_markers, rownames(oc_mc@e_gc)),setdiff(union(epi_oc_mc, ps_oc_mc), ee)]\n",
    "    oc_corrections = corrections[rownames(oc_eps)][!is.na(corrections[rownames(oc_eps)])]\n",
    "    oc_eps[names(oc_corrections),] = as.matrix(oc_eps[names(oc_corrections),])*as.vector(unname(oc_corrections))\n",
    "\n",
    "    mm_fill = matrix(data = -1e-5, nrow = length(setdiff(uu_markers, rownames(mm_mc@e_gc))), ncol = length(colnames(mm_mc@e_gc)))\n",
    "    colnames(mm_fill) = colnames(mm_mc@e_gc)\n",
    "    mm_eps_filled = rbind(mm_eps, mm_fill[,colnames(mm_eps)])\n",
    "    rownames(mm_eps_filled) = c(rownames(mm_eps), setdiff(uu_markers, rownames(mm_eps)))\n",
    "\n",
    "    oc_fill = matrix(data = -1e-5, nrow = length(setdiff(uu_markers, rownames(oc_mc@e_gc))), ncol = length(colnames(oc_mc@e_gc)))\n",
    "    colnames(oc_fill) = colnames(oc_mc@e_gc)\n",
    "    rownames(oc_fill) = setdiff(uu_markers, rownames(oc_mc@e_gc))\n",
    "    oc_eps_filled = rbind(oc_eps, oc_fill[,colnames(oc_eps)])\n",
    "    rownames(oc_eps_filled) = c(rownames(oc_eps), setdiff(uu_markers, rownames(oc_eps)))\n",
    "\n",
    "    oc_eps_filled = oc_eps_filled[,intersect(oc_mc_ord, colnames(oc_eps_filled))]\n",
    "    mm_eps_filled = mm_eps_filled[,rev(intersect(mm_mc_ord, colnames(mm_eps_filled)))]\n",
    "    colnames(mm_eps_filled) = paste0('mm_',colnames(mm_eps_filled))\n",
    "    colnames(oc_eps_filled) = paste0('oc_',colnames(oc_eps_filled))\n",
    "\n",
    "    oc_mm_eps = cbind(oc_eps_filled, mm_eps_filled[rownames(oc_eps_filled),])\n",
    "\n",
    "#     options(repr.plot.width=13, repr.plot.height=10)\n",
    "    pdf(paste0(\"pheatmap\", col1, \"_\", col2,\".pdf\"), width=13, height=10)\n",
    "    z_oc_mm_eps = oc_mm_eps\n",
    "    z_oc_mm_eps[z_oc_mm_eps<0] = 0\n",
    "    oc_mm_legc_eps = log2(1e-5+z_oc_mm_eps)\n",
    "    custom_row_means = rowMeans(oc_mm_legc_eps)\n",
    "    custom_row_means[rownames(oc_fill)] = rowMeans(log2(1e-5+mm_eps))[rownames(oc_fill)]\n",
    "    custom_row_means[rownames(mm_fill)] = rowMeans(log2(1e-5+oc_eps))[rownames(mm_fill)]\n",
    "    oc_mm_legc_eps = oc_mm_legc_eps-custom_row_means\n",
    "    grey_val = round(min(oc_mm_legc_eps))-1\n",
    "    oc_mm_legc_eps[oc_mm_eps<0] = grey_val\n",
    "\n",
    "    other_min = min(oc_mm_legc_eps[!oc_mm_eps<0])\n",
    "    paletteLength = 100\n",
    "    myColor <- colorRampPalette(c(\"grey\", \"blue\", \"white\", \"red\"))(paletteLength)\n",
    "    myBreaks <- c(seq(grey_val, other_min, length.out=ceiling(paletteLength/2) + 1),\n",
    "                  seq(other_min+3/paletteLength, max(oc_mm_legc_eps), length.out=floor(paletteLength/2)))\n",
    "    pheatmap::pheatmap(\n",
    "        oc_mm_legc_eps[gene_order,],\n",
    "        cluster_rows=F,\n",
    "        cluster_cols=F,\n",
    "        col=myColor, \n",
    "        breaks=myBreaks,\n",
    "        annotation_col = comb,\n",
    "        annotation_row = as.data.frame(gene_annot),\n",
    "        annotation_colors = list(color_rabbit=oc_cat2col, color_mouse=mm_cat2col, \n",
    "                                 type=c(`gt1_gt1` = \"darkblue\", `ltm1_ltm1` = \"darkred\", `gt1_ltm1` = \"purple\", `ltm1_gt1` = \"orange\", `other` = \"white\")))\n",
    "    dev.off()\n",
    "}"
   ]
  },
  {
   "cell_type": "code",
   "execution_count": null,
   "id": "049f3322",
   "metadata": {
    "ExecuteTime": {
     "end_time": "2022-08-07T19:25:55.531667Z",
     "start_time": "2022-08-07T19:25:54.899Z"
    }
   },
   "outputs": [],
   "source": [
    "box_size = 1\n",
    "epips_gt1_gt1 = epips$oc > box_size & epips$mm > box_size\n",
    "epips_ltm1_ltm1 = epips$oc < -box_size & epips$mm < -box_size\n",
    "epips_gt1_ltm1 = (epips$oc > box_size & epips$mm < box_size) | (epips$oc > -box_size & epips$mm < -box_size)\n",
    "epips_ltm1_gt1 = (epips$oc < box_size & epips$mm > box_size) | (epips$oc < -box_size & epips$mm > -box_size)"
   ]
  },
  {
   "cell_type": "code",
   "execution_count": null,
   "id": "2fdb2422",
   "metadata": {
    "ExecuteTime": {
     "end_time": "2022-10-02T07:00:12.734869Z",
     "start_time": "2022-10-02T07:00:12.301Z"
    }
   },
   "outputs": [],
   "source": [
    "col1s = c('#DABE99', \"#C594BF\", \"#90BF75\", '#c19f70', '#c19f70', '#F397C0', \"#9e6762\", '#649146', \"#cc7818\", \"#532C8A\", \"#1a3f52\", \"#408DA1\", \"#1AA2EB\", \"#B51D8D\", \"#C72228\", \"#F25CD4\", \"#f7f79e\")\n",
    "col2s = c(\"#635547\", \"#DABE99\", \"#635547\", \"#635547\", '#DABE99', '#c19f70', \"#635547\", '#90BF75', \"#8870ad\", \"#8870ad\", \"#C594BF\", \"#C594BF\", \"#408DA1\", \"#53f1fc\", \"#FBBE92\", \"#F397C0\", \"#90BF75\")\n",
    "\n",
    "col1ns = c('Primitive streak', \"nascent mesoderm \", \"Ectoderm - Definitive\", 'Anterior primitive streak ', 'Anterior primitive streak ', 'definitive endoderm')\n",
    "col2ns = c(\"epiblast\", \"Primitive streak\", \"epiblast\", \"epiblast\", 'Primitive streak', 'Anterior primitive streak ')"
   ]
  },
  {
   "cell_type": "code",
   "execution_count": null,
   "id": "03237fd0",
   "metadata": {
    "ExecuteTime": {
     "end_time": "2022-10-02T07:00:17.358943Z",
     "start_time": "2022-10-02T07:00:14.213Z"
    },
    "scrolled": false
   },
   "outputs": [],
   "source": [
    "ee = c()\n",
    "for(i in 1:17){\n",
    "    col1 = col1s[i]\n",
    "    col2 = col2s[i]\n",
    "    col1n = oc_mc@color_key[oc_mc@color_key$color == col1,]$cell_type\n",
    "    col2n = oc_mc@color_key[oc_mc@color_key$color == col2,]$cell_type\n",
    "\n",
    "    ps = names(oc_mc@colors[oc_mc@colors == col1])\n",
    "    epi = setdiff(names(oc_mc@colors[oc_mc@colors == col2]), ee)\n",
    "    \n",
    "    ps_oc_mc = names(oc_mc@colors[oc_mc@colors == col1])\n",
    "    epi_oc_mc = names(oc_mc@colors[oc_mc@colors == col2])\n",
    "    \n",
    "    all_genes = union_names\n",
    "    rab_epi = oc_mc@e_gc[intersect(intersect(all_genes, rownames(oc_mc@e_gc)), names(corrections_f)),epi_oc_mc]\n",
    "    rab_epi = as.matrix(rab_epi)*as.vector(unname(corrections[rownames(rab_epi)]))\n",
    "\n",
    "    rab_ps = oc_mc@e_gc[intersect(intersect(all_genes, rownames(oc_mc@e_gc)), names(corrections_f)),ps_oc_mc]\n",
    "    rab_ps = as.matrix(rab_ps)*as.vector(unname(corrections[rownames(rab_ps)]))\n",
    "\n",
    "    rab_epi = log2(1e-5+rowSums(rab_epi)/sum(rab_epi))\n",
    "    rab_ps = log2(1e-5+rowSums(rab_ps)/sum(rab_ps))\n",
    "\n",
    "    ps_mm_mc = names(mm_mc@colors[mm_mc@colors == col1])\n",
    "    epi_mm_mc = names(mm_mc@colors[mm_mc@colors == col2])\n",
    "    \n",
    "    mouse_epi = mm_mc@e_gc[intersect(all_genes, rownames(mm_mc@e_gc)),epi_mm_mc]\n",
    "    mouse_ps = mm_mc@e_gc[intersect(all_genes, rownames(mm_mc@e_gc)),ps_mm_mc]\n",
    "\n",
    "    mouse_epi = log2(1e-5+rowSums(mouse_epi)/sum(mouse_epi))\n",
    "    mouse_ps = log2(1e-5+rowSums(mouse_ps)/sum(mouse_ps))\n",
    "\n",
    "    epips = cbind((rab_ps-rab_epi)[intersect(names(rab_epi), names(mouse_epi))], (mouse_ps-mouse_epi)[intersect(names(rab_epi), names(mouse_epi))])\n",
    "    colnames(epips) = c('oc', 'mm')\n",
    "    epips = as.data.frame(epips)\n",
    "    epips$gene = rownames(epips)\n",
    "#     epips$sf = epips$oc^2+epips$mm^2 > 0.9\n",
    "    # epips = epips[!is.na(epips$sf),]\n",
    "\n",
    "    ondiag = epips[abs(epips$oc - epips$mm) < 1,]\n",
    "    offdiag = epips[abs(epips$oc - epips$mm) > 1,]\n",
    "    offdiag$oc_mm_diff = offdiag$oc - offdiag$mm\n",
    "    ondiag$oc_mm_sum = ondiag$oc + ondiag$mm\n",
    "    dw_dw = ondiag[order(ondiag$oc_mm_sum),][1:15,]\n",
    "    up_up = ondiag[order(-ondiag$oc_mm_sum),][1:15,]\n",
    "    up_dw = offdiag[order(offdiag$oc_mm_diff),][1:15,]\n",
    "    dw_up = offdiag[order(-offdiag$oc_mm_diff),][1:15,]\n",
    "\n",
    "    gene_order = c(rownames(dw_dw),rownames(up_up),rownames(up_dw),rownames(dw_up))\n",
    "    epips[setdiff(rownames(epips),gene_order),]$gene = ''\n",
    "\n",
    "    gene_annot = tibble::enframe(rownames(epips))\n",
    "    gene_annot$type = \"other\"\n",
    "    rownames(gene_annot) = rownames(epips)\n",
    "    gene_annot[rownames(dw_dw),]$type = \"dw_dw\"\n",
    "    rownames(gene_annot) = rownames(epips)\n",
    "    gene_annot[rownames(up_up),]$type = \"up_up\"\n",
    "    rownames(gene_annot) = rownames(epips)\n",
    "    gene_annot[rownames(up_dw),]$type = \"up_dw\"\n",
    "    rownames(gene_annot) = rownames(epips)\n",
    "    gene_annot[rownames(dw_up),]$type = \"dw_up\"\n",
    "    rownames(gene_annot) = rownames(epips)\n",
    "    gene_annot = gene_annot[,\"type\", drop=FALSE]\n",
    "    rownames(gene_annot) = rownames(epips)\n",
    "\n",
    "    ggplot(epips, aes(oc, mm, label = gene)) +\n",
    "      geom_point(data = epips, color = \"grey50\") +\n",
    "      geom_text_repel(box.padding = 0.5, max.overlaps = Inf) +\n",
    "      geom_point(data = epips[rownames(dw_dw),], color = \"darkblue\")+\n",
    "      geom_point(data = epips[rownames(up_up),], color = \"darkred\")+\n",
    "      geom_point(data = epips[rownames(up_dw),], color = \"purple\")+\n",
    "      geom_point(data = epips[rownames(dw_up),], color = \"orange\")+\n",
    "      geom_abline(intercept = 0, slope = 1,) + \n",
    "      geom_abline(intercept = 1, slope = 1, linetype=\"dashed\") + \n",
    "      geom_abline(intercept = -1, slope = 1, linetype=\"dashed\")\n",
    "    ggsave(paste0(\"scatter\", col1n, \"_\", col2n,\".pdf\"), width = 7, height = 7)\n",
    "\n",
    "    uu_markers = gene_order\n",
    "    mm_eps = mm_mc@e_gc[intersect(uu_markers, rownames(mm_mc@e_gc)),union(epi_mm_mc, ps_mm_mc)]\n",
    "    oc_eps = oc_mc@e_gc[intersect(uu_markers, rownames(oc_mc@e_gc)),setdiff(union(epi_oc_mc, ps_oc_mc), ee)]\n",
    "    oc_corrections = corrections[rownames(oc_eps)][!is.na(corrections[rownames(oc_eps)])]\n",
    "    oc_eps[names(oc_corrections),] = as.matrix(oc_eps[names(oc_corrections),])*as.vector(unname(oc_corrections))\n",
    "\n",
    "    mm_fill = matrix(data = -1e-5, nrow = length(setdiff(uu_markers, rownames(mm_mc@e_gc))), ncol = length(colnames(mm_mc@e_gc)))\n",
    "    colnames(mm_fill) = colnames(mm_mc@e_gc)\n",
    "    mm_eps_filled = rbind(mm_eps, mm_fill[,colnames(mm_eps)])\n",
    "    rownames(mm_eps_filled) = c(rownames(mm_eps), setdiff(uu_markers, rownames(mm_eps)))\n",
    "\n",
    "    oc_fill = matrix(data = -1e-5, nrow = length(setdiff(uu_markers, rownames(oc_mc@e_gc))), ncol = length(colnames(oc_mc@e_gc)))\n",
    "    colnames(oc_fill) = colnames(oc_mc@e_gc)\n",
    "    rownames(oc_fill) = setdiff(uu_markers, rownames(oc_mc@e_gc))\n",
    "    oc_eps_filled = rbind(oc_eps, oc_fill[,colnames(oc_eps)])\n",
    "    rownames(oc_eps_filled) = c(rownames(oc_eps), setdiff(uu_markers, rownames(oc_eps)))\n",
    "\n",
    "    oc_eps_filled = oc_eps_filled[,intersect(oc_mc_ord, colnames(oc_eps_filled))]\n",
    "    mm_eps_filled = mm_eps_filled[,rev(intersect(mm_mc_ord, colnames(mm_eps_filled)))]\n",
    "    colnames(mm_eps_filled) = paste0('mm_',colnames(mm_eps_filled))\n",
    "    colnames(oc_eps_filled) = paste0('oc_',colnames(oc_eps_filled))\n",
    "\n",
    "    oc_mm_eps = cbind(oc_eps_filled, mm_eps_filled[rownames(oc_eps_filled),])\n",
    "\n",
    "    options(repr.plot.width=13, repr.plot.height=13)\n",
    "#     pdf(, width=13, height=13)\n",
    "    z_oc_mm_eps = oc_mm_eps\n",
    "    z_oc_mm_eps[z_oc_mm_eps<0] = 0\n",
    "    oc_mm_legc_eps = log2(1e-5+z_oc_mm_eps)\n",
    "    custom_row_means = rowMeans(oc_mm_legc_eps)\n",
    "    custom_row_means[rownames(oc_fill)] = rowMeans(log2(1e-5+mm_eps))[rownames(oc_fill)]\n",
    "    custom_row_means[rownames(mm_fill)] = rowMeans(log2(1e-5+oc_eps))[rownames(mm_fill)]\n",
    "    oc_mm_legc_eps = oc_mm_legc_eps-custom_row_means\n",
    "    grey_val = round(min(oc_mm_legc_eps))-1\n",
    "    oc_mm_legc_eps[oc_mm_eps<0] = grey_val\n",
    "\n",
    "    ph = pheatmap::pheatmap(oc_mm_legc_eps[rownames(gene_annot)[gene_annot$type == \"dw_up\"],])\n",
    "    dw_up_ordered = rownames(gene_annot)[gene_annot$type == \"dw_up\"][ph$tree_row$order]\n",
    "    ph = pheatmap::pheatmap(oc_mm_legc_eps[rownames(gene_annot)[gene_annot$type == \"up_dw\"],])\n",
    "    up_dw_ordered = rownames(gene_annot)[gene_annot$type == \"up_dw\"][ph$tree_row$order]\n",
    "    gene_order = c(rownames(dw_dw),rownames(up_up),up_dw_ordered, dw_up_ordered)\n",
    "    other_min = min(oc_mm_legc_eps[!oc_mm_eps<0])\n",
    "    paletteLength = 100\n",
    "    myColor <- colorRampPalette(c(\"grey\", \"blue\", \"white\", \"red\"))(paletteLength)\n",
    "    myBreaks <- c(seq(grey_val, other_min, length.out=ceiling(paletteLength/2) + 1),\n",
    "                  seq(other_min+3/paletteLength, max(oc_mm_legc_eps), length.out=floor(paletteLength/2)))\n",
    "    ph = pheatmap::pheatmap(\n",
    "        oc_mm_legc_eps[gene_order,],\n",
    "        cluster_rows=F,\n",
    "        cluster_cols=F,\n",
    "        col=myColor, \n",
    "        breaks=myBreaks,\n",
    "        annotation_col = comb,\n",
    "        annotation_row = as.data.frame(gene_annot),\n",
    "        annotation_colors = list(color_rabbit=oc_cat2col, color_mouse=mm_cat2col,\n",
    "                                 type=c(`dw_dw` = \"darkblue\", `up_up` = \"darkred\", `up_dw` = \"purple\", `dw_up` = \"orange\", `other` = \"white\")\n",
    "                                ))\n",
    "    save_pheatmap_pdf(ph,paste0(\"pheatmap\", col1n, \"_\", col2n,\".pdf\"), width=13, height=13)\n",
    "}"
   ]
  },
  {
   "cell_type": "code",
   "execution_count": null,
   "id": "7beee978",
   "metadata": {
    "ExecuteTime": {
     "end_time": "2022-08-08T08:41:33.394682Z",
     "start_time": "2022-08-08T08:41:33.120Z"
    }
   },
   "outputs": [],
   "source": [
    "save_pheatmap_pdf <- function(x, filename, width=7, height=7) {\n",
    "    stopifnot(!missing(x))\n",
    "    stopifnot(!missing(filename))\n",
    "    pdf(filename, width=width, height=height)\n",
    "    grid::grid.newpage()\n",
    "    grid::grid.draw(x$gtable)\n",
    "    dev.off()\n",
    "}"
   ]
  },
  {
   "cell_type": "code",
   "execution_count": null,
   "id": "b3e40d4c",
   "metadata": {
    "ExecuteTime": {
     "end_time": "2022-08-08T10:52:35.898484Z",
     "start_time": "2022-08-08T10:52:34.189Z"
    },
    "scrolled": false
   },
   "outputs": [],
   "source": [
    "for(i in 1:6){\n",
    "    col1 = col1s[i]\n",
    "    col2 = col2s[i]\n",
    "    col1n = oc_mc@color_key[oc_mc@color_key$color == col1,]$cell_type\n",
    "    col2n = oc_mc@color_key[oc_mc@color_key$color == col2,]$cell_type\n",
    "\n",
    "    ps = names(oc_mc@colors[oc_mc@colors == col1])\n",
    "    epi = setdiff(names(oc_mc@colors[oc_mc@colors == col2]), ee)\n",
    "    \n",
    "    ps_oc_mc = names(oc_mc@colors[oc_mc@colors == col1])\n",
    "    epi_oc_mc = names(oc_mc@colors[oc_mc@colors == col2])\n",
    "    \n",
    "    all_genes = union_names\n",
    "    rab_epi = oc_mc@e_gc[intersect(intersect(all_genes, rownames(oc_mc@e_gc)), names(corrections_f)),epi_oc_mc]\n",
    "    rab_epi = as.matrix(rab_epi)*as.vector(unname(corrections[rownames(rab_epi)]))\n",
    "\n",
    "    rab_ps = oc_mc@e_gc[intersect(intersect(all_genes, rownames(oc_mc@e_gc)), names(corrections_f)),ps_oc_mc]\n",
    "    rab_ps = as.matrix(rab_ps)*as.vector(unname(corrections[rownames(rab_ps)]))\n",
    "\n",
    "    rab_epi = log2(1e-5+rowSums(rab_epi)/sum(rab_epi))\n",
    "    rab_ps = log2(1e-5+rowSums(rab_ps)/sum(rab_ps))\n",
    "\n",
    "    ps_mm_mc = names(mm_mc@colors[mm_mc@colors == col1])\n",
    "    epi_mm_mc = names(mm_mc@colors[mm_mc@colors == col2])\n",
    "    \n",
    "    mouse_epi = mm_mc@e_gc[intersect(all_genes, rownames(mm_mc@e_gc)),epi_mm_mc]\n",
    "    mouse_ps = mm_mc@e_gc[intersect(all_genes, rownames(mm_mc@e_gc)),ps_mm_mc]\n",
    "\n",
    "    mouse_epi = log2(1e-5+rowSums(mouse_epi)/sum(mouse_epi))\n",
    "    mouse_ps = log2(1e-5+rowSums(mouse_ps)/sum(mouse_ps))\n",
    "\n",
    "    epips = cbind((rab_ps-rab_epi)[intersect(names(rab_epi), names(mouse_epi))], (mouse_ps-mouse_epi)[intersect(names(rab_epi), names(mouse_epi))])\n",
    "    colnames(epips) = c('oc', 'mm')\n",
    "    epips = as.data.frame(epips)\n",
    "    epips$gene = rownames(epips)\n",
    "#     epips$sf = epips$oc^2+epips$mm^2 > 0.9\n",
    "    # epips = epips[!is.na(epips$sf),]\n",
    "\n",
    "    ondiag = epips[abs(epips$oc - epips$mm) < 1,]\n",
    "    offdiag = epips[abs(epips$oc - epips$mm) > 1,]\n",
    "    offdiag$oc_mm_diff = offdiag$oc - offdiag$mm\n",
    "    ondiag$oc_mm_sum = ondiag$oc + ondiag$mm\n",
    "    dw_dw = ondiag[order(ondiag$oc_mm_sum),][1:15,]\n",
    "    up_up = ondiag[order(-ondiag$oc_mm_sum),][1:15,]\n",
    "    up_dw = offdiag[order(offdiag$oc_mm_diff),][1:15,]\n",
    "    dw_up = offdiag[order(-offdiag$oc_mm_diff),][1:15,]\n",
    "\n",
    "    gene_order = c(rownames(dw_dw),rownames(up_up),rownames(up_dw),rownames(dw_up))\n",
    "    dput(col1n)\n",
    "    dput(col2n)\n",
    "    dput(gene_order)\n",
    "}"
   ]
  },
  {
   "cell_type": "code",
   "execution_count": null,
   "id": "7233c7df",
   "metadata": {
    "ExecuteTime": {
     "end_time": "2022-08-23T14:16:29.717978Z",
     "start_time": "2022-08-23T14:16:29.393Z"
    }
   },
   "outputs": [],
   "source": [
    "log2(5e-5)"
   ]
  },
  {
   "cell_type": "code",
   "execution_count": null,
   "id": "119c0943",
   "metadata": {},
   "outputs": [],
   "source": []
  }
 ],
 "metadata": {
  "kernelspec": {
   "display_name": "R",
   "language": "R",
   "name": "ir"
  },
  "language_info": {
   "codemirror_mode": "r",
   "file_extension": ".r",
   "mimetype": "text/x-r-source",
   "name": "R",
   "pygments_lexer": "r",
   "version": "4.0.5"
  },
  "latex_envs": {
   "LaTeX_envs_menu_present": true,
   "autoclose": false,
   "autocomplete": true,
   "bibliofile": "biblio.bib",
   "cite_by": "apalike",
   "current_citInitial": 1,
   "eqLabelWithNumbers": true,
   "eqNumInitial": 1,
   "hotkeys": {
    "equation": "Ctrl-E",
    "itemize": "Ctrl-I"
   },
   "labels_anchors": false,
   "latex_user_defs": false,
   "report_style_numbering": false,
   "user_envs_cfg": false
  }
 },
 "nbformat": 4,
 "nbformat_minor": 5
}
