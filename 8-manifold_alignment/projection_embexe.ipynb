{
 "cells": [
  {
   "cell_type": "code",
   "execution_count": null,
   "id": "51acc569",
   "metadata": {
    "ExecuteTime": {
     "end_time": "2022-10-31T06:16:21.217489Z",
     "start_time": "2022-10-31T06:16:17.201Z"
    }
   },
   "outputs": [],
   "source": [
    "library(\"shape\")\n",
    "library(devtools)\n",
    "library(metacell)\n",
    "load_all(\"../metacell.flow/\")\n",
    "scdb_init(\"output/scrna_db/\",force_reinit = T)\n",
    "scfigs_init(\"figs\")\n",
    "scdb_flow_init()"
   ]
  },
  {
   "cell_type": "code",
   "execution_count": null,
   "id": "478feeec",
   "metadata": {
    "ExecuteTime": {
     "end_time": "2022-10-31T06:17:48.970415Z",
     "start_time": "2022-10-31T06:16:17.688Z"
    }
   },
   "outputs": [],
   "source": [
    "oc_mat_id = \"oc_embexe\"\n",
    "oc_mc_id = \"oc_embexe\"\n",
    "oc_gset_id = \"oc_embexe\"\n",
    "oc_mat = scdb_mat(oc_mat_id)\n",
    "oc_mc = scdb_mc(oc_mc_id)\n",
    "oc_gset = scdb_gset(oc_gset_id)\n",
    "\n",
    "mm_mat_id = \"mm_embexe\"\n",
    "mm_mc_id = \"mm_embexe\"\n",
    "mm_gset_id = \"mm_embexe\"\n",
    "mm_mat = scdb_mat(mm_mat_id)\n",
    "mm_mc = scdb_mc(mm_mc_id)\n",
    "mm_gset = scdb_gset(mm_gset_id)"
   ]
  },
  {
   "cell_type": "code",
   "execution_count": null,
   "id": "b3cd3050",
   "metadata": {
    "ExecuteTime": {
     "end_time": "2022-10-31T06:17:48.994194Z",
     "start_time": "2022-10-31T06:16:18.136Z"
    }
   },
   "outputs": [],
   "source": [
    "length(unique(oc_mc@mc))"
   ]
  },
  {
   "cell_type": "code",
   "execution_count": null,
   "id": "7c8305af",
   "metadata": {
    "ExecuteTime": {
     "end_time": "2022-10-31T06:17:49.027381Z",
     "start_time": "2022-10-31T06:16:20.339Z"
    }
   },
   "outputs": [],
   "source": [
    "bad_names = c('AK215788;Sox10', \"AK085097;Akap2;Pakap;Palm2\", \"AK032382;AK086749;BC086315;Slc25a37\", \"Apoc2;Apoc4;Apoc4-apoc2\", \"AK081796;AK219583;Gns\", \"Arap3;Mir6980;Mir6981\", \"Meg3;Mir1906-1;Mir770\", \"AK028659;AK163016;Nebl\",\"AK031574;Mir6996;Notch1\", \"Prn;Prnd;Prnp\", \"9930111J21Rik1;9930111J21Rik2;Psme2b\", \"Uba52;Ubb;Ubc\", \"Ablim1;AK041356\", \"Afap1l1;AK045591\", \"Adgrg1;AK199844\", \"AK162777;Aqp11\", \"AK034991;Atp2a2\", \"AK197085;BC023829\",\"Atp6v1a;BC050135\",\"AK042672;Ccdc88a\", \"AK187594;Ccnd2\", \"AK205023;Ccnd3\", \"AK158452;Cd34\", \"AK041755;Cdh1\", \"AK161456;Cfap45\", \"AK154184;Cyba\", \"AK161166;Emp2\", \"Eno1;Eno1b\", \"AK206280;Fbln1\",\"AK138361;Gbx2\", \"Galr3;Gcat\", \"AK211817;Gga2\", \"AK204506;Glmp\", \"AK154966;Glrx\", \"AK089379;Golgb1\", \"Atn1;Grcc10\", \"AK050736;Hadh\", \"AK039882;Hoxaas3\", \"AK051203;Ift81\", \"BC039192;Igfbp5\", \"BC024571;Itga6\", \"AK047175;Kit\", \"Hotairm1;KR231010\", \"AK218069;Laptm4b\",\"AK198029;Mapkapk2\", \"AK017779;Marcks\", \"AK043267;Mef2c\", \"Fam65a;Mir1966\", \"H19;Mir675\", \"Dst;Mir6896\", \"Atp6v0a1;Mir6928\", \"Actg1;Mir6935\", \"Dbn1;Mir6944\", \"Loxl2;Mir6950\", \"Lama5;Mir7005\", \"Anxa5;Mir7009\", \"Itpr3;Mir7677\", \"Glul;Mir8114\", \"AK217856;mKIAA1554\", \"BC106170;Mmd\", \"AK053895;Morc4\", \"Accn1/Mpped2;Mpped2\", \"AK134451;Myo6\", \"Acad11;Nphp3\", \"Mir1903;Nrp1\", \"Mir7025;Pdgfra\", \"Mir6945;Pdlim7\", \"AK020060;Peli3\", \"AK038736;Prrx1\", \"Mir6910;Ptbp1\", \"Mir7226;Ptprf\", \"AK160964;Rab8b\", \"Izumo1;Rasip1\",\"AK156971;Rbm47\", \"BC147413;Rdx\", \"AK163158;Renbp\", \"Ang;Rnase4\", \"Foxj1;Rnf157\", \"AK081204;Rragd\", \"AK201505;Sbk1\", \"AK219268;Sccpdh\", \"Mir5114;Scd2\", \"AK080469;Sgk3\", \"AK149461;Slc16a10\", \"Mir5625;Slc35f6\", \"Mrps6;Slc5a3\", \"Snhg4;Snora74a\", \"Snrpn;Snurf\", \"AK171586;Spint2\", \"Mir6997;Sptan1\", \"AK137356;Sptbn1\", \"Rpgr;Srpx\", \"Afmid;Syngr2\", \"Mir8108;Tacc1\", \"AF465519;Tagln2\", \"AK144056;Tgif1\", \"DQ724448;Tnks\", \"AK048185;Trim2\", \"AK035842;Unc5c\",\"Ramp2;Vps25\", \"Mir5129;Zeb2\", \"AK162078;Zfhx3\")\n",
    "good_names = c(\"Sox10\", \"Palm2\", \"Slc25a37\", \"Apoc4\", \"Gns\", \"Arap3\", \"Meg3\", \"Nebl\", \"Notch1\", \"Prnp\", \"Psme2b\", \"Ubc\", \"Ablim1\", \"Afap1l1\", \"Adgrg1\", \"Aqp11\", \"Atp2a2\", \"AK197085\", \"Atp6v1a\", \"Ccdc88a\", \"Ccnd2\", \"Ccnd3\", \"Cd34\", \"Cdh1\", \"Cfap45\", \"Cyba\", \"Emp2\", \"Eno1b\", \"Fbln1\", \"Gbx2\", \"Gcat\", \"Gga2\", \"Glmp\", \"Glrx\", \"Golgb1\", \"Grcc10\", \"Hadh\", \"Hoxaas3\", \"Ift81\", \"Igfbp5\", \"Itga6\", \"Kit\", \"KR231010\", \"Laptm4b\", \"Mapkapk2\", \"Marcks\", \"Mef2c\", \"Fam65a\", \"H19\", \"Dst\", \"Atp6v0a1\", \"Actg1\", \"Dbn1\", \"Loxl2\", \"Lama5\", \"Anxa5\", \"Itpr3\", \"Glul\", \"mKIAA1554\", \"Mmd\", \"Morc4\", \"Accn1\", \"Myo6\", \"Acad11\", \"Nrp1\", \"Pdgfra\", \"Pdlim7\", \"Peli3\", \"Prrx1\", \"Ptbp1\", \"Ptprf\", \"Rab8b\", \"Rasip1\", \"Rbm47\", \"Rdx\", \"Renbp\", \"Ang\", \"Foxj1\", \"Rragd\", \"Sbk1\", \"Sccpdh\", \"Scd2\", \"Sgk3\", \"Slc16a10\", \"Slc35f6\", \"Slc5a3\", \"Snora74a\", \"Snrpn\", \"Spint2\", \"Sptan1\", \"Sptbn1\", \"Srpx\", \"Syngr2\", \"Tacc1\", \"Tagln2\", \"Tgif1\", \"Tnks\", \"Trim2\", \"Unc5c\", \"Ramp2\", \"Zeb2\", \"Zfhx3\")\n",
    "names(good_names) = bad_names\n",
    "mm_genes = rownames(mm_mat@mat)\n",
    "mm_genes[mm_genes %in% names(good_names)] = good_names[mm_genes[mm_genes %in% names(good_names)]]\n",
    "rownames(mm_mat@mat) = mm_genes\n",
    "mm_genes = rownames(mm_mc@e_gc)\n",
    "mm_genes[mm_genes %in% names(good_names)] = good_names[mm_genes[mm_genes %in% names(good_names)]]\n",
    "rownames(mm_mc@e_gc) = mm_genes"
   ]
  },
  {
   "cell_type": "code",
   "execution_count": null,
   "id": "a52d902d",
   "metadata": {
    "ExecuteTime": {
     "end_time": "2022-10-31T06:17:49.053711Z",
     "start_time": "2022-10-31T06:16:20.666Z"
    }
   },
   "outputs": [],
   "source": [
    "rownames(mm_mat@mat) = toupper(rownames(mm_mat@mat))\n",
    "rownames(mm_mc@e_gc) = toupper(rownames(mm_mc@e_gc))"
   ]
  },
  {
   "cell_type": "code",
   "execution_count": null,
   "id": "326b0e41",
   "metadata": {
    "ExecuteTime": {
     "end_time": "2022-10-31T06:17:49.074591Z",
     "start_time": "2022-10-31T06:16:20.945Z"
    }
   },
   "outputs": [],
   "source": [
    "mm_rename = c(\n",
    "`AARS;AK087291` = \"AARS\",\n",
    "`ABCA1;AK054145` = \"ABCA1\",\n",
    "`ABCA2;MIR3087` = \"ABCA2\",\n",
    "`ABCC1;AK051594` = \"ABCC1\",\n",
    "`ABCF1;MIR877` = \"ABCF1\",\n",
    "`ABHD12;AK219995` = \"ABHD12\",\n",
    "`ABTB2;AK171548` = \"ABTB2\",\n",
    "`ACACA;AF374167;AK040794` = \"ACACA\",\n",
    "`ACAD9;AK172713` = \"ACAD9\",\n",
    "`ACAP2;AK035605;AK138537` = \"ACAP2\",\n",
    "`ACIN1;AK042374;MIR6948` = \"ACIN1\",\n",
    "`ACLY;MIR7116` = \"ACLY\",\n",
    "`ACRBP;ING4` = \"ACRBP\",\n",
    "`ACSL3;UTP14B` = \"ACSL3\",\n",
    "`ACTR10;AK162786` = \"ACTR10\",\n",
    "`ACTR1A;AK037171` = \"ACTR1A\",\n",
    "`ACTR5;MIR3474` = \"ACTR5\",\n",
    "`ACTR8;MIR6947` = \"ACTR8\",\n",
    "`ACVRL1;AK087308` = \"ACVRL1\",\n",
    "`ADAM1A;MAPKAPK5` = \"ADAM1A\",\n",
    "`ADAMTS15;AK142774` = \"ADAMTS15\",\n",
    "`ADAR;AK046616` = \"ADAR\",\n",
    "`ADAT3;MIR6912;SCAMP4` = \"ADAT3\",\n",
    "`ADI1;MIR6937` = \"ADI1\",\n",
    "`ADNP2;AK160320` = \"ADNP2\",\n",
    "`AEBP2;BC008224` = \"AEBP2\",\n",
    "`AFF4;MIR6920` = \"AFF4\",\n",
    "`AGRP;AK080383;AK086852` = \"AGRP\",\n",
    "`AHCTF1;AK164715` = \"AHCTF1\",\n",
    "`AIDA;BC004835` = \"AIDA\",\n",
    "`AK6;TAF9` = \"AK6\",\n",
    "`AK076839;AKAP7` = \"AKAP7\",\n",
    "`AK140926;AKIRIN2` = \"AKIRIN2\",\n",
    "`AK052576;AKR1B10` = \"AKR1B10\",\n",
    "`AKT1;MIR6939` = \"AKT1\",\n",
    "`AKT1S1;MIR707` = \"AKT1S1\",\n",
    "`ALDH4A1;MIR7020` = \"ALDH4A1\",\n",
    "`ALG10B;MIR7648` = \"ALG10B\",\n",
    "`AK038890;ALG6` = \"ALG6\",\n",
    "`AK036019;ALS2;MPP4` = \"ALS2\",\n",
    "`AK018092;AMMECR1` = \"AMMECR1\",\n",
    "`AMY1;RNPC3` = \"AMY1\",\n",
    "`AMZ2;LOC100503496` = \"AMZ2\",\n",
    "`AK037565;ANAPC16` = \"ANAPC16\",\n",
    "`ANK;MIR7117` = \"ANK\",\n",
    "`AK081244;ANK2` = \"ANK2\",\n",
    "`AK080941;ANKHD1;EIF4EBP3` = \"ANKHD1\",\n",
    "`ANKRD10;MIR7238` = \"ANKRD10\",\n",
    "`AK162540;ANKRD13A` = \"ANKRD13A\",\n",
    "`ANKRD23;ANKRD39` = \"ANKRD23\",\n",
    "`ANKRD52;MIR6914;MIR6915` = \"ANKRD52\",\n",
    "`AK048085;AP1S2` = \"AP1S2\",\n",
    "`AP2A2;MIR7063` = \"AP2A2\",\n",
    "`AK208745;AP2S1` = \"AP2S1\",\n",
    "`AK053432;APAF1` = \"APAF1\",\n",
    "`APBA3;MIR3057` = \"APBA3\",\n",
    "`AK189692;APH1A` = \"APH1A\",\n",
    "`AK078801;API5` = \"API5\",\n",
    "`AK086522;APOOL` = \"APOOL\",\n",
    "`AK006963;APOPT1` = \"APOPT1\",\n",
    "`AQR;MIR7002` = \"AQR\",\n",
    "`ARCN1;BC050874` = \"ARCN1\",\n",
    "`AREL1;DQ687186` = \"AREL1\",\n",
    "`AK087920;ARFGEF2` = \"ARFGEF2\",\n",
    "`ARFIP1;GLT28D2` = \"ARFIP1\",\n",
    "`ARHGAP11A;MKIAA0013` = \"ARHGAP11A\",\n",
    "`AK081590;ARHGAP17` = \"ARHGAP17\",\n",
    "`AK170551;ARHGAP18` = \"ARHGAP18\",\n",
    "`AK090226;ARHGAP24` = \"ARHGAP24\",\n",
    "`AK141759;ARHGAP5` = \"ARHGAP5\",\n",
    "`ARHGEF17;MIR3102` = \"ARHGEF17\",\n",
    "`AK052121;ARHGEF26` = \"ARHGEF26\",\n",
    "`AK053147;ARHGEF28` = \"ARHGEF28\",\n",
    "`AK036749;ARHGEF3` = \"ARHGEF3\",\n",
    "`AK082264;ARHGEF4` = \"ARHGEF4\",\n",
    "`AK047617;AK050838;ARIH1` = \"ARIH1\",\n",
    "`AK219587;ARL2` = \"ARL2\",\n",
    "`AK086056;ARL5B` = \"ARL5B\",\n",
    "`ARMCX3;MIR7093` = \"ARMCX3\",\n",
    "`ARNT;GM4349` = \"ARNT\",\n",
    "`ARRB2;MIR7115` = \"ARRB2\",\n",
    "`AK053501;ASAP1` = \"ASAP1\",\n",
    "`AK054105;ASH1L` = \"ASH1L\",\n",
    "`AK082277;ASPH` = \"ASPH\",\n",
    "`AK142135;ASXL2` = \"ASXL2\",\n",
    "`AK165013;ATAD2` = \"ATAD2\",\n",
    "`AK083791;ATAD2B` = \"ATAD2B\",\n",
    "`AK154077;ATAD3A` = \"ATAD3A\",\n",
    "`AK037964;ATF6` = \"ATF6\",\n",
    "`AK085328;AK184073;ATG13` = \"ATG13\",\n",
    "`AK086905;ATG4C` = \"ATG4C\",\n",
    "`ATL1;GM3086` = \"ATL1\",\n",
    "`AK085120;ATP10D` = \"ATP10D\",\n",
    "`AK178890;ATP1B3` = \"ATP1B3\",\n",
    "`ATP2B4;MIR6903` = \"ATP2B4\",\n",
    "`AK032255;ATP2C1` = \"ATP2C1\",\n",
    "`AK164124;ATP5J2` = \"ATP5J2\",\n",
    "`ATP6V0A4;D630045J12RIK` = \"ATP6V0A4\",\n",
    "`AK033254;ATP7A` = \"ATP7A\",\n",
    "`ATP9A;MIR7004` = \"ATP9A\",\n",
    "`AK040769;ATP9B` = \"ATP9B\",\n",
    "`AK220021;AU040320` = \"AU040320\",\n",
    "`AK148780;AW554918` = \"AW554918\",\n",
    "`AZIN1;MIR6951` = \"AZIN1\",\n",
    "`B2M;BC002288` = \"B2M\",\n",
    "`AK041466;B3GALNT2` = \"B3GALNT2\",\n",
    "`AK079723;B3GAT3` = \"B3GAT3\",\n",
    "`AK047272;BAHCC1` = \"BAHCC1\",\n",
    "`AK163598;BAZ1B` = \"BAZ1B\",\n",
    "`AK020711;BBIP1` = \"BBIP1\",\n",
    "`BC078455;BCDIN3D` = \"BCDIN3D\",\n",
    "`AK171687;BCL10` = \"BCL10\",\n",
    "`3110001I22RIK;BFAR` = \"BFAR\",\n",
    "`AK050809;BICD1` = \"BICD1\",\n",
    "`BIN2;MIR6961` = \"BIN2\",\n",
    "`AK142585;BMPR2` = \"BMPR2\",\n",
    "`AK191694;BOP1` = \"BOP1\",\n",
    "`AK041539;BPTF` = \"BPTF\",\n",
    "`BRD3;MIR7578` = \"BRD3\",\n",
    "`B4GAT1;BC115668;BRMS1` = \"BRMS1\",\n",
    "`BRSK2;MIR3104` = \"BRSK2\",\n",
    "`BC039798;BTBD10` = \"BTBD10\",\n",
    "`C2CD2;MIR6964` = \"C2CD2\",\n",
    "`AK168848;CAB39` = \"CAB39\",\n",
    "`AK084080;CABP1` = \"CABP1\",\n",
    "`CAMK2A;MIR6982` = \"CAMK2A\",\n",
    "`BC058197;CAPN3;GANC` = \"CAPN3\",\n",
    "`AK037694;CAR12` = \"CAR12\",\n",
    "`AK164905;CARF` = \"CARF\",\n",
    "`AK179044;CARHSP1` = \"CARHSP1\",\n",
    "`CARS;MIR7064` = \"CARS\",\n",
    "`AK165451;CASP6` = \"CASP6\",\n",
    "`AK030597;CBFA2T2` = \"CBFA2T2\",\n",
    "`CBX6;NPCD;NPTXR` = \"CBX6\",\n",
    "`AK039609;CCBL1` = \"CCBL1\",\n",
    "`AK084398;CCBL2` = \"CCBL2\",\n",
    "`AK141314;CCDC116` = \"CCDC116\",\n",
    "`AK029637;CCDC171` = \"CCDC171\",\n",
    "`B4GALT2;CCDC24` = \"CCDC24\",\n",
    "`AK005616;CCDC30` = \"CCDC30\",\n",
    "`AK161543;CCDC43` = \"CCDC43\",\n",
    "`AK053962;CCDC62` = \"CCDC62\",\n",
    "`4933409K07RIK;CCL27B;GM3893` = \"CCL27B\",\n",
    "`CCNF;MIR5134;MIR6965` = \"CCNF\",\n",
    "`AK148864;CCPG1` = \"CCPG1\",\n",
    "`AK153821;CCT7` = \"CCT7\",\n",
    "`AK018679;CD47` = \"CD47\",\n",
    "`AK047302;CDC123` = \"CDC123\",\n",
    "`AK050885;CDC14A` = \"CDC14A\",\n",
    "`CDC25A;MIR7089` = \"CDC25A\",\n",
    "`AK036410;CDCA4` = \"CDCA4\",\n",
    "`AK160323;CDCP1` = \"CDCP1\",\n",
    "`AK197603;CDHR4;IP6K1` = \"CDHR4\",\n",
    "`AK153988;CDIP1` = \"CDIP1\",\n",
    "`AK219648;CDK16` = \"CDK16\",\n",
    "`AK188991;CDK5RAP3` = \"CDK5RAP3\",\n",
    "`AK171187;CDK8` = \"CDK8\",\n",
    "`AK084689;CDKL5` = \"CDKL5\",\n",
    "`BC038906;CDS1` = \"CDS1\",\n",
    "`AK048941;CDV3` = \"CDV3\",\n",
    "`AK040291;CECR5` = \"CECR5\",\n",
    "`BC002221;CELF1` = \"CELF1\",\n",
    "`AK028960;CENPL` = \"CENPL\",\n",
    "`CEP170B;MIR6940` = \"CEP170B\",\n",
    "`BC058545;CEP95` = \"CEP95\",\n",
    "`BC094257;CFAP57` = \"CFAP57\",\n",
    "`AK219094;BC026933;CHAF1B` = \"CHAF1B\",\n",
    "`CHD4;MIR7045` = \"CHD4\",\n",
    "`AK149481;CHERP;MIR7068` = \"CHERP\",\n",
    "`BC020394;CHMP4C` = \"CHMP4C\",\n",
    "`AK012891;CHPF2;MIR671` = \"CHPF2\",\n",
    "`AK080931;CIAPIN1` = \"CIAPIN1\",\n",
    "`AK042831;CKLF` = \"CKLF\",\n",
    "`CLCF1;CLCF1-POLD4;POLD4` = \"CLCF1\",\n",
    "`AK140543;CLIP1` = \"CLIP1\",\n",
    "`CLK2;CLK2-SCAMP3;SCAMP3` = \"CLK2\",\n",
    "`AK034568;CLMP` = \"CLMP\",\n",
    "`CLN3;MIR7059` = \"CLN3\",\n",
    "`CLSPN;MIR7119` = \"CLSPN\",\n",
    "`AK213543;CLSTN3` = \"CLSTN3\",\n",
    "`CMIP;MIR7077;MIR7078` = \"CMIP\",\n",
    "`AK161079;CMTM8` = \"CMTM8\",\n",
    "`CNOT1;MIR7073` = \"CNOT1\",\n",
    "`AK031165;CNOT3;MIR3572` = \"CNOT3\",\n",
    "`CNTF;ZFP91;ZFP91CNTF` = \"CNTF\",\n",
    "`AK171117;COA4` = \"COA4\",\n",
    "`AK040321;AK090225;COG4` = \"COG4\",\n",
    "`COG8;PDF` = \"COG8\",\n",
    "`AK048202;COL11A1` = \"COL11A1\",\n",
    "`AK030308;COL20A1` = \"COL20A1\",\n",
    "`AK089137;COL26A1` = \"COL26A1\",\n",
    "`BC152372;COL5A1` = \"COL5A1\",\n",
    "`AK208648;COLGALT1` = \"COLGALT1\",\n",
    "`B3GNT2;COMMD1` = \"COMMD1\",\n",
    "`AK040095;COMMD10` = \"COMMD10\",\n",
    "`AK082333;COPS7B` = \"COPS7B\",\n",
    "`AK213804;COPZ2` = \"COPZ2\",\n",
    "`AK163399;COQ10B` = \"COQ10B\",\n",
    "`AK209947;COQ2` = \"COQ2\",\n",
    "`AK136420;COQ5` = \"COQ5\",\n",
    "`AK184225;CORO1B` = \"CORO1B\",\n",
    "`AK207499;CPE` = \"CPE\",\n",
    "`AK163089;CPEB3` = \"CPEB3\",\n",
    "`CPNE1;RBM12` = \"CPNE1\",\n",
    "`CPNE7;MIR7080` = \"CPNE7\",\n",
    "`AK086757;CREB3L2` = \"CREB3L2\",\n",
    "`AK051524;CRY2` = \"CRY2\",\n",
    "`AK135302;CS` = \"CS\",\n",
    "`CSF2RB;MIR7676-2` = \"CSF2RB\",\n",
    "`AK035451;CSNK1G1` = \"CSNK1G1\",\n",
    "`AK013192;CSNK1G2` = \"CSNK1G2\",\n",
    "`CSNK2B;LY6G5B` = \"CSNK2B\",\n",
    "`CSTF2;MIR3112` = \"CSTF2\",\n",
    "`CTDSP2;MIR26A-2;MIR546` = \"CTDSP2\",\n",
    "`AK008288;CTNNA1` = \"CTNNA1\",\n",
    "`CTNNB1;MIR7090` = \"CTNNB1\",\n",
    "`2210416O15RIK;CUEDC1;MRPS23` = \"CUEDC1\",\n",
    "`CUL4A;MIR7065` = \"CUL4A\",\n",
    "`AK030777;CWC27` = \"CWC27\",\n",
    "`AK208506;CXXC1` = \"CXXC1\",\n",
    "`CYB5R3;NADH-CYTOCHROME B5 REDUCTASE` = \"CYB5R3\",\n",
    "`AK181773;CYC1` = \"CYC1\",\n",
    "`CYP4V3;KLKB1` = \"CYP4V3\",\n",
    "`AK143184;CYTH1` = \"CYTH1\",\n",
    "`CLM2-C;CYTH2` = \"CYTH2\",\n",
    "`AK042406;CYTH3` = \"CYTH3\",\n",
    "`AK080982;CYYR1` = \"CYYR1\",\n",
    "`AK042276;D5ERTD579E` = \"D5ERTD579E\",\n",
    "`BC060616;D930016D06RIK` = \"D930016D06RIK\",\n",
    "`DANCR;SNORA26` = \"DANCR\",\n",
    "`DAZAP1;MIR6911` = \"DAZAP1\",\n",
    "`AK037484;DBNL` = \"DBNL\",\n",
    "`AK020987;DCAF8` = \"DCAF8\",\n",
    "`DCAKD;MIR6931` = \"DCAKD\",\n",
    "`AK086575;DCLRE1C` = \"DCLRE1C\",\n",
    "`AK048186;DCTN4` = \"DCTN4\",\n",
    "`DCTN5;PLK1` = \"DCTN5\",\n",
    "`DDHD1;MIR5131` = \"DDHD1\",\n",
    "`AK039979;DDHD2` = \"DDHD2\",\n",
    "`DDI2;RSC1A1` = \"DDI2\",\n",
    "`DDX5;MIR3064` = \"DDX5\",\n",
    "`DEDD2;MIR7048` = \"DEDD2\",\n",
    "`DENND4B;MIR7012` = \"DENND4B\",\n",
    "`AK054430;DENND5B` = \"DENND5B\",\n",
    "`DENND6B;MIR6958` = \"DENND6B\",\n",
    "`AK028705;DERL1` = \"DERL1\",\n",
    "`AK197965;DGCR2` = \"DGCR2\",\n",
    "`DGCR8;GM24572;MIR1306` = \"DGCR8\",\n",
    "`DGKZ;MIR6999` = \"DGKZ\",\n",
    "`AK136784;DHDDS` = \"DHDDS\",\n",
    "`DIAPH1;MIR6979` = \"DIAPH1\",\n",
    "`AK047263;DIP2B` = \"DIP2B\",\n",
    "`AK164019;DLG1` = \"DLG1\",\n",
    "`AK186759;DLST` = \"DLST\",\n",
    "`DMPK;MIR3100` = \"DMPK\",\n",
    "`AK163758;DNAJA1;MIR207` = \"DNAJA1\",\n",
    "`AK163592;DNAJA2` = \"DNAJA2\",\n",
    "`AK051586;DNAJC16` = \"DNAJC16\",\n",
    "`AK169115;DNAJC22` = \"DNAJC22\",\n",
    "`DNASE1L1;MIR7091` = \"DNASE1L1\",\n",
    "`DNMT1;MIR7081` = \"DNMT1\",\n",
    "`DOCK6;MIR7083` = \"DOCK6\",\n",
    "`DOHH;MIR6913` = \"DOHH\",\n",
    "`AK053023;DOPEY1` = \"DOPEY1\",\n",
    "`CCDC117;DQ541770` = \"DQ541770\",\n",
    "`DVL2;MIR324` = \"DVL2\",\n",
    "`DVL3;MKIAA0208` = \"DVL3\",\n",
    "`AK134750;DYNC1I2` = \"DYNC1I2\",\n",
    "`AK180240;DYNC1LI1` = \"DYNC1LI1\",\n",
    "`AK163127;DZIP3` = \"DZIP3\",\n",
    "`AK148204;E130317F20RIK` = \"E130317F20RIK\",\n",
    "`AK085296;E2F3` = \"E2F3\",\n",
    "`AK082641;EBF1` = \"EBF1\",\n",
    "`D4ERTD617E;EBNA1BP2` = \"EBNA1BP2\",\n",
    "`AK145162;ECHDC1` = \"ECHDC1\",\n",
    "`ECM1;MIR7014` = \"ECM1\",\n",
    "`AK164844;EDIL3` = \"EDIL3\",\n",
    "`AK202768;EDNRB` = \"EDNRB\",\n",
    "`AK088822;EFL1` = \"EFL1\",\n",
    "`AK076304;AK142782;EHD4` = \"EHD4\",\n",
    "`AK211100;EHMT2` = \"EHMT2\",\n",
    "`AK165336;EIF2B3` = \"EIF2B3\",\n",
    "`AK049618;EIF2S1` = \"EIF2S1\",\n",
    "`AK031304;EIF2S3X` = \"EIF2S3X\",\n",
    "`AK087340;EIF3A` = \"EIF3A\",\n",
    "`EIF3B;MIR7038` = \"EIF3B\",\n",
    "`AK090363;EIF4ENIF1` = \"EIF4ENIF1\",\n",
    "`AK039178;ELF2` = \"ELF2\",\n",
    "`AK164737;ELL2` = \"ELL2\",\n",
    "`ELOF1;MIR7084` = \"ELOF1\",\n",
    "`EMC1;UBR4` = \"EMC1\",\n",
    "`AK158068;EMC2` = \"EMC2\",\n",
    "`AK033552;EMC7` = \"EMC7\",\n",
    "`1190005I06RIK;EMC8;EMC8-1190005I06RIK` = \"EMC8\",\n",
    "`EME2;MAPK8IP3` = \"EME2\",\n",
    "`AK009395;EMSY` = \"EMSY\",\n",
    "`AK046689;ENPP2` = \"ENPP2\",\n",
    "`EP400;MIR7026` = \"EP400\",\n",
    "`AK047469;EPB41` = \"EPB41\",\n",
    "`EPC1;MIR1893` = \"EPC1\",\n",
    "`EPO;GNB2;MIR6418` = \"EPO\",\n",
    "`AK013890;EPRS` = \"EPRS\",\n",
    "`AK162681;BC057145;ERBB2IP` = \"ERBB2IP\",\n",
    "`ERCC2;MIR343` = \"ERCC2\",\n",
    "`AK163166;ERCC5` = \"ERCC5\",\n",
    "`AK033986;AK050437;ERCC6L2` = \"ERCC6L2\",\n",
    "`AK050228;ESCO1` = \"ESCO1\",\n",
    "`ESRRA;MIR6990` = \"ESRRA\",\n",
    "`ESYT1;MIR6916` = \"ESYT1\",\n",
    "`AK143671;ESYT2` = \"ESYT2\",\n",
    "`ETFB;MIR7051` = \"ETFB\",\n",
    "`AK018352;ETL4` = \"ETL4\",\n",
    "`AK009699;AK191425;EVI5L` = \"EVI5L\",\n",
    "`FADS1;MIR6993` = \"FADS1\",\n",
    "`AK036680;FAM126A` = \"FAM126A\",\n",
    "`AK208136;FAM129B` = \"FAM129B\",\n",
    "`AK172704;FAM133B` = \"FAM133B\",\n",
    "`AK083815;FAM169A` = \"FAM169A\",\n",
    "`AK034781;FAM172A` = \"FAM172A\",\n",
    "`AK083211;FAM175A` = \"FAM175A\",\n",
    "`AK158854;AK163824;FAM175B` = \"FAM175B\",\n",
    "`AK052876;FAM177A` = \"FAM177A\",\n",
    "`AK080972;FAM179B` = \"FAM179B\",\n",
    "`CCDC103;FAM187A` = \"FAM187A\",\n",
    "`AK163900;FAM193B` = \"FAM193B\",\n",
    "`AK080962;FAM208A` = \"FAM208A\",\n",
    "`AK171655;FAM210A;MIR7219` = \"FAM210A\",\n",
    "`FAM50A;MIR7092` = \"FAM50A\",\n",
    "`AK180852;FAM63A` = \"FAM63A\",\n",
    "`FARSA;MIR7069` = \"FARSA\",\n",
    "`AK190497;FASTK` = \"FASTK\",\n",
    "`FBRS;MIR7060` = \"FBRS\",\n",
    "`AK036072;FBXO36` = \"FBXO36\",\n",
    "`FBXO6;MIR7022` = \"FBXO6\",\n",
    "`AK135649;FBXW7` = \"FBXW7\",\n",
    "`FBXW9;MIR7070` = \"FBXW9\",\n",
    "`AK077979;FDPS` = \"FDPS\",\n",
    "`AK158431;FEN1` = \"FEN1\",\n",
    "`AK197994;FKBP4` = \"FKBP4\",\n",
    "`AK041008;FKBP7` = \"FKBP7\",\n",
    "`AK164636;FKRP` = \"FKRP\",\n",
    "`FLAD1;LENEP` = \"FLAD1\",\n",
    "`FNBP1L;MIR7657` = \"FNBP1L\",\n",
    "`FOXJ2;MIR7231` = \"FOXJ2\",\n",
    "`4933413G19RIK;FOXM1` = \"FOXM1\",\n",
    "`AK053772;FOXN3` = \"FOXN3\",\n",
    "`AK164460;FRK` = \"FRK\",\n",
    "`FSBP;RAD54B` = \"FSBP\",\n",
    "`AK078656;FUBP1` = \"FUBP1\",\n",
    "`FUBP3;MIR6998` = \"FUBP3\",\n",
    "`AK134717;FUS` = \"FUS\",\n",
    "`AK034234;FUT11` = \"FUT11\",\n",
    "`AK078788;FUT8` = \"FUT8\",\n",
    "`AK193268;FUZ` = \"FUZ\",\n",
    "`FXYD5;MIR7050` = \"FXYD5\",\n",
    "`AK031662;FYTTD1` = \"FYTTD1\",\n",
    "`AK034775;GABPB1` = \"GABPB1\",\n",
    "`AK020833;GALC` = \"GALC\",\n",
    "`AK079811;GALNT11` = \"GALNT11\",\n",
    "`AK008114;GAPVD1` = \"GAPVD1\",\n",
    "`AK136435;GATAD2B` = \"GATAD2B\",\n",
    "`AK162488;GCH1` = \"GCH1\",\n",
    "`GCN1L1;MIR7029` = \"GCN1L1\",\n",
    "`AK193543;GDE1` = \"GDE1\",\n",
    "`GEMIN4;GLOD4;VPS53` = \"GEMIN4\",\n",
    "`AK020100;AK044750;GFM2` = \"GFM2\",\n",
    "`GGA1;MIR6955` = \"GGA1\",\n",
    "`AK080939;GGACT` = \"GGACT\",\n",
    "`AK084588;GGNBP2` = \"GGNBP2\",\n",
    "`AK007605;GGPS1` = \"GGPS1\",\n",
    "`AK090372;GK5` = \"GK5\",\n",
    "`GLB1;TMPPE` = \"GLB1\",\n",
    "`AK043361;GLCE;MIR5133` = \"GLCE\",\n",
    "`BC020276;GLO1` = \"GLO1\",\n",
    "`AK029540;GLRX2` = \"GLRX2\",\n",
    "`AK134555;GMPS` = \"GMPS\",\n",
    "`AK218936;GNPTG` = \"GNPTG\",\n",
    "`5830417I10RIK;GON4L` = \"GON4L\",\n",
    "`AK137985;GOSR1` = \"GOSR1\",\n",
    "`GP1BB;SEPT5` = \"GP1BB\",\n",
    "`AK083420;GPBP1` = \"GPBP1\",\n",
    "`AK087597;GPCPD1` = \"GPCPD1\",\n",
    "`AK171956;GPI1` = \"GPI1\",\n",
    "`AK085277;GPR107` = \"GPR107\",\n",
    "`BHLHB9;GPRASP2` = \"GPRASP2\",\n",
    "`GRAP2;MIR6957` = \"GRAP2\",\n",
    "`AK219146;GRINA;MIR6953` = \"GRINA\",\n",
    "`GRK6;MIR6943` = \"GRK6\",\n",
    "`AK050859;GSPT2` = \"GSPT2\",\n",
    "`AK208069;GSTO1` = \"GSTO1\",\n",
    "`AK051837;GTF2F2` = \"GTF2F2\",\n",
    "`GUCY1A3;MIR7010` = \"GUCY1A3\",\n",
    "`AK131644;H13` = \"H13\",\n",
    "`C920025E04RIK;H2-T23` = \"H2-T23\",\n",
    "`HAUS3;POLN` = \"HAUS3\",\n",
    "`HAUS5;RBM42` = \"HAUS5\",\n",
    "`AK177718;HCN3` = \"HCN3\",\n",
    "`HDAC5;MIR8101` = \"HDAC5\",\n",
    "`AK184064;HEATR1` = \"HEATR1\",\n",
    "`HEATR3;MIR7071` = \"HEATR3\",\n",
    "`AK169555;HEATR5A` = \"HEATR5A\",\n",
    "`HELZ;MIR6932` = \"HELZ\",\n",
    "`AK177772;HERC3` = \"HERC3\",\n",
    "`AK029757;HERC6` = \"HERC6\",\n",
    "`AK043046;HERPUD2` = \"HERPUD2\",\n",
    "`AK042028;AK148386;HIBADH` = \"HIBADH\",\n",
    "`AK167360;HINFP` = \"HINFP\",\n",
    "`AK020853;HIP1` = \"HIP1\",\n",
    "`HIP1R;MIR7032` = \"HIP1R\",\n",
    "`HIPK3;MIR1902` = \"HIPK3\",\n",
    "`HIST3H2A;TRIM17` = \"HIST3H2A\",\n",
    "`A730008H23RIK;HJURP` = \"HJURP\",\n",
    "`AK169790;HMBOX1` = \"HMBOX1\",\n",
    "`AK088542;AK140594;HMG20A` = \"HMG20A\",\n",
    "`AK199756;HMGA1-RS1` = \"HMGA1-RS1\",\n",
    "`AK156477;HNRNPH3` = \"HNRNPH3\",\n",
    "`AK034420;HNRNPLL` = \"HNRNPLL\",\n",
    "`AK163898;BC025019;HOOK1` = \"HOOK1\",\n",
    "`AK035649;HOOK3` = \"HOOK3\",\n",
    "`HOXD3;HOXD4` = \"HOXD3\",\n",
    "`AK189100;HPCAL1` = \"HPCAL1\",\n",
    "`AK179850;HPS4` = \"HPS4\",\n",
    "`AK165181;HS2ST1` = \"HS2ST1\",\n",
    "`AK081730;HSF1` = \"HSF1\",\n",
    "`AK076668;AK076683;HSPA12A` = \"HSPA12A\",\n",
    "`AK038627;HSPA4` = \"HSPA4\",\n",
    "`HSPG2;MIR7018` = \"HSPG2\",\n",
    "`BC047460;HUS1` = \"HUS1\",\n",
    "`HUWE1;MIR3113` = \"HUWE1\",\n",
    "`HYAL1;HYAL3;NAT6` = \"HYAL1\",\n",
    "`AK085137;ICE2` = \"ICE2\",\n",
    "`AK087158;IFNGR2` = \"IFNGR2\",\n",
    "`AK135399;IFT80` = \"IFT80\",\n",
    "`IGF2BP1;MIR3063` = \"IGF2BP1\",\n",
    "`IGFLR1;U2AF1L4` = \"IGFLR1\",\n",
    "`AK048446;IKBKG` = \"IKBKG\",\n",
    "`AK156075;IMMP1L` = \"IMMP1L\",\n",
    "`AK052920;IMMT` = \"IMMT\",\n",
    "`AK054245;IMPA2` = \"IMPA2\",\n",
    "`AK003208;IMPAD1` = \"IMPAD1\",\n",
    "`AK051424;INPP4A` = \"INPP4A\",\n",
    "`INPP5B;MIR698` = \"INPP5B\",\n",
    "`AK084148;INSR` = \"INSR\",\n",
    "`INTS1;MIR7037` = \"INTS1\",\n",
    "`AK041758;INTS6` = \"INTS6\",\n",
    "`AK040233;INTU` = \"INTU\",\n",
    "`AK057615;IP6K2` = \"IP6K2\",\n",
    "`AK076771;AK171355;IPMK` = \"IPMK\",\n",
    "`AK048477;IPO7` = \"IPO7\",\n",
    "`BC096455;IQSEC1` = \"IQSEC1\",\n",
    "`IRAK1;MIR5132;MIR718` = \"IRAK1\",\n",
    "`A130010J15RIK;IRF6` = \"IRF6\",\n",
    "`IGTP;IRGM2` = \"IRGM2\",\n",
    "`AK143659;ISCA1` = \"ISCA1\",\n",
    "`AK044859;ISM1` = \"ISM1\",\n",
    "`ISPD;MIR3472` = \"ISPD\",\n",
    "`AK080189;ITCH` = \"ITCH\",\n",
    "`AK141523;ITFG1` = \"ITFG1\",\n",
    "`ITGA1;PELO` = \"ITGA1\",\n",
    "`ITGA5;MIR6963` = \"ITGA5\",\n",
    "`AK161014;ITGA9` = \"ITGA9\",\n",
    "`AK028530;ITIH5` = \"ITIH5\",\n",
    "`AK210908;ITM2C` = \"ITM2C\",\n",
    "`AK085827;ITPR1` = \"ITPR1\",\n",
    "`CFAP43;ITPRIP` = \"ITPRIP\",\n",
    "`AK039248;ITSN1` = \"ITSN1\",\n",
    "`AK084166;JAK2` = \"JAK2\",\n",
    "`GM28042;JMJD7;PLA2G4B` = \"JMJD7\",\n",
    "`AK184869;JOSD1` = \"JOSD1\",\n",
    "`JOSD2;MIR7052` = \"JOSD2\",\n",
    "`AK006748;JUNB` = \"JUNB\",\n",
    "`KANSL3;MIR6898` = \"KANSL3\",\n",
    "`KAT6B;MKIAA0383` = \"KAT6B\",\n",
    "`KATNBL1;SLC12A6` = \"KATNBL1\",\n",
    "`AK084157;KCMF1` = \"KCMF1\",\n",
    "`BC054394;KCNB1` = \"KCNB1\",\n",
    "`AK045670;KCTD20` = \"KCTD20\",\n",
    "`AK052073;KDM2A` = \"KDM2A\",\n",
    "`AK162857;KDM3B` = \"KDM3B\",\n",
    "`AK137868;KDM4C` = \"KDM4C\",\n",
    "`AK038178;KDM5C` = \"KDM5C\",\n",
    "`AK171712;KDM6A` = \"KDM6A\",\n",
    "`AK037411;KHDRBS1` = \"KHDRBS1\",\n",
    "`KIF17;SH2D5` = \"KIF17\",\n",
    "`AK165388;KIF18B` = \"KIF18B\",\n",
    "`KIF1C;MIR6925` = \"KIF1C\",\n",
    "`BC115444;KIF26A` = \"KIF26A\",\n",
    "`KIF27;MIR6369` = \"KIF27\",\n",
    "`AK142028;KIF2A` = \"KIF2A\",\n",
    "`AK181663;KIF3C` = \"KIF3C\",\n",
    "`AB349069;KIF4` = \"KIF4\",\n",
    "`AK017434;KIF5B` = \"KIF5B\",\n",
    "`GM27740;KIFC1` = \"KIFC1\",\n",
    "`GM27740;KIFC5B` = \"KIFC5B\",\n",
    "`AK021307;KLF12` = \"KLF12\",\n",
    "`KLF7;MIR6899` = \"KLF7\",\n",
    "`AK163755;KLHL12` = \"KLHL12\",\n",
    "`KLHL17;MIR7658` = \"KLHL17\",\n",
    "`AK020239;KLHL2` = \"KLHL2\",\n",
    "`AK012046;KLHL22` = \"KLHL22\",\n",
    "`AK033339;KMT2C` = \"KMT2C\",\n",
    "`AK154113;KMT2E` = \"KMT2E\",\n",
    "`KRCC1;MIR8112` = \"KRCC1\",\n",
    "`AK046128;AK050470;KRIT1` = \"KRIT1\",\n",
    "`AK197180;L3MBTL2` = \"L3MBTL2\",\n",
    "`AK080275;LAMTOR1` = \"LAMTOR1\",\n",
    "`AK171116;LAPTM5` = \"LAPTM5\",\n",
    "`LARP1B;LARP2` = \"LARP2\",\n",
    "`LARP4B;MKIAA0217` = \"LARP4B\",\n",
    "`LAT;MIR7058` = \"LAT\",\n",
    "`AK137436;AK164272;LATS2;XPO4` = \"LATS2\",\n",
    "`1810009A15RIK;LBHD1` = \"LBHD1\",\n",
    "`AK088578;LCK;MIR8119` = \"LCK\",\n",
    "`AK135185;LDLRAD3` = \"LDLRAD3\",\n",
    "`LENG1;TMC4` = \"LENG1\",\n",
    "`LIME1;ZGPAT` = \"LIME1\",\n",
    "`AK042206;LIMK2` = \"LIMK2\",\n",
    "`AK075667;LIMS1` = \"LIMS1\",\n",
    "`AK044904;LIN28B` = \"LIN28B\",\n",
    "`AK158015;LMAN2L` = \"LMAN2L\",\n",
    "`AK079263;LMNB1` = \"LMNB1\",\n",
    "`AK052938;LMO7` = \"LMO7\",\n",
    "`AK089903;LNPEP` = \"LNPEP\",\n",
    "`AK054507;LPCAT3` = \"LPCAT3\",\n",
    "`AK155917;AK170106;LPL` = \"LPL\",\n",
    "`GM20605;LRCH4` = \"LRCH4\",\n",
    "`LRFN1;MIR466F-2` = \"LRFN1\",\n",
    "`LRIG1;MIR7041` = \"LRIG1\",\n",
    "`C030006K11RIK;LRRC24` = \"LRRC24\",\n",
    "`AK034926;LRRCC1` = \"LRRCC1\",\n",
    "`LRRK1;MIR7057` = \"LRRK1\",\n",
    "`AB346293;LUZP1` = \"LUZP1\",\n",
    "`AK028130;MAGI2` = \"MAGI2\",\n",
    "`AK172081;MALT1` = \"MALT1\",\n",
    "`AK207524;MAMDC4` = \"MAMDC4\",\n",
    "`AK145396;MAML3` = \"MAML3\",\n",
    "`MAP4K2;MIR6989` = \"MAP4K2\",\n",
    "`AK160977;MAPK1` = \"MAPK1\",\n",
    "`MAPK8IP1;MIR7000` = \"MAPK8IP1\",\n",
    "`AK141018;MAPKAP1` = \"MAPKAP1\",\n",
    "`AK088734;MAPRE2` = \"MAPRE2\",\n",
    "`AK086418;AK140266;MAST2` = \"MAST2\",\n",
    "`AK083567;MATR3` = \"MATR3\",\n",
    "`AK028708;MAVS` = \"MAVS\",\n",
    "`AK035891;MBD2` = \"MBD2\",\n",
    "`AK165076;MBTD1` = \"MBTD1\",\n",
    "`GM38671;MCF2L` = \"MCF2L\",\n",
    "`AK213359;MCL1` = \"MCL1\",\n",
    "`AK086212;MCM9` = \"MCM9\",\n",
    "`AK008732;MCOLN1` = \"MCOLN1\",\n",
    "`AK046369;MDH1` = \"MDH1\",\n",
    "`AK171786;ME2` = \"ME2\",\n",
    "`AK044326;MED15` = \"MED15\",\n",
    "`AK139430;MED19` = \"MED19\",\n",
    "`AK182522;MED22` = \"MED22\",\n",
    "`MED23;MIR6905` = \"MED23\",\n",
    "`2310045N01RIK-MEF2B;BORCS8;MEF2B` = \"MEF2B\",\n",
    "`AK048803;BC055065;MELK` = \"MELK\",\n",
    "`AK033228;MEMO1` = \"MEMO1\",\n",
    "`METHIG1;METTL7A2` = \"METTL7A2\",\n",
    "`AK048893;MFN1` = \"MFN1\",\n",
    "`AK007898;MFSD11` = \"MFSD11\",\n",
    "`AK084485;MFSD8` = \"MFSD8\",\n",
    "`AK132911;MGA` = \"MGA\",\n",
    "`MGAT4B;MIR6919` = \"MGAT4B\",\n",
    "`BC147260;MGEA5` = \"MGEA5\",\n",
    "`AK047455;AK080083;MIB1` = \"MIB1\",\n",
    "`AK172662;MKLN1` = \"MKLN1\",\n",
    "`AK193649;AK218719;MLF2` = \"MLF2\",\n",
    "`MIR6938;MLH3` = \"MLH3\",\n",
    "`MIR6927;MLLT6` = \"MLLT6\",\n",
    "`MIR5116;MMGT1` = \"MMGT1\",\n",
    "`AK038160;AK086766;MNAT1` = \"MNAT1\",\n",
    "`AK010878;GM20604;MOAP1` = \"MOAP1\",\n",
    "`AK031053;AK046278;MOB1B` = \"MOB1B\",\n",
    "`AK165532;MOB4` = \"MOB4\",\n",
    "`AK008044;MPC2` = \"MPC2\",\n",
    "`AK086065;MPLKIP` = \"MPLKIP\",\n",
    "`AK053061;MPRIP` = \"MPRIP\",\n",
    "`GTF3C2;MPV17` = \"MPV17\",\n",
    "`AK211096;MIR6954;MROH1` = \"MROH1\",\n",
    "`AK137098;MRPL16` = \"MRPL16\",\n",
    "`MIR6984;MRPL21` = \"MRPL21\",\n",
    "`AK043013;MRPL33` = \"MRPL33\",\n",
    "`AK077636;MRPL48` = \"MRPL48\",\n",
    "`CCDC142;MRPL53` = \"MRPL53\",\n",
    "`AK184299;MRPS2` = \"MRPS2\",\n",
    "`AK163891;MSI2` = \"MSI2\",\n",
    "`CMC4;MTCP1` = \"MTCP1\",\n",
    "`AK156119;MTDH` = \"MTDH\",\n",
    "`AK020320;MTERF1A` = \"MTERF1A\",\n",
    "`AK140018;MTG1` = \"MTG1\",\n",
    "`AK149842;MTHFSL` = \"MTHFSL\",\n",
    "`AK051928;MTIF2` = \"MTIF2\",\n",
    "`AK047347;MTMR12` = \"MTMR12\",\n",
    "`AK054411;MTMR6` = \"MTMR6\",\n",
    "`AK030697;AK031070;MTPAP` = \"MTPAP\",\n",
    "`AK134122;MTSS1` = \"MTSS1\",\n",
    "`AK148841;MTUS2` = \"MTUS2\",\n",
    "`MIR7003;MYBL2` = \"MYBL2\",\n",
    "`AK158496;MYCBP2` = \"MYCBP2\",\n",
    "`AK048516;MYO9A` = \"MYO9A\",\n",
    "`AK047481;AK165798;MZT1` = \"MZT1\",\n",
    "`AK163846;NAA15` = \"NAA15\",\n",
    "`AK089209;NAA40` = \"NAA40\",\n",
    "`AK051368;NAGK` = \"NAGK\",\n",
    "`AK044668;NAGLU` = \"NAGLU\",\n",
    "`AK079778;NARF` = \"NARF\",\n",
    "`AK045578;MIR6966;NARFL` = \"NARFL\",\n",
    "`AK162036;NARS2` = \"NARS2\",\n",
    "`AK158038;MIR1231;NAV1` = \"NAV1\",\n",
    "`AK088944;NAV2` = \"NAV2\",\n",
    "`AK041465;NBEAL1` = \"NBEAL1\",\n",
    "`MIR8107;NBEAL2` = \"NBEAL2\",\n",
    "`MIR7066;NCAN` = \"NCAN\",\n",
    "`AK153603;NCAPH2` = \"NCAPH2\",\n",
    "`AK081669;NCBP3` = \"NCBP3\",\n",
    "`AK191809;NCDN` = \"NCDN\",\n",
    "`AK159995;NCEH1` = \"NCEH1\",\n",
    "`AK051854;NCK1` = \"NCK1\",\n",
    "`AK217931;NCKIPSD` = \"NCKIPSD\",\n",
    "`AK148704;NCOR1` = \"NCOR1\",\n",
    "`AK036016;NDRG3` = \"NDRG3\",\n",
    "`MIR6900;NDUFA10` = \"NDUFA10\",\n",
    "`AK165361;NDUFB5` = \"NDUFB5\",\n",
    "`AF357446;NECAP1` = \"NECAP1\",\n",
    "`AK049625;NEK1` = \"NEK1\",\n",
    "`MIR7024;NELFA` = \"NELFA\",\n",
    "`AK086223;NEO1` = \"NEO1\",\n",
    "`AK162785;NF1` = \"NF1\",\n",
    "`BC098488;NFAT5` = \"NFAT5\",\n",
    "`MIR3094;NFX1` = \"NFX1\",\n",
    "`AK145289;NFXL1` = \"NFXL1\",\n",
    "`AK044874;MIR6918;NIPSNAP1` = \"NIPSNAP1\",\n",
    "`AK192501;NKIRAS2` = \"NKIRAS2\",\n",
    "`AK052484;NKTR` = \"NKTR\",\n",
    "`MED12;NLGN3` = \"NLGN3\",\n",
    "`AK157890;NMD3` = \"NMD3\",\n",
    "`MRPS34;NME3` = \"NME3\",\n",
    "`AK169549;NMT1` = \"NMT1\",\n",
    "`ATF7;NPFF` = \"NPFF\",\n",
    "`AK165476;NQO2` = \"NQO2\",\n",
    "`AK179066;NR1D1` = \"NR1D1\",\n",
    "`AK029258;NR2C1` = \"NR2C1\",\n",
    "`AK207580;NRBP1` = \"NRBP1\",\n",
    "`AK138781;MIR761;NRD1` = \"NRD1\",\n",
    "`AK032800;NRDE2` = \"NRDE2\",\n",
    "`AK052414;AK165104;NRG1` = \"NRG1\",\n",
    "`ALKBH1;NRP` = \"NRP\",\n",
    "`AK020365;NRXN3` = \"NRXN3\",\n",
    "`AK160502;AK171782;NSF` = \"NSF\",\n",
    "`AK168779;AK185556;NTMT1` = \"NTMT1\",\n",
    "`AK053689;NTNG1` = \"NTNG1\",\n",
    "`6530402F18RIK;NTNG2` = \"NTNG2\",\n",
    "`DOC2G;NUDT8` = \"NUDT8\",\n",
    "`AK164313;NUMB` = \"NUMB\",\n",
    "`AK035606;NUP153` = \"NUP153\",\n",
    "`MIR7674;NUP214` = \"NUP214\",\n",
    "`AK138064;NUP98` = \"NUP98\",\n",
    "`AK164404;NVL` = \"NVL\",\n",
    "`AK021362;NXPE4` = \"NXPE4\",\n",
    "`MIR1982;OAZ1` = \"OAZ1\",\n",
    "`AK044488;OCRL` = \"OCRL\",\n",
    "`AK044594;ODF2L` = \"ODF2L\",\n",
    "`AK088779;AK155856;OGDH` = \"OGDH\",\n",
    "`AK169984;OMA1` = \"OMA1\",\n",
    "`AK017845;OSTC` = \"OSTC\",\n",
    "`AK153427;P2RX4` = \"P2RX4\",\n",
    "`AK202516;P4HB` = \"P4HB\",\n",
    "`AK216671;PACS2` = \"PACS2\",\n",
    "`AK162339;PAFAH1B1` = \"PAFAH1B1\",\n",
    "`AK011326;PAFAH1B2` = \"PAFAH1B2\",\n",
    "`AK183756;PAIP2B` = \"PAIP2B\",\n",
    "`MIR7049;PAK4` = \"PAK4\",\n",
    "`AK163478;PALM` = \"PALM\",\n",
    "`AK080698;PAM16` = \"PAM16\",\n",
    "`MIR6904;PARP1` = \"PARP1\",\n",
    "`MIR6994;PATL1` = \"PATL1\",\n",
    "`GM11944;PATZ1` = \"PATZ1\",\n",
    "`AK047243;AK080416;PAX6` = \"PAX6\",\n",
    "`AK136986;PAXIP1` = \"PAXIP1\",\n",
    "`AK043218;PBRM1` = \"PBRM1\",\n",
    "`AK037592;BC023320;PCNP` = \"PCNP\",\n",
    "`MIR6987;PCNX3` = \"PCNX3\",\n",
    "`IGSF5;PCP4` = \"PCP4\",\n",
    "`AK196096;PCSK7` = \"PCSK7\",\n",
    "`CDK17;PCTK2` = \"PCTK2\",\n",
    "`AK192600;PCYT2` = \"PCYT2\",\n",
    "`AK030496;PDCD11` = \"PDCD11\",\n",
    "`MIR7672;PDE12` = \"PDE12\",\n",
    "`AK082113;PDE1C` = \"PDE1C\",\n",
    "`AK031066;MIR7225;PDE4DIP` = \"PDE4DIP\",\n",
    "`AK044493;PDE6A` = \"PDE6A\",\n",
    "`MIR704;PDIA4` = \"PDIA4\",\n",
    "`AK164564;PDLIM3` = \"PDLIM3\",\n",
    "`AK034707;PDLIM5` = \"PDLIM5\",\n",
    "`AK049501;PDS5A` = \"PDS5A\",\n",
    "`AK037139;PDSS2` = \"PDSS2\",\n",
    "`MIR6908;PDXK` = \"PDXK\",\n",
    "`AK159017;PDZD2` = \"PDZD2\",\n",
    "`AK172478;PEAK1` = \"PEAK1\",\n",
    "`AK030382;PER3` = \"PER3\",\n",
    "`AK087918;PEX13` = \"PEX13\",\n",
    "`AK053868;PEX7` = \"PEX7\",\n",
    "`C4BP-PS1;PFKFB2` = \"PFKFB2\",\n",
    "`AK008812;PFKL` = \"PFKL\",\n",
    "`AK043676;PFKP` = \"PFKP\",\n",
    "`FAM129C;PGLS` = \"PGLS\",\n",
    "`AK164085;PGM2L1` = \"PGM2L1\",\n",
    "`MIR6933;PGS1` = \"PGS1\",\n",
    "`AK013935;PHACTR4` = \"PHACTR4\",\n",
    "`AK085172;PHF20` = \"PHF20\",\n",
    "`AK050084;PHF21A` = \"PHF21A\",\n",
    "`BC048859;PHF21B` = \"PHF21B\",\n",
    "`AK048498;PHIP` = \"PHIP\",\n",
    "`AK215772;PI4K2A` = \"PI4K2A\",\n",
    "`AK085498;PI4KA` = \"PI4KA\",\n",
    "`AK052150;MIR7013;PI4KB` = \"PI4KB\",\n",
    "`AK187989;PIAS1` = \"PIAS1\",\n",
    "`AK163129;PICALM` = \"PICALM\",\n",
    "`AK034716;AK161911;PIGB` = \"PIGB\",\n",
    "`9230116L04RIK;PIGH` = \"PIGH\",\n",
    "`AK208502;PIGS` = \"PIGS\",\n",
    "`AK137786;PIGU` = \"PIGU\",\n",
    "`MIR7023;PIK3CD` = \"PIK3CD\",\n",
    "`AK180077;MIR7019;PINK1` = \"PINK1\",\n",
    "`AK053335;PITPNC1` = \"PITPNC1\",\n",
    "`AK077832;PKN2` = \"PKN2\",\n",
    "`AK136612;PLAGL2` = \"PLAGL2\",\n",
    "`AK044842;PLCB4` = \"PLCB4\",\n",
    "`AK169777;PLCG1` = \"PLCG1\",\n",
    "`PARP10;PLEC` = \"PLEC\",\n",
    "`MIR7061;PLEKHA1` = \"PLEKHA1\",\n",
    "`BC010246;PLEKHA5` = \"PLEKHA5\",\n",
    "`AK020645;PLEKHA6` = \"PLEKHA6\",\n",
    "`AK172714;PLEKHO2` = \"PLEKHO2\",\n",
    "`MIR702;PLOD3` = \"PLOD3\",\n",
    "`MIR6909;PLPP2` = \"PLPP2\",\n",
    "`MIR7118;PLXNB2` = \"PLXNB2\",\n",
    "`BC049922;PM20D1` = \"PM20D1\",\n",
    "`BC083502;PMS2;RSPH10B` = \"PMS2\",\n",
    "`AK158483;PNKD` = \"PNKD\",\n",
    "`GM2027;PNPLA8` = \"PNPLA8\",\n",
    "`AK076379;POGLUT1` = \"POGLUT1\",\n",
    "`AK041282;POGZ` = \"POGZ\",\n",
    "`MIR7053;POLD1` = \"POLD1\",\n",
    "`AK041502;POLH` = \"POLH\",\n",
    "`AK028255;POLR1A` = \"POLR1A\",\n",
    "`AK037264;POLR3G` = \"POLR3G\",\n",
    "`MIR7033;POM121` = \"POM121\",\n",
    "`AK164146;PPA2` = \"PPA2\",\n",
    "`AK085695;PPAN` = \"PPAN\",\n",
    "`AK165756;PPFIA3` = \"PPFIA3\",\n",
    "`AK053727;PPM1D` = \"PPM1D\",\n",
    "`AK046962;PPM1E` = \"PPM1E\",\n",
    "`MIR8104;PPM1H` = \"PPM1H\",\n",
    "`AK182655;PPP1CA` = \"PPP1CA\",\n",
    "`AK204461;PPP1R16A` = \"PPP1R16A\",\n",
    "`AK135544;PPP1R2` = \"PPP1R2\",\n",
    "`MIR6902;PPP1R7` = \"PPP1R7\",\n",
    "`AF050165;PPP2R3A` = \"PPP2R3A\",\n",
    "`AK012478;PPP2R5C` = \"PPP2R5C\",\n",
    "`AK010244;PPP2R5E` = \"PPP2R5E\",\n",
    "`AK082990;PPP3CA` = \"PPP3CA\",\n",
    "`BC049860;PPP3CB` = \"PPP3CB\",\n",
    "`AK047187;PPP4R1L-PS` = \"PPP4R1L-PS\",\n",
    "`MIR7021;PRDM2` = \"PRDM2\",\n",
    "`AK037230;PRKCA` = \"PRKCA\",\n",
    "`MIR7008;PRKCI` = \"PRKCI\",\n",
    "`AK037072;PRKRA` = \"PRKRA\",\n",
    "`MIR678;PRMT2` = \"PRMT2\",\n",
    "`AK142573;PRMT3` = \"PRMT3\",\n",
    "`MIPOL1;PRPS1L3` = \"PRPS1L3\",\n",
    "`AK198990;PRRC1` = \"PRRC1\",\n",
    "`AK021383;PRRC2C` = \"PRRC2C\",\n",
    "`AK082182;PRUNE` = \"PRUNE\",\n",
    "`AK046830;PRUNE2` = \"PRUNE2\",\n",
    "`AK218851;PSKH1` = \"PSKH1\",\n",
    "`MIR686;PSMB5` = \"PSMB5\",\n",
    "`AK158379;PSMD7` = \"PSMD7\",\n",
    "`AK163075;PSME4` = \"PSME4\",\n",
    "`MIR6929;PTGES3L` = \"PTGES3L\",\n",
    "`AK033693;PTGR2` = \"PTGR2\",\n",
    "`AK052252;PTK2` = \"PTK2\",\n",
    "`AK033818;PTPN13` = \"PTPN13\",\n",
    "`MIR6977;PTPRS` = \"PTPRS\",\n",
    "`AK017552;PUS3` = \"PUS3\",\n",
    "`AK042478;PXK` = \"PXK\",\n",
    "`AK190918;PYCR2` = \"PYCR2\",\n",
    "`AK019237;PYCRL` = \"PYCRL\",\n",
    "`AK083075;PYGL` = \"PYGL\",\n",
    "`AK034260;R3HDM1` = \"R3HDM1\",\n",
    "`AK046250;R3HDM2;UNKNOWN` = \"R3HDM2\",\n",
    "`C030046I01RIK;R3HDM4` = \"R3HDM4\",\n",
    "`AK045299;RAB10` = \"RAB10\",\n",
    "`MIR705;RAB11FIP5` = \"RAB11FIP5\",\n",
    "`AK081084;RAB12` = \"RAB12\",\n",
    "`AK166863;RAB14` = \"RAB14\",\n",
    "`AK215051;RAB1B` = \"RAB1B\",\n",
    "`AK215452;RAB28` = \"RAB28\",\n",
    "`MIR7030;RAB35` = \"RAB35\",\n",
    "`AK033756;RAB3IL1` = \"RAB3IL1\",\n",
    "`MIR3101;RAB4B` = \"RAB4B\",\n",
    "`AK215907;RAB8A` = \"RAB8A\",\n",
    "`MIR7046;RABAC1` = \"RABAC1\",\n",
    "`AK018405;RABEPK` = \"RABEPK\",\n",
    "`AK198271;RAD54L` = \"RAD54L\",\n",
    "`B230118H07RIK;RAG1` = \"RAG1\",\n",
    "`A;AK172452;RALY` = \"RALY\",\n",
    "`AK158301;RANBP2` = \"RANBP2\",\n",
    "`AK136606;AK162741;RAPGEF6` = \"RAPGEF6\",\n",
    "`MIR7035;RASA4` = \"RASA4\",\n",
    "`MIR7043;RASSF4` = \"RASSF4\",\n",
    "`AK047433;RBBP8` = \"RBBP8\",\n",
    "`AK193180;RBCK1` = \"RBCK1\",\n",
    "`AK165270;RBM25` = \"RBM25\",\n",
    "`GM17066;RBM26` = \"RBM26\",\n",
    "`GM21992;RBM14;RBM4` = \"RBM4\",\n",
    "`AK165223;RBM43` = \"RBM43\",\n",
    "`AK078712;RBM6` = \"RBM6\",\n",
    "`AK217348;RBM7` = \"RBM7\",\n",
    "`AK164362;RBPJ` = \"RBPJ\",\n",
    "`MIR700;RCAN3` = \"RCAN3\",\n",
    "`MIR6986;RCE1` = \"RCE1\",\n",
    "`AK164610;RCOR3` = \"RCOR3\",\n",
    "`AK020768;RCSD1` = \"RCSD1\",\n",
    "`AK161684;REEP3` = \"REEP3\",\n",
    "`AK172490;REL` = \"REL\",\n",
    "`BC051552;REM1` = \"REM1\",\n",
    "`AK148626;REV3L` = \"REV3L\",\n",
    "`AK039275;AK164470;RFWD2` = \"RFWD2\",\n",
    "`AK037735;RFX3` = \"RFX3\",\n",
    "`MIR3097;RGS12` = \"RGS12\",\n",
    "`AK170033;RHOA` = \"RHOA\",\n",
    "`BC055823;RHOT1` = \"RHOT1\",\n",
    "`DQ267101;RIAN` = \"RIAN\",\n",
    "`AK054308;RIOK3` = \"RIOK3\",\n",
    "`AK040948;AK041619;RMDN1` = \"RMDN1\",\n",
    "`0610010K14RIK;RNASEK` = \"RNASEK\",\n",
    "`GM1604B;RNASET2B` = \"RNASET2B\",\n",
    "`RNASET2A;RNASET2B` = \"RNASET2B\",\n",
    "`AK038185;RNF103` = \"RNF103\",\n",
    "`AK184946;RNF11` = \"RNF11\",\n",
    "`AK217074;RNF114` = \"RNF114\",\n",
    "`AK089714;RNF121` = \"RNF121\",\n",
    "`AK028959;AK164323;RNF122` = \"RNF122\",\n",
    "`AK040602;RNF149` = \"RNF149\",\n",
    "`MIR8097;RNF19A` = \"RNF19A\",\n",
    "`AK172190;RNF38` = \"RNF38\",\n",
    "`AK162790;AK169475;RNPEP` = \"RNPEP\",\n",
    "`AK053090;RPGRIP1L` = \"RPGRIP1L\",\n",
    "`CLPB;RPL31` = \"RPL31\",\n",
    "`MIR5046;RPS6KA4` = \"RPS6KA4\",\n",
    "`AK053930;RPS6KB1` = \"RPS6KB1\",\n",
    "`BC094052;RRNAD1` = \"RRNAD1\",\n",
    "`MIR6907;RRP1` = \"RRP1\",\n",
    "`AK083675;AK148762;RRP1B` = \"RRP1B\",\n",
    "`AK041001;RSBN1L` = \"RSBN1L\",\n",
    "`AK142416;RSF1` = \"RSF1\",\n",
    "`BC038328;RSLCAN18;ZFP708` = \"RSLCAN18\",\n",
    "`AK031274;RSRC1` = \"RSRC1\",\n",
    "`BC051062;RTCA` = \"RTCA\",\n",
    "`AK043844;RTN3` = \"RTN3\",\n",
    "`MIR6359;RTTN` = \"RTTN\",\n",
    "`AK042981;RUNDC1` = \"RUNDC1\",\n",
    "`AK159010;RYR2` = \"RYR2\",\n",
    "`AK086633;SAMM50` = \"SAMM50\",\n",
    "`MIR3077;SAP18` = \"SAP18\",\n",
    "`MIR6959;SBF1` = \"SBF1\",\n",
    "`AK135323;AK163779;SBF2` = \"SBF2\",\n",
    "`AK154309;SC5D` = \"SC5D\",\n",
    "`MIR7054;SCAF1` = \"SCAF1\",\n",
    "`AK047215;SCAP` = \"SCAP\",\n",
    "`GM21949;IQCJ;SCHIP1` = \"SCHIP1\",\n",
    "`AK143234;SCN2A1` = \"SCN2A1\",\n",
    "`AK018523;SCO1` = \"SCO1\",\n",
    "`MIR6952;SCRIB` = \"SCRIB\",\n",
    "`AK049441;SDHA` = \"SDHA\",\n",
    "`MIR6946;SEC24C` = \"SEC24C\",\n",
    "`AK031300;SEMA3E` = \"SEMA3E\",\n",
    "`MIR7011;SEMA4A` = \"SEMA4A\",\n",
    "`AK053810;SENP2` = \"SENP2\",\n",
    "`AK206180;SERF2` = \"SERF2\",\n",
    "`AK155592;SESN2` = \"SESN2\",\n",
    "`AK031561;SET` = \"SET\",\n",
    "`HSD3B7;SETD1A` = \"SETD1A\",\n",
    "`AK197669;SETD4` = \"SETD4\",\n",
    "`AK138856;SETD5` = \"SETD5\",\n",
    "`AK140725;SF1` = \"SF1\",\n",
    "`AK082431;AK084795;SF3A1` = \"SF3A1\",\n",
    "`AK046372;SFXN1` = \"SFXN1\",\n",
    "`AK206368;MIR6926;SGSM2` = \"SGSM2\",\n",
    "`MIR7031;SH2B3` = \"SH2B3\",\n",
    "`MIR6995;SH3PXD2A` = \"SH3PXD2A\",\n",
    "`AK181950;SHISA4` = \"SHISA4\",\n",
    "`MIR7087;SIDT2` = \"SIDT2\",\n",
    "`AK048349;SIK1` = \"SIK1\",\n",
    "`AK041920;AK135196;SIPA1L3` = \"SIPA1L3\",\n",
    "`AK165407;SIRT3` = \"SIRT3\",\n",
    "`MIR6936;SIRT7` = \"SIRT7\",\n",
    "`AK037755;SKAP1` = \"SKAP1\",\n",
    "`MIR6970;MIR6971;SKIV2L` = \"SKIV2L\",\n",
    "`AK039881;SLA2` = \"SLA2\",\n",
    "`AK209582;SLC11A2` = \"SLC11A2\",\n",
    "`MIR7074;SLC12A4` = \"SLC12A4\",\n",
    "`AK141353;SLC16A6` = \"SLC16A6\",\n",
    "`AK148617;SLC1A4` = \"SLC1A4\",\n",
    "`AK039603;SLC20A1` = \"SLC20A1\",\n",
    "`AK148827;SLC22A15` = \"SLC22A15\",\n",
    "`MIF4GD;SLC25A19` = \"SLC25A19\",\n",
    "`AK035037;SLC25A36` = \"SLC25A36\",\n",
    "`MIR6930;SLC25A39` = \"SLC25A39\",\n",
    "`AK051654;SLC30A5` = \"SLC30A5\",\n",
    "`AK153354;SLC35A3` = \"SLC35A3\",\n",
    "`AK214463;SLC35B2` = \"SLC35B2\",\n",
    "`MIR7085;SLC37A4` = \"SLC37A4\",\n",
    "`AK084120;SLC38A10` = \"SLC38A10\",\n",
    "`AK020109;SLC38A9` = \"SLC38A9\",\n",
    "`AK030443;SLC39A14` = \"SLC39A14\",\n",
    "`AK210432;H2-KE6;SLC39A7` = \"SLC39A7\",\n",
    "`AK046820;SLC39A9` = \"SLC39A9\",\n",
    "`AK218455;SLC7A6` = \"SLC7A6\",\n",
    "`MIR5122;SLC9A1` = \"SLC9A1\",\n",
    "`MIR7678;SLPI` = \"SLPI\",\n",
    "`AK148781;AK164084;SLX4IP` = \"SLX4IP\",\n",
    "`AK214683;SMAD3` = \"SMAD3\",\n",
    "`AK156215;SMAD9` = \"SMAD9\",\n",
    "`AK033411;SMAP1` = \"SMAP1\",\n",
    "`MIR7015;SMAP2` = \"SMAP2\",\n",
    "`AK165059;SMARCA2` = \"SMARCA2\",\n",
    "`AK163775;SMARCC2` = \"SMARCC2\",\n",
    "`AK162806;SMCHD1` = \"SMCHD1\",\n",
    "`AK085685;SMEK1` = \"SMEK1\",\n",
    "`AK133550;SMG1` = \"SMG1\",\n",
    "`AK138852;AK139373;SMIM14` = \"SMIM14\",\n",
    "`AK052407;AK053708;SMO` = \"SMO\",\n",
    "`MIR7039;SMURF1` = \"SMURF1\",\n",
    "`AK162546;SMURF2` = \"SMURF2\",\n",
    "`AK145742;SNAP23` = \"SNAP23\",\n",
    "`AK048571;AK171985;SNAPC3` = \"SNAPC3\",\n",
    "`BC025067;BC096391;SNHG8` = \"SNHG8\",\n",
    "`1810032O08RIK;SNORD1A` = \"SNORD1A\",\n",
    "`SNHG1;SNORD22` = \"SNORD22\",\n",
    "`RABGGTB;SNORD45C` = \"SNORD45C\",\n",
    "`2410006H16RIK;SNORD65` = \"SNORD65\",\n",
    "`2410002F23RIK;SNORD88A` = \"SNORD88A\",\n",
    "`SNHG12;SNORD99` = \"SNORD99\",\n",
    "`AK158346;SNRPD2` = \"SNRPD2\",\n",
    "`AK080692;SNTA1` = \"SNTA1\",\n",
    "`AK040413;SNTB2` = \"SNTB2\",\n",
    "`AK171966;SNX1` = \"SNX1\",\n",
    "`AK171899;SNX10` = \"SNX10\",\n",
    "`AK196840;SNX12` = \"SNX12\",\n",
    "`AK162765;SNX14` = \"SNX14\",\n",
    "`AK045837;SNX15` = \"SNX15\",\n",
    "`AK185415;SNX17` = \"SNX17\",\n",
    "`AK039166;SNX21` = \"SNX21\",\n",
    "`AK052336;SORBS2` = \"SORBS2\",\n",
    "`AK138088;SOS2` = \"SOS2\",\n",
    "`AK051919;SPAG7` = \"SPAG7\",\n",
    "`BC096410;SPAG9` = \"SPAG9\",\n",
    "`AK053505;SPIRE1` = \"SPIRE1\",\n",
    "`AK047349;SPPL2A` = \"SPPL2A\",\n",
    "`AK186390;SPPL2B` = \"SPPL2B\",\n",
    "`AK047776;SPRED1` = \"SPRED1\",\n",
    "`MIR1892;SPTSSA` = \"SPTSSA\",\n",
    "`MIR6921;MIR6922;SREBF1` = \"SREBF1\",\n",
    "`AK198376;SREBF2` = \"SREBF2\",\n",
    "`MIR6976;SRF` = \"SRF\",\n",
    "`AK033912;SRPK2` = \"SRPK2\",\n",
    "`AK080470;SRR` = \"SRR\",\n",
    "`AK020985;SRRM4` = \"SRRM4\",\n",
    "`MIR7036;SRRT` = \"SRRT\",\n",
    "`AK039140;SSBP2` = \"SSBP2\",\n",
    "`AK037595;AK046895;SSH2` = \"SSH2\",\n",
    "`MIR6985;SSH3` = \"SSH3\",\n",
    "`FAM89B;SSSCA1` = \"SSSCA1\",\n",
    "`AK157807;ST13` = \"ST13\",\n",
    "`AK169958;ST3GAL1` = \"ST3GAL1\",\n",
    "`AK164817;STAM` = \"STAM\",\n",
    "`AK171827;STAT3` = \"STAT3\",\n",
    "`AK088966;STAT5B` = \"STAT5B\",\n",
    "`AK041781;STAU1` = \"STAU1\",\n",
    "`AK191080;STIM1` = \"STIM1\",\n",
    "`AK080936;STIP1` = \"STIP1\",\n",
    "`AK165787;STK25` = \"STK25\",\n",
    "`AK082338;STMN3` = \"STMN3\",\n",
    "`CCDC47;STRADA` = \"STRADA\",\n",
    "`AK085054;STRN3` = \"STRN3\",\n",
    "`MIR3082;STUB1` = \"STUB1\",\n",
    "`MIR6992;STX5A` = \"STX5A\",\n",
    "`AK047910;SUDS3` = \"SUDS3\",\n",
    "`AK082901;SUPT16` = \"SUPT16\",\n",
    "`AK188793;SUPT20` = \"SUPT20\",\n",
    "`AK214897;SUPT5` = \"SUPT5\",\n",
    "`AK083594;SUPT7L` = \"SUPT7L\",\n",
    "`AK172259;SUSD6` = \"SUSD6\",\n",
    "`AK043467;SUV420H1` = \"SUV420H1\",\n",
    "`BC099602;SVIL` = \"SVIL\",\n",
    "`AK034456;SVIP` = \"SVIP\",\n",
    "`AK080945;SWAP70` = \"SWAP70\",\n",
    "`MON1B;SYCE1L` = \"SYCE1L\",\n",
    "`MIR5617;SYN1` = \"SYN1\",\n",
    "`MIR5101;SYNE2` = \"SYNE2\",\n",
    "`MIR6988;SYVN1` = \"SYVN1\",\n",
    "`AK086230;TAB2` = \"TAB2\",\n",
    "`AK216200;TACC3` = \"TACC3\",\n",
    "`AK044497;TAF11` = \"TAF11\",\n",
    "`GM25500;TAF1D` = \"TAF1D\",\n",
    "`AK172440;TAF6` = \"TAF6\",\n",
    "`AB352974;TARBP2` = \"TARBP2\",\n",
    "`AK140708;TARSL2` = \"TARSL2\",\n",
    "`MIR7042;TATDN2` = \"TATDN2\",\n",
    "`AK136414;TBC1D12` = \"TBC1D12\",\n",
    "`MIR6934;TBC1D16` = \"TBC1D16\",\n",
    "`AK028852;TBC1D23` = \"TBC1D23\",\n",
    "`NTN3;TBC1D24` = \"TBC1D24\",\n",
    "`AK172592;TBC1D5` = \"TBC1D5\",\n",
    "`AK048564;TCEA1` = \"TCEA1\",\n",
    "`AK177800;AK216694;TCF25` = \"TCF25\",\n",
    "`MIR7028;TCHP` = \"TCHP\",\n",
    "`BC057381;TCP11L1` = \"TCP11L1\",\n",
    "`AK036642;TCTN3` = \"TCTN3\",\n",
    "`AK018134;TDRKH` = \"TDRKH\",\n",
    "`AK203921;TECPR1` = \"TECPR1\",\n",
    "`MIR7075;TERF2` = \"TERF2\",\n",
    "`AK090393;TGFBR2` = \"TGFBR2\",\n",
    "`AK218987;TGIF2` = \"TGIF2\",\n",
    "`AK053029;THRA` = \"THRA\",\n",
    "`AK077348;TIAL1` = \"TIAL1\",\n",
    "`AK189005;MFLJ00251;TIMM10B` = \"TIMM10B\",\n",
    "`AK211593;TIMM50` = \"TIMM50\",\n",
    "`AK039495;TIMM9` = \"TIMM9\",\n",
    "`MIR3076;TKT` = \"TKT\",\n",
    "`MIR7653;TLCD1` = \"TLCD1\",\n",
    "`AK143955;TM2D1` = \"TM2D1\",\n",
    "`AK162942;TMBIM4` = \"TMBIM4\",\n",
    "`AK137566;TMCC1` = \"TMCC1\",\n",
    "`AK211918;MIR7034;TMEM120A` = \"TMEM120A\",\n",
    "`AK045245;TMEM138` = \"TMEM138\",\n",
    "`AK179207;TMEM164` = \"TMEM164\",\n",
    "`TAF6L;TMEM179B` = \"TMEM179B\",\n",
    "`AK178082;TMEM181C-PS` = \"TMEM181C-PS\",\n",
    "`AK047293;TMEM184C` = \"TMEM184C\",\n",
    "`AK180745;TMEM189` = \"TMEM189\",\n",
    "`1700012D01RIK;TMEM194` = \"TMEM194\",\n",
    "`AK164986;TMEM2` = \"TMEM2\",\n",
    "`AK164622;TMEM209` = \"TMEM209\",\n",
    "`AK037547;TMEM241` = \"TMEM241\",\n",
    "`AK160408;TMEM243` = \"TMEM243\",\n",
    "`AK030979;AK165384;TMEM260` = \"TMEM260\",\n",
    "`MIR7016;TMEM39B` = \"TMEM39B\",\n",
    "`AK137017;TMEM5` = \"TMEM5\",\n",
    "`AK212155;TMEM9B` = \"TMEM9B\",\n",
    "`AK084593;TMOD3` = \"TMOD3\",\n",
    "`TMSB15B1;TMSB15B2;TMSB15L` = \"TMSB15B1\",\n",
    "`AK170464;TNFRSF1B` = \"TNFRSF1B\",\n",
    "`TNFSF12;TNFSF13;TNFSFM13` = \"TNFSF12\",\n",
    "`MIR5113;TNRC6B` = \"TNRC6B\",\n",
    "`AK044623;TOB2` = \"TOB2\",\n",
    "`AK140721;TOMM40L` = \"TOMM40L\",\n",
    "`AK156288;TPD52` = \"TPD52\",\n",
    "`AK171952;TPGS2` = \"TPGS2\",\n",
    "`AK181755;TPRGL` = \"TPRGL\",\n",
    "`AK005187;TRA2A` = \"TRA2A\",\n",
    "`AK079994;TRAPPC8` = \"TRAPPC8\",\n",
    "`AK051833;TRERF1` = \"TRERF1\",\n",
    "`ATRIP;TREX1` = \"TREX1\",\n",
    "`AK150759;TRIM12A` = \"TRIM12A\",\n",
    "`AK186966;MIR6956;TRIOBP` = \"TRIOBP\",\n",
    "`AK045549;TRIP11` = \"TRIP11\",\n",
    "`AK032919;TRIP12` = \"TRIP12\",\n",
    "`AK016170;AK134117;TRIP4` = \"TRIP4\",\n",
    "`AK170605;TRIT1` = \"TRIT1\",\n",
    "`MIR6960;TROAP` = \"TROAP\",\n",
    "`AK077074;TRP53RKB` = \"TRP53RKB\",\n",
    "`TRPC2;XNDC1;XNTRPC` = \"TRPC2\",\n",
    "`AK047541;TRPM7` = \"TRPM7\",\n",
    "`MIR1907;TRPS1` = \"TRPS1\",\n",
    "`BC092382;TRRAP` = \"TRRAP\",\n",
    "`RHBG;TSACC` = \"TSACC\",\n",
    "`NT5DC3;TTC41` = \"TTC41\",\n",
    "`BC035304;TTC9C` = \"TTC9C\",\n",
    "`DQ699740;TTLL11` = \"TTLL11\",\n",
    "`ARPC4;TTLL3` = \"TTLL3\",\n",
    "`BC049265;TUB` = \"TUB\",\n",
    "`AK196308;TUBA1B` = \"TUBA1B\",\n",
    "`AK033381;TUG1` = \"TUG1\",\n",
    "`AK190779;TXN2` = \"TXN2\",\n",
    "`SCO2;TYMP` = \"TYMP\",\n",
    "`SEC24B;U66835` = \"U66835\",\n",
    "`AK017645;UBA6` = \"UBA6\",\n",
    "`AK195756;UBA7` = \"UBA7\",\n",
    "`AK017280;UBE2B` = \"UBE2B\",\n",
    "`AK162602;UBE2E2` = \"UBE2E2\",\n",
    "`AK141160;UBE2G1` = \"UBE2G1\",\n",
    "`AK160359;UBE2J2` = \"UBE2J2\",\n",
    "`AK051687;UBE2K` = \"UBE2K\",\n",
    "`AK037852;UBE2Q2` = \"UBE2Q2\",\n",
    "`AK038425;UBE2R2` = \"UBE2R2\",\n",
    "`AK047717;UBE2V2` = \"UBE2V2\",\n",
    "`MIR7027;UBE3B` = \"UBE3B\",\n",
    "`BC050184;UBE3C` = \"UBE3C\",\n",
    "`AK037871;UBE4B` = \"UBE4B\",\n",
    "`MIR7670;UBN2` = \"UBN2\",\n",
    "`FASTKD5;UBOX5` = \"UBOX5\",\n",
    "`AK087549;AK138086;UBR3` = \"UBR3\",\n",
    "`AK153656;UBXN2B` = \"UBXN2B\",\n",
    "`SLC25A27;UCP4` = \"UCP4\",\n",
    "`AK018394;UEVLD` = \"UEVLD\",\n",
    "`AK140702;UFC1` = \"UFC1\",\n",
    "`AK046862;UFSP2` = \"UFSP2\",\n",
    "`MIR6897;UGGT1` = \"UGGT1\",\n",
    "`AK084590;UIMC1` = \"UIMC1\",\n",
    "`AK088651;GLCCI1;UMAD1` = \"UMAD1\",\n",
    "`AK135187;UMPS` = \"UMPS\",\n",
    "`AK045943;UPF2` = \"UPF2\",\n",
    "`AK035770;USMG5` = \"USMG5\",\n",
    "`AK030906;USP25` = \"USP25\",\n",
    "`BC053974;USP3` = \"USP3\",\n",
    "`AK045518;USP4` = \"USP4\",\n",
    "`MED20;USP49` = \"USP49\",\n",
    "`MIR331;VEZT` = \"VEZT\",\n",
    "`AK078466;VGLL4` = \"VGLL4\",\n",
    "`MIR21A;VMP1` = \"VMP1\",\n",
    "`AK051828;VPS13B` = \"VPS13B\",\n",
    "`AK044468;VPS29` = \"VPS29\",\n",
    "`TM7SF2;VPS51` = \"VPS51\",\n",
    "`AK190492;VPS52` = \"VPS52\",\n",
    "`AK080786;WASF1` = \"WASF1\",\n",
    "`AK199358;MIR7017;WASF2` = \"WASF2\",\n",
    "`AK140784;WASL` = \"WASL\",\n",
    "`AK207784;WBP1` = \"WBP1\",\n",
    "`DQ553968;MIR8098;WDFY2` = \"WDFY2\",\n",
    "`AK004434;WDR27` = \"WDR27\",\n",
    "`AK134133;WDR37` = \"WDR37\",\n",
    "`AK170771;WDR53` = \"WDR53\",\n",
    "`AK169493;WDR7` = \"WDR7\",\n",
    "`RHOT2;WDR90` = \"WDR90\",\n",
    "`AK089347;WDR91` = \"WDR91\",\n",
    "`BC052634;WDYHV1` = \"WDYHV1\",\n",
    "`AK032505;WNK1` = \"WNK1\",\n",
    "`AK140335;BC040690;WWC2` = \"WWC2\",\n",
    "`AK048887;XPR1` = \"XPR1\",\n",
    "`AK037549;XRCC6` = \"XRCC6\",\n",
    "`AK043429;YPEL1` = \"YPEL1\",\n",
    "`AK086409;YWHAQ` = \"YWHAQ\",\n",
    "`MBTPS2;YY2` = \"YY2\",\n",
    "`AK084920;AK170928;ZBTB21` = \"ZBTB21\",\n",
    "`AK145756;ZBTB26;ZBTB6` = \"ZBTB26\",\n",
    "`E030011O05RIK;ZBTB38` = \"ZBTB38\",\n",
    "`AK037564;ZBTB44` = \"ZBTB44\",\n",
    "`GGNBP1;ZBTB9` = \"ZBTB9\",\n",
    "`AK141780;ZC3H11A` = \"ZC3H11A\",\n",
    "`AK167137;ZC3HAV1` = \"ZC3HAV1\",\n",
    "`AK163836;ZCCHC11` = \"ZCCHC11\",\n",
    "`AK040719;ZCCHC6` = \"ZCCHC6\",\n",
    "`AK035080;ZCRB1` = \"ZCRB1\",\n",
    "`AK137844;ZCWPW1` = \"ZCWPW1\",\n",
    "`AK181896;ZDHHC4` = \"ZDHHC4\",\n",
    "`THTPA;ZFHX2OS` = \"ZFHX2OS\",\n",
    "`AK164016;ZFP106` = \"ZFP106\",\n",
    "`AK031979;ZFP2` = \"ZFP2\",\n",
    "`AK164121;ZFP207` = \"ZFP207\",\n",
    "`AB351190;ZFP24` = \"ZFP24\",\n",
    "`AK040006;ZFP260` = \"ZFP260\",\n",
    "`AK049499;ZFP280C` = \"ZFP280C\",\n",
    "`AK038572;ZFP292` = \"ZFP292\",\n",
    "`AK078886;ZFP398` = \"ZFP398\",\n",
    "`PRAM1;ZFP414` = \"ZFP414\",\n",
    "`ZFP26;ZFP426` = \"ZFP426\",\n",
    "`MIR7006;ZFP512B` = \"ZFP512B\",\n",
    "`AK185715;ZFP513` = \"ZFP513\",\n",
    "`MIR8092;ZFP518A` = \"ZFP518A\",\n",
    "`AK155149;ZFP608` = \"ZFP608\",\n",
    "`AK169497;ZFP644` = \"ZFP644\",\n",
    "`PHOSPHO1;ZFP652` = \"ZFP652\",\n",
    "`AK141714;ZFP786` = \"ZFP786\",\n",
    "`AK006455;BC048555;ZFP808` = \"ZFP808\",\n",
    "`ZFP566;ZFP82` = \"ZFP82\",\n",
    "`AK029324;ZFP827` = \"ZFP827\",\n",
    "`ZFP58;ZFP87` = \"ZFP87\",\n",
    "`ZFP934;ZFP935` = \"ZFP935\",\n",
    "`ZFP595;ZFP953` = \"ZFP953\",\n",
    "`ZFP783;ZFP956` = \"ZFP956\",\n",
    "`ZFP866;ZFP963` = \"ZFP963\",\n",
    "`AK213104;ZFPL1` = \"ZFPL1\",\n",
    "`AK140771;ZFYVE1` = \"ZFYVE1\",\n",
    "`9130401M01RIK;ZHX1` = \"ZHX1\",\n",
    "`MIR6942;ZKSCAN3` = \"ZKSCAN3\",\n",
    "`AK215297;ZMYND11` = \"ZMYND11\",\n",
    "`AK020376;ZRANB1` = \"ZRANB1\"\n",
    ")"
   ]
  },
  {
   "cell_type": "code",
   "execution_count": null,
   "id": "20357e67",
   "metadata": {
    "ExecuteTime": {
     "end_time": "2022-10-31T06:17:49.100461Z",
     "start_time": "2022-10-31T06:16:22.280Z"
    }
   },
   "outputs": [],
   "source": [
    "mm_genes = rownames(mm_mat@mat)\n",
    "mm_genes[mm_genes %in% names(mm_rename)] = mm_rename[mm_genes[mm_genes %in% names(mm_rename)]]\n",
    "rownames(mm_mat@mat) = mm_genes\n",
    "mm_genes = rownames(mm_mc@e_gc)\n",
    "mm_genes[mm_genes %in% names(mm_rename)] = mm_rename[mm_genes[mm_genes %in% names(mm_rename)]]\n",
    "rownames(mm_mc@e_gc) = mm_genes"
   ]
  },
  {
   "cell_type": "code",
   "execution_count": null,
   "id": "11155f20",
   "metadata": {
    "ExecuteTime": {
     "end_time": "2022-10-31T06:17:49.255255Z",
     "start_time": "2022-10-31T06:16:22.551Z"
    }
   },
   "outputs": [],
   "source": [
    "mm_mc_ag = table(mm_mc@mc,mm_mat@cell_metadata[names(mm_mc@mc),\"age_group_emb\"])\n",
    "mm_mc_ag_n = mm_mc_ag/rowSums(mm_mc_ag)\n",
    "mm_mc_ag_c = t(t(mm_mc_ag)/colSums(mm_mc_ag))\n",
    "mm_mc_ag_cn = mm_mc_ag_c/rowSums(mm_mc_ag_c)"
   ]
  },
  {
   "cell_type": "code",
   "execution_count": null,
   "id": "99fa56ea",
   "metadata": {
    "ExecuteTime": {
     "end_time": "2022-10-31T06:17:54.511037Z",
     "start_time": "2022-10-31T06:16:23.909Z"
    }
   },
   "outputs": [],
   "source": [
    "hg19_named_genes = grep(\"_hg19\", rownames(oc_mat@mat), v=T, ignore.case=TRUE)\n",
    "good_names = gsub('.{5}$', '', hg19_named_genes)\n",
    "names(good_names) = hg19_named_genes\n",
    "oc_genes = rownames(oc_mat@mat)\n",
    "oc_genes[oc_genes %in% names(good_names)] = good_names[oc_genes[oc_genes %in% names(good_names)]]\n",
    "rownames(oc_mat@mat) = oc_genes\n",
    "\n",
    "mm9_named_genes = grep(\"_mm9\", rownames(oc_mat@mat), v=T, ignore.case=TRUE)\n",
    "good_names = gsub('.{4}$', '', mm9_named_genes)\n",
    "names(good_names) = mm9_named_genes\n",
    "oc_genes = rownames(oc_mat@mat)\n",
    "oc_genes[oc_genes %in% names(good_names)] = good_names[oc_genes[oc_genes %in% names(good_names)]]\n",
    "rownames(oc_mat@mat) = oc_genes\n",
    "\n",
    "hg19_named_genes = grep(\"_hg19\", rownames(oc_mc@e_gc), v=T, ignore.case=TRUE)\n",
    "good_names = gsub('.{5}$', '', hg19_named_genes)\n",
    "names(good_names) = hg19_named_genes\n",
    "oc_genes = rownames(oc_mc@e_gc)\n",
    "oc_genes[oc_genes %in% names(good_names)] = good_names[oc_genes[oc_genes %in% names(good_names)]]\n",
    "rownames(oc_mc@e_gc) = oc_genes\n",
    "\n",
    "mm9_named_genes = grep(\"_mm9\", rownames(oc_mc@e_gc), v=T, ignore.case=TRUE)\n",
    "good_names = gsub('.{4}$', '', mm9_named_genes)\n",
    "names(good_names) = mm9_named_genes\n",
    "oc_genes = rownames(oc_mc@e_gc)\n",
    "oc_genes[oc_genes %in% names(good_names)] = good_names[oc_genes[oc_genes %in% names(good_names)]]\n",
    "rownames(oc_mc@e_gc) = oc_genes"
   ]
  },
  {
   "cell_type": "code",
   "execution_count": null,
   "id": "cb8653bc",
   "metadata": {},
   "outputs": [],
   "source": [
    "# oc_mct_id = \"oc_embflow\"\n",
    "# oc_mct = scdb_mctnetwork(oc_mct_id)\n",
    "# oc_mcf = scdb_mctnetflow(oc_mct_id)\n",
    "# oc_gset = scdb_gset(\"oc_emb\")\n",
    "# corrections_t = fread(\"corrections_f_rn.csv\")\n",
    "# corrections_f = corrections_t$value\n",
    "# names(corrections_f) = corrections_t$name\n",
    "\n",
    "# ocf_egc = as.matrix(oc_mc@e_gc[names(corrections_f),])*as.vector(unname(corrections_f))\n",
    "\n",
    "# ocf_legc = log2(1e-5+ocf_egc)\n",
    "# ocf_legc_n = ocf_legc - rowMeans(ocf_legc)\n",
    "# oc_mc_ag = table(oc_mc@mc,oc_mat@cell_metadata[names(oc_mc@mc),\"chunk\"])\n",
    "# oc_mc_ag_n = oc_mc_ag/rowSums(oc_mc_ag)\n",
    "# oc_mc_ag_c = t(t(oc_mc_ag)/colSums(oc_mc_ag))\n",
    "# oc_mc_ag_cn = oc_mc_ag_c/rowSums(oc_mc_ag_c)"
   ]
  },
  {
   "cell_type": "code",
   "execution_count": null,
   "id": "d81b6403",
   "metadata": {
    "ExecuteTime": {
     "end_time": "2022-10-31T06:17:54.532352Z",
     "start_time": "2022-10-31T06:16:26.328Z"
    }
   },
   "outputs": [],
   "source": [
    "rownames(mm_mat@mat) = toupper(rownames(mm_mat@mat))"
   ]
  },
  {
   "cell_type": "code",
   "execution_count": null,
   "id": "3c7e0bb1",
   "metadata": {
    "ExecuteTime": {
     "end_time": "2022-10-31T06:18:33.399232Z",
     "start_time": "2022-10-31T06:16:26.592Z"
    }
   },
   "outputs": [],
   "source": [
    "mm_all = rownames(mm_mat@mat)[rowSums(mm_mat@mat) > 200]\n",
    "oc_all = rownames(oc_mat@mat)[rowSums(oc_mat@mat) > 200]"
   ]
  },
  {
   "cell_type": "code",
   "execution_count": null,
   "id": "d2a691d5",
   "metadata": {
    "ExecuteTime": {
     "end_time": "2022-10-31T06:18:33.420390Z",
     "start_time": "2022-10-31T06:16:27.449Z"
    }
   },
   "outputs": [],
   "source": [
    "common_genes_names = intersect(rownames(mm_mc@e_gc), rownames(oc_mc@e_gc))"
   ]
  },
  {
   "cell_type": "code",
   "execution_count": null,
   "id": "95ff8781",
   "metadata": {
    "ExecuteTime": {
     "end_time": "2022-10-31T06:18:33.435503Z",
     "start_time": "2022-10-31T06:16:27.816Z"
    }
   },
   "outputs": [],
   "source": [
    "length(common_genes_names)"
   ]
  },
  {
   "cell_type": "code",
   "execution_count": null,
   "id": "894bed5c",
   "metadata": {
    "ExecuteTime": {
     "end_time": "2022-10-31T06:18:36.967770Z",
     "start_time": "2022-10-31T06:16:29.969Z"
    }
   },
   "outputs": [],
   "source": [
    "oc_legc = log2(1e-5+oc_mc@e_gc[common_genes_names,])\n",
    "oc_legc_n = oc_legc - rowMeans(oc_legc)\n",
    "\n",
    "rownames(mm_mc@e_gc) = toupper(rownames(mm_mc@e_gc))\n",
    "mm_legc = log2(1e-5+mm_mc@e_gc[common_genes_names,])\n",
    "mm_legc_n = mm_legc - rowMeans(mm_legc)"
   ]
  },
  {
   "cell_type": "code",
   "execution_count": null,
   "id": "47b2898c",
   "metadata": {
    "ExecuteTime": {
     "end_time": "2022-10-31T06:20:00.919537Z",
     "start_time": "2022-10-31T06:16:30.160Z"
    }
   },
   "outputs": [],
   "source": [
    "mc_cors = tgs_cor(mm_legc_n[common_genes_names,], oc_legc_n[common_genes_names,])"
   ]
  },
  {
   "cell_type": "code",
   "execution_count": null,
   "id": "d92cdd30",
   "metadata": {
    "ExecuteTime": {
     "end_time": "2022-10-31T06:21:17.170932Z",
     "start_time": "2022-10-31T06:21:16.037Z"
    }
   },
   "outputs": [],
   "source": [
    "long_cors = as.data.frame(mc_cors) %>% tibble::rownames_to_column(\"mouse_mc\") %>% pivot_longer(cols=colnames(mc_cors), names_to = \"rabbit_mc\", values_to = \"cor\", )"
   ]
  },
  {
   "cell_type": "code",
   "execution_count": null,
   "id": "0145ef1b",
   "metadata": {
    "ExecuteTime": {
     "end_time": "2022-10-31T06:21:20.277721Z",
     "start_time": "2022-10-31T06:21:16.316Z"
    }
   },
   "outputs": [],
   "source": [
    "tmp_rabbit = long_cors %>% group_by(rabbit_mc) %>% top_n(1, cor)\n",
    "tmp_mouse = long_cors %>% group_by(mouse_mc) %>% top_n(1, cor)\n",
    "tmp = intersect(tmp_rabbit, tmp_mouse)"
   ]
  },
  {
   "cell_type": "code",
   "execution_count": null,
   "id": "fe510581",
   "metadata": {
    "ExecuteTime": {
     "end_time": "2022-10-31T06:21:20.295331Z",
     "start_time": "2022-10-31T06:21:16.948Z"
    }
   },
   "outputs": [],
   "source": [
    "match_rabbit = tmp$rabbit_mc\n",
    "match_cor = tmp$cor\n",
    "names(match_rabbit) = tmp$mouse_mc\n",
    "names(match_cor) = tmp$mouse_mc"
   ]
  },
  {
   "cell_type": "code",
   "execution_count": null,
   "id": "e53c20d9",
   "metadata": {
    "ExecuteTime": {
     "end_time": "2022-10-31T06:21:20.309666Z",
     "start_time": "2022-10-31T06:21:17.332Z"
    }
   },
   "outputs": [],
   "source": [
    "length(match_rabbit)"
   ]
  },
  {
   "cell_type": "code",
   "execution_count": null,
   "id": "642ad826",
   "metadata": {
    "ExecuteTime": {
     "end_time": "2022-10-31T06:21:43.008658Z",
     "start_time": "2022-10-31T06:21:42.709Z"
    }
   },
   "outputs": [],
   "source": [
    "fmm_legc = mm_legc[,names(match_rabbit)]\n",
    "foc_legc = oc_legc[,unname(match_rabbit)]"
   ]
  },
  {
   "cell_type": "code",
   "execution_count": null,
   "id": "cee1213e",
   "metadata": {
    "ExecuteTime": {
     "end_time": "2022-10-31T07:49:22.846806Z",
     "start_time": "2022-10-31T07:49:17.318Z"
    }
   },
   "outputs": [],
   "source": [
    "minimal_genes = c(\n",
    "    \"APOA1\",\n",
    "    \"ACTA2\",\n",
    "    \"ITGA4\",\n",
    "    \"MEOX1\",\n",
    "    \"CRABP1\",\n",
    "    \"VTCN1\",\n",
    "    \"LGALS3\",\n",
    "    \"PLBD1\",\n",
    "    \"PRTG\",\n",
    "    \"STC1\",\n",
    "    \n",
    "    \"IGF1\",\n",
    "    \"SLC3A1\",\n",
    "    \"IGFBP5\",\n",
    "    \"GATA3\",\n",
    "    \"SULT1E1\",\n",
    "    \"TEAD2\",\n",
    "    \"LGALS1\",\n",
    "    \"TGM3\",\n",
    "    \"SHISA2\",\n",
    "    \"APELA\",\n",
    "    \n",
    "    \"CNRIP1\",\n",
    "    \"CPS1\",\n",
    "    \"CRABP2\",\n",
    "    \"CUBN\",\n",
    "    \"DAB2\",\n",
    "    \"DLK1\",\n",
    "#     \"EPAS1\",\n",
    "    \"FOXF1\",\n",
    "    \"FST\",\n",
    "    \"OTC\",\n",
    "    \"PIM2\",\n",
    "    \"PLAGL1\",\n",
    "    \"PLET1\",\n",
    "    \"POU5F1\",\n",
    "    \"PTGS2\",\n",
    "    \"RBP4\",\n",
    "    \"SOX2\",\n",
    "    \"SOX3\",\n",
    "#     \"TFAP2C\",\n",
    "    \"VIM\"\n",
    "#     \"WFDC2\"\n",
    ")\n",
    "my_mat = oc_legc_n[minimal_genes, oc_mc_ordered]\n",
    "myColor <- colorRampPalette(c(\"blue\",\"white\", \"red\"))(paletteLength)\n",
    "myBreaks <- c(seq(min(my_mat), 0.0, length.out=ceiling(paletteLength/2) + 1),\n",
    "              seq(0.01, max(my_mat), length.out=floor(paletteLength/2)))\n",
    "\n",
    "options(repr.plot.width=50, repr.plot.height=10)\n",
    "ph = pheatmap::pheatmap(\n",
    "    my_mat, \n",
    "    col=myColor, \n",
    "    breaks=myBreaks,\n",
    "    annotation_col = data.frame(rabbit_color = oc_mc_cats, type_color=oc_mc_big_cats),\n",
    "    annotation_colors = list(rabbit_color=oc_cat2col),\n",
    "#     cluster_cols = F,\n",
    ")"
   ]
  },
  {
   "cell_type": "code",
   "execution_count": null,
   "id": "5e8752df",
   "metadata": {
    "ExecuteTime": {
     "end_time": "2022-10-31T12:12:01.148477Z",
     "start_time": "2022-10-31T12:12:00.802Z"
    }
   },
   "outputs": [],
   "source": [
    "dim(my_mat)"
   ]
  },
  {
   "cell_type": "code",
   "execution_count": null,
   "id": "b178db4a",
   "metadata": {
    "ExecuteTime": {
     "end_time": "2022-10-31T07:22:24.277309Z",
     "start_time": "2022-10-31T07:22:23.955Z"
    }
   },
   "outputs": [],
   "source": [
    "dim(my_mat)"
   ]
  },
  {
   "cell_type": "code",
   "execution_count": null,
   "id": "cbde55df",
   "metadata": {
    "ExecuteTime": {
     "end_time": "2022-10-31T07:09:13.634786Z",
     "start_time": "2022-10-31T07:09:13.323Z"
    }
   },
   "outputs": [],
   "source": [
    "table(oc_mc_cats[colnames(oc_legc_n)[ph$tree_col$order][380:410]])"
   ]
  },
  {
   "cell_type": "code",
   "execution_count": null,
   "id": "405f8bdc",
   "metadata": {
    "ExecuteTime": {
     "end_time": "2022-10-31T06:38:05.692144Z",
     "start_time": "2022-10-31T06:38:05.387Z"
    }
   },
   "outputs": [],
   "source": [
    "oc_mc_big_cats = oc_mc_cats\n",
    "oc_mc_big_cats[oc_cat2col[oc_mc_cats] %in% emb] = \"Embryonic\"\n",
    "oc_mc_big_cats[oc_cat2col[oc_mc_cats] %in% exec] = \"Extraembryonic Ectoderm\"\n",
    "oc_mc_big_cats[oc_cat2col[oc_mc_cats] %in% exen] = \"Extraembryonic Endoderm\""
   ]
  },
  {
   "cell_type": "code",
   "execution_count": null,
   "id": "44434e14",
   "metadata": {
    "ExecuteTime": {
     "end_time": "2022-10-31T06:37:10.520708Z",
     "start_time": "2022-10-31T06:37:10.218Z"
    }
   },
   "outputs": [],
   "source": [
    "emb = c(\n",
    "    '#FACB12', #PGC\n",
    "    '#E2F700', #Median TFAP\n",
    "    '#f7f79e', #Surface ectoderm\n",
    "    '#CDE087', #Floor plate\n",
    "    '#C3C388', #Neural crest\n",
    "    '#879E86', #Neural plate boundary\n",
    "    # '#CDE089', #Neural tube Posterior\n",
    "    '#CDE088', #Neural tube Anterior\n",
    "    '#647A4F', #Forebrain/Midbrain/Hindbrain\n",
    "    '#354E23', #Caudal neurectoderm\n",
    "    '#649146', #rostral neurectoderm\n",
    "    '#90BF75', #Ectoderm - Definitive\n",
    "    '#635547', #epiblast\n",
    "    '#DABE99', #Primitive streak\n",
    "    '#9e6762', #caudal epiblast\n",
    "    '#C594BF', #nascent mesoderm\n",
    "    '#B6A8ED', #Nascent mesoderm - extraembryonic\n",
    "    '#1a3f52', #caudal mesoderm\n",
    "    '#45d1c5', #Lateral & intermediate mesoderm\n",
    "    '#408DA1', #Paraxial Mesoderm\n",
    "    '#A8DBF7', #Presomitic mesoderm\n",
    "    '#1AA2EB', #Somitic mesoderm\n",
    "    '#8DB5CE', #rostral mesoderm\n",
    "    '#53f1fc', #Cardiopharyngeal mesoderm\n",
    "    '#B51D8D', #Caridac\n",
    "    '#8870ad', #ExE mesoderm\n",
    "    '#cc7818', #Amnion\n",
    "    '#A69369', #chorionic mesothelium\n",
    "    '#532C8A', #Allantois\n",
    "    '#966F1B', #Endothelial2\n",
    "    '#ff891c', #Endothelial\n",
    "    '#FBBE92', #Hematoendothelial\n",
    "    '#c9a997', #Blood progenitors\n",
    "    '#C72228', #Erythroid1\n",
    "    '#FF5608', #Erythroid2\n",
    "    '#c19f70', #Anterior primitive streak\n",
    "    '#6666ED', #Node\n",
    "    '#0F4A9C', #notochord\n",
    "    '#F397C0', #definitive endoderm\n",
    "    '#EF5A9E', #Gut\n",
    "    '#EF5A9D', #Foregut\n",
    "    '#F25CD4' #Hindgut\n",
    ")\n",
    "\n",
    "exen = c(\n",
    "    '#CF6191', #Hypoblast-Anterior (Hhex/Lhx1/Cer1)\n",
    "    '#F6BFCB', #hypoblast\n",
    "    '#572E48', #Yolk sac\n",
    "    '#050505' #Parietal Endoderm\n",
    ")\n",
    "\n",
    "exec = c(\n",
    "    '#FF00B7', #DPPA3 TGM3\n",
    "    '#7B00FF', #Dppa3 Hand1\n",
    "    '#00FF15', #Dppa3 low Dusp6 neg\n",
    "    '#D4EB63', #Dusp6 not other\n",
    "    '#54DCE3', #Wfdc2 Aldoc\n",
    "    '#FFFF00', #Gata2 Hand1\n",
    "    '#FFA600' #Lgals3\n",
    ")"
   ]
  },
  {
   "cell_type": "code",
   "execution_count": null,
   "id": "c9ef5386",
   "metadata": {
    "ExecuteTime": {
     "end_time": "2022-11-03T12:12:57.358814Z",
     "start_time": "2022-11-03T12:12:56.417Z"
    }
   },
   "outputs": [],
   "source": [
    "options(repr.plot.width=5, repr.plot.height=5)\n",
    "plot(oc_mc_t, oc_legc[\"BMP2\",], col = mm_mc@colors, pch=19, main=\"Rabbit BMP2\", xlim=c(6,8.6))"
   ]
  },
  {
   "cell_type": "code",
   "execution_count": null,
   "id": "9213a160",
   "metadata": {
    "ExecuteTime": {
     "end_time": "2022-11-03T12:14:59.736449Z",
     "start_time": "2022-11-03T12:14:59.029Z"
    }
   },
   "outputs": [],
   "source": [
    "options(repr.plot.width=5, repr.plot.height=5)\n",
    "plot(mm_mc_t, mm_legc[\"IGF1\",], col = mm_mc@colors, pch=19, main=\"Mouse IGF1\")"
   ]
  },
  {
   "cell_type": "code",
   "execution_count": null,
   "id": "2e2dbd2f",
   "metadata": {
    "ExecuteTime": {
     "end_time": "2022-10-31T06:24:17.418285Z",
     "start_time": "2022-10-31T06:24:14.911Z"
    }
   },
   "outputs": [],
   "source": [
    "options(repr.plot.width=15, repr.plot.height=12)\n",
    "paletteLength = 100\n",
    "\n",
    "rb_mc_cors_raw = mc_cors[names(match_rabbit),unname(match_rabbit)]\n",
    "oc_rb_mc_ord = intersect(oc_mc_ordered, unname(match_rabbit))\n",
    "mm_rb_mc_ord = intersect(mm_mc_ordered, names(match_rabbit))\n",
    "\n",
    "myColor <- colorRampPalette(c(\"blue\",\"white\", \"red\"))(paletteLength)\n",
    "myBreaks <- c(seq(min(rb_mc_cors_raw[mm_rb_mc_ord, oc_rb_mc_ord]), 0.0, length.out=ceiling(paletteLength/2) + 1),\n",
    "              seq(0.01, max(rb_mc_cors_raw[mm_rb_mc_ord, oc_rb_mc_ord]), length.out=floor(paletteLength/2)))\n",
    "\n",
    "ph = pheatmap::pheatmap(\n",
    "    rb_mc_cors_raw[mm_rb_mc_ord, oc_rb_mc_ord], \n",
    "    col=myColor, \n",
    "    breaks=myBreaks,\n",
    "    annotation_col = data.frame(rabbit_color = oc_mc_cats),\n",
    "    annotation_row = data.frame(mouse_color=mm_mc_cats),\n",
    "    annotation_colors = list(rabbit_color=oc_cat2col, mouse_color=mm_cat2col),\n",
    "    cluster_rows = F,\n",
    "    cluster_cols = F\n",
    ")"
   ]
  },
  {
   "cell_type": "code",
   "execution_count": null,
   "id": "49370785",
   "metadata": {
    "ExecuteTime": {
     "end_time": "2022-10-13T10:39:44.200055Z",
     "start_time": "2022-10-13T10:35:26.379Z"
    }
   },
   "outputs": [],
   "source": [
    "gene_cors = tgs_cor(t(fmm_legc), t(foc_legc))"
   ]
  },
  {
   "cell_type": "code",
   "execution_count": null,
   "id": "fcb7b381",
   "metadata": {
    "ExecuteTime": {
     "end_time": "2022-10-13T10:40:01.670541Z",
     "start_time": "2022-10-13T10:35:26.731Z"
    }
   },
   "outputs": [],
   "source": [
    "long_gene_cors = as.data.frame(gene_cors) %>% tibble::rownames_to_column(\"mouse_gene\") %>% pivot_longer(cols=colnames(gene_cors), names_to = \"rabbit_gene\", values_to = \"cor\", )"
   ]
  },
  {
   "cell_type": "code",
   "execution_count": null,
   "id": "e31f75f7",
   "metadata": {
    "ExecuteTime": {
     "end_time": "2022-09-01T11:40:17.693160Z",
     "start_time": "2022-09-01T11:40:03.084Z"
    }
   },
   "outputs": [],
   "source": [
    "# mouse_gene_cors = tgs_cor(t(fmm_legc))\n",
    "# rabbit_gene_cors = tgs_cor(t(foc_legc))"
   ]
  },
  {
   "cell_type": "code",
   "execution_count": null,
   "id": "cbadc931",
   "metadata": {
    "ExecuteTime": {
     "end_time": "2022-08-08T13:27:26.873401Z",
     "start_time": "2022-08-08T13:24:50.987Z"
    }
   },
   "outputs": [],
   "source": [
    "# diag(mouse_gene_cors) = 0\n",
    "# diag(rabbit_gene_cors) = 0"
   ]
  },
  {
   "cell_type": "code",
   "execution_count": null,
   "id": "41cf41d2",
   "metadata": {
    "ExecuteTime": {
     "end_time": "2022-08-08T13:27:49.263167Z",
     "start_time": "2022-08-08T13:24:51.475Z"
    }
   },
   "outputs": [],
   "source": [
    "# long_mouse_gene_cors = as.data.frame(mouse_gene_cors) %>% tibble::rownames_to_column(\"mouse_gene1\") %>% pivot_longer(cols=colnames(mouse_gene_cors), names_to = \"mouse_gene2\", values_to = \"cor\", )\n",
    "# tmp_mouse = long_mouse_gene_cors %>% group_by(mouse_gene1) %>% top_n(1, cor)"
   ]
  },
  {
   "cell_type": "code",
   "execution_count": null,
   "id": "7f05d8e3",
   "metadata": {
    "ExecuteTime": {
     "end_time": "2022-08-08T13:27:49.280881Z",
     "start_time": "2022-08-08T13:24:51.883Z"
    }
   },
   "outputs": [],
   "source": [
    "# rownames(tmp_mouse) = tmp_mouse$mouse_gene1"
   ]
  },
  {
   "cell_type": "code",
   "execution_count": null,
   "id": "1d9ccdc1",
   "metadata": {
    "ExecuteTime": {
     "end_time": "2022-08-08T13:28:10.899736Z",
     "start_time": "2022-08-08T13:24:52.947Z"
    }
   },
   "outputs": [],
   "source": [
    "# long_rabbit_gene_cors = as.data.frame(rabbit_gene_cors) %>% tibble::rownames_to_column(\"rabbit_gene1\") %>% pivot_longer(cols=colnames(rabbit_gene_cors), names_to = \"rabbit_gene2\", values_to = \"cor\", )\n",
    "# tmp_rabbit = long_rabbit_gene_cors %>% group_by(rabbit_gene1) %>% top_n(1, cor)"
   ]
  },
  {
   "cell_type": "code",
   "execution_count": null,
   "id": "7d90c6c0",
   "metadata": {
    "ExecuteTime": {
     "end_time": "2022-08-08T13:28:10.916892Z",
     "start_time": "2022-08-08T13:24:53.139Z"
    }
   },
   "outputs": [],
   "source": [
    "# rownames(tmp_rabbit) = tmp_rabbit$rabbit_gene1"
   ]
  },
  {
   "cell_type": "code",
   "execution_count": null,
   "id": "7b311841",
   "metadata": {
    "ExecuteTime": {
     "end_time": "2022-10-13T10:41:24.434981Z",
     "start_time": "2022-10-13T10:35:29.244Z"
    }
   },
   "outputs": [],
   "source": [
    "tmp_cross_rabbit_to_mouse = long_gene_cors %>% group_by(rabbit_gene) %>% top_n(1, cor)\n",
    "tmp_cross_mouse_to_rabbit = long_gene_cors %>% group_by(mouse_gene) %>% top_n(1, cor)"
   ]
  },
  {
   "cell_type": "code",
   "execution_count": null,
   "id": "1d15badf",
   "metadata": {
    "ExecuteTime": {
     "end_time": "2022-10-13T10:41:24.660099Z",
     "start_time": "2022-10-13T10:35:29.507Z"
    }
   },
   "outputs": [],
   "source": [
    "rabbit_gene_counts = tmp_cross_rabbit_to_mouse %>% group_by(rabbit_gene) %>% summarise(count=n())\n",
    "tmp_cross_rabbit_to_mouse = tmp_cross_rabbit_to_mouse[tmp_cross_rabbit_to_mouse$rabbit_gene %in% rabbit_gene_counts[rabbit_gene_counts$count == 1,]$rabbit_gene,]"
   ]
  },
  {
   "cell_type": "code",
   "execution_count": null,
   "id": "dae0ac37",
   "metadata": {
    "ExecuteTime": {
     "end_time": "2022-10-13T10:41:24.838491Z",
     "start_time": "2022-10-13T10:35:29.731Z"
    }
   },
   "outputs": [],
   "source": [
    "mouse_gene_counts = tmp_cross_mouse_to_rabbit %>% group_by(mouse_gene) %>% summarise(count=n())\n",
    "tmp_cross_mouse_to_rabbit = tmp_cross_mouse_to_rabbit[tmp_cross_mouse_to_rabbit$mouse_gene %in% mouse_gene_counts[mouse_gene_counts$count == 1,]$mouse_gene,]"
   ]
  },
  {
   "cell_type": "code",
   "execution_count": null,
   "id": "2f221125",
   "metadata": {
    "ExecuteTime": {
     "end_time": "2022-10-13T10:41:24.860766Z",
     "start_time": "2022-10-13T10:35:30.051Z"
    }
   },
   "outputs": [],
   "source": [
    "rownames(tmp_cross_rabbit_to_mouse) = tmp_cross_rabbit_to_mouse$rabbit_gene\n",
    "rownames(tmp_cross_mouse_to_rabbit) = tmp_cross_mouse_to_rabbit$mouse_gene"
   ]
  },
  {
   "cell_type": "code",
   "execution_count": null,
   "id": "e330052f",
   "metadata": {
    "ExecuteTime": {
     "end_time": "2022-10-13T10:41:24.874135Z",
     "start_time": "2022-10-13T10:35:31.155Z"
    }
   },
   "outputs": [],
   "source": [
    "union_names = intersect(rownames(fmm_legc), rownames(foc_legc))"
   ]
  },
  {
   "cell_type": "code",
   "execution_count": null,
   "id": "63a05c2e",
   "metadata": {
    "ExecuteTime": {
     "end_time": "2022-10-13T10:41:26.800581Z",
     "start_time": "2022-10-13T10:35:31.395Z"
    }
   },
   "outputs": [],
   "source": [
    "tmp = as.data.frame(union_names)\n",
    "tmp$mouse_int_gene = tmp_mouse[union_names,]$mouse_gene2\n",
    "tmp$mouse_int_cov = tmp_mouse[union_names,]$cor\n",
    "tmp$rabbit_int_gene = tmp_rabbit[union_names,]$rabbit_gene2\n",
    "tmp$rabbit_int_cov = tmp_rabbit[union_names,]$cor\n",
    "tmp$cross_mouse_to_rabbit_gene = tmp_cross_mouse_to_rabbit[union_names,]$rabbit_gene\n",
    "tmp$cross_mouse_to_rabbit_cov = tmp_cross_mouse_to_rabbit[union_names,]$cor\n",
    "tmp$cross_rabbit_to_mouse_gene = tmp_cross_rabbit_to_mouse[union_names,]$mouse_gene\n",
    "tmp$cross_rabbit_to_mouse_cov = tmp_cross_rabbit_to_mouse[union_names,]$cor\n",
    "tmp_cross_genes = intersect(\n",
    "    tmp_cross_rabbit_to_mouse,\n",
    "    tmp_cross_mouse_to_rabbit\n",
    ")\n",
    "upper_gene_cors = gene_cors\n",
    "rownames(upper_gene_cors) = toupper(rownames(upper_gene_cors))\n",
    "gene_orth_cors = c()\n",
    "for(gene_name in common_genes_names){\n",
    "    gene_orth_cors = c(gene_orth_cors, upper_gene_cors[gene_name, gene_name])\n",
    "}\n",
    "names(gene_orth_cors) = common_genes_names\n",
    "tmp$orth_cross_cor = gene_orth_cors[toupper(union_names)]"
   ]
  },
  {
   "cell_type": "code",
   "execution_count": null,
   "id": "157b1718",
   "metadata": {
    "ExecuteTime": {
     "end_time": "2022-08-08T18:09:36.472299Z",
     "start_time": "2022-08-08T18:09:36.072Z"
    }
   },
   "outputs": [],
   "source": []
  },
  {
   "cell_type": "code",
   "execution_count": null,
   "id": "74f035fc",
   "metadata": {
    "ExecuteTime": {
     "end_time": "2022-10-13T10:42:05.351472Z",
     "start_time": "2022-10-13T10:35:32.780Z"
    },
    "scrolled": true
   },
   "outputs": [],
   "source": [
    "gmin = min(fmm_legc[intersect(rownames(fmm_legc),rownames(foc_legc)),names(match_rabbit)])\n",
    "gmax = min(-10, max(fmm_legc[intersect(rownames(fmm_legc),rownames(foc_legc)),names(match_rabbit)]))\n",
    "require(gridExtra)\n",
    "xs = matrix(\n",
    "    nrow = length(union_names),\n",
    "    ncol = length(names(match_rabbit))\n",
    ")\n",
    "ys = matrix(\n",
    "    nrow = length(tmp$union_names),\n",
    "    ncol = length(names(match_rabbit))\n",
    ")\n",
    "corrections = array(dim = c(length(tmp$union_names)))\n",
    "old_corrections = array(dim = c(length(tmp$union_names)))\n",
    "all_genes = union_names\n",
    "\n",
    "# xs = matrix(\n",
    "#     nrow = length(tmp[tmp$mouse_feature == TRUE | tmp$rabbit_feature == TRUE,]$union_names),\n",
    "#     ncol = length(names(match_rabbit))\n",
    "# )\n",
    "# ys = matrix(\n",
    "#     nrow = length(tmp[tmp$mouse_feature == TRUE | tmp$rabbit_feature == TRUE,]$union_names),\n",
    "#     ncol = length(names(match_rabbit))\n",
    "# )\n",
    "# corrections = array(dim = c(length(tmp[tmp$mouse_feature == TRUE | tmp$rabbit_feature == TRUE,]$union_names)))\n",
    "# old_corrections = array(dim = c(length(tmp[tmp$mouse_feature == TRUE | tmp$rabbit_feature == TRUE,]$union_names)))\n",
    "# all_genes = tmp[tmp$mouse_feature == TRUE | tmp$rabbit_feature == TRUE,]$union_names\n",
    "for(gene_name in all_genes){\n",
    "# for(gene_name in c('CHRD')){\n",
    "    if(gene_name %in% rownames(fmm_legc) & gene_name %in% rownames(foc_legc)){\n",
    "        x = unname(mm_mc@e_gc[gene_name,names(match_rabbit)])\n",
    "        y = unname(oc_mc@e_gc[gene_name,unname(match_rabbit)])\n",
    "#         x = fmm_legc[gene_name,names(match_rabbit)]\n",
    "#         y = foc_legc[gene_name,unname(match_rabbit)]\n",
    "        top_10 = (x+y)^2 >= quantile((x+y)^2, probs = seq(0, 1, 0.1))[10]\n",
    "#         y = y*max(0.5,min(2,mean(x[top_10]/y[top_10])))\n",
    "        x = log2(1e-5+x)\n",
    "        y = log2(1e-5+y)\n",
    "        x = pmin(x, -10)\n",
    "        y = pmin(y, -10)\n",
    "        # Open a pdf file\n",
    "#         pdf(paste0(\"gene_rab_mus_scatters/\", gene_name,\".pdf\"), width=15, height=5)\n",
    "#         # 2. Create a plot\n",
    "#         plot1 <- qplot(\n",
    "#             main=cor(\n",
    "#             foc_legc[tmp[tmp$union_names == gene_name,]$rabbit_int_gene,unname(match_rabbit)], \n",
    "#             foc_legc[gene_name,unname(match_rabbit)], \n",
    "#             ), xlab=tmp[tmp$union_names == gene_name,]$rabbit_int_gene, ylab=gene_name,\n",
    "#             xlim = c(gmin, gmax), ylim = c(gmin, gmax),\n",
    "#             foc_legc[tmp[tmp$union_names == gene_name,]$rabbit_int_gene,unname(match_rabbit)], \n",
    "#             foc_legc[gene_name,unname(match_rabbit)], \n",
    "# #             col = oc_mc@colors[unname(match_rabbit)], \n",
    "#                 ) + theme(legend.position=\"none\") + geom_point(color=oc_mc@colors[unname(match_rabbit)])\n",
    "#         plot2 <- qplot(main=cor(x,y)\n",
    "#             ,xlab='Mouse', ylab='Rabbit',\n",
    "#             xlim = c(gmin, gmax), ylim = c(gmin, gmax),\n",
    "#             x, y,\n",
    "# #             col = oc_mc@colors[unname(match_rabbit)], \n",
    "#             ) + geom_abline(slope = 1, intercept = 0) + geom_abline(slope = 1, intercept = -2, linetype='dashed') + geom_abline(slope = 1, intercept = 2, linetype='dashed') + theme(legend.position=\"none\") + geom_point(color=oc_mc@colors[unname(match_rabbit)])  \n",
    "#         plot3 <- qplot(main=cor(\n",
    "#             fmm_legc[tmp[tmp$union_names == gene_name,]$mouse_int_gene, names(match_rabbit)], \n",
    "#             fmm_legc[gene_name,names(match_rabbit)], \n",
    "#             ), xlab=tmp[tmp$union_names == gene_name,]$mouse_int_gene, ylab=gene_name, xlim = c(gmin, gmax), ylim = c(gmin, gmax),\n",
    "#             fmm_legc[tmp[tmp$union_names == gene_name,]$mouse_int_gene, names(match_rabbit)], \n",
    "#             fmm_legc[gene_name,names(match_rabbit)], \n",
    "# #             col = oc_mc@colors[unname(match_rabbit)], \n",
    "#                 ) + theme(legend.position=\"none\") + geom_point(color=oc_mc@colors[unname(match_rabbit)])\n",
    "#         grid.arrange(plot1, plot2, plot3, ncol=3)\n",
    "#         # Close the pdf file\n",
    "#         dev.off()\n",
    "        \n",
    "#         pdf(paste0(\"gene_rab_mus_scatters/\", gene_name,\"_dend.pdf\"), width=15, height=5)\n",
    "        x = unname(mm_mc@e_gc[gene_name,names(match_rabbit)])\n",
    "        y = unname(oc_mc@e_gc[gene_name,unname(match_rabbit)])\n",
    "        top_10 = (x+y)^2 >= quantile((x+y)^2, probs = seq(0, 1, 0.1))[10]\n",
    "        old_correction = max(0.5,min(2,mean(x[top_10]/y[top_10], na.rm=T)))\n",
    "        correction = unname(lm(x ~ 0 + y)$coefficients)\n",
    "        corrections[all_genes == gene_name] = correction\n",
    "        old_corrections[all_genes == gene_name] = old_correction\n",
    "        y = y*correction\n",
    "        x = log2(1e-5+x)\n",
    "        y = log2(1e-5+y)\n",
    "        xs[all_genes == gene_name,] = x\n",
    "        ys[all_genes == gene_name,] = y\n",
    "#         hclust_dend <- as.dendrogram(hclust(dist(abs(x-y))))\n",
    "#         colors_to_use <- oc_mc@colors[names(rabbit_egc[gene_name,unname(match_rabbit)])][order.dendrogram(hclust_dend)]\n",
    "#         labels_colors(hclust_dend) <- colors_to_use\n",
    "#         hclust_dend %>% set(\"leaves_pch\", 19) %>% set(\"leaves_cex\", 1) %>% set(\"leaves_col\", colors_to_use) %>% \n",
    "#         plot()\n",
    "#         dev.off()\n",
    "    }\n",
    "}"
   ]
  },
  {
   "cell_type": "code",
   "execution_count": null,
   "id": "faaece72",
   "metadata": {
    "ExecuteTime": {
     "end_time": "2022-10-13T10:49:19.282929Z",
     "start_time": "2022-10-13T10:49:19.013Z"
    }
   },
   "outputs": [],
   "source": [
    "rownames(corrections) = all_genes\n",
    "rownames(old_corrections) = all_genes"
   ]
  },
  {
   "cell_type": "code",
   "execution_count": null,
   "id": "7246770d",
   "metadata": {
    "ExecuteTime": {
     "end_time": "2022-10-13T10:49:20.079252Z",
     "start_time": "2022-10-13T10:49:19.796Z"
    }
   },
   "outputs": [],
   "source": [
    "corrections_f = corrections[corrections > 0.2 & corrections < 5 & !is.na(corrections)]\n",
    "xsf = xs[corrections > 0.2 & corrections < 5 & !is.na(corrections),]\n",
    "ysf = ys[corrections > 0.2 & corrections < 5 & !is.na(corrections),]"
   ]
  },
  {
   "cell_type": "code",
   "execution_count": null,
   "id": "b8918161",
   "metadata": {
    "ExecuteTime": {
     "end_time": "2022-10-13T14:19:35.308700Z",
     "start_time": "2022-10-13T14:19:34.837Z"
    }
   },
   "outputs": [],
   "source": [
    "corrections[\"IGF1\"]"
   ]
  },
  {
   "cell_type": "code",
   "execution_count": null,
   "id": "ad34786e",
   "metadata": {
    "ExecuteTime": {
     "end_time": "2022-10-13T10:49:22.236846Z",
     "start_time": "2022-10-13T10:49:20.308Z"
    }
   },
   "outputs": [],
   "source": [
    "ocf_egc = as.matrix(oc_mc@e_gc[names(corrections_f),])*as.vector(unname(corrections_f))\n",
    "ocf_legc = log2(1e-5+ocf_egc)\n",
    "ocf_legc_n = ocf_legc - rowMeans(ocf_legc)"
   ]
  },
  {
   "cell_type": "code",
   "execution_count": null,
   "id": "f951e8d0",
   "metadata": {
    "ExecuteTime": {
     "end_time": "2022-10-13T10:50:42.421771Z",
     "start_time": "2022-10-13T10:49:22.436Z"
    }
   },
   "outputs": [],
   "source": [
    "mm_ocf_cors = tgs_cor(mm_legc_n[names(corrections_f),], ocf_legc_n[names(corrections_f),])"
   ]
  },
  {
   "cell_type": "code",
   "execution_count": null,
   "id": "672bf802",
   "metadata": {
    "ExecuteTime": {
     "end_time": "2022-10-13T10:50:42.456894Z",
     "start_time": "2022-10-13T10:49:23.324Z"
    }
   },
   "outputs": [],
   "source": [
    "double_featured_good = intersect(\n",
    "    union(toupper(names(mm_gset@gene_set)), names(oc_gset@gene_set)),\n",
    "    names(corrections_f)\n",
    "    )"
   ]
  },
  {
   "cell_type": "code",
   "execution_count": null,
   "id": "a3b94df5",
   "metadata": {
    "ExecuteTime": {
     "end_time": "2022-10-13T10:52:04.926411Z",
     "start_time": "2022-10-13T10:49:24.100Z"
    }
   },
   "outputs": [],
   "source": [
    "df_mm_ocf_cors = tgs_cor(as.matrix(mm_legc_n[double_featured_good,]), as.matrix(ocf_legc_n[double_featured_good,]))"
   ]
  },
  {
   "cell_type": "code",
   "execution_count": null,
   "id": "ffd29b6b",
   "metadata": {
    "ExecuteTime": {
     "end_time": "2022-10-31T06:22:48.124773Z",
     "start_time": "2022-10-31T06:22:47.214Z"
    }
   },
   "outputs": [],
   "source": [
    "mm_md = mm_mat@cell_metadata\n",
    "mm_md$cellid = rownames(mm_md)\n",
    "mm_mc_t = (mm_md %>% left_join(tibble::enframe(mm_mc@mc) %>% rename(cellid=name, mcid=value)) %>% group_by(mcid) %>% summarise(t=mean(developmental_time, na.rm=T)))$t[mm_mc@annots]\n",
    "names(mm_mc_t) = mm_mc@annots\n",
    "\n",
    "oc_md = oc_mat@cell_metadata\n",
    "oc_md$cellid = rownames(oc_md)\n",
    "oc_mc_t = (oc_md %>% left_join(tibble::enframe(oc_mc@mc) %>% rename(cellid=name, mcid=value)) %>% group_by(mcid) %>% summarise(t=mean(developmental_time, na.rm=T)))$t[oc_mc@annots]\n",
    "names(oc_mc_t) = oc_mc@annots"
   ]
  },
  {
   "cell_type": "code",
   "execution_count": null,
   "id": "dd78cf35",
   "metadata": {
    "ExecuteTime": {
     "end_time": "2022-09-01T11:50:00.167861Z",
     "start_time": "2022-09-01T11:47:06.687Z"
    }
   },
   "outputs": [],
   "source": [
    "fwrite(tibble::enframe(oc_mc_t), \"oc_mct_all.csv\")"
   ]
  },
  {
   "cell_type": "code",
   "execution_count": null,
   "id": "78f689af",
   "metadata": {
    "ExecuteTime": {
     "end_time": "2022-10-31T06:22:50.149858Z",
     "start_time": "2022-10-31T06:22:49.862Z"
    }
   },
   "outputs": [],
   "source": [
    "oc_mc_t[is.na(oc_mc_t)] = 4"
   ]
  },
  {
   "cell_type": "code",
   "execution_count": null,
   "id": "4fa38b93",
   "metadata": {
    "ExecuteTime": {
     "end_time": "2022-10-31T06:22:50.563194Z",
     "start_time": "2022-10-31T06:22:50.230Z"
    }
   },
   "outputs": [],
   "source": [
    "mm_color_ord = c(\n",
    "'#FACB12', #PGC\n",
    "'#f7f79e', #Surface ectoderm\n",
    "'#C3C388', #Neural crest\n",
    "'#CDE088', #Neural tube/Floor plate\n",
    "'#647A4F', #Forebrain/Midbrain/Hindbrain\n",
    "'#354E23', #Caudal neural plate\n",
    "'#649146', #Rostral neural plate\n",
    "'#879E86', #Neural plate boundary\n",
    "'#90BF75', #Definitive ectoderm\n",
    "'#635547', #Epiblast\n",
    "'#DABE99', #Primitive streak\n",
    "'#9e6762', #Caudal epiblast\n",
    "'#8e7e59', #Tail bud - neural\n",
    "'#703C37', #Tail bud - mesoderm\n",
    "'#C594BF', #Early nascent mesoderm\n",
    "'#DFCDE4', #Late nascent mesoderm\n",
    "'#1a3f52', #Caudal mesoderm\n",
    "'#45d1c5', #Lateral & intermediate mesoderm\n",
    "'#408DA1', #Paraxial mesoderm\n",
    "'#A8DBF7', #Presomitic mesoderm\n",
    "'#1AA2EB', #Somitic mesoderm\n",
    "'#8DB5CE', #Rostral mesoderm\n",
    "'#53f1fc', #Cardiopharyngeal mesoderm\n",
    "'#B51D8D', #Cardiomyocytes\n",
    "'#8870ad', #ExE mesoderm\n",
    "'#cc7818', #Amnion/Chorion progenitor\n",
    "'#824A09', #Amnion/Chorion\n",
    "'#532C8A', #Allantois\n",
    "'#ff891c', #Endothelial cells\n",
    "'#FBBE92', #Haematoendothelial progenitors\n",
    "'#C9A997', #Blood projenitors\n",
    "'#C72228', #Erythroid 1\n",
    "'#FF5608', #Erythroid 3\n",
    "'#D96B2B', #Erythroid 2\n",
    "'#c19f70', #Anterior Primitive Streak\n",
    "'#0F4A9C', #Node/Notochord\n",
    "'#F397C0', #Definitive endoderm\n",
    "'#EF5A9D', #Gut\n",
    "'#F25CD4', #Hindgut\n",
    "'#BA9BA1', #Visceral endoderm - anterior\n",
    "'#F6BFCB', #Visceral endoderm\n",
    "'#7F6874', #ExE visceral endoderm\n",
    "'#1A1A1A',  #Parietal endoderm\n",
    "'#33CC33', # 4.5\n",
    "'#ffad1e', #Chorion\n",
    "'#ffd854', #Chorion progenitors\n",
    "'#b2b2b2', #TSC2\n",
    "'#19ce5b', #SpT-Gly\n",
    "'#d6616b', #EPC progenitors\n",
    "'#67000d', #TGC progenitors\n",
    "'#2e7ebc', #p-TGC\n",
    "'#ff78fa' #SpA-TGC\n",
    ")\n",
    "\n",
    "oc_color_ord = c( \n",
    "'#FACB12', #PGC\n",
    "'#E2F700', #Median TFAP\n",
    "'#f7f79e', #Surface ectoderm\n",
    "'#CDE087', #Floor plate\n",
    "'#C3C388', #Neural crest\n",
    "'#879E86', #Neural plate boundary\n",
    "# '#CDE089', #Neural tube Posterior\n",
    "'#CDE088', #Neural tube Anterior\n",
    "'#647A4F', #Forebrain/Midbrain/Hindbrain\n",
    "'#354E23', #Caudal neurectoderm\n",
    "'#649146', #rostral neurectoderm\n",
    "'#90BF75', #Ectoderm - Definitive\n",
    "'#635547', #epiblast\n",
    "'#DABE99', #Primitive streak\n",
    "'#9e6762', #caudal epiblast\n",
    "'#C594BF', #nascent mesoderm\n",
    "'#B6A8ED', #Nascent mesoderm - extraembryonic\n",
    "'#1a3f52', #caudal mesoderm\n",
    "'#45d1c5', #Lateral & intermediate mesoderm\n",
    "'#408DA1', #Paraxial Mesoderm\n",
    "'#A8DBF7', #Presomitic mesoderm\n",
    "'#1AA2EB', #Somitic mesoderm\n",
    "'#8DB5CE', #rostral mesoderm\n",
    "'#53f1fc', #Cardiopharyngeal mesoderm\n",
    "'#B51D8D', #Caridac\n",
    "'#8870ad', #ExE mesoderm\n",
    "'#cc7818', #Amnion\n",
    "'#A69369', #chorionic mesothelium\n",
    "'#532C8A', #Allantois\n",
    "'#966F1B', #Endothelial2\n",
    "'#ff891c', #Endothelial\n",
    "'#FBBE92', #Hematoendothelial\n",
    "'#c9a997', #Blood progenitors\n",
    "'#C72228', #Erythroid1\n",
    "'#FF5608', #Erythroid2\n",
    "'#c19f70', #Anterior primitive streak\n",
    "'#6666ED', #Node\n",
    "'#0F4A9C', #notochord\n",
    "'#F397C0', #definitive endoderm\n",
    "'#EF5A9E', #Gut\n",
    "'#EF5A9D', #Foregut\n",
    "'#F25CD4', #Hindgut\n",
    "'#CF6191', #Hypoblast-Anterior (Hhex/Lhx1/Cer1)\n",
    "'#F6BFCB', #hypoblast\n",
    "'#572E48', #Yolk sac\n",
    "'#050505', #Parietal Endoderm\n",
    "'#FF00B7', #DPPA3 TGM3\n",
    "'#7B00FF', #Dppa3 Hand1\n",
    "'#00FF15', #Dppa3 low Dusp6 neg\n",
    "'#D4EB63', #Dusp6 not other\n",
    "'#54DCE3', #Wfdc2 Aldoc\n",
    "'#FFFF00', #Gata2 Hand1\n",
    "'#FFA600' #Lgals3\n",
    ")\n",
    "\n",
    "mm_col_to_rank = c(1:length(mm_color_ord))\n",
    "names(mm_col_to_rank) = mm_color_ord\n",
    "mc_rank = 1000*mm_col_to_rank[mm_mc@colors] + mm_mc_t\n",
    "mm_mc_ord = order(mc_rank)\n",
    "mm_mc_ordered = names(mm_mc@colors)[mm_mc_ord]\n",
    "\n",
    "oc_col_to_rank = c(1:length(oc_color_ord))\n",
    "names(oc_col_to_rank) = oc_color_ord\n",
    "mc_rank = 1000*oc_col_to_rank[oc_mc@colors] + oc_mc_t\n",
    "oc_mc_ord = order(mc_rank)\n",
    "oc_mc_ordered = names(oc_mc@colors)[oc_mc_ord]"
   ]
  },
  {
   "cell_type": "code",
   "execution_count": null,
   "id": "1aa1e430",
   "metadata": {
    "ExecuteTime": {
     "end_time": "2022-10-13T11:16:26.727998Z",
     "start_time": "2022-10-13T11:16:26.301Z"
    }
   },
   "outputs": [],
   "source": [
    "ym = oc_mc@e_gc[intersect(rownames(oc_mc@e_gc),ym_exe_gs) ,oc_mc_ordered[2581:length(oc_mc_ordered)]]"
   ]
  },
  {
   "cell_type": "code",
   "execution_count": null,
   "id": "02903714",
   "metadata": {
    "ExecuteTime": {
     "end_time": "2022-10-13T11:16:28.358919Z",
     "start_time": "2022-10-13T11:16:28.061Z"
    }
   },
   "outputs": [],
   "source": [
    "ym_legc = log2(1e-5+ym)\n",
    "ym_legc_n = ym_legc - rowMeans(ym_legc)"
   ]
  },
  {
   "cell_type": "code",
   "execution_count": null,
   "id": "0814996f",
   "metadata": {
    "ExecuteTime": {
     "end_time": "2022-10-13T11:17:12.390875Z",
     "start_time": "2022-10-13T11:17:10.661Z"
    }
   },
   "outputs": [],
   "source": [
    "options(repr.plot.width=7, repr.plot.height=4)\n",
    "paletteLength = 100\n",
    "myColor <- colorRampPalette(c(\"white\",\"white\", \"red\"))(paletteLength)\n",
    "myBreaks <- c(seq(-4, 0, length.out=ceiling(paletteLength/2) + 1),\n",
    "              seq(3/paletteLength, 4, length.out=floor(paletteLength/2)))\n",
    "\n",
    "ph = pheatmap::pheatmap(cluster_cols = F, cluster_rows = F,\n",
    "    ym_legc_n[intersect(rownames(oc_mc@e_gc),ym_exe_gs),],\n",
    "    col=myColor, \n",
    "    breaks=myBreaks,\n",
    "    annotation_col = data.frame(rabbit_color = oc_mc_cats),\n",
    "#     annotation_row = data.frame(mouse_color=mm_mc_cats),\n",
    "    annotation_colors = list(rabbit_color=oc_cat2col, mouse_color=mm_cat2col)\n",
    "                   )"
   ]
  },
  {
   "cell_type": "code",
   "execution_count": null,
   "id": "b01fc547",
   "metadata": {
    "ExecuteTime": {
     "end_time": "2022-10-13T11:15:29.867563Z",
     "start_time": "2022-10-13T11:15:29.581Z"
    }
   },
   "outputs": [],
   "source": [
    "ym_exe_gs = c(\"KIT\",\n",
    "\"KITLG\",\n",
    "\"ANGPT1\",\n",
    "\"ANGPT2\",\n",
    "\"ANGPT4\",\n",
    "\"PDGFA\",\n",
    "\"PDGFB\",\n",
    "\"PDGFC\",\n",
    "\"PDGFD\",\n",
    "\"IGF1\",\n",
    "\"IGF2\",\n",
    "\"IGFL1\",\n",
    "\"IGFL2\",\n",
    "\"IGFL3\",\n",
    "\"GDF10\",\n",
    "\"GDF11\",\n",
    "\"GDF2\",\n",
    "\"GDF5\",\n",
    "\"GDF6\",\n",
    "\"GDF7\",\n",
    "\"GDF9\",\n",
    "\"BMP2\",\n",
    "\"BMP4\",\n",
    "\"BMP6\",\n",
    "\"BMP7\",\n",
    "\"BMP8B\",\n",
    "\"EGF\",\n",
    "\"NOTCH1\",\n",
    "\"NOTCH2\",\n",
    "\"NOTCH3\",\n",
    "\"NOTCH4\",\n",
    "\"FGF10\",\n",
    "\"FGF11\",\n",
    "\"FGF12\",\n",
    "\"FGF13\",\n",
    "\"FGF14\",\n",
    "\"FGF16\",\n",
    "\"FGF17\",\n",
    "\"FGF18\",\n",
    "\"FGF19\",\n",
    "\"FGF1\",\n",
    "\"FGF20\",\n",
    "\"FGF21\",\n",
    "\"FGF22\",\n",
    "\"FGF23\",\n",
    "\"FGF2\",\n",
    "\"FGF3\",\n",
    "\"FGF4\",\n",
    "\"FGF5\",\n",
    "\"FGF6\",\n",
    "\"FGF7\",\n",
    "\"FGF8\",\n",
    "\"FGF9\",\n",
    "\"SEMA3A\",\n",
    "\"SEMA3B\",\n",
    "\"SEMA3C\",\n",
    "\"SEMA3D\",\n",
    "\"SEMA3E\",\n",
    "\"SEMA3F\",\n",
    "\"SEMA3G\",\n",
    "\"SEMA4A\",\n",
    "\"SEMA4B\",\n",
    "\"SEMA4C\",\n",
    "\"SEMA4D\",\n",
    "\"SEMA4F\",\n",
    "\"SEMA4G\",\n",
    "\"SEMA5A\",\n",
    "\"SEMA6A\",\n",
    "\"SEMA6D\",\n",
    "\"SEMA7A\",\n",
    "\"SHH\",\n",
    "\"DHH\",\n",
    "\"IHH\",\n",
    "\"NODAL\",\n",
    "\"INHA\",\n",
    "\"INHBA\",\n",
    "\"INHBB\",\n",
    "\"INHBC\",\n",
    "\"INHBE\",\n",
    "\"TGFA\",\n",
    "\"TGFB1\",\n",
    "\"TGFB2\",\n",
    "\"TGFB3\",\n",
    "\"WNT11\",\n",
    "\"WNT16\",\n",
    "\"WNT1\",\n",
    "\"WNT2\",\n",
    "\"WNT3A\",\n",
    "\"WNT3\",\n",
    "\"WNT4\",\n",
    "\"WNT5A\",\n",
    "\"WNT7A\",\n",
    "\"WNT7B\",\n",
    "\"APLN\",\n",
    "\"APELA\",\n",
    "\"VEGFA\",\n",
    "\"VEGFB\",\n",
    "\"VEGFC\",\n",
    "\"GDF3\",\n",
    "\"WNT8\",\n",
    "\"WNT8A\",\n",
    "\"WNT6\",\n",
    "\"WNT2B\",\n",
    "\"WNT9B\",\n",
    "\"LEFTY1\",\n",
    "\"LEFTY2\",\n",
    "\"FURIN\",\n",
    "\"TEK\",\n",
    "\"TIE1\",\n",
    "\"PDGFRA\",\n",
    "\"PDGFRB\",\n",
    "\"IGF1R\",\n",
    "\"IGF2R\",\n",
    "\"INSR\",\n",
    "\"IGFLR1\",\n",
    "\"ACVR1B\",\n",
    "\"ACVR2A\",\n",
    "\"ACVR2B\",\n",
    "\"ACVR1\",\n",
    "\"ACVRL1\",\n",
    "\"BMPR2\",\n",
    "\"BMPR1A\",\n",
    "\"BMPR1B\",\n",
    "\"TGFBR1\",\n",
    "\"EGFR\",\n",
    "\"DLL1\",\n",
    "\"DLL3\",\n",
    "\"DLL4\",\n",
    "\"JAG1\",\n",
    "\"JAG2\",\n",
    "\"FGFR1\",\n",
    "\"FGFR2\",\n",
    "\"FGFR3\",\n",
    "\"FGFR4\",\n",
    "\"FGFRL1\",\n",
    "\"NRP1\",\n",
    "\"NRP2\",\n",
    "\"PLXNA1\",\n",
    "\"PLXNA2\",\n",
    "\"PLXNA3\",\n",
    "\"PLXNA4\",\n",
    "\"PLXND1\",\n",
    "\"PLXNB2\",\n",
    "\"PLXNB1\",\n",
    "\"PLXNB3\",\n",
    "\"PLXNC1\",\n",
    "\"PTCH1\",\n",
    "\"PTCH2\",\n",
    "\"SMO\",\n",
    "\"ACVR1C\",\n",
    "\"TGFBR3\",\n",
    "\"TGFBR2\",\n",
    "\"KDR\",\n",
    "\"FZD7\",\n",
    "\"FZD6\",\n",
    "\"FZD1\",\n",
    "\"FZD3\",\n",
    "\"FZD5\",\n",
    "\"FZD8\",\n",
    "\"FZD9\",\n",
    "\"FZD2\",\n",
    "\"FZD4\",\n",
    "\"FZD10\",\n",
    "\"APLNR\",\n",
    "\"ROR1\",\n",
    "\"ROR2\",\n",
    "\"LRP1\",\n",
    "\"FLT1\",\n",
    "\"FLT4\",\n",
    "\"LRP2\",\n",
    "\"ERBB2\",\n",
    "\"ERBB3\",\n",
    "\"ERBB4\",\n",
    "\"SMO\",\n",
    "\"FLT3\",\n",
    "\"TDGF1\",\n",
    "\"LRP6\",\n",
    "\"LRP5\",\n",
    "\"RSPO3\",\n",
    "\"NOG\",\n",
    "\"FST\",\n",
    "\"HHIP\",\n",
    "\"LEFTY2\",\n",
    "\"LEFTY1\",\n",
    "\"CER1\",\n",
    "\"BAMBI\",\n",
    "\"DKK1\",\n",
    "\"DKK2\",\n",
    "\"DLK1\",\n",
    "\"DLK2\",\n",
    "\"IGFBP1\",\n",
    "\"IGFBP2\",\n",
    "\"IGFBP3\",\n",
    "\"IGFBP4\",\n",
    "\"IGFBP5\",\n",
    "\"IGFBP6\",\n",
    "\"IGFBP7\",\n",
    "\"SFRP1\",\n",
    "\"SFRP2\",\n",
    "\"SFRP3\",\n",
    "\"SFRP4\",\n",
    "\"SFRP5\",\n",
    "\"GDF3\",\n",
    "\"CHRD\")"
   ]
  },
  {
   "cell_type": "code",
   "execution_count": null,
   "id": "f4edeff6",
   "metadata": {
    "ExecuteTime": {
     "end_time": "2022-10-11T14:45:14.491761Z",
     "start_time": "2022-10-11T14:45:14.371Z"
    }
   },
   "outputs": [],
   "source": [
    "ym_exe_gs = c(\"CER1\", \"HHEX\", \"OTX2\",  \"APOA4\", \"DAB2\", \"APOA1\", \"FGB\", \"TF\", \n",
    "\"AFP\", \"SULT1E1\", \"EPAS1\", \"SOX17\",  \"DPPA3\", \"TGM3\", \n",
    "              \"PLET1\", \"PTGS2\", \"TFAP2C\", \"TFAP2A\", \"GATA2\", \"GATA3\", \"WFDC2\", \n",
    "\"HAND1\", \"ALDOC\", \"NFE2L3\", \"MITF\", \"ZBTB10\"\n",
    "    )"
   ]
  },
  {
   "cell_type": "code",
   "execution_count": null,
   "id": "3ee4cfaa",
   "metadata": {
    "ExecuteTime": {
     "end_time": "2022-09-01T12:30:22.993556Z",
     "start_time": "2022-09-01T12:30:21.929Z"
    }
   },
   "outputs": [],
   "source": [
    "save_pheatmap_pdf(ph,paste0(\"pheatmap_exes.pdf\"), width=7, height=4)"
   ]
  },
  {
   "cell_type": "code",
   "execution_count": null,
   "id": "39d6c917",
   "metadata": {
    "ExecuteTime": {
     "end_time": "2022-10-11T14:46:09.253898Z",
     "start_time": "2022-10-11T14:46:03.372Z"
    }
   },
   "outputs": [],
   "source": [
    "options(repr.plot.width=15, repr.plot.height=12)\n",
    "paletteLength = 100\n",
    "\n",
    "myColor <- colorRampPalette(c(\"blue\",\"white\", \"red\"))(paletteLength)\n",
    "myBreaks <- c(seq(min(df_mm_ocf_cors), 0, length.out=ceiling(paletteLength/2) + 1),\n",
    "              seq(3/paletteLength, max(df_mm_ocf_cors), length.out=floor(paletteLength/2)))\n",
    "pheatmap::pheatmap(\n",
    "    df_mm_ocf_cors[mm_mc_ordered[1510:length(mm_mc_ordered)], oc_mc_ordered[2581:length(oc_mc_ordered)]], \n",
    "    col=myColor, \n",
    "    breaks=myBreaks,\n",
    "    annotation_col = data.frame(rabbit_color = oc_mc_cats),\n",
    "    annotation_row = data.frame(mouse_color=mm_mc_cats),\n",
    "    annotation_colors = list(rabbit_color=oc_cat2col, mouse_color=mm_cat2col),\n",
    "#     cluster_rows = F,\n",
    "#     cluster_cols = F\n",
    ")"
   ]
  },
  {
   "cell_type": "code",
   "execution_count": null,
   "id": "a3f9bc83",
   "metadata": {
    "ExecuteTime": {
     "end_time": "2022-08-11T05:57:19.473604Z",
     "start_time": "2022-08-11T05:57:15.978Z"
    }
   },
   "outputs": [],
   "source": [
    "options(repr.plot.width=15, repr.plot.height=12)\n",
    "paletteLength = 100\n",
    "\n",
    "myColor <- colorRampPalette(c(\"blue\",\"white\", \"red\"))(paletteLength)\n",
    "myBreaks <- c(seq(min(df_mm_ocf_cors), 0, length.out=ceiling(paletteLength/2) + 1),\n",
    "              seq(3/paletteLength, max(df_mm_ocf_cors), length.out=floor(paletteLength/2)))\n",
    "pheatmap::pheatmap(\n",
    "    df_mm_ocf_cors[mm_mc_ordered[1510:length(mm_mc_ordered)], oc_mc_ordered[2581:length(oc_mc_ordered)]], \n",
    "    col=myColor, \n",
    "    breaks=myBreaks,\n",
    "    annotation_col = data.frame(rabbit_color = oc_mc_cats),\n",
    "    annotation_row = data.frame(mouse_color=mm_mc_cats),\n",
    "    annotation_colors = list(rabbit_color=oc_cat2col, mouse_color=mm_cat2col),\n",
    "    cluster_rows = F,\n",
    "    cluster_cols = F\n",
    ")"
   ]
  },
  {
   "cell_type": "code",
   "execution_count": null,
   "id": "77aea590",
   "metadata": {
    "ExecuteTime": {
     "end_time": "2022-10-13T11:17:34.593043Z",
     "start_time": "2022-10-13T11:17:32.533Z"
    }
   },
   "outputs": [],
   "source": [
    "md = oc_mat@cell_metadata\n",
    "md[md$embryo=='Rab5_e6_Anterior',]$embryo = \"Rab5_e6\"\n",
    "md[md$embryo=='Rab5_e6_Posterior',]$embryo = \"Rab5_e6\"\n",
    "\n",
    "md[md$embryo=='Rab8_e6_Anterior',]$embryo = \"Rab8_e6\"\n",
    "md[md$embryo=='Rab8_e6_Posterior',]$embryo = \"Rab8_e6\"\n",
    "md[md$embryo=='Rab8_e6_Trunk',]$embryo = \"Rab8_e6\"\n",
    "\n",
    "md[md$embryo=='0824e4_anterior',]$embryo = \"0824e4\"\n",
    "md[md$embryo=='0824e4_posterior',]$embryo = \"0824e4\"\n",
    "md[md$embryo=='0824e4_middle',]$embryo = \"0824e4\"\n",
    "\n",
    "md[md$embryo=='Rab15_e1_head',]$embryo = \"Rab15_e1\"\n",
    "md[md$embryo=='Rab15_e1_midAnt',]$embryo = \"Rab15_e1\"\n",
    "md[md$embryo=='Rab15_e1_midPost',]$embryo = \"Rab15_e1\"\n",
    "md[md$embryo=='Rab15_e1_tail',]$embryo = \"Rab15_e1\""
   ]
  },
  {
   "cell_type": "code",
   "execution_count": null,
   "id": "75774751",
   "metadata": {
    "ExecuteTime": {
     "end_time": "2022-10-13T11:17:34.621712Z",
     "start_time": "2022-10-13T11:17:33.477Z"
    }
   },
   "outputs": [],
   "source": [
    "# filtered bubble 220411 rebubbled\n",
    "mega_order = c(\"rab13_e11\",\"rab13_e5\",\"rab13_e3\",\"rab13_e1\",\"rab13_e9\",\"rab13_e10\",\"rab13_e8\",\"Rab3_e5\",\"Rab3_e7\",\"Rab3_e6\",\"Rab3_f1e11\",\"Rab3_f1e9\",\"Rab3_f1e13\",\"Rab3_f1e2\",\"Rab7_e6\",\"Rab7_e7\",\"Rab1_f1e4\",\"Rab7_e2\",\"Rab1_f1e2\",\"Rab7_e3\",\"Rab1_f1e7\",\"Rab1_f1e6\",\"Rab7_e4\",\"Rab1_f1e5\",\"Rab1_f1e3\",\"Rab1_f1e1\",\"Rab6_e2\",\"Rab6_e11\",\"Rab9_e3\",\"Rab9_e6\",\"Rab9_e5\",\"Rab6_e8\",\"Rab6_e5\",\"Rab6_e10\",\"Rab6_e3\",\"Rab6_e9\",\"Rab1_f2e2\",\"Rab9_e1\",\"Rab1_f2e4\",\"Rab9_e2\",\"Rab1_f2e6\",\"0830e1\",\"Rab1_f2e7\",\"0830e10\",\"Rab5_e1\",\"Rab1_f2e3\",\"Rab1_f2e8\",\"Rab1_f2e9\",\"Rab1_f2e5\",\"Rab5_e7\",\"0830e2\",\"0824e5\",\"0830e9\",\"0830e6\",\"0830e11\",\"0830e4\",\"0830e7\",\"Rab9_e4\",\"0830e8\",\"0830e5\",\"0830e3\",\"0824e1\",\"Rab5_e6\",\"Rab5_e2\",\"0824e2\",\"rab2_f2e2\",\"Rab5_e4\",\"0824e4\",\"Rab8_e5\",\"rab2_f2e1\",\"0824e3\",\"Rab8_e4\",\"Rab8_e1\",\"rab2_f2e3\",\"Rab8_e2\",\"rab2_f1e1\",\"rab2_f1e6\",\"rab2_f1e4\",\"rab2_f2e5\",\"rab2_f1e2\",\"rab2_f2e4\",\"Rab8_e6\",\"Rab8_e3\",\"rab2_f1e8\",\"rab2_f1e5\",\"rab2_f1e9\",\"rab2_f1e3\",\"Rab12_e5\",\"Rab12_e8\",\"Rab15_e7\",\"Rab15_e9\",\"Rab15_e6\",\"Rab15_e8\",\"Rab15_e1\",\"Rab12_e2\",\"rab14_e9\",\"Rab12_e6\",\"rab14_e8\",\"Rab12_e4\",\"rab14_e7\",\"rab14_e3\",\"rab14_e5\",\"rab14_e10\",\"Rab12_e1\",\"rab14_e6\",\"rab14_e4\",\"rab14_e2\",\"rab14_e1\")"
   ]
  },
  {
   "cell_type": "code",
   "execution_count": null,
   "id": "ef2e4457",
   "metadata": {
    "ExecuteTime": {
     "end_time": "2022-10-13T11:17:34.785278Z",
     "start_time": "2022-10-13T11:17:34.509Z"
    }
   },
   "outputs": [],
   "source": [
    "oc_color_ord = c( \n",
    "'#FACB12', #PGC\n",
    "'#E2F700', #Median TFAP\n",
    "'#f7f79e', #Surface ectoderm\n",
    "'#CDE087', #Floor plate\n",
    "'#C3C388', #Neural crest\n",
    "'#879E86', #Neural plate boundary\n",
    "# '#CDE089', #Neural tube Posterior\n",
    "'#CDE088', #Neural tube Anterior\n",
    "'#647A4F', #Forebrain/Midbrain/Hindbrain\n",
    "'#354E23', #Caudal neurectoderm\n",
    "'#649146', #rostral neurectoderm\n",
    "'#90BF75', #Ectoderm - Definitive\n",
    "'#635547', #epiblast\n",
    "'#DABE99', #Primitive streak\n",
    "'#9e6762', #caudal epiblast\n",
    "'#C594BF', #nascent mesoderm\n",
    "'#B6A8ED', #Nascent mesoderm - extraembryonic\n",
    "'#1a3f52', #caudal mesoderm\n",
    "'#45d1c5', #Lateral & intermediate mesoderm\n",
    "'#408DA1', #Paraxial Mesoderm\n",
    "'#A8DBF7', #Presomitic mesoderm\n",
    "'#1AA2EB', #Somitic mesoderm\n",
    "'#8DB5CE', #rostral mesoderm\n",
    "'#53f1fc', #Cardiopharyngeal mesoderm\n",
    "'#B51D8D', #Caridac\n",
    "'#8870ad', #ExE mesoderm\n",
    "'#cc7818', #Amnion\n",
    "'#A69369', #chorionic mesothelium\n",
    "'#532C8A', #Allantois\n",
    "'#966F1B', #Endothelial2\n",
    "'#ff891c', #Endothelial\n",
    "'#FBBE92', #Hematoendothelial\n",
    "'#c9a997', #Blood progenitors\n",
    "'#C72228', #Erythroid1\n",
    "'#FF5608', #Erythroid2\n",
    "'#c19f70', #Anterior primitive streak\n",
    "'#6666ED', #Node\n",
    "'#0F4A9C', #notochord\n",
    "'#F397C0', #definitive endoderm\n",
    "'#EF5A9E', #Gut\n",
    "'#EF5A9D', #Foregut\n",
    "'#F25CD4', #Hindgut\n",
    "\n",
    "'#CF6191', #Hypoblast-Anterior (Hhex/Lhx1/Cer1)\n",
    "'#F6BFCB', #hypoblast\n",
    "'#572E48', #Yolk sac\n",
    "'#050505', #Parietal Endoderm\n",
    "\n",
    "'#7B00FF', #Dppa3 Hand1\n",
    "'#00FF15', #Dppa3 low Dusp6 neg\n",
    "'#FF00B7', #DPPA3 TGM3\n",
    "'#D4EB63', #Dusp6 not other\n",
    "'#FFFF00', #Gata2 Hand1\n",
    "'#FFA600', #Lgals3\n",
    "'#54DCE3' #Wfdc2 Aldoc\n",
    ")"
   ]
  },
  {
   "cell_type": "code",
   "execution_count": null,
   "id": "39246f5c",
   "metadata": {
    "ExecuteTime": {
     "end_time": "2022-10-13T11:18:53.215188Z",
     "start_time": "2022-10-13T11:18:52.935Z"
    }
   },
   "outputs": [],
   "source": [
    "onset_embryos = intersect(mega_order, oc_groups[oc_groups$chunk %in% c(1,2,3),]$embryo)"
   ]
  },
  {
   "cell_type": "code",
   "execution_count": null,
   "id": "4c036088",
   "metadata": {
    "ExecuteTime": {
     "end_time": "2022-10-13T11:18:54.388130Z",
     "start_time": "2022-10-13T11:18:54.102Z"
    }
   },
   "outputs": [],
   "source": [
    "onset_embryos"
   ]
  },
  {
   "cell_type": "code",
   "execution_count": null,
   "id": "a4829d21",
   "metadata": {
    "ExecuteTime": {
     "end_time": "2022-10-13T11:18:55.086802Z",
     "start_time": "2022-10-13T11:18:54.799Z"
    }
   },
   "outputs": [],
   "source": [
    "length(onset_embryos)"
   ]
  },
  {
   "cell_type": "code",
   "execution_count": null,
   "id": "498b9026",
   "metadata": {
    "ExecuteTime": {
     "end_time": "2022-10-13T11:18:55.957922Z",
     "start_time": "2022-10-13T11:18:55.614Z"
    }
   },
   "outputs": [],
   "source": [
    "mc_t = table(md[names(oc_mc@mc),\"embryo\"], oc_mc@colors[oc_mc@mc])\n",
    "mc_t = mc_t[mega_order,]#[setdiff(rownames(mc_t), c('8.24e+08')),]"
   ]
  },
  {
   "cell_type": "code",
   "execution_count": null,
   "id": "f0b915d8",
   "metadata": {
    "ExecuteTime": {
     "end_time": "2022-10-13T11:18:56.744943Z",
     "start_time": "2022-10-13T11:18:56.134Z"
    }
   },
   "outputs": [],
   "source": [
    "embord = unique(mm_mat@cell_metadata[,c(\"embryo\",\"transcriptional_rank\")])\n",
    "embord = embord[!is.na(embord$transcriptional_rank),]\n",
    "mm_transcriptional_rank = embord[order(embord$transcriptional_rank),]$embryo"
   ]
  },
  {
   "cell_type": "code",
   "execution_count": null,
   "id": "4d0c5c9a",
   "metadata": {
    "ExecuteTime": {
     "end_time": "2022-10-13T11:18:57.309785Z",
     "start_time": "2022-10-13T11:18:56.990Z"
    }
   },
   "outputs": [],
   "source": [
    "mm_mc_t = table(mm_mat@cell_metadata[names(mm_mc@mc),\"embryo\"], mm_mc@colors[mm_mc@mc])\n",
    "mm_mc_t = mm_mc_t[setdiff(mm_transcriptional_rank, c(\"EXE26_pooled\", \"EXE27_pooled\")),]#[setdiff(rownames(mc_t), c('8.24e+08')),]"
   ]
  },
  {
   "cell_type": "code",
   "execution_count": null,
   "id": "1477ae0c",
   "metadata": {
    "ExecuteTime": {
     "end_time": "2022-10-13T11:19:39.280630Z",
     "start_time": "2022-10-13T11:19:38.992Z"
    }
   },
   "outputs": [],
   "source": [
    "dim(mm_mc_t)"
   ]
  },
  {
   "cell_type": "code",
   "execution_count": null,
   "id": "9d9ca773",
   "metadata": {
    "ExecuteTime": {
     "end_time": "2022-10-13T12:25:02.727178Z",
     "start_time": "2022-10-13T12:25:02.385Z"
    }
   },
   "outputs": [],
   "source": [
    "mm_emb_cols = toupper(mm_color_ord[1:39])\n",
    "mm_exem_cols = toupper(mm_color_ord[40:43])\n",
    "mm_exec_cols = toupper(mm_color_ord[45:52])\n",
    "mm_mc_tn_emb = (mm_mc_t[,mm_emb_cols]/rowSums(mm_mc_t[,mm_emb_cols]))\n",
    "mm_mc_tn_exem = (mm_mc_t[,mm_exem_cols]/rowSums(mm_mc_t[,mm_exem_cols]))\n",
    "mm_mc_tn_exec = (mm_mc_t[,mm_exec_cols]/rowSums(mm_mc_t[,mm_exec_cols]))"
   ]
  },
  {
   "cell_type": "code",
   "execution_count": null,
   "id": "826a72b5",
   "metadata": {
    "ExecuteTime": {
     "end_time": "2022-10-13T12:25:09.614809Z",
     "start_time": "2022-10-13T12:25:09.272Z"
    }
   },
   "outputs": [],
   "source": [
    "emb_cols = oc_color_ord[1:41]\n",
    "exem_cols = oc_color_ord[42:45]\n",
    "exec_cols = oc_color_ord[46:52]\n",
    "\n",
    "# oc_color_ord[1:41]\n",
    "# oc_color_ord[42:45]\n",
    "# oc_color_ord[46:52]\n",
    "mc_tn_emb = (mc_t[,emb_cols]/rowSums(mc_t[,emb_cols]))\n",
    "mc_tn_exem = (mc_t[,exem_cols]/rowSums(mc_t[,exem_cols]))\n",
    "mc_tn_exec = (mc_t[,exec_cols]/rowSums(mc_t[,exec_cols]))"
   ]
  },
  {
   "cell_type": "code",
   "execution_count": null,
   "id": "982bd114",
   "metadata": {
    "ExecuteTime": {
     "end_time": "2022-10-13T12:25:15.113045Z",
     "start_time": "2022-10-13T12:25:12.640Z"
    },
    "scrolled": false
   },
   "outputs": [],
   "source": [
    "options(repr.plot.width=25, repr.plot.height=12)\n",
    "# pdf(\"freq_plot.pdf\", width=25, height=12)\n",
    "op <- par(mar = c(10,4,4,2) + 0.1)\n",
    "# barplot(t(mc_tn), col=colnames(mc_tn), las=2)\n",
    "mc_tn_emb = (mc_t[,emb_cols]/rowSums(mc_t[,emb_cols]))\n",
    "mc_tn_exem = (mc_t[,exem_cols]/rowSums(mc_t[,exem_cols]))\n",
    "mc_tn_exec = (mc_t[,exec_cols]/rowSums(mc_t[,exec_cols]))\n",
    "mc_t_emb = mc_t[,emb_cols]\n",
    "mc_t_exem = mc_t[,exem_cols]\n",
    "mc_t_exec = mc_t[,exec_cols]\n",
    "barplot(t(mc_tn_emb[,emb_cols]), col=colnames(mc_tn_emb[,emb_cols]), las=2)\n",
    "barplot(t(mc_tn_exem[,exem_cols]), col=colnames(mc_tn_exem[,exem_cols]), las=2)\n",
    "barplot(t(mc_tn_exec[,exec_cols]), col=colnames(mc_tn_exec[,exec_cols]), las=2)\n",
    "barplot(log2(1+t(mc_t_emb[,emb_cols])), col=colnames(mc_t_emb[,emb_cols]), las=2)\n",
    "barplot(log2(1+t(mc_t_exem[,exem_cols])), col=colnames(mc_t_exem[,exem_cols]), las=2)\n",
    "barplot(log2(1+t(mc_t_exec[,exec_cols])), col=colnames(mc_t_exec[,exec_cols]), las=2)\n",
    "# barplot(t(mc_tn[order(-mc_tn[,\"#635547\"]),color_ord]), col=colnames(mc_tn[,color_ord]), las=2)\n",
    "# barplot(t(mc_tn[order(-(mc_tn[,\"#635547\"]-mc_tn[,'#A69369']-mc_tn[,'#89AB69']-mc_tn[,'#FA5F05']-mc_tn[,'#966F1B']-mc_tn[,'#005579']-mc_tn[,'#13095C'])),color_ord]), col=colnames(mc_tn[,color_ord]), las=2)\n",
    "# dev.off()\n",
    "# par(op) ## reset"
   ]
  },
  {
   "cell_type": "code",
   "execution_count": null,
   "id": "7f432901",
   "metadata": {
    "ExecuteTime": {
     "end_time": "2022-10-13T11:17:51.736314Z",
     "start_time": "2022-10-13T11:17:46.590Z"
    }
   },
   "outputs": [],
   "source": [
    "library(tidyverse)"
   ]
  },
  {
   "cell_type": "code",
   "execution_count": null,
   "id": "15abd6db",
   "metadata": {
    "ExecuteTime": {
     "end_time": "2022-10-13T11:17:51.775848Z",
     "start_time": "2022-10-13T11:17:47.013Z"
    }
   },
   "outputs": [],
   "source": [
    "oc_groups = read.table(\"oc_embs_grouping.txt\", sep=\"\\t\", header = T)\n",
    "rownames(oc_groups) = oc_groups$embryo"
   ]
  },
  {
   "cell_type": "code",
   "execution_count": null,
   "id": "95245faa",
   "metadata": {
    "ExecuteTime": {
     "end_time": "2022-10-13T12:24:11.200777Z",
     "start_time": "2022-10-13T12:24:10.761Z"
    }
   },
   "outputs": [],
   "source": [
    "oc_flat_groups = data.frame(mc_t[mega_order,]) %>% rename(embryo=Var1, color=Var2) %>% inner_join(oc_groups, on=embryo) %>% group_by(chunk, color) %>% summarise(Freq = sum(Freq, na.rm = TRUE)) %>% spread(key = color, value = Freq) %>% remove_rownames %>% column_to_rownames(var=\"chunk\")"
   ]
  },
  {
   "cell_type": "code",
   "execution_count": null,
   "id": "ef49fa93",
   "metadata": {
    "ExecuteTime": {
     "end_time": "2022-10-13T11:18:08.034992Z",
     "start_time": "2022-10-13T11:18:07.750Z"
    }
   },
   "outputs": [],
   "source": [
    "mm_groups = read.table(\"mm_embs_grouping.txt\", sep=\"\\t\", header = T)\n",
    "rownames(mm_groups) = mm_groups$embryo"
   ]
  },
  {
   "cell_type": "code",
   "execution_count": null,
   "id": "74a11474",
   "metadata": {
    "ExecuteTime": {
     "end_time": "2022-10-13T11:18:12.331076Z",
     "start_time": "2022-10-13T11:18:12.031Z"
    }
   },
   "outputs": [],
   "source": [
    "mm_groups"
   ]
  },
  {
   "cell_type": "code",
   "execution_count": null,
   "id": "28cc68d3",
   "metadata": {
    "ExecuteTime": {
     "end_time": "2022-10-13T11:17:59.878899Z",
     "start_time": "2022-10-13T11:17:59.453Z"
    }
   },
   "outputs": [],
   "source": [
    "data.frame(mm_mc_t) %>% rename(embryo=Var1, color=Var2)# %>% inner_join(mm_groups, on=embryo)"
   ]
  },
  {
   "cell_type": "code",
   "execution_count": null,
   "id": "58c28767",
   "metadata": {
    "ExecuteTime": {
     "end_time": "2022-10-13T11:18:04.453491Z",
     "start_time": "2022-10-13T11:18:04.054Z"
    }
   },
   "outputs": [],
   "source": [
    "mm_embs_11_groups = fread(\"mm_embs_11_groups.csv\")"
   ]
  },
  {
   "cell_type": "code",
   "execution_count": null,
   "id": "1f3ce7cd",
   "metadata": {
    "ExecuteTime": {
     "end_time": "2022-10-13T12:24:17.296146Z",
     "start_time": "2022-10-13T12:24:16.866Z"
    }
   },
   "outputs": [],
   "source": [
    "mm_flat_groups = data.frame(mm_mc_t) %>% rename(embryo=Var1, color=Var2) %>% inner_join(mm_embs_11_groups, on=embryo) %>% group_by(age_group_emb, color) %>% summarise(Freq = sum(Freq, na.rm = TRUE)) %>% spread(key = color, value = Freq) %>% remove_rownames %>% column_to_rownames(var=\"age_group_emb\")"
   ]
  },
  {
   "cell_type": "code",
   "execution_count": null,
   "id": "24559534",
   "metadata": {
    "ExecuteTime": {
     "end_time": "2022-10-13T11:18:35.534924Z",
     "start_time": "2022-10-13T11:18:35.238Z"
    }
   },
   "outputs": [],
   "source": [
    "mm_emb_cols = toupper(mm_color_ord[1:39])\n",
    "mm_exem_cols = toupper(mm_color_ord[40:43])\n",
    "mm_exec_cols = toupper(mm_color_ord[45:52])\n",
    "mm_mc_tn_emb = (mm_mc_t[,mm_emb_cols]/rowSums(mm_mc_t[,mm_emb_cols]))\n",
    "mm_mc_tn_exem = (mm_mc_t[,mm_exem_cols]/rowSums(mm_mc_t[,mm_exem_cols]))\n",
    "mm_mc_tn_exec = (mm_mc_t[,mm_exec_cols]/rowSums(mm_mc_t[,mm_exec_cols]))"
   ]
  },
  {
   "cell_type": "code",
   "execution_count": null,
   "id": "9737454f",
   "metadata": {
    "ExecuteTime": {
     "end_time": "2022-10-13T12:21:25.807776Z",
     "start_time": "2022-10-13T12:21:25.485Z"
    }
   },
   "outputs": [],
   "source": [
    "growth_factors = ym_exe_gs"
   ]
  },
  {
   "cell_type": "code",
   "execution_count": null,
   "id": "2876c4d7",
   "metadata": {
    "ExecuteTime": {
     "end_time": "2022-10-13T12:22:01.567442Z",
     "start_time": "2022-10-13T12:22:00.006Z"
    }
   },
   "outputs": [],
   "source": [
    "onset_gf = oc_mat@mat[intersect(rownames(oc_mat@mat),growth_factors),intersect(colnames(oc_mat@mat), rownames(md[md$embryo %in% onset_embryos,]))]"
   ]
  },
  {
   "cell_type": "code",
   "execution_count": null,
   "id": "656a297f",
   "metadata": {
    "ExecuteTime": {
     "end_time": "2022-10-13T12:22:08.103979Z",
     "start_time": "2022-10-13T12:22:06.286Z"
    }
   },
   "outputs": [],
   "source": [
    "cell_umis = colSums(oc_mat@mat[,intersect(colnames(oc_mat@mat), rownames(md[md$embryo %in% onset_embryos,]))])"
   ]
  },
  {
   "cell_type": "code",
   "execution_count": null,
   "id": "faa3f3ef",
   "metadata": {
    "ExecuteTime": {
     "end_time": "2022-10-13T12:22:14.373297Z",
     "start_time": "2022-10-13T12:22:13.845Z"
    }
   },
   "outputs": [],
   "source": [
    "onset_gf_exe = onset_gf[,colnames(onset_gf) %in% names(oc_mc@mc[oc_mc@mc %in% names(oc_mc@colors[oc_mc@colors %in% c(\n",
    "'#CF6191', #Hypoblast-Anterior (Hhex/Lhx1/Cer1)\n",
    "'#F6BFCB', #hypoblast\n",
    "'#572E48', #Yolk sac\n",
    "# '#050505', #Parietal Endoderm\n",
    "    \n",
    "'#FF00B7', #DPPA3 TGM3\n",
    "'#7B00FF', #Dppa3 Hand1\n",
    "'#00FF15', #Dppa3 low Dusp6 neg\n",
    "'#D4EB63', #Dusp6 not other\n",
    "'#FFFF00', #Gata2 Hand1\n",
    "'#FFA600', #Lgals3\n",
    "'#54DCE3' #Wfdc2 Aldoc\n",
    ")])])]\n",
    "cool_genes = rownames(onset_gf_exe)[rowSums(onset_gf_exe) > 500]"
   ]
  },
  {
   "cell_type": "code",
   "execution_count": null,
   "id": "43f4cf63",
   "metadata": {
    "ExecuteTime": {
     "end_time": "2022-10-11T15:08:31.897571Z",
     "start_time": "2022-10-11T15:08:31.834Z"
    }
   },
   "outputs": [],
   "source": [
    "cool_genes = c(cool_genes, c(\"FGF17\", \"NODAL\"))"
   ]
  },
  {
   "cell_type": "code",
   "execution_count": null,
   "id": "14ec3ff6",
   "metadata": {
    "ExecuteTime": {
     "end_time": "2022-10-13T12:22:25.479947Z",
     "start_time": "2022-10-13T12:22:24.964Z"
    }
   },
   "outputs": [],
   "source": [
    "onset_gf_exe = onset_gf[,colnames(onset_gf) %in% names(oc_mc@mc[oc_mc@mc %in% names(oc_mc@colors[oc_mc@colors %in% c(\n",
    "'#CF6191', #Hypoblast-Anterior (Hhex/Lhx1/Cer1)\n",
    "'#F6BFCB', #hypoblast\n",
    "'#572E48', #Yolk sac\n",
    "# '#050505' #Parietal Endoderm\n",
    "    \n",
    "'#635547', #epiblast\n",
    "'#DABE99', #Primitive streak\n",
    "    \n",
    "'#FF00B7', #DPPA3 TGM3\n",
    "'#7B00FF', #Dppa3 Hand1\n",
    "'#00FF15', #Dppa3 low Dusp6 neg\n",
    "'#D4EB63', #Dusp6 not other\n",
    "'#FFFF00', #Gata2 Hand1\n",
    "'#FFA600', #Lgals3\n",
    "'#54DCE3' #Wfdc2 Aldoc\n",
    ")])])]"
   ]
  },
  {
   "cell_type": "code",
   "execution_count": null,
   "id": "b058359c",
   "metadata": {
    "ExecuteTime": {
     "end_time": "2022-10-13T12:52:27.734030Z",
     "start_time": "2022-10-13T12:52:27.394Z"
    }
   },
   "outputs": [],
   "source": [
    "cool_genes = ym_exe_gs"
   ]
  },
  {
   "cell_type": "code",
   "execution_count": null,
   "id": "b38a73f0",
   "metadata": {
    "ExecuteTime": {
     "end_time": "2022-10-13T12:52:54.670292Z",
     "start_time": "2022-10-13T12:52:51.387Z"
    }
   },
   "outputs": [],
   "source": [
    "onset_gf_exef = as.matrix(onset_gf_exe[intersect(rownames(onset_gf_exe),cool_genes),])\n",
    "onset_gf_exef_long = as.data.frame.table(onset_gf_exef) %>% rename(gene=Var1, cell=Var2, umis=Freq)\n",
    "onset_gf_exef_long_cmc = onset_gf_exef_long %>% left_join(tibble::enframe(oc_mc@mc) %>% rename(cell=name, mc=value))\n",
    "onset_gf_exef_long_cmc$mc = as.character(onset_gf_exef_long_cmc$mc)\n",
    "onset_gf_exef_long_cmc_col = onset_gf_exef_long_cmc %>% left_join(tibble::enframe(oc_mc@colors) %>% rename(mc=name, color=value))\n",
    "onset_gf_exef_long_cmc_col_emb = onset_gf_exef_long_cmc_col %>% left_join(md[,c(\"cell\", \"embryo\", \"age_group_emb\")])\n",
    "mega = onset_gf_exef_long_cmc_col_emb %>% left_join(tibble::enframe(cell_umis) %>% rename(cell=name, tot_umis=value))\n",
    "mega$cegc = mega$umis/mega$tot_umis\n",
    "# mega = mega[mega$age_group_emb %in% c(1,2),]\n",
    "onset_gf_time_color = mega %>% group_by(color, gene) %>% summarise(umis = sum(cegc), ncells=n())"
   ]
  },
  {
   "cell_type": "code",
   "execution_count": null,
   "id": "20391deb",
   "metadata": {
    "ExecuteTime": {
     "end_time": "2022-10-13T12:57:43.534295Z",
     "start_time": "2022-10-13T12:57:43.037Z"
    }
   },
   "outputs": [],
   "source": [
    "mega[mega$gene==gene,c(\"color\", \"age_group_emb\", \"cegc\")]"
   ]
  },
  {
   "cell_type": "code",
   "execution_count": null,
   "id": "b405ef58",
   "metadata": {
    "ExecuteTime": {
     "end_time": "2022-10-13T12:59:40.982918Z",
     "start_time": "2022-10-13T12:59:40.219Z"
    }
   },
   "outputs": [],
   "source": [
    "gene = \"KIT\"\n",
    "\n",
    "ggplot(mega[mega$gene==gene, c(\"color\", \"age_group_emb\", \"cegc\")], aes(x=age_group_emb, y=cegc)) +\n",
    "  geom_boxplot() + \n",
    "scale_fill_identity() + theme(axis.text.x = element_text(angle = 90, vjust = 0.5, hjust=1))+\n",
    "geom_hline(yintercept = 0)"
   ]
  },
  {
   "cell_type": "code",
   "execution_count": null,
   "id": "b23fa6f7",
   "metadata": {
    "ExecuteTime": {
     "end_time": "2022-10-13T12:22:30.887611Z",
     "start_time": "2022-10-13T12:22:30.563Z"
    }
   },
   "outputs": [],
   "source": [
    "onset_gf_time_color$pegc = onset_gf_time_color$umis/onset_gf_time_color$ncells"
   ]
  },
  {
   "cell_type": "code",
   "execution_count": null,
   "id": "56df59e1",
   "metadata": {
    "ExecuteTime": {
     "end_time": "2022-10-13T12:22:36.681007Z",
     "start_time": "2022-10-13T12:22:36.299Z"
    }
   },
   "outputs": [],
   "source": [
    "time = 1\n",
    "data_ = as.data.frame(onset_gf_time_color[,c(\"color\", \"gene\", \"pegc\")] %>% pivot_wider(id_cols = gene, names_from = color, values_from = pegc, ))\n",
    "data1 <- data_[,-1]\n",
    "rownames(data1) <- data_[,1]\n",
    "# data1 = data1[,intersect(c('#FF00B7', #DPPA3 TGM3\n",
    "# '#7B00FF', #Dppa3 Hand1\n",
    "# '#00FF15' #Dppa3 low Dusp6 neg\n",
    "# ),colnames(data1))]\n",
    "# data1 = data1[,intersect(c('#CF6191', #Hypoblast-Anterior (Hhex/Lhx1/Cer1)\n",
    "# '#F6BFCB', #hypoblast\n",
    "# '#572E48' #Yolk sac\n",
    "# ),colnames(data1))]\n",
    "\n",
    "\n",
    "# colnames(data1) = paste0(paste0(time, \"_\"), colnames(data1))\n",
    "\n",
    "# time = 2\n",
    "# data_ = as.data.frame(onset_gf_time_color[onset_gf_time_color$age_group_emb==time,c(\"color\", \"gene\", \"pegc\")] %>% pivot_wider(id_cols = gene, names_from = color, values_from = pegc, ))\n",
    "# data2 <- data_[,-1]\n",
    "# rownames(data2) <- data_[,1]\n",
    "# # data2 = data2[,intersect(c('#FF00B7', #DPPA3 TGM3\n",
    "# # '#7B00FF', #Dppa3 Hand1\n",
    "# # '#00FF15' #Dppa3 low Dusp6 neg\n",
    "# # ),colnames(data2))]\n",
    "# data2 = data2[,intersect(c('#CF6191', #Hypoblast-Anterior (Hhex/Lhx1/Cer1)\n",
    "# '#F6BFCB', #hypoblast\n",
    "# '#572E48' #Yolk sac\n",
    "# ),colnames(data2))]\n",
    "# colnames(data2) = paste0(paste0(time, \"_\"), colnames(data2))\n",
    "\n",
    "# time = 3\n",
    "# data_ = as.data.frame(onset_gf_time_color[onset_gf_time_color$age_group_emb==time,c(\"color\", \"gene\", \"pegc\")] %>% pivot_wider(id_cols = gene, names_from = color, values_from = pegc, ))\n",
    "# data3 <- data_[,-1]\n",
    "# rownames(data3) <- data_[,1]\n",
    "# # data3 = data3[,intersect(c('#FF00B7', #DPPA3 TGM3\n",
    "# # '#7B00FF', #Dppa3 Hand1\n",
    "# # '#00FF15' #Dppa3 low Dusp6 neg\n",
    "# # ),colnames(data3)), ]\n",
    "# data3 = data3[,intersect(c('#CF6191', #Hypoblast-Anterior (Hhex/Lhx1/Cer1)\n",
    "# '#F6BFCB', #hypoblast\n",
    "# '#572E48' #Yolk sac\n",
    "# ),colnames(data3)), ]\n",
    "# colnames(data3) = paste0(paste0(time, \"_\"), colnames(data3))"
   ]
  },
  {
   "cell_type": "code",
   "execution_count": null,
   "id": "1efdddef",
   "metadata": {
    "ExecuteTime": {
     "end_time": "2022-10-13T12:22:37.212448Z",
     "start_time": "2022-10-13T12:22:36.891Z"
    }
   },
   "outputs": [],
   "source": [
    "col_ord = c('#635547', #epiblast\n",
    "'#DABE99', #Primitive streak\n",
    "\n",
    "'#CF6191', #Hypoblast-Anterior (Hhex/Lhx1/Cer1)\n",
    "'#F6BFCB', #hypoblast\n",
    "'#572E48', #Yolk sac\n",
    "    \n",
    "'#FF00B7', #DPPA3 TGM3\n",
    "'#7B00FF', #Dppa3 Hand1\n",
    "'#00FF15', #Dppa3 low Dusp6 neg\n",
    "'#D4EB63', #Dusp6 not other\n",
    "'#FFFF00', #Gata2 Hand1\n",
    "'#FFA600', #Lgals3\n",
    "'#54DCE3' #Wfdc2 Aldoc\n",
    ")"
   ]
  },
  {
   "cell_type": "code",
   "execution_count": null,
   "id": "53547c7f",
   "metadata": {
    "ExecuteTime": {
     "end_time": "2022-10-13T12:23:16.594670Z",
     "start_time": "2022-10-13T12:23:15.914Z"
    }
   },
   "outputs": [],
   "source": [
    "options(repr.plot.width=12, repr.plot.height=20)\n",
    "ffdata = log2(1e-5+data1[,intersect(col_ord, colnames(data1))])\n",
    "pheatmap::pheatmap(ffdata, cluster_cols = F)"
   ]
  },
  {
   "cell_type": "code",
   "execution_count": null,
   "id": "70212ab6",
   "metadata": {
    "ExecuteTime": {
     "end_time": "2022-10-13T12:23:34.249229Z",
     "start_time": "2022-10-13T12:23:33.882Z"
    }
   },
   "outputs": [],
   "source": [
    "# Generate column annotations\n",
    "\n",
    "annotation = data.frame(col = colnames(ffdata))\n",
    "# annotation$Var1 = factor(annotation$Var1, levels = c(\"Class1\", \"Class2\", \"Class3\"))\n",
    "# rownames(annotation) = paste(\"Test\", 1:10, sep = \"\")\n",
    "\n",
    "# pheatmap(test, annotation = annotation)\n",
    "# pheatmap(test, annotation = annotation, annotation_legend = FALSE)\n",
    "# pheatmap(test, annotation = annotation, annotation_legend = FALSE, drop_levels = FALSE)\n",
    "\n",
    "# # Specify colors\n",
    "# Var1 = c(\"navy\", \"darkgreen\")\n",
    "# names(Var1) = c(\"Class1\", \"Class2\")\n",
    "# Var2 = c(\"lightgreen\", \"navy\")\n",
    "\n",
    "ann_colors = list(col = annotation)\n",
    "\n",
    "pheatmap::pheatmap(ffdata, annotation_col = annotation, annotation_colors = ann_colors)\n"
   ]
  },
  {
   "cell_type": "code",
   "execution_count": null,
   "id": "d30cf005",
   "metadata": {
    "ExecuteTime": {
     "end_time": "2022-08-11T12:53:58.718928Z",
     "start_time": "2022-08-11T12:53:58.311Z"
    }
   },
   "outputs": [],
   "source": [
    "'#CF6191', #Hypoblast-Anterior (Hhex/Lhx1/Cer1)\n",
    "'#F6BFCB', #hypoblast\n",
    "'#572E48', #Yolk sac\n",
    "    \n",
    "'#FF00B7', #DPPA3 TGM3\n",
    "'#7B00FF', #Dppa3 Hand1\n",
    "'#00FF15', #Dppa3 low Dusp6 neg\n",
    "'#D4EB63', #Dusp6 not other\n",
    "'#FFFF00', #Gata2 Hand1\n",
    "'#FFA600', #Lgals3\n",
    "'#54DCE3' #Wfdc2 Aldoc"
   ]
  },
  {
   "cell_type": "code",
   "execution_count": null,
   "id": "21e42537",
   "metadata": {
    "ExecuteTime": {
     "end_time": "2022-10-13T12:23:41.356932Z",
     "start_time": "2022-10-13T12:23:40.818Z"
    }
   },
   "outputs": [],
   "source": [
    "options(repr.plot.width=12, repr.plot.height=8)\n",
    "data1 = log2(1e-5+data1)\n",
    "pheatmap::pheatmap(data1[,intersect(col_ord, colnames(data1))], cluster_rows = F, cluster_cols = F, \n",
    "#                    annotation_col = colnames(data)\n",
    "                  )"
   ]
  },
  {
   "cell_type": "code",
   "execution_count": null,
   "id": "5cd46fec",
   "metadata": {
    "ExecuteTime": {
     "end_time": "2022-10-13T12:23:47.434530Z",
     "start_time": "2022-10-13T12:23:47.098Z"
    }
   },
   "outputs": [],
   "source": [
    "options(repr.plot.width=12, repr.plot.height=8)\n",
    "data_exe = log2(1e-5+cbind(data1, data2, data3))\n",
    "pheatmap::pheatmap(data_exe[mega_rows,], cluster_rows = F, cluster_cols = F, \n",
    "#                    annotation_col = colnames(data)\n",
    "                  )"
   ]
  },
  {
   "cell_type": "code",
   "execution_count": null,
   "id": "df2ead03",
   "metadata": {
    "ExecuteTime": {
     "end_time": "2022-10-13T12:23:50.200216Z",
     "start_time": "2022-10-13T12:23:49.794Z"
    }
   },
   "outputs": [],
   "source": [
    "ph = pheatmap::pheatmap(cbind(data_exend, data_exe), cluster_rows = T, cluster_cols = F, \n",
    "#                    annotation_col = colnames(data)\n",
    "                  )\n",
    "mega_rows = rownames(data_exe)[ph$tree_row$order]"
   ]
  },
  {
   "cell_type": "code",
   "execution_count": null,
   "id": "21e83df5",
   "metadata": {
    "ExecuteTime": {
     "end_time": "2022-10-13T12:25:37.054865Z",
     "start_time": "2022-10-13T12:25:36.695Z"
    }
   },
   "outputs": [],
   "source": [
    "options(repr.plot.width=4, repr.plot.height=4)\n",
    "\n",
    "# pdf(\"oc_emb.pdf\", width=4, height=4)\n",
    "barplot(t(mcg_tn_emb[1:3,emb_cols]), col=colnames(mcg_tn_emb[,emb_cols]), las=2)\n",
    "# dev.off()\n",
    "# pdf(\"oc_exen.pdf\", width=4, height=4)\n",
    "barplot(t(mcg_tn_exem[1:3,exem_cols]), col=colnames(mcg_tn_exem[,exem_cols]), las=2)\n",
    "# dev.off()\n",
    "# pdf(\"oc_exec.pdf\", width=4, height=4)\n",
    "barplot(t(mcg_tn_exec[1:3,exec_cols]), col=colnames(mcg_tn_exec[,exec_cols]), las=2)\n",
    "# dev.off()"
   ]
  },
  {
   "cell_type": "code",
   "execution_count": null,
   "id": "805b1160",
   "metadata": {
    "ExecuteTime": {
     "end_time": "2022-10-13T12:25:48.931560Z",
     "start_time": "2022-10-13T12:25:48.464Z"
    }
   },
   "outputs": [],
   "source": [
    "options(repr.plot.width=4, repr.plot.height=4)\n",
    "mcg_tn_emb = (oc_flat_groups[,emb_cols]/rowSums(oc_flat_groups[,emb_cols]))\n",
    "mcg_tn_exem = (oc_flat_groups[,exem_cols]/rowSums(oc_flat_groups[,exem_cols]))\n",
    "mcg_tn_exec = (oc_flat_groups[,exec_cols]/rowSums(oc_flat_groups[,exec_cols]))\n",
    "# pdf(\"oc_emb.pdf\", width=4, height=4)\n",
    "barplot(t(mcg_tn_emb[1:3,emb_cols]), col=colnames(mcg_tn_emb[,emb_cols]), las=2)\n",
    "# dev.off()\n",
    "# pdf(\"oc_exen.pdf\", width=4, height=4)\n",
    "barplot(t(mcg_tn_exem[1:3,exem_cols]), col=colnames(mcg_tn_exem[,exem_cols]), las=2)\n",
    "# dev.off()\n",
    "# pdf(\"oc_exec.pdf\", width=4, height=4)\n",
    "barplot(t(mcg_tn_exec[1:3,exec_cols]), col=colnames(mcg_tn_exec[,exec_cols]), las=2)\n",
    "# dev.off()"
   ]
  },
  {
   "cell_type": "code",
   "execution_count": null,
   "id": "13a9532c",
   "metadata": {
    "ExecuteTime": {
     "end_time": "2022-10-13T12:25:54.406586Z",
     "start_time": "2022-10-13T12:25:54.064Z"
    }
   },
   "outputs": [],
   "source": [
    "options(repr.plot.width=4, repr.plot.height=4)\n",
    "mcg_tn_emb = (mm_flat_groups[,mm_emb_cols]/rowSums(mm_flat_groups[,mm_emb_cols]))\n",
    "mcg_tn_exem = (mm_flat_groups[,mm_exem_cols]/rowSums(mm_flat_groups[,mm_exem_cols]))\n",
    "mcg_tn_exec = (mm_flat_groups[,mm_exec_cols]/rowSums(mm_flat_groups[,mm_exec_cols]))\n",
    "pdf(\"mm_emb.pdf\", width=4, height=4)\n",
    "barplot(t(mcg_tn_emb[1:3,mm_emb_cols]), col=colnames(mcg_tn_emb[,mm_emb_cols]), las=2)\n",
    "dev.off()\n",
    "pdf(\"mm_exen.pdf\", width=4, height=4)\n",
    "barplot(t(mcg_tn_exem[1:3,mm_exem_cols]), col=colnames(mcg_tn_exem[,mm_exem_cols]), las=2)\n",
    "dev.off()\n",
    "pdf(\"mm_exec.pdf\", width=4, height=4)\n",
    "barplot(t(mcg_tn_exec[1:3,mm_exec_cols]), col=colnames(mcg_tn_exec[,mm_exec_cols]), las=2)\n",
    "dev.off()"
   ]
  },
  {
   "cell_type": "code",
   "execution_count": null,
   "id": "adb3bc88",
   "metadata": {
    "ExecuteTime": {
     "end_time": "2022-10-13T12:24:04.201567Z",
     "start_time": "2022-10-13T12:24:03.867Z"
    }
   },
   "outputs": [],
   "source": [
    "mcg_t = flat_groups/rowSums(flat_groups)\n",
    "mcg_t = mcg_t[, oc_color_ord]\n",
    "options(repr.plot.width=6, repr.plot.height=8)\n",
    "# pdf(\"freq_plot_grouped.pdf\", width=25, height=12)\n",
    "op <- par(mar = c(10,4,4,2) + 0.1)\n",
    "barplot(t(mcg_t), col=colnames(mcg_t), las=2)\n",
    "# dev.off()\n",
    "# # par(op) ## reset\n",
    "# # barplot(ct_g, col=rownames(ct_g), las=2)\n",
    "# # colnames(ct_g)"
   ]
  },
  {
   "cell_type": "code",
   "execution_count": null,
   "id": "9b36c61c",
   "metadata": {
    "ExecuteTime": {
     "end_time": "2022-08-10T16:58:10.598527Z",
     "start_time": "2022-08-10T16:58:10.288Z"
    }
   },
   "outputs": [],
   "source": [
    "setdiff(mm_color_ord,tmp_key$color)"
   ]
  },
  {
   "cell_type": "code",
   "execution_count": null,
   "id": "53e53d74",
   "metadata": {
    "ExecuteTime": {
     "end_time": "2022-10-31T06:23:57.344514Z",
     "start_time": "2022-10-31T06:23:57.054Z"
    }
   },
   "outputs": [],
   "source": [
    "tmp_key[\"(Missing)\",\"color\"] = '#33CC33'"
   ]
  },
  {
   "cell_type": "code",
   "execution_count": null,
   "id": "0825512b",
   "metadata": {
    "ExecuteTime": {
     "end_time": "2022-08-10T17:06:50.062481Z",
     "start_time": "2022-08-10T17:06:49.754Z"
    }
   },
   "outputs": [],
   "source": [
    "mm_mc@color_key = tmp_key"
   ]
  },
  {
   "cell_type": "code",
   "execution_count": null,
   "id": "4e046144",
   "metadata": {
    "ExecuteTime": {
     "end_time": "2022-10-31T06:23:49.483519Z",
     "start_time": "2022-10-31T06:23:49.160Z"
    }
   },
   "outputs": [],
   "source": [
    "oc_col2cat = oc_mc@color_key$group\n",
    "names(oc_col2cat) = oc_mc@color_key$color\n",
    "\n",
    "mm_col2cat = mm_mc@color_key$group\n",
    "names(mm_col2cat) = mm_mc@color_key$color\n",
    "\n",
    "oc_cat2col = oc_mc@color_key$color\n",
    "names(oc_cat2col) = oc_mc@color_key$group\n",
    "\n",
    "mm_cat2col = mm_mc@color_key$color\n",
    "names(mm_cat2col) = mm_mc@color_key$group\n",
    "\n",
    "oc_mc_cats = unname(oc_col2cat[oc_mc@colors])\n",
    "names(oc_mc_cats) = names(oc_mc@colors)\n",
    "mm_mc_cats = unname(mm_col2cat[mm_mc@colors])\n",
    "names(mm_mc_cats) = names(mm_mc@colors)\n",
    "# data.frame(rabbit_color = oc_mc_cats)\n",
    "# data.frame(mouse_color=mm_mc_cats)"
   ]
  },
  {
   "cell_type": "code",
   "execution_count": null,
   "id": "0984c2ba",
   "metadata": {
    "ExecuteTime": {
     "end_time": "2022-10-31T06:23:54.164990Z",
     "start_time": "2022-10-31T06:23:53.879Z"
    }
   },
   "outputs": [],
   "source": [
    "mm_mc@colors[mm_mc@colors=='#000000'] = '#33CC33'"
   ]
  },
  {
   "cell_type": "code",
   "execution_count": null,
   "id": "7356d2c3",
   "metadata": {
    "ExecuteTime": {
     "end_time": "2022-10-13T12:28:48.244055Z",
     "start_time": "2022-10-13T12:28:47.061Z"
    }
   },
   "outputs": [],
   "source": [
    "long_mm_ocf_cors = as.data.frame(t(df_mm_ocf_cors)) %>% tibble::rownames_to_column(\"rabbit_mc\") %>% pivot_longer(cols=rownames(mc_cors), names_to = \"mouse_mc\", values_to = \"cor\", )"
   ]
  },
  {
   "cell_type": "code",
   "execution_count": null,
   "id": "2477f55f",
   "metadata": {
    "ExecuteTime": {
     "end_time": "2022-10-13T12:28:49.640981Z",
     "start_time": "2022-10-13T12:28:47.637Z"
    }
   },
   "outputs": [],
   "source": [
    "long_mm_ocf_cors_colored = long_mm_ocf_cors %>% left_join(tibble::enframe(mm_mc@colors) %>% rename(mouse_mc=name, mouse_col=value)) %>% left_join(tibble::enframe(oc_mc@colors) %>% rename(rabbit_mc=name, rabbit_col=value))"
   ]
  },
  {
   "cell_type": "code",
   "execution_count": null,
   "id": "8eda90f3",
   "metadata": {
    "ExecuteTime": {
     "end_time": "2022-10-13T12:28:50.297834Z",
     "start_time": "2022-10-13T12:28:49.965Z"
    }
   },
   "outputs": [],
   "source": [
    "tail(oc_mc_ordered)"
   ]
  },
  {
   "cell_type": "code",
   "execution_count": null,
   "id": "b9bb3d0f",
   "metadata": {
    "ExecuteTime": {
     "end_time": "2022-10-13T12:28:52.535087Z",
     "start_time": "2022-10-13T12:28:52.205Z"
    }
   },
   "outputs": [],
   "source": [
    "oc_mc@colors[1061]"
   ]
  },
  {
   "cell_type": "code",
   "execution_count": null,
   "id": "1ab267f8",
   "metadata": {
    "ExecuteTime": {
     "end_time": "2022-10-13T12:29:01.478893Z",
     "start_time": "2022-10-13T12:28:58.821Z"
    }
   },
   "outputs": [],
   "source": [
    "oc_by_mm_top5 = long_mm_ocf_cors_colored %>% group_by(rabbit_mc) %>% top_n(5, cor)\n",
    "test = t(table(oc_by_mm_top5$rabbit_mc, oc_by_mm_top5$mouse_col))\n",
    "options(repr.plot.width=50, repr.plot.height=10)\n",
    "barplot(test[,oc_mc_ordered[2581:length(oc_mc_ordered)]],col = rownames(test), border=NA)\n",
    "options(repr.plot.width=50, repr.plot.height=3)\n",
    "barplot(rep(1,length(oc_mc_ordered))[2581:length(oc_mc_ordered)],col = oc_mc@colors[oc_mc_ordered[2581:length(oc_mc_ordered)]], border=NA)"
   ]
  },
  {
   "cell_type": "code",
   "execution_count": null,
   "id": "12fe57ba",
   "metadata": {
    "ExecuteTime": {
     "end_time": "2022-10-13T12:29:08.092245Z",
     "start_time": "2022-10-13T12:29:05.204Z"
    }
   },
   "outputs": [],
   "source": [
    "mm_by_oc_top5 = long_mm_ocf_cors_colored %>% group_by(mouse_mc) %>% top_n(5, cor)\n",
    "test = t(table(mm_by_oc_top5$mouse_mc, mm_by_oc_top5$rabbit_col))\n",
    "options(repr.plot.width=50, repr.plot.height=10)\n",
    "barplot(test[,mm_mc_ordered[1510:length(mm_mc_ordered)]],col = rownames(test), border=NA)\n",
    "options(repr.plot.width=50, repr.plot.height=3)\n",
    "barplot(rep(1,length(mm_mc_ordered))[1510:length(mm_mc_ordered)],col = mm_mc@colors[mm_mc_ordered[1510:length(mm_mc_ordered)]], border=NA)"
   ]
  },
  {
   "cell_type": "code",
   "execution_count": null,
   "id": "da0ef90d",
   "metadata": {
    "ExecuteTime": {
     "end_time": "2022-10-13T12:32:02.980622Z",
     "start_time": "2022-10-13T12:32:02.472Z"
    }
   },
   "outputs": [],
   "source": [
    "options(repr.plot.width=50, repr.plot.height=3)\n",
    "barplot(rep(1,length(oc_mc_ordered))[2570:length(oc_mc_ordered)],col = oc_mc@colors[oc_mc_ordered[2570:length(oc_mc_ordered)]], border=NA)"
   ]
  },
  {
   "cell_type": "code",
   "execution_count": null,
   "id": "937e9289",
   "metadata": {
    "ExecuteTime": {
     "end_time": "2022-10-13T12:32:08.821401Z",
     "start_time": "2022-10-13T12:32:05.265Z"
    }
   },
   "outputs": [],
   "source": [
    "mm_by_oc_top5 = long_mm_ocf_cors_colored %>% group_by(mouse_mc) %>% top_n(5, cor)\n",
    "test = t(table(mm_by_oc_top5$mouse_mc, mm_by_oc_top5$rabbit_col))\n",
    "options(repr.plot.width=50, repr.plot.height=10)\n",
    "barplot(test[,mm_mc_ordered],col = rownames(test), border=NA)\n",
    "options(repr.plot.width=50, repr.plot.height=3)\n",
    "barplot(rep(1,length(mm_mc_ordered))[1:length(mm_mc_ordered)],col = mm_mc@colors[mm_mc_ordered[1:length(mm_mc_ordered)]], border=NA)"
   ]
  },
  {
   "cell_type": "code",
   "execution_count": null,
   "id": "26754795",
   "metadata": {
    "ExecuteTime": {
     "end_time": "2022-10-13T12:32:14.041425Z",
     "start_time": "2022-10-13T12:32:10.440Z"
    }
   },
   "outputs": [],
   "source": [
    "oc_by_mm_top5 = long_mm_ocf_cors_colored %>% group_by(rabbit_mc) %>% top_n(5, cor)\n",
    "test = t(table(oc_by_mm_top5$rabbit_mc, oc_by_mm_top5$mouse_col))\n",
    "options(repr.plot.width=50, repr.plot.height=10)\n",
    "barplot(test[,oc_mc_ordered],col = rownames(test), border=NA)\n",
    "options(repr.plot.width=50, repr.plot.height=3)\n",
    "barplot(rep(1,length(oc_mc_ordered))[1:length(oc_mc_ordered)],col = oc_mc@colors[oc_mc_ordered[1:length(oc_mc_ordered)]], border=NA)"
   ]
  },
  {
   "cell_type": "code",
   "execution_count": null,
   "id": "667aeb9d",
   "metadata": {
    "ExecuteTime": {
     "end_time": "2022-10-13T12:32:18.721727Z",
     "start_time": "2022-10-13T12:32:18.176Z"
    }
   },
   "outputs": [],
   "source": [
    "mm_top_col = mm_by_oc_top5 %>% group_by(mouse_mc) %>% top_n(1, cor)\n",
    "mm_mc_top_col = mm_top_col$rabbit_col\n",
    "names(mm_mc_top_col) = mm_top_col$mouse_mc\n",
    "\n",
    "mm_mc_maj_cols = colnames(t(test))[max.col(t(test),ties.method=\"first\")]\n",
    "names(mm_mc_maj_cols) = colnames(test)\n",
    "table(mm_mc_top_col[names(mm_mc_maj_cols)] == mm_mc_maj_cols)"
   ]
  },
  {
   "cell_type": "code",
   "execution_count": null,
   "id": "9d929e96",
   "metadata": {
    "ExecuteTime": {
     "end_time": "2022-10-13T12:32:26.242759Z",
     "start_time": "2022-10-13T12:32:25.160Z"
    }
   },
   "outputs": [],
   "source": [
    "options(repr.plot.width=15, repr.plot.height=11)\n",
    "paletteLength = 100\n",
    "\n",
    "myColor <- colorRampPalette(c(\"blue\",\"white\", \"red\"))(paletteLength)\n",
    "myBreaks <- c(seq(-max(df_mm_ocf_cors), -0.01, length.out=ceiling(paletteLength/2) + 1),\n",
    "              seq(0, max(df_mm_ocf_cors), length.out=floor(paletteLength/2)))\n",
    "\n",
    "type_type_mcor = as.data.frame(pivot_wider(data = long_mm_ocf_cors_colored %>% group_by(rabbit_col, mouse_col) %>% summarise(mcor=mean(cor)), names_from = \"mouse_col\", values_from = \"mcor\", ))\n",
    "rn = type_type_mcor$rabbit_col\n",
    "type_type_mcor$rabbit_col <- NULL\n",
    "rownames(type_type_mcor) <- rn\n",
    "type_type_mcor = type_type_mcor[\n",
    "        intersect(oc_color_ord, rownames(type_type_mcor)), \n",
    "        intersect(mm_color_ord, colnames(type_type_mcor))\n",
    "    ]\n",
    "rownames(type_type_mcor) = unname(oc_col2cat[rownames(type_type_mcor)])\n",
    "colnames(type_type_mcor) = unname(mm_col2cat[colnames(type_type_mcor)])\n",
    "ph = pheatmap::pheatmap(\n",
    "    breaks = myBreaks, \n",
    "    color = myColor,\n",
    "    type_type_mcor[,setdiff(colnames(type_type_mcor),c(\"Visceral endoderm\", \"Visceral endoderm - anterior\", \"ExE visceral endoderm\"))], \n",
    "    cluster_rows = F, \n",
    "    cluster_cols = F,\n",
    "    annotation_row = data.frame(rabbit_color=rownames(type_type_mcor), row.names=rownames(type_type_mcor)),\n",
    "    annotation_col = data.frame(mouse_color = colnames(type_type_mcor), row.names=colnames(type_type_mcor)),\n",
    "    annotation_colors = list(rabbit_color=oc_cat2col, mouse_color=mm_cat2col)\n",
    ")\n",
    "# save_pheatmap_pdf(ph,paste0(\"pheatmap_type_type.pdf\"), width=15, height=11)"
   ]
  },
  {
   "cell_type": "code",
   "execution_count": null,
   "id": "dd38bf01",
   "metadata": {
    "ExecuteTime": {
     "end_time": "2022-09-01T12:29:17.464158Z",
     "start_time": "2022-09-01T12:29:17.034Z"
    }
   },
   "outputs": [],
   "source": [
    "save_pheatmap_pdf <- function(x, filename, width=7, height=7) {\n",
    "    stopifnot(!missing(x))\n",
    "    stopifnot(!missing(filename))\n",
    "    pdf(filename, width=width, height=height)\n",
    "    grid::grid.newpage()\n",
    "    grid::grid.draw(x$gtable)\n",
    "    dev.off()\n",
    "}"
   ]
  },
  {
   "cell_type": "code",
   "execution_count": null,
   "id": "3ad6ffb1",
   "metadata": {
    "ExecuteTime": {
     "end_time": "2022-10-13T12:32:43.936637Z",
     "start_time": "2022-10-13T12:32:42.992Z"
    },
    "scrolled": false
   },
   "outputs": [],
   "source": [
    "options(repr.plot.width=15, repr.plot.height=11)\n",
    "paletteLength = 100\n",
    "\n",
    "myColor <- colorRampPalette(c(\"blue\",\"white\", \"red\"))(paletteLength)\n",
    "myBreaks <- c(seq(min(df_mm_ocf_cors), -0.01, length.out=ceiling(paletteLength/2) + 1),\n",
    "              seq(0.0, max(df_mm_ocf_cors), length.out=floor(paletteLength/2)))\n",
    "\n",
    "type_type_mcor = as.data.frame(pivot_wider(data = long_mm_ocf_cors_colored %>% group_by(rabbit_col, mouse_col) %>% summarise(mcor=mean(cor)), names_from = \"mouse_col\", values_from = \"mcor\", ))\n",
    "rn = type_type_mcor$rabbit_col\n",
    "type_type_mcor$rabbit_col <- NULL\n",
    "rownames(type_type_mcor) <- rn\n",
    "type_type_mcor = type_type_mcor[\n",
    "#         rownames(type_type_mcor), \n",
    "#         colnames(type_type_mcor)[1:length(colnames(type_type_mcor))-1]\n",
    "        intersect(rev(oc_color_ord), rownames(type_type_mcor)), \n",
    "        intersect(rev(mm_color_ord), colnames(type_type_mcor))\n",
    "    ]\n",
    "# type_type_mcor = type_type_mcor[oc_color_ord, mm_color_ord]\n",
    "rownames(type_type_mcor) = unname(oc_col2cat[rownames(type_type_mcor)])\n",
    "colnames(type_type_mcor) = unname(mm_col2cat[colnames(type_type_mcor)])\n",
    "pheatmap::pheatmap(\n",
    "    breaks = myBreaks, \n",
    "    color = myColor,\n",
    "    type_type_mcor[1:11, 1:13], \n",
    "    cluster_rows = F, \n",
    "    cluster_cols = F,\n",
    "    annotation_row = data.frame(rabbit_color=rownames(type_type_mcor), row.names=rownames(type_type_mcor)),\n",
    "    annotation_col = data.frame(mouse_color = colnames(type_type_mcor), row.names=colnames(type_type_mcor)),\n",
    "    annotation_colors = list(rabbit_color=oc_cat2col, mouse_color=mm_cat2col)\n",
    ")"
   ]
  },
  {
   "cell_type": "code",
   "execution_count": null,
   "id": "3fe48a66",
   "metadata": {},
   "outputs": [],
   "source": []
  },
  {
   "cell_type": "code",
   "execution_count": null,
   "id": "0009acb1",
   "metadata": {
    "ExecuteTime": {
     "end_time": "2022-10-13T12:32:49.962321Z",
     "start_time": "2022-10-13T12:32:49.335Z"
    }
   },
   "outputs": [],
   "source": [
    "max_cors_and_types = tibble::enframe(apply(df_mm_ocf_cors, 2, max)) %>% left_join(tibble::enframe(oc_mc_cats), by=\"name\") %>% left_join(tibble::enframe(oc_mc@colors), by=\"name\") %>% rename(mcid=name, maxcor=value.x, cat=value.y, col=value)\n",
    "max_cors_and_types = max_cors_and_types %>% left_join(tibble::enframe(rev(oc_color_ord)) %>% rename(col=value, ord=name))"
   ]
  },
  {
   "cell_type": "code",
   "execution_count": null,
   "id": "4bbc1bca",
   "metadata": {
    "ExecuteTime": {
     "end_time": "2022-10-13T12:32:50.700483Z",
     "start_time": "2022-10-13T12:32:50.255Z"
    }
   },
   "outputs": [],
   "source": [
    "time_and_types = tibble::enframe(oc_mc_t) %>% left_join(tibble::enframe(oc_mc_cats), by=\"name\") %>% left_join(tibble::enframe(oc_mc@colors), by=\"name\") %>% rename(mcid=name, maxcor=value.x, cat=value.y, col=value)\n",
    "time_and_types = time_and_types %>% left_join(tibble::enframe(rev(oc_color_ord)) %>% rename(col=value, ord=name))"
   ]
  },
  {
   "cell_type": "code",
   "execution_count": null,
   "id": "58119a63",
   "metadata": {
    "ExecuteTime": {
     "end_time": "2022-10-13T12:32:52.729612Z",
     "start_time": "2022-10-13T12:32:52.248Z"
    }
   },
   "outputs": [],
   "source": [
    "library(ggridges)"
   ]
  },
  {
   "cell_type": "code",
   "execution_count": null,
   "id": "55a9c550",
   "metadata": {
    "ExecuteTime": {
     "end_time": "2022-10-13T12:32:56.548781Z",
     "start_time": "2022-10-13T12:32:53.919Z"
    }
   },
   "outputs": [],
   "source": [
    "options(repr.plot.width=16, repr.plot.height=20)\n",
    "# ggplot(df, aes(x = depth, y = color, fill = color)) +\n",
    "#   geom_density_ridges()\n",
    "\n",
    "ggplot(time_and_types, aes(x = maxcor, y = ord, fill = col))+\n",
    "  geom_density_ridges()+scale_fill_identity()\n",
    "# geom_vline(aes(xintercept=prc95), linetype=\"dashed\")\n",
    "# theme_ipsum()\n",
    "ggsave(\"time_density_ridges_nn.pdf\")"
   ]
  },
  {
   "cell_type": "code",
   "execution_count": null,
   "id": "31c3e0e8",
   "metadata": {
    "ExecuteTime": {
     "end_time": "2022-10-13T12:33:20.587806Z",
     "start_time": "2022-10-13T12:33:18.303Z"
    }
   },
   "outputs": [],
   "source": [
    "options(repr.plot.width=16, repr.plot.height=20)\n",
    "# ggplot(df, aes(x = depth, y = color, fill = color)) +\n",
    "#   geom_density_ridges()\n",
    "\n",
    "ggplot(max_cors_and_types, aes(x = maxcor, y = ord, fill = col))+\n",
    "  geom_density_ridges()+scale_fill_identity()\n",
    "# geom_vline(aes(xintercept=prc95), linetype=\"dashed\")\n",
    "# theme_ipsum()\n",
    "ggsave(\"max_cor_density_ridges_nn.pdf\")"
   ]
  },
  {
   "cell_type": "code",
   "execution_count": null,
   "id": "4f6fc51c",
   "metadata": {
    "ExecuteTime": {
     "end_time": "2022-10-13T12:33:28.014161Z",
     "start_time": "2022-10-13T12:33:27.671Z"
    }
   },
   "outputs": [],
   "source": [
    "oc_mc_cats = unname(oc_col2cat[oc_mc@colors])\n",
    "names(oc_mc_cats) = names(oc_mc@colors)\n",
    "mm_mc_cats = unname(mm_col2cat[mm_mc@colors])\n",
    "names(mm_mc_cats) = names(mm_mc@colors)\n",
    "# data.frame(rabbit_color = oc_mc_cats)\n",
    "# data.frame(mouse_color=mm_mc_cats)"
   ]
  },
  {
   "cell_type": "code",
   "execution_count": null,
   "id": "3e5b4c54",
   "metadata": {
    "ExecuteTime": {
     "end_time": "2022-08-08T15:41:32.454402Z",
     "start_time": "2022-08-08T15:41:31.783Z"
    }
   },
   "outputs": [],
   "source": [
    "df_mm_ocf_cors"
   ]
  },
  {
   "cell_type": "code",
   "execution_count": null,
   "id": "928f9a8f",
   "metadata": {
    "ExecuteTime": {
     "end_time": "2022-10-13T12:34:02.982568Z",
     "start_time": "2022-10-13T12:34:02.638Z"
    },
    "scrolled": false
   },
   "outputs": [],
   "source": [
    "ph = pheatmap::pheatmap(breaks = myBreaks, color = myColor,\n",
    "    type_type_mcor,\n",
    "    annotation_row = data.frame(rabbit_color=rownames(type_type_mcor), row.names=rownames(type_type_mcor)),\n",
    "    annotation_col = data.frame(mouse_color = colnames(type_type_mcor), row.names=colnames(type_type_mcor)),\n",
    "    annotation_colors = list(rabbit_color=oc_cat2col, mouse_color=mm_cat2col)\n",
    ")\n",
    "oc_tree = ph$tree_row\n",
    "clusts = data.frame(cluster = cutree(oc_tree, k = 8))\n",
    "for(clst in unique(clusts$cluster)){\n",
    "    oc_clst_types = rownames(clusts)[clusts$cluster==clst]\n",
    "    mm_clst_types = colnames(type_type_mcor)[colSums(as.matrix(type_type_mcor[oc_clst_types,]) > 0.25)>0]\n",
    "    oc_clst_mcs = names(oc_mc@colors[oc_mc@colors %in% oc_cat2col[oc_clst_types]])\n",
    "    mm_clst_mcs = names(mm_mc@colors[mm_mc@colors %in% mm_cat2col[mm_clst_types]])\n",
    "    clst_mc_cors = df_mm_ocf_cors[\n",
    "        intersect(mm_mc_ordered, mm_clst_mcs),\n",
    "        intersect(oc_mc_ordered, oc_clst_mcs)\n",
    "    ]\n",
    "    myColor <- colorRampPalette(c(\"blue\",\"white\", \"red\"))(paletteLength)\n",
    "    myBreaks <- c(seq(min(clst_mc_cors), 0, length.out=ceiling(paletteLength/2) + 1),\n",
    "                  seq(3/paletteLength, max(clst_mc_cors), length.out=floor(paletteLength/2)))\n",
    "    pheatmap::pheatmap(\n",
    "        t(clst_mc_cors), \n",
    "        col=myColor, \n",
    "        breaks=myBreaks,\n",
    "        annotation_col = data.frame(mouse_color=mm_mc_cats),\n",
    "        annotation_row = data.frame(rabbit_color = oc_mc_cats),\n",
    "        annotation_colors = list(rabbit_color=oc_cat2col, mouse_color=mm_cat2col),\n",
    "#         cluster_rows = F,\n",
    "#         cluster_cols = F\n",
    "    )\n",
    "}"
   ]
  },
  {
   "cell_type": "code",
   "execution_count": null,
   "id": "4cc2cac9",
   "metadata": {
    "ExecuteTime": {
     "end_time": "2022-10-13T12:34:11.320300Z",
     "start_time": "2022-10-13T12:34:10.981Z"
    }
   },
   "outputs": [],
   "source": [
    "orth_tfs = c('NOTO', 'HOXC10', 'EOMES', 'GFI1B', 'CDX4', 'CDX1', 'HOXB6', 'TAL1', 'HOXB2', 'OTX2', 'SMYD1', 'T', 'CDX2', 'TBX6', 'HOXC8', 'FOXA2', 'NKX2-5', 'EN1', 'SOX17', 'HOXA10', 'HOXA3', 'POU5F1', 'GATA6', 'HAND1', 'FOXD3', 'HOXB3', 'HOXB8', 'HOXC6', 'SOX7', 'NFE2', 'FOXC1', 'GRHL2', 'FLI1', 'HAND2', 'TBX20', 'HHEX', 'UTF1', 'PRDM1', 'PAX3', 'FOXA1', 'HOXB9', 'GATA4', 'HOXB1', 'SOX2', 'ETV2', 'HOXA7', 'HES3', 'MEOX1', 'GATA1', 'EVX1', 'SOX1', 'TCF15', 'HOXC4', 'NKX1-2', 'ETV4', 'MIXL1', 'TBX3', 'HMGA2', 'HOXA1', 'SOX3', 'GATA3', 'ZIC3', 'HES7', 'MSX2', 'LHX1', 'HESX1', 'EPAS1', 'TEAD2', 'SP5', 'IRX5', 'SOX18', 'LHX2', 'SALL2', 'ELK3', 'NR2F2', 'NR2F1', 'NR6A1', 'XBP1', 'MEIS1', 'TBX4', 'LEF1', 'GSC', 'MLLT3', 'TEAD1', 'TCF7L1', 'PITX2', 'MSX1', 'KLF6', 'IRX3', 'ISL1', 'CITED1', 'TCF4', 'ETV5', 'PSMC5', 'EZH2', 'CBX2', 'HOXA4', 'CITED2', 'RUNX1', 'NDN', 'SIX2', 'ANKRD1', 'ID2', 'TCERG1', 'SALL1', 'MYCN', 'DLX5', 'SOX15', 'TCF21', 'TRIM28', 'PDLIM4', 'TGFB1I1', 'SOX4', 'BASP1', 'LMO2', 'SMAD7', 'SOX11', 'TCF12', 'SNAI2', 'GRHL3', 'SNAI1', 'ELF3', 'KDM5B', 'MAGED1', 'ID3', 'TCF7L2', 'YAF2', 'CEBPG', 'HIF1A', 'SSBP3', 'LDB2', 'GATA2', 'IRX2', 'SMARCD3', 'POU2F1', 'GLI3', 'RUNX1T1', 'BBX', 'SMAD2', 'JDP2', 'MYBBP1A', 'ID1', 'POLR2H', 'PDLIM1', 'ACTN1', 'HES1', 'SQSTM1', 'ALX1', 'MYC', 'RYBP', 'MLLT10', 'PAPOLA', 'CCAR1', 'YAP1', 'RBBP7', 'SUB1', 'MYOCD', 'JARID2', 'E2F4', 'ZFP36L1', 'HIC2', 'RAB11A', 'PBX3', 'BAZ2A', 'FHL2', 'ETS1', 'FOXP1', 'CBX3', 'IVNS1ABP', 'ATF4', 'SOX9', 'TFDP2', 'SATB1', 'NRIP1', 'FOS', 'ACTN4', 'BAZ1A', 'IRX4', 'DACH1', 'HMGB2', 'NCOA4', 'PRRX2', 'CTBP2', 'BDP1', 'BCOR', 'ARID3B', 'HOXD1', 'GTF2I', 'HMGB3', 'PBX1', 'TEAD3', 'MTA3', 'HEY1', 'DLX3', 'SHANK3', 'RAI14', 'SIN3B', 'MED13', 'DNMT3A', 'UGP2', 'ATF1', 'CDK2', 'ELF1', 'JUN', 'PLAGL1', 'MXI1', 'FEM1B', 'PPP1R13B', 'WWTR1', 'CASP8AP2', 'TRIM24', 'KLF3', 'PEG3', 'GTF2H1', 'NFE2L3', 'JUP', 'ESRRB', 'HLTF', 'CBFB', 'LMO4', 'CALCOCO1', 'SEC14L2', 'NFE2L2', 'SKIL', 'ZFP42', 'SMAD1', 'OSTF1', 'KLF5', 'POU3F1', 'KDM3A', 'KLF4', 'HMGCS1', 'CEBPB', 'CEBPD', 'DPPA2', 'RAP2C', 'E2F8', 'FOXO4', 'DPPA4', 'HES6', 'SIAH2', 'BTG2', 'MECOM', 'MAFB', 'ETS2', 'DDX58', 'TOB1', 'STAT1', 'FOSL1', 'CEBPA', 'MITF', 'PPARD', 'HOPX', 'CITED4')\n",
    "length(orth_tfs)"
   ]
  },
  {
   "cell_type": "code",
   "execution_count": null,
   "id": "7f6d3000",
   "metadata": {
    "ExecuteTime": {
     "end_time": "2022-10-13T12:34:09.435154Z",
     "start_time": "2022-10-13T12:34:09.047Z"
    }
   },
   "outputs": [],
   "source": [
    "library(ggrepel)\n",
    "require(gridExtra)"
   ]
  },
  {
   "cell_type": "code",
   "execution_count": null,
   "id": "0ee925c5",
   "metadata": {
    "ExecuteTime": {
     "end_time": "2022-10-13T12:34:58.616638Z",
     "start_time": "2022-10-13T12:34:58.223Z"
    }
   },
   "outputs": [],
   "source": [
    "for(rab_col in unique(col_col_mcor$rabbit_col)){\n",
    "    for(mus_col in col_col_mcor[col_col_mcor$rabbit_col==rab_col,]$mouse_col){\n",
    "        oc_mcids = names(oc_mc@colors[oc_mc@colors==rab_col])\n",
    "        mm_mcids = names(mm_mc@colors[mm_mc@colors==mus_col])\n",
    "        oc = log2(1e-5+ocf_egc[genes,oc_mcids])\n",
    "        mm = log2(1e-5+as.matrix(mm_mc@e_gc[genes,mm_mcids]))\n",
    "        if(dim(mm_mc@e_gc)[2]>0 & dim(ocf_egc)[2]>0){\n",
    "            bmc = which.max(diag(tgs_cor(oc, mm)))\n",
    "            com = cbind(oc[,bmc], mm[,bmc])\n",
    "    #                 com = cbind(rowMeans(oc), rowMeans(mm))\n",
    "            colnames(com) = c('oc', 'mm')\n",
    "            com = as.data.frame(com)\n",
    "            com$gene = rownames(com)\n",
    "            message(oc_col2cat[rab_col], \"  \", mm_col2cat[mus_col], \"  \",cor(com$oc, com$mm))\n",
    "        }\n",
    "    }\n",
    "}"
   ]
  },
  {
   "cell_type": "code",
   "execution_count": null,
   "id": "f43e7394",
   "metadata": {
    "ExecuteTime": {
     "end_time": "2022-10-13T12:34:17.494697Z",
     "start_time": "2022-10-13T12:34:16.501Z"
    }
   },
   "outputs": [],
   "source": [
    "col_col_mcor = long_mm_ocf_cors_colored %>% group_by(rabbit_col, mouse_col) %>% summarise(min_cor=min(cor), max_cor=max(cor), mean_cor=mean(cor))"
   ]
  },
  {
   "cell_type": "code",
   "execution_count": null,
   "id": "c73b186f",
   "metadata": {
    "ExecuteTime": {
     "end_time": "2022-10-13T14:21:19.794236Z",
     "start_time": "2022-10-13T14:21:02.670Z"
    }
   },
   "outputs": [],
   "source": [
    "oc_legc = log2(1e-5+oc_mc@e_gc)\n",
    "\n",
    "rownames(mm_mc@e_gc) = toupper(rownames(mm_mc@e_gc))\n",
    "mm_legc = log2(1e-5+mm_mc@e_gc)"
   ]
  },
  {
   "cell_type": "code",
   "execution_count": null,
   "id": "221f333b",
   "metadata": {
    "ExecuteTime": {
     "end_time": "2022-10-13T14:21:41.466397Z",
     "start_time": "2022-10-13T14:21:40.452Z"
    }
   },
   "outputs": [],
   "source": [
    "mm_exp = mm_legc[intersect(rownames(mm_legc), ym_exe_gs),]\n",
    "mm_egc_long = as.data.frame(mm_exp) %>% tibble::rownames_to_column(\"gene\") %>% pivot_longer(cols=colnames(mm_exp), names_to = \"mcid\", values_to = \"egc\", )\n",
    "mm_egc_long$sp = \"mm\"\n",
    "oc_exp = oc_legc[intersect(rownames(oc_legc), ym_exe_gs),]\n",
    "oc_egc_long = as.data.frame(oc_exp) %>% tibble::rownames_to_column(\"gene\") %>% pivot_longer(cols=colnames(oc_exp), names_to = \"mcid\", values_to = \"egc\", )\n",
    "oc_egc_long$sp = \"oc\"\n",
    "mm_egc_long = mm_egc_long %>%  left_join(tibble::enframe(mm_mc@colors) %>% rename(mcid=name, color=value))\n",
    "oc_egc_long = oc_egc_long %>%  left_join(tibble::enframe(oc_mc@colors) %>% rename(mcid=name, color=value))\n",
    "oc_egc_long = oc_egc_long[oc_egc_long$color %in% c(\n",
    "'#635547', #epiblast\n",
    "'#DABE99', #Primitive streak\n",
    "\n",
    "'#CF6191', #Hypoblast-Anterior (Hhex/Lhx1/Cer1)\n",
    "'#F6BFCB', #hypoblast\n",
    "'#572E48', #Yolk sac\n",
    "# '#050505', #Parietal Endoderm\n",
    "    \n",
    "'#FF00B7', #DPPA3 TGM3\n",
    "'#7B00FF' #Dppa3 Hand1\n",
    "\n",
    "),]\n",
    "\n",
    "mm_egc_long = mm_egc_long[mm_egc_long$color %in% c(\n",
    "'#635547', #epiblast\n",
    "'#DABE99', #Primitive streak\n",
    "    \n",
    "\"#ffad1e\", #Chorion\n",
    "\"#ffd854\", #Chorion progenitors\n",
    "'#BA9BA1', #Visceral endoderm - anterior\n",
    "'#F6BFCB' #Visceral endoderm\n",
    "),]\n",
    "\n",
    "egc_long = rbind(mm_egc_long, oc_egc_long)"
   ]
  },
  {
   "cell_type": "code",
   "execution_count": null,
   "id": "50feadd3",
   "metadata": {
    "ExecuteTime": {
     "end_time": "2022-10-13T14:21:43.379696Z",
     "start_time": "2022-10-13T14:21:42.858Z"
    }
   },
   "outputs": [],
   "source": [
    "# '#635547'\n",
    "# '#DABE99'\n",
    "# '#F6BFCB'\n",
    "egc_long[egc_long$sp==\"mm\" & egc_long$color=='#635547', ]$color='#635548'\n",
    "egc_long[egc_long$sp==\"mm\" & egc_long$color=='#DABE99', ]$color='#DABE9A'\n",
    "egc_long[egc_long$sp==\"mm\" & egc_long$color=='#F6BFCB', ]$color='#F6BFCC'"
   ]
  },
  {
   "cell_type": "code",
   "execution_count": null,
   "id": "1f0ecd47",
   "metadata": {
    "ExecuteTime": {
     "end_time": "2022-10-13T14:21:44.045015Z",
     "start_time": "2022-10-13T14:21:43.634Z"
    }
   },
   "outputs": [],
   "source": [
    "# egc_long$color = factor(egc_long$color , levels=c(\n",
    "#     \"#635547\", #epiblast oc\n",
    "#     \"#DABE99\", #Primitive streak oc\n",
    "    \n",
    "#     \"#635548\", #epiblast mm\n",
    "#     \"#DABE9A\", #Primitive streak mm\n",
    "    \n",
    "    \n",
    "    \n",
    "#     '#7B00FF', #Dppa3 Hand1\n",
    "#     '#FF00B7', #DPPA3 TGM3\n",
    "    \n",
    "#     \"#ffad1e\", #Chorion\n",
    "#     \"#ffd854\", #Chorion progenitors\n",
    "    \n",
    "    \n",
    "#     '#CF6191', #Hypoblast-Anterior (Hhex/Lhx1/Cer1)\n",
    "#     '#F6BFCB', #hypoblast\n",
    "    \n",
    "#     '#BA9BA1', #Visceral endoderm - anterior\n",
    "#     '#F6BFCC' #Visceral endoderm\n",
    "# ))"
   ]
  },
  {
   "cell_type": "code",
   "execution_count": null,
   "id": "9139a277",
   "metadata": {
    "ExecuteTime": {
     "end_time": "2022-10-17T09:37:08.573363Z",
     "start_time": "2022-10-17T09:37:08.130Z"
    }
   },
   "outputs": [],
   "source": [
    "egc_long$color = factor(egc_long$color , levels=c(\n",
    "    \"#635547\", #epiblast oc\n",
    "    \"#DABE99\", #Primitive streak oc\n",
    "    '#7B00FF', #Dppa3 Hand1\n",
    "    '#FF00B7', #DPPA3 TGM3\n",
    "    '#CF6191', #Hypoblast-Anterior (Hhex/Lhx1/Cer1)\n",
    "    '#F6BFCB', #hypoblast\n",
    "    \n",
    "    \n",
    "    \"#635548\", #epiblast mm\n",
    "    \"#DABE9A\", #Primitive streak mm\n",
    "    \n",
    "    \"#ffad1e\", #Chorion\n",
    "    \"#ffd854\", #Chorion progenitors\n",
    "    \n",
    "    '#BA9BA1', #Visceral endoderm - anterior\n",
    "    '#F6BFCC' #Visceral endoderm\n",
    "))"
   ]
  },
  {
   "cell_type": "code",
   "execution_count": null,
   "id": "bbeed422",
   "metadata": {
    "ExecuteTime": {
     "end_time": "2022-10-17T09:37:11.084137Z",
     "start_time": "2022-10-17T09:37:10.224Z"
    }
   },
   "outputs": [],
   "source": [
    "ggplot(egc_long[egc_long$gene==gene,], aes(x=color, y=egc, fill=color)) +\n",
    "  geom_boxplot()+\n",
    "scale_fill_identity() + theme(axis.text.x = element_text(angle = 90, vjust = 0.5, hjust=1)) + \n",
    "    coord_cartesian(ylim = c(-17, -10))\n",
    "# ggsave(paste0(gene,\".png\"))"
   ]
  },
  {
   "cell_type": "code",
   "execution_count": null,
   "id": "da303d32",
   "metadata": {
    "ExecuteTime": {
     "end_time": "2022-10-17T09:37:14.147097Z",
     "start_time": "2022-10-17T09:37:13.741Z"
    }
   },
   "outputs": [],
   "source": [
    "library(ggbeeswarm)"
   ]
  },
  {
   "cell_type": "code",
   "execution_count": null,
   "id": "df366613",
   "metadata": {
    "ExecuteTime": {
     "end_time": "2022-10-17T22:29:29.345611Z",
     "start_time": "2022-10-17T22:29:28.051Z"
    }
   },
   "outputs": [],
   "source": [
    "for(gene in c(\"IGF1\", \"IGF2\", \"CER1\", \"WNT3\", \"BMP2\", \"BMP4\")){\n",
    "    ggplot(egc_long[egc_long$gene==gene,], aes(x=color, y=egc, fill=color)) +\n",
    "  geom_beeswarm(pch = 21, cex = 0.5, corral = \"wrap\", corral.width = 0.4, dodge.width=.5) + scale_fill_identity() + ggtitle(gene)\n",
    "    ggsave(paste0(gene,\".pdf\"), width = 10, height = 5)\n",
    "    }"
   ]
  },
  {
   "cell_type": "code",
   "execution_count": null,
   "id": "44774f85",
   "metadata": {
    "ExecuteTime": {
     "end_time": "2022-10-13T14:23:03.275630Z",
     "start_time": "2022-10-13T14:23:02.849Z"
    }
   },
   "outputs": [],
   "source": [
    "egc_long = egc_long[!is.na(egc_long$color),]"
   ]
  },
  {
   "cell_type": "code",
   "execution_count": null,
   "id": "6654a235",
   "metadata": {
    "ExecuteTime": {
     "end_time": "2022-10-13T21:30:07.894945Z",
     "start_time": "2022-10-13T21:30:07.527Z"
    }
   },
   "outputs": [],
   "source": [
    "gene = \"IGF1\"\n",
    "egc_long[egc_long$gene==gene & egc_long$color=='#CF6191',]"
   ]
  },
  {
   "cell_type": "code",
   "execution_count": null,
   "id": "e96d3057",
   "metadata": {
    "ExecuteTime": {
     "end_time": "2022-10-18T16:53:25.808646Z",
     "start_time": "2022-10-18T16:53:24.277Z"
    }
   },
   "outputs": [],
   "source": [
    "options(repr.plot.width=15, repr.plot.height=5)\n",
    "\n",
    "# for(gene in ym_exe_gs){\n",
    "#for(gene in c(\"BMP2\", \"BMP4\", \"WNT\")){\n",
    "for(gene in c(\"DKK1\", \"IGF1\", \"IGF2\", \"CER1\", \"WNT3\", \"BMP2\", \"BMP4\")){\n",
    "\n",
    "#     ggplot(egc_long[egc_long$gene==gene,], aes(x=color, y=egc, fill=color)) +\n",
    "#       geom_boxplot()+\n",
    "    options(repr.plot.width=10, repr.plot.height=5)\n",
    "    ggplot(egc_long[egc_long$gene==gene,], aes(x=color, y=egc, fill=color)) +\n",
    "          geom_beeswarm(alpha=1,size=3, pch = 21, cex = 0.5, corral = \"wrap\", corral.width = 0.9, dodge.width=.5) +\n",
    "        scale_fill_identity() + theme(axis.text.x = element_text(angle = 90, vjust = 0.5, hjust=1)) + \n",
    "        coord_cartesian(ylim = c(-17, -10)) + labs(\n",
    "                        title=gene)\n",
    "    ggsave(paste0(gene,\"_noalpha.pdf\"), width = 10,\n",
    "  height = 5,)\n",
    "}\n",
    "# ggplot(mega_tdif, aes(x = traj, y = value, fill=col)) +\n",
    "#   geom_boxplot() + \n",
    "# scale_fill_identity() + theme(axis.text.x = element_text(angle = 90, vjust = 0.5, hjust=1))+\n",
    "# geom_hline(yintercept = 0)"
   ]
  },
  {
   "cell_type": "code",
   "execution_count": null,
   "id": "2fe2c46e",
   "metadata": {},
   "outputs": [],
   "source": []
  },
  {
   "cell_type": "code",
   "execution_count": null,
   "id": "daaa453d",
   "metadata": {
    "ExecuteTime": {
     "end_time": "2022-10-14T07:51:49.355506Z",
     "start_time": "2022-10-14T07:51:48.492Z"
    }
   },
   "outputs": [],
   "source": [
    "options(repr.plot.width=10, repr.plot.height=5)\n",
    "ggplot(egc_long[egc_long$gene==gene,], aes(x=color, y=egc, fill=color)) +\n",
    "      geom_beeswarm(alpha=0.5,size=3, pch = 21, cex = 0.5, corral = \"wrap\", corral.width = 0.5, dodge.width=.5) +\n",
    "    scale_fill_identity() + theme(axis.text.x = element_text(angle = 90, vjust = 0.5, hjust=1)) + \n",
    "    coord_cartesian(ylim = c(-17, -10)) + labs(\n",
    "                    title=gene)"
   ]
  },
  {
   "cell_type": "code",
   "execution_count": null,
   "id": "63f8dcad",
   "metadata": {
    "ExecuteTime": {
     "end_time": "2022-08-02T13:52:06.275681Z",
     "start_time": "2022-08-02T13:52:05.935Z"
    }
   },
   "outputs": [],
   "source": [
    "ggplot(egc_long[egc_long$gene==gene,], aes(x=color, y=egc, fill=color)) +\n",
    "  geom_boxplot()+\n",
    "scale_fill_identity() + theme(axis.text.x = element_text(angle = 90, vjust = 0.5, hjust=1))+\n",
    "geom_hline(yintercept = 0)"
   ]
  },
  {
   "cell_type": "code",
   "execution_count": null,
   "id": "586e3afa",
   "metadata": {},
   "outputs": [],
   "source": [
    "oc = log2(1e-5+ocf_egc[genes,oc_mcids])\n",
    "mm = log2(1e-5+as.matrix(mm_mc@e_gc[genes,mm_mcids]))"
   ]
  },
  {
   "cell_type": "code",
   "execution_count": null,
   "id": "61610caf",
   "metadata": {
    "ExecuteTime": {
     "end_time": "2022-08-02T13:53:50.708048Z",
     "start_time": "2022-08-02T13:53:50.379Z"
    }
   },
   "outputs": [],
   "source": [
    "cor(mm_mc@e_gc[genes,1383], ocf_egc[genes,1317])"
   ]
  },
  {
   "cell_type": "code",
   "execution_count": null,
   "id": "eea4e8e2",
   "metadata": {},
   "outputs": [],
   "source": [
    "oc = log2(1e-5+ocf_egc[genes,oc_mcids])\n",
    "mm = log2(1e-5+as.matrix(mm_mc@e_gc[genes,mm_mcids]))"
   ]
  },
  {
   "cell_type": "code",
   "execution_count": null,
   "id": "81708b26",
   "metadata": {
    "ExecuteTime": {
     "end_time": "2022-10-13T12:34:47.665954Z",
     "start_time": "2022-10-13T12:34:46.615Z"
    },
    "scrolled": false
   },
   "outputs": [],
   "source": [
    "col_col_mcor = long_mm_ocf_cors_colored %>% group_by(rabbit_col, mouse_col) %>% summarise(mcor=mean(cor))\n",
    "col_col_mcor = col_col_mcor[col_col_mcor$mcor > 0.25,]\n",
    "options(repr.plot.width=4, repr.plot.height=4)\n",
    "genes = double_featured_good\n",
    "# for(rab_col in unique(col_col_mcor$rabbit_col)){\n",
    "for(rab_col in c(\"#FACB12\")){\n",
    "    for(mus_col in col_col_mcor[col_col_mcor$rabbit_col==rab_col,]$mouse_col){\n",
    "        oc_mcids = names(oc_mc@colors[oc_mc@colors==rab_col])\n",
    "        mm_mcids = names(mm_mc@colors[mm_mc@colors==mus_col])\n",
    "        oc = log2(1e-5+ocf_egc[genes,oc_mcids])\n",
    "        mm = log2(1e-5+as.matrix(mm_mc@e_gc[genes,mm_mcids]))\n",
    "        if(dim(mm_mc@e_gc)[2]>0 & dim(ocf_egc)[2]>0){\n",
    "            bmc = which.max(diag(tgs_cor(oc, mm)))\n",
    "            com = cbind(oc[,bmc], mm[,bmc])\n",
    "    #                 com = cbind(rowMeans(oc), rowMeans(mm))\n",
    "            colnames(com) = c('oc', 'mm')\n",
    "            com = as.data.frame(com)\n",
    "            com$gene = rownames(com)\n",
    "            com$oc = com$oc\n",
    "            com$sf = abs(com$oc-com$mm)>2\n",
    "            com[!com$gene %in% orth_tfs,]$sf = FALSE\n",
    "            com[com$sf==FALSE,]$gene = \"\"\n",
    "        #     com$gene = \"\"\n",
    "            print(ggplot(com, aes(oc, mm, label = gene))+\n",
    "                labs(\n",
    "                    title=paste0(\n",
    "    #                     oc_mcids,\n",
    "    #                     ' - ',\n",
    "                        oc_col2cat[rab_col], \n",
    "                        '\\n',\n",
    "    #                     mm_mcids,\n",
    "    #                     ' - ',\n",
    "                        mm_col2cat[mus_col],\n",
    "                        '\\n',\n",
    "                        \" cor=\",\n",
    "                        round(cor(com$oc, com$mm),2)\n",
    "                    ))+\n",
    "                geom_point(data = com[com$sf == FALSE,], color = rab_col)+\n",
    "                geom_text_repel(box.padding = 0.5, max.overlaps = Inf)+\n",
    "                geom_point(data = com[com$sf == TRUE,], color = \"red\") + \n",
    "                geom_abline(intercept = 0, slope = 1,) + \n",
    "                geom_abline(intercept = 2, slope = 1, linetype=\"dashed\") + \n",
    "                geom_abline(intercept = -2, slope = 1, linetype=\"dashed\")\n",
    "            )\n",
    "        }\n",
    "    }\n",
    "}"
   ]
  },
  {
   "cell_type": "code",
   "execution_count": null,
   "id": "c1a2d88f",
   "metadata": {
    "ExecuteTime": {
     "end_time": "2022-10-13T12:34:51.459313Z",
     "start_time": "2022-10-13T12:34:50.542Z"
    }
   },
   "outputs": [],
   "source": [
    "col_col_mcor = long_mm_ocf_cors_colored %>% group_by(rabbit_col, mouse_col) %>% summarise(mcor=mean(cor))\n",
    "col_col_mcor = col_col_mcor[col_col_mcor$mcor > 0.25,]\n",
    "options(repr.plot.width=4, repr.plot.height=4)\n",
    "genes = double_featured_good\n",
    "for(rab_col in unique(col_col_mcor$rabbit_col)){\n",
    "    # Open a pdf file\n",
    "    ncols = length(col_col_mcor[col_col_mcor$rabbit_col==rab_col,]$mouse_col)\n",
    "    pdf(paste0(oc_col2cat[rab_col],\".pdf\"), width=ncols*4, height=4)\n",
    "    mus_plots = list()\n",
    "    for(mus_col in col_col_mcor[col_col_mcor$rabbit_col==rab_col,]$mouse_col){\n",
    "        oc_mcids = names(oc_mc@colors[oc_mc@colors==rab_col])\n",
    "        mm_mcids = names(mm_mc@colors[mm_mc@colors==mus_col])\n",
    "        oc = log2(1e-5+ocf_egc[genes,oc_mcids])\n",
    "        mm = log2(1e-5+as.matrix(mm_mc@e_gc[genes,mm_mcids]))\n",
    "        if(dim(mm_mc@e_gc)[2]>0 & dim(ocf_egc)[2]>0){\n",
    "            bmc = which.max(diag(tgs_cor(oc, mm)))\n",
    "            com = cbind(oc[,bmc], mm[,bmc])\n",
    "    #                 com = cbind(rowMeans(oc), rowMeans(mm))\n",
    "            colnames(com) = c('oc', 'mm')\n",
    "            com = as.data.frame(com)\n",
    "            com$gene = rownames(com)\n",
    "            com$oc = com$oc\n",
    "            com$sf = abs(com$oc-com$mm)>2\n",
    "            com[!com$gene %in% orth_tfs,]$sf = FALSE\n",
    "            com[com$sf==FALSE,]$gene = \"\"\n",
    "        #     com$gene = \"\"\n",
    "            mus_plots[[mus_col]] <- qplot(com, aes(oc, mm, label = gene))+\n",
    "                labs(\n",
    "                    title=paste0(\n",
    "    #                     oc_mcids,\n",
    "    #                     ' - ',\n",
    "                        oc_col2cat[rab_col], \n",
    "                        '\\n',\n",
    "    #                     mm_mcids,\n",
    "    #                     ' - ',\n",
    "                        mm_col2cat[mus_col],\n",
    "                        '\\n',\n",
    "                        \" cor=\",\n",
    "                        round(cor(com$oc, com$mm),2)\n",
    "                    ))+\n",
    "                geom_point(data = com[com$sf == FALSE,], color = rab_col)+\n",
    "                geom_text_repel(box.padding = 0.5, max.overlaps = Inf)+\n",
    "                geom_point(data = com[com$sf == TRUE,], color = \"red\") + \n",
    "                geom_abline(intercept = 0, slope = 1,) + \n",
    "                geom_abline(intercept = 2, slope = 1, linetype=\"dashed\") + \n",
    "                geom_abline(intercept = -2, slope = 1, linetype=\"dashed\")\n",
    "        }\n",
    "    }\n",
    "        grid.arrange(mus_plots, ncol=ncols)\n",
    "        # Close the pdf file\n",
    "        dev.off()\n",
    "}"
   ]
  },
  {
   "cell_type": "code",
   "execution_count": null,
   "id": "e0d431e6",
   "metadata": {},
   "outputs": [],
   "source": []
  }
 ],
 "metadata": {
  "kernelspec": {
   "display_name": "R",
   "language": "R",
   "name": "ir"
  },
  "language_info": {
   "codemirror_mode": "r",
   "file_extension": ".r",
   "mimetype": "text/x-r-source",
   "name": "R",
   "pygments_lexer": "r",
   "version": "4.0.5"
  },
  "latex_envs": {
   "LaTeX_envs_menu_present": true,
   "autoclose": false,
   "autocomplete": true,
   "bibliofile": "biblio.bib",
   "cite_by": "apalike",
   "current_citInitial": 1,
   "eqLabelWithNumbers": true,
   "eqNumInitial": 1,
   "hotkeys": {
    "equation": "Ctrl-E",
    "itemize": "Ctrl-I"
   },
   "labels_anchors": false,
   "latex_user_defs": false,
   "report_style_numbering": false,
   "user_envs_cfg": false
  }
 },
 "nbformat": 4,
 "nbformat_minor": 5
}
