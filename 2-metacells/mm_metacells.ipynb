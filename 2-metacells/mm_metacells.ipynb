{
 "cells": [
  {
   "cell_type": "code",
   "execution_count": null,
   "id": "a25bc16d",
   "metadata": {
    "ExecuteTime": {
     "end_time": "2022-07-18T10:30:22.482387Z",
     "start_time": "2022-07-18T10:30:17.320597Z"
    }
   },
   "outputs": [],
   "source": [
    "import anndata as ad\n",
    "import matplotlib.pyplot as plt\n",
    "import metacells as mc\n",
    "import numpy as np\n",
    "import os\n",
    "import pandas as pd\n",
    "import scipy.sparse as sp\n",
    "import seaborn as sb\n",
    "\n",
    "from math import hypot\n",
    "from matplotlib.collections import LineCollection\n",
    "from IPython.display import set_matplotlib_formats\n",
    "\n",
    "set_matplotlib_formats('svg')\n",
    "sb.set_style(\"white\")"
   ]
  },
  {
   "cell_type": "code",
   "execution_count": null,
   "id": "843da407",
   "metadata": {
    "ExecuteTime": {
     "end_time": "2022-07-18T10:30:31.237519Z",
     "start_time": "2022-07-18T10:30:22.486092Z"
    },
    "slideshow": {
     "slide_type": ""
    }
   },
   "outputs": [],
   "source": [
    "raw = ad.read_h5ad('output/scrna_db/mm_cells_with_md.h5ad')\n",
    "# raw = mc.ut.slice(raw, vars=np.squeeze(np.asarray(np.sum(raw.X, axis = 0))) > 100)\n",
    "# exe_cells = set(i for j in pd.read_table(\"../rabemb/exe_cells_fixed.txt\", header=None).values for i in j)\n",
    "# raw = mc.ut.slice(raw, obs=[i not in exe_cells for i in raw.obs_names])"
   ]
  },
  {
   "cell_type": "code",
   "execution_count": null,
   "id": "09e19d07",
   "metadata": {
    "ExecuteTime": {
     "end_time": "2022-07-18T10:30:31.244797Z",
     "start_time": "2022-07-18T10:30:31.239745Z"
    },
    "scrolled": true
   },
   "outputs": [],
   "source": [
    "mc.ut.set_name(raw, 'embexe')\n",
    "print(raw.shape)"
   ]
  },
  {
   "cell_type": "code",
   "execution_count": null,
   "id": "ed797bb6",
   "metadata": {
    "ExecuteTime": {
     "end_time": "2022-07-18T10:30:31.250863Z",
     "start_time": "2022-07-18T10:30:31.247080Z"
    }
   },
   "outputs": [],
   "source": [
    "excluded_gene_names = [\"Neat1\", \"Xist\", \"Malat1\", \"AK140265\",\"AK018753\",\"AK163440\",\"DQ539915\",\"AK131586\",\"AK131579\",\"AK142750\",\"X57780\",\"GU332589\",\"BC071253\"]\n",
    "excluded_gene_patterns = [\n",
    "#     '^IGJ', '^IGH', '^IGK', '^IGL', 'MT-*', \"^MTMR*\", '^MTRNR*', '^MTND*',  \n",
    "    'ERCC*', \n",
    "#     'hotspot*', \n",
    "#     'LOC*'\n",
    "]"
   ]
  },
  {
   "cell_type": "code",
   "execution_count": null,
   "id": "e44abdcc",
   "metadata": {
    "ExecuteTime": {
     "end_time": "2022-07-18T10:30:54.787653Z",
     "start_time": "2022-07-18T10:30:31.252525Z"
    }
   },
   "outputs": [],
   "source": [
    "%%time\n",
    "mc.pl.analyze_clean_genes(raw,\n",
    "                          excluded_gene_names=excluded_gene_names,\n",
    "                          excluded_gene_patterns=excluded_gene_patterns,\n",
    "                          random_seed=123456)"
   ]
  },
  {
   "cell_type": "code",
   "execution_count": null,
   "id": "ed45e583",
   "metadata": {
    "ExecuteTime": {
     "end_time": "2022-07-18T10:30:54.795940Z",
     "start_time": "2022-07-18T10:30:54.789823Z"
    }
   },
   "outputs": [],
   "source": [
    "%%time\n",
    "mc.pl.pick_clean_genes(raw)"
   ]
  },
  {
   "cell_type": "code",
   "execution_count": null,
   "id": "40ff174d",
   "metadata": {
    "ExecuteTime": {
     "end_time": "2022-07-18T10:30:54.807064Z",
     "start_time": "2022-07-18T10:30:54.797315Z"
    }
   },
   "outputs": [],
   "source": [
    "from collections import Counter\n",
    "Counter(raw.var.clean_gene)"
   ]
  },
  {
   "cell_type": "code",
   "execution_count": null,
   "id": "a19e75f2",
   "metadata": {
    "ExecuteTime": {
     "end_time": "2022-07-18T10:30:54.821843Z",
     "start_time": "2022-07-18T10:30:54.808261Z"
    }
   },
   "outputs": [],
   "source": [
    "%%time\n",
    "# raw.write('full_embexe.h5ad')\n",
    "full = raw"
   ]
  },
  {
   "cell_type": "code",
   "execution_count": null,
   "id": "01bc5ea5",
   "metadata": {
    "ExecuteTime": {
     "end_time": "2022-07-18T10:30:56.532333Z",
     "start_time": "2022-07-18T10:30:54.823975Z"
    }
   },
   "outputs": [],
   "source": [
    "%%time\n",
    "properly_sampled_min_cell_total = 2400\n",
    "properly_sampled_max_cell_total = 32000\n",
    "\n",
    "total_umis_of_cells = mc.ut.get_o_numpy(full, name='__x__', sum=True)\n",
    "\n",
    "plot = sb.distplot(total_umis_of_cells)\n",
    "plot.set(xlabel='UMIs', ylabel='Density', yticks=[])\n",
    "plot.axvline(x=properly_sampled_min_cell_total, color='darkgreen')\n",
    "plot.axvline(x=properly_sampled_max_cell_total, color='crimson')\n",
    "\n",
    "too_small_cells_count = sum(total_umis_of_cells < properly_sampled_min_cell_total)\n",
    "too_large_cells_count = sum(total_umis_of_cells > properly_sampled_max_cell_total)\n",
    "\n",
    "too_small_cells_percent = 100.0 * too_small_cells_count / len(total_umis_of_cells)\n",
    "too_large_cells_percent = 100.0 * too_large_cells_count / len(total_umis_of_cells)\n",
    "\n",
    "print(f\"Will exclude %s (%.2f%%) cells with less than %s UMIs\"\n",
    "      % (too_small_cells_count,\n",
    "         too_small_cells_percent,\n",
    "         properly_sampled_min_cell_total))\n",
    "print(f\"Will exclude %s (%.2f%%) cells with more than %s UMIs\"\n",
    "      % (too_large_cells_count,\n",
    "         too_large_cells_percent,\n",
    "         properly_sampled_max_cell_total))"
   ]
  },
  {
   "cell_type": "code",
   "execution_count": null,
   "id": "e64b9094",
   "metadata": {
    "ExecuteTime": {
     "end_time": "2022-07-18T10:30:56.541025Z",
     "start_time": "2022-07-18T10:30:56.535582Z"
    }
   },
   "outputs": [],
   "source": [
    "np.median(total_umis_of_cells)"
   ]
  },
  {
   "cell_type": "code",
   "execution_count": null,
   "id": "2213c355",
   "metadata": {
    "ExecuteTime": {
     "end_time": "2022-07-18T10:30:57.434914Z",
     "start_time": "2022-07-18T10:30:56.542693Z"
    }
   },
   "outputs": [],
   "source": [
    "%%time\n",
    "properly_sampled_max_excluded_genes_fraction = 0.01\n",
    "\n",
    "excluded_genes_data = mc.tl.filter_data(full, var_masks=['~clean_gene'])[0]\n",
    "excluded_umis_of_cells = mc.ut.get_o_numpy(excluded_genes_data, name='__x__', sum=True)\n",
    "excluded_fraction_of_umis_of_cells = excluded_umis_of_cells / total_umis_of_cells\n",
    "\n",
    "plot = sb.distplot(excluded_fraction_of_umis_of_cells)\n",
    "plot.set(xlabel='Fraction of excluded gene UMIs', ylabel='Density', yticks=[])\n",
    "plot.axvline(x=properly_sampled_max_excluded_genes_fraction, color='crimson')\n",
    "\n",
    "too_excluded_cells_count = sum(excluded_fraction_of_umis_of_cells > properly_sampled_max_excluded_genes_fraction)\n",
    "\n",
    "too_excluded_cells_percent = 100.0 * too_excluded_cells_count / len(total_umis_of_cells)\n",
    "\n",
    "print(f\"Will exclude %s (%.2f%%) cells with more than %.2f%% excluded gene UMIs\"\n",
    "      % (too_excluded_cells_count,\n",
    "         too_excluded_cells_percent,\n",
    "         100.0 * properly_sampled_max_excluded_genes_fraction))"
   ]
  },
  {
   "cell_type": "code",
   "execution_count": null,
   "id": "80955b26",
   "metadata": {
    "ExecuteTime": {
     "end_time": "2022-07-18T10:30:57.480844Z",
     "start_time": "2022-07-18T10:30:57.436301Z"
    }
   },
   "outputs": [],
   "source": [
    "%%time\n",
    "mc.pl.analyze_clean_cells(\n",
    "    full,\n",
    "    properly_sampled_min_cell_total=properly_sampled_min_cell_total,\n",
    "    properly_sampled_max_cell_total=properly_sampled_max_cell_total,\n",
    "    properly_sampled_max_excluded_genes_fraction=properly_sampled_max_excluded_genes_fraction)"
   ]
  },
  {
   "cell_type": "code",
   "execution_count": null,
   "id": "20ae52d2",
   "metadata": {
    "ExecuteTime": {
     "end_time": "2022-07-18T10:30:57.488402Z",
     "start_time": "2022-07-18T10:30:57.482568Z"
    }
   },
   "outputs": [],
   "source": [
    "%%time\n",
    "mc.pl.pick_clean_cells(full)"
   ]
  },
  {
   "cell_type": "code",
   "execution_count": null,
   "id": "063c5f31",
   "metadata": {
    "ExecuteTime": {
     "end_time": "2022-07-18T10:31:02.845827Z",
     "start_time": "2022-07-18T10:30:57.490041Z"
    }
   },
   "outputs": [],
   "source": [
    "%%time\n",
    "clean = mc.pl.extract_clean_data(full)"
   ]
  },
  {
   "cell_type": "code",
   "execution_count": null,
   "id": "a8ca47be",
   "metadata": {
    "ExecuteTime": {
     "end_time": "2022-07-18T10:31:02.873311Z",
     "start_time": "2022-07-18T10:31:02.847753Z"
    }
   },
   "outputs": [],
   "source": [
    "%%time\n",
    "suspect_gene_names = [\n",
    "    \"A2m\", \"AA465934;AI450353\", \"AK021383;Prrc2c\", \"AK033756;Rab3il1\", \"AK087340;Eif3a\", \"AK156288;Tpd52\", \"AK158346;Snrpd2\", \"AK164737;Ell2\", \"AK165270;Rbm25\", \"AK196308;Tuba1b\", \"AK202516;P4hb\", \"AK204572;Eef1a1\", \"Acsl3;Utp14b\", \"Alad\", \"Aldoa\", \"Ankrd11\", \"Arl6ip1\", \"Atp5j\", \"Atrx\", \"Bst2\", \"Calr\", \"Cap1\", \"Cbx7\", \"Ccdc155\", \"Ccnb1\", \"Ccne1\", \"Cenpe\", \"Cenpf\", \"Chchd10\", \"Chd4;Mir7045\", \"Cox7b\", \"Cox7c\", \"Cox8a\", \"Cpox\", \"Csf2rb;Mir7676-2\", \"Ddx21\", \"Dek\", \"Dmkn\", \"Dsg2\", \"Eif5a\", \"Eif5b\", \"Erv3\", \"F11r\", \"Fblim1\", \"Fech\", \"Glrx5\", \"Gm12338\", \"Gm15772;Rpl26\", \"Gm1821\", \"Gprc5a\", \"Gpx1\", \"Gse1\", \"Hbb-b2\", \"Hdac6\", \"Hdgf\", \"Hist1h1a\", \"Hist1h1b\", \"Hist1h1c\", \"Hist1h1d\", \"Hist1h1e\", \"Hist1h2ae\", \"Hmmr\", \"Hsp90aa1\", \"Hsp90ab1\", \"Hsp90b1\", \"Hspa5\", \"Hspa8\", \"Hspe1\", \"Il1r2\", \"Isyna1\", \"Kif20b\", \"Kmt2a\", \"Ldha\", \"Ly6a\", \"Ly6c1\", \"Manf\", \"Mbnl1\", \"Mir6236\", \"Mir7079;Rpl13\", \"Mki67\", \"Msh6\", \"Naca\", \"Nasp\", \"Ncl\", \"Npm1\", \"Pdia6\", \"Pfn1\", \"Pkm\", \"Plekhf2\", \"Pnpo\", \"Prc1\", \"Prdx2\", \"Prmt1\", \"Prpf40a\", \"Psip1\", \"Psmb10\", \"Ptma\", \"Pttg1\", \"Rab15\", \"Rell1\", \"Rn45s\", \"Rpl14-ps1\", \"Rpl22l1\", \"Rpl23\", \"Rpl32\", \"Rpl37\", \"Rpl38\", \"Rpl41\", \"Rpl7\", \"Rplp0\", \"Rplp1\", \"Rps10\", \"Rps11\", \"Rps14\", \"Rps15\", \"Rps15a-ps6\", \"Rps18\", \"Rps2\", \"Rps20\", \"Rps21\", \"Rps25\", \"Rps26\", \"Rps27l\", \"Rps4l\", \"Rps5\", \"Rpsa\", \"Rrm2\", \"S100a4\", \"S100a8\", \"Slc14a1\", \"Slc16a3\", \"Slc6a12\", \"Smc4\", \"Smox\", \"Soat1\", \"Son\", \"Spint1\", \"Spns2\", \"Srrm2\", \n",
    "#     \"Ssx2ip\", \n",
    "    \"Tac2\", \"Tfrc\", \"Tjp2\", \"Tmem14c\", \"Top1\", \"Top2a\", \"Tpr\", \"Tubb5\", \"Ubb\", \"Ube2c\", \"Ung\", \"Hspb1\", \"Hspb8\"\n",
    "    \n",
    "#     Hbb-bs, # 1e-3\n",
    "    \"Hbb-y\",  # 2e-2\n",
    "#     Hbb-b2, # 2e-4\n",
    "    \"Hba-a2\", # 1e-2\n",
    "    \"Hba-x\",  # 4e-2\n",
    "    \"Hbb-bh1\",# 1e-1\n",
    "]\n",
    "suspect_gene_patterns = [ 'MCM[0-9]', 'SMC[0-9]', 'IFI.*', 'Hist1*.', 'HSP90.+' , 'COX.+']\n",
    "# suspect_gene_patterns = ['MCM[0-9]', 'SMC[0-9]', 'IFI.*', 'Hist1*.', 'HSP*' , 'COX.+']\n",
    "suspect_genes_mask = mc.tl.find_named_genes(clean, names=suspect_gene_names,\n",
    "                                            patterns=suspect_gene_patterns)\n",
    "suspect_gene_names = sorted(clean.var_names[suspect_genes_mask])"
   ]
  },
  {
   "cell_type": "code",
   "execution_count": null,
   "id": "5ad04ea3",
   "metadata": {
    "ExecuteTime": {
     "end_time": "2022-07-18T10:31:11.875853Z",
     "start_time": "2022-07-18T10:31:02.874924Z"
    }
   },
   "outputs": [],
   "source": [
    "%%time\n",
    "mc.pl.relate_genes(clean, random_seed=123456, \n",
    "                   genes_similarity_method=\"pearson\")#, min_genes_of_modules=)\n",
    "# method in (\"pearson\", \"repeated_pearson\", \"logistics\", \"logistics_pearson\")"
   ]
  },
  {
   "cell_type": "code",
   "execution_count": null,
   "id": "48125b2a",
   "metadata": {
    "ExecuteTime": {
     "end_time": "2022-07-18T10:31:11.883193Z",
     "start_time": "2022-07-18T10:31:11.877710Z"
    }
   },
   "outputs": [],
   "source": [
    "module_of_genes = clean.var['related_genes_module']\n",
    "suspect_gene_modules = np.unique(module_of_genes[suspect_genes_mask])\n",
    "suspect_gene_modules = suspect_gene_modules[suspect_gene_modules >= 0]\n",
    "print(suspect_gene_modules)"
   ]
  },
  {
   "cell_type": "code",
   "execution_count": null,
   "id": "dc4f0c27",
   "metadata": {},
   "outputs": [],
   "source": [
    "# # %%time\n",
    "# similarity_of_genes = mc.ut.get_vv_frame(clean, 'related_genes_similarity')\n",
    "# for gene_module in range(max(module_of_genes)+1):\n",
    "#     module_genes_mask = module_of_genes == gene_module\n",
    "#     similarity_of_module = similarity_of_genes.loc[module_genes_mask, module_genes_mask]\n",
    "#     similarity_of_module.index = \\\n",
    "#     similarity_of_module.columns = [\n",
    "#         '(*) ' + name if name in suspect_gene_names else name\n",
    "#         for name in similarity_of_module.index\n",
    "#     ]\n",
    "#     ax = plt.axes()\n",
    "#     sb.heatmap(similarity_of_module, vmin=0, vmax=1, ax=ax, cmap=\"YlGnBu\", xticklabels=True, yticklabels=True)\n",
    "#     ax.set_title(f'Gene Module {gene_module}')\n",
    "#     plt.savefig('embexe_new2_{}.png'.format(gene_module), bbox_inches='tight')\n",
    "#     plt.show()"
   ]
  },
  {
   "cell_type": "code",
   "execution_count": null,
   "id": "23a7c19f",
   "metadata": {
    "scrolled": true
   },
   "outputs": [],
   "source": [
    "similarity_of_genes = mc.ut.get_vv_frame(clean, 'related_genes_similarity')\n",
    "for gene_module in suspect_gene_modules:\n",
    "    module_genes_mask = module_of_genes == gene_module\n",
    "    similarity_of_module = similarity_of_genes.loc[module_genes_mask, module_genes_mask]\n",
    "    similarity_of_module.index = \\\n",
    "    similarity_of_module.columns = [\n",
    "        '(*) ' + name if name in suspect_gene_names else name\n",
    "        for name in similarity_of_module.index\n",
    "    ]\n",
    "    ax = plt.axes()\n",
    "    sb.heatmap(similarity_of_module, vmin=0, vmax=1, xticklabels=True, yticklabels=True, ax=ax, cmap=\"YlGnBu\")\n",
    "    ax.set_title(f'Gene Module {gene_module}')\n",
    "#     plt.savefig('embexe_new_{}.png'.format(gene_module), bbox_inches='tight')\n",
    "    plt.show()"
   ]
  },
  {
   "cell_type": "markdown",
   "id": "0b3dc0ee",
   "metadata": {},
   "source": [
    "# You have to manually select forbidden clusters based on the previous cell's output"
   ]
  },
  {
   "cell_type": "code",
   "execution_count": null,
   "id": "ee80a4b4",
   "metadata": {
    "ExecuteTime": {
     "end_time": "2022-07-18T10:31:11.893535Z",
     "start_time": "2022-07-18T10:31:11.885331Z"
    }
   },
   "outputs": [],
   "source": [
    "%%time\n",
    "forbidden_genes_mask = suspect_genes_mask\n",
    "\n",
    "for gene_module in [14,37,60,69,89,105,122,123,127]:\n",
    "    module_genes_mask = module_of_genes == gene_module\n",
    "    forbidden_genes_mask |= module_genes_mask\n",
    "# forbidden_genes_mask['HES1'] = False\n",
    "forbidden_gene_names = sorted(clean.var_names[forbidden_genes_mask])\n",
    "print(len(forbidden_gene_names))\n",
    "print(' '.join(forbidden_gene_names))"
   ]
  },
  {
   "cell_type": "code",
   "execution_count": null,
   "id": "926eb01f",
   "metadata": {},
   "outputs": [],
   "source": [
    "max_parallel_piles = mc.pl.guess_max_parallel_piles(clean)\n",
    "print(max_parallel_piles)\n",
    "mc.pl.set_max_parallel_piles(max_parallel_piles)"
   ]
  },
  {
   "cell_type": "code",
   "execution_count": null,
   "id": "cce40d15",
   "metadata": {},
   "outputs": [],
   "source": [
    "%%time\n",
    "mc.pl.divide_and_conquer_pipeline(clean,\n",
    "                                  forbidden_gene_names=forbidden_gene_names,\n",
    "                                  target_metacell_size=320000,\n",
    "                                  random_seed=123456)"
   ]
  },
  {
   "cell_type": "code",
   "execution_count": null,
   "id": "534b334a",
   "metadata": {},
   "outputs": [],
   "source": [
    "%%time\n",
    "metacells = mc.pl.collect_metacells(clean, name='metacells')"
   ]
  },
  {
   "cell_type": "code",
   "execution_count": null,
   "id": "302700f8",
   "metadata": {},
   "outputs": [],
   "source": [
    "metacells.obs_names"
   ]
  },
  {
   "cell_type": "code",
   "execution_count": null,
   "id": "16bdde1f",
   "metadata": {},
   "outputs": [],
   "source": [
    "clean.obs.metacell >= 0\n",
    "clean2 = mc.ut.slice(clean, obs=clean.obs.metacell >= 0)"
   ]
  },
  {
   "cell_type": "code",
   "execution_count": null,
   "id": "ab6718be",
   "metadata": {},
   "outputs": [],
   "source": [
    "min(clean2.obs.groupby('metacell').aggregate('count')['properly_sampled_cell'])"
   ]
  },
  {
   "cell_type": "code",
   "execution_count": null,
   "id": "d7f11e2e",
   "metadata": {
    "scrolled": false
   },
   "outputs": [],
   "source": [
    "%%time\n",
    "mc.pl.compute_umap_by_features(metacells, max_top_feature_genes=1000,\n",
    "                               min_dist=2.0, random_seed=42)"
   ]
  },
  {
   "cell_type": "code",
   "execution_count": null,
   "id": "910c5400",
   "metadata": {},
   "outputs": [],
   "source": [
    "umap_x = mc.ut.get_o_numpy(metacells, 'umap_x')\n",
    "umap_y = mc.ut.get_o_numpy(metacells, 'umap_y')\n",
    "plot = sb.scatterplot(x=umap_x, y=umap_y)"
   ]
  },
  {
   "cell_type": "code",
   "execution_count": null,
   "id": "36d4c215",
   "metadata": {},
   "outputs": [],
   "source": [
    "%%time\n",
    "umap_edges = sp.coo_matrix(mc.ut.get_oo_proper(metacells, 'obs_outgoing_weights'))\n",
    "min_long_edge_size = 4\n",
    "sb.set()\n",
    "plot = sb.scatterplot(x=umap_x, y=umap_y)\n",
    "for (source_index, target_index, weight) \\\n",
    "        in zip(umap_edges.row, umap_edges.col, umap_edges.data):\n",
    "    source_x = umap_x[source_index]\n",
    "    target_x = umap_x[target_index]\n",
    "    source_y = umap_y[source_index]\n",
    "    target_y = umap_y[target_index]\n",
    "    if hypot(target_x - source_x, target_y - source_y) >= min_long_edge_size:\n",
    "        plt.plot([source_x, target_x], [source_y, target_y],\n",
    "                 linewidth=weight * 2, color='indigo')\n",
    "plt.show()"
   ]
  },
  {
   "cell_type": "code",
   "execution_count": null,
   "id": "d7579e90",
   "metadata": {},
   "outputs": [],
   "source": [
    "# np.median(np.sum(metacells.X, axis=1))"
   ]
  },
  {
   "cell_type": "code",
   "execution_count": null,
   "id": "c510e627",
   "metadata": {
    "slideshow": {
     "slide_type": ""
    }
   },
   "outputs": [],
   "source": [
    "# clean.X.shape"
   ]
  },
  {
   "cell_type": "code",
   "execution_count": null,
   "id": "1f575f5c",
   "metadata": {},
   "outputs": [],
   "source": [
    "# len(clean.obs_names), len(set(clean.obs_names))"
   ]
  },
  {
   "cell_type": "code",
   "execution_count": null,
   "id": "b36119a3",
   "metadata": {},
   "outputs": [],
   "source": [
    "raw.X.shape"
   ]
  },
  {
   "cell_type": "code",
   "execution_count": null,
   "id": "b45403fd",
   "metadata": {},
   "outputs": [],
   "source": [
    "full.X.shape"
   ]
  },
  {
   "cell_type": "code",
   "execution_count": null,
   "id": "dc45736e",
   "metadata": {},
   "outputs": [],
   "source": [
    "clean.X.shape"
   ]
  },
  {
   "cell_type": "code",
   "execution_count": null,
   "id": "8b7b748f",
   "metadata": {},
   "outputs": [],
   "source": [
    "clean.write('clean_embexe2.h5ad')\n",
    "metacells.write('metacells_embexe2.h5ad')\n",
    "del metacells.uns['__name__']\n",
    "# metacells.write('for_seurat_ss5.h5ad')"
   ]
  },
  {
   "cell_type": "code",
   "execution_count": null,
   "id": "9ca682fb",
   "metadata": {},
   "outputs": [],
   "source": [
    "metacells.obs_keys()"
   ]
  },
  {
   "cell_type": "code",
   "execution_count": null,
   "id": "75a3cedc",
   "metadata": {},
   "outputs": [],
   "source": [
    "# require('anndata')\n",
    "# require('chameleon')\n",
    "# require('pheatmap')\n",
    "# require('pracma')\n",
    "# require('stats')\n",
    "# options(jupyter.plot_mimetypes = 'image/svg+xml')"
   ]
  },
  {
   "cell_type": "code",
   "execution_count": null,
   "id": "9f0c6dc9",
   "metadata": {},
   "outputs": [],
   "source": [
    "# mc.ut.get_o_names(metacells)"
   ]
  },
  {
   "cell_type": "code",
   "execution_count": null,
   "id": "02350823",
   "metadata": {},
   "outputs": [],
   "source": [
    "# mc.ut.get_"
   ]
  },
  {
   "cell_type": "code",
   "execution_count": null,
   "id": "14815656",
   "metadata": {},
   "outputs": [],
   "source": [
    "# mc.ut.get_m_data(metacells)"
   ]
  },
  {
   "cell_type": "code",
   "execution_count": null,
   "id": "1bc36671",
   "metadata": {},
   "outputs": [],
   "source": [
    "# mc.ut.get_v_names(metacells)"
   ]
  },
  {
   "cell_type": "code",
   "execution_count": null,
   "id": "c830b2fd",
   "metadata": {},
   "outputs": [],
   "source": [
    "# #markus test\n",
    "# clean = ad.read_h5ad('clean_embexe2.h5ad')\n",
    "# metacells = ad.read_h5ad('metacells_embexe2.h5ad')"
   ]
  },
  {
   "cell_type": "code",
   "execution_count": null,
   "id": "8cbccdb2",
   "metadata": {},
   "outputs": [],
   "source": [
    "cdata = ad.read_h5ad('clean_embexe2.h5ad')\n",
    "mdata = ad.read_h5ad('metacells_embexe2_recolored.h5ad')"
   ]
  },
  {
   "cell_type": "code",
   "execution_count": null,
   "id": "8db9a896",
   "metadata": {},
   "outputs": [],
   "source": [
    "adata_old = ad.read_h5ad('metacells_embexe_for_projection.h5ad')"
   ]
  },
  {
   "cell_type": "code",
   "execution_count": null,
   "id": "35cb936f",
   "metadata": {},
   "outputs": [],
   "source": [
    "mdata.obs['type'] = adata_old.obs.type"
   ]
  },
  {
   "cell_type": "code",
   "execution_count": null,
   "id": "779671fd",
   "metadata": {},
   "outputs": [],
   "source": [
    "mdata.obs"
   ]
  },
  {
   "cell_type": "code",
   "execution_count": null,
   "id": "ceb8a46d",
   "metadata": {},
   "outputs": [],
   "source": [
    "# cdata.obs['type'] = mdata.obs.type[cdata.obs.metacell].values"
   ]
  },
  {
   "cell_type": "code",
   "execution_count": null,
   "id": "8abddcae",
   "metadata": {},
   "outputs": [],
   "source": [
    "# mc.tl.convey_obs_to_group(adata=cdata, gdata=mdata, group=\"metacell\", property_name=\"type\")"
   ]
  },
  {
   "cell_type": "code",
   "execution_count": null,
   "id": "a7abdcc2",
   "metadata": {
    "scrolled": true
   },
   "outputs": [],
   "source": [
    "adata = mc.pl.compute_for_mcview(adata=cdata, gdata=mdata)"
   ]
  },
  {
   "cell_type": "code",
   "execution_count": null,
   "id": "9603d899",
   "metadata": {},
   "outputs": [],
   "source": [
    "adata.write('outliers.h5ad')"
   ]
  },
  {
   "cell_type": "code",
   "execution_count": null,
   "id": "74dabb70",
   "metadata": {},
   "outputs": [],
   "source": [
    "mdata.write('metacells_embexe2_computed_for_mcview11.h5ad')"
   ]
  },
  {
   "cell_type": "code",
   "execution_count": null,
   "id": "a02a20a6",
   "metadata": {},
   "outputs": [],
   "source": [
    "# # #markus test\n",
    "# clean_old = ad.read_h5ad('clean_embexe.h5ad')\n",
    "# metacells_old = ad.read_h5ad('metacells_embexe.h5ad')"
   ]
  },
  {
   "cell_type": "code",
   "execution_count": null,
   "id": "e6ad98d7",
   "metadata": {},
   "outputs": [],
   "source": [
    "adata = ad.read_h5ad('metacells_embexe2_computed_for_mcview11.h5ad')"
   ]
  },
  {
   "cell_type": "code",
   "execution_count": null,
   "id": "4b957fa4",
   "metadata": {},
   "outputs": [],
   "source": [
    "adata.obs"
   ]
  },
  {
   "cell_type": "code",
   "execution_count": null,
   "id": "d44cb4ec",
   "metadata": {},
   "outputs": [],
   "source": [
    "# adata_old = ad.read_h5ad('metacells_embexe_for_projection.h5ad')"
   ]
  },
  {
   "cell_type": "code",
   "execution_count": null,
   "id": "c62d1f09",
   "metadata": {},
   "outputs": [],
   "source": [
    "# adata.obs['cluster'] = adata_old.obs.cluster\n",
    "# adata.obs['type'] = adata_old.obs.type"
   ]
  },
  {
   "cell_type": "code",
   "execution_count": null,
   "id": "c39717e4",
   "metadata": {},
   "outputs": [],
   "source": [
    "# adata.write('metacells_embexe_for_projection2.h5ad')"
   ]
  },
  {
   "cell_type": "code",
   "execution_count": null,
   "id": "dae561bb",
   "metadata": {},
   "outputs": [],
   "source": [
    "min(clean_old.obs.groupby('metacell').aggregate('count')['properly_sampled_cell'])"
   ]
  },
  {
   "cell_type": "code",
   "execution_count": null,
   "id": "66a0c475",
   "metadata": {},
   "outputs": [],
   "source": [
    "import anndata as ad\n",
    "import logging\n",
    "import metacells as mc\n",
    "import numpy as np\n",
    "from typing import *"
   ]
  },
  {
   "cell_type": "code",
   "execution_count": null,
   "id": "4d9e3001",
   "metadata": {},
   "outputs": [],
   "source": [
    "LOG = mc.ut.setup_logger(level=logging.DEBUG,\n",
    "                         long_level_names=False,\n",
    "                         time=True,\n",
    "                         name=\"project\")\n",
    "LOG = mc.ut.logger()"
   ]
  },
  {
   "cell_type": "code",
   "execution_count": null,
   "id": "6ccbbc06",
   "metadata": {},
   "outputs": [],
   "source": [
    "adata = ad.read_h5ad('metacells_embexe2_computed_for_mcview11.h5ad')\n",
    "qdata = ad.read_h5ad(\"../rabemb_2112_clean/metacells_wl85_noexec_fhs_for_mcview_with_oren.h5ad\")"
   ]
  },
  {
   "cell_type": "code",
   "execution_count": null,
   "id": "3dadc9d9",
   "metadata": {
    "scrolled": true
   },
   "outputs": [],
   "source": [
    "# cdata = ad.read_h5ad(\"../rabemb_2112_clean/embs_wl85_noexec2.h5ad\")\n",
    "# outliers = mc.pl.compute_for_mcview(adata=cdata, gdata=qdata)"
   ]
  },
  {
   "cell_type": "code",
   "execution_count": null,
   "id": "e76871aa",
   "metadata": {},
   "outputs": [],
   "source": [
    "# qdata.write('rabbit.computed_for_mcview_with_oren.h5ad')"
   ]
  },
  {
   "cell_type": "code",
   "execution_count": null,
   "id": "001933a3",
   "metadata": {},
   "outputs": [],
   "source": [
    "adata.var.index = adata.var.index.str.upper()"
   ]
  },
  {
   "cell_type": "code",
   "execution_count": null,
   "id": "a55388d6",
   "metadata": {},
   "outputs": [],
   "source": [
    "mc.ut.set_name(adata, \"atlas.metacells\")\n",
    "mc.ut.set_name(qdata, \"query.metacells\")"
   ]
  },
  {
   "cell_type": "code",
   "execution_count": null,
   "id": "97650b77",
   "metadata": {},
   "outputs": [],
   "source": [
    "len(set(adata.var.index) & set(qdata.var.index))"
   ]
  },
  {
   "cell_type": "code",
   "execution_count": null,
   "id": "2bca4d64",
   "metadata": {},
   "outputs": [],
   "source": [
    "# test = ad.read_h5ad(\"/net/mraid14/export/data/users/obk/HCA.BM.ALL.DM/dac.320k/metacells.h5ad\")"
   ]
  },
  {
   "cell_type": "code",
   "execution_count": null,
   "id": "a0c144f3",
   "metadata": {},
   "outputs": [],
   "source": [
    "# adata.write('metacells_embexe_for_projection.h5ad')"
   ]
  },
  {
   "cell_type": "code",
   "execution_count": null,
   "id": "e990cbf0",
   "metadata": {},
   "outputs": [],
   "source": [
    "# adata.obs['hidden'] = test.obs.hidden[:1961]"
   ]
  },
  {
   "cell_type": "code",
   "execution_count": null,
   "id": "46a8c9ba",
   "metadata": {
    "scrolled": true
   },
   "outputs": [],
   "source": [
    "weights, qdata = mc.pl.projection_pipeline(adata=adata, qdata=qdata, reproducible=True)"
   ]
  },
  {
   "cell_type": "code",
   "execution_count": null,
   "id": "f20e0b8a",
   "metadata": {},
   "outputs": [],
   "source": [
    "qdata.write('projected.rabbit.with.oren.h5ad')"
   ]
  },
  {
   "cell_type": "code",
   "execution_count": null,
   "id": "421fdde9",
   "metadata": {},
   "outputs": [],
   "source": [
    "with open(\"all.query.atlas.weights.csv\", \"w\") as file:\n",
    "    file.write(\"query,atlas,weight\\n\")\n",
    "    for query_index, atlas_index, in zip(*weights.nonzero()):\n",
    "        weight = weights[query_index, atlas_index]\n",
    "        file.write(f\"{query_index},{atlas_index},{weight}\\n\")"
   ]
  },
  {
   "cell_type": "code",
   "execution_count": null,
   "id": "528b2b87",
   "metadata": {},
   "outputs": [],
   "source": [
    "cdata = ad.read_h5ad(\"../rabemb_2112_clean/embs_wl85_noexec2.h5ad\")"
   ]
  },
  {
   "cell_type": "code",
   "execution_count": null,
   "id": "e779a85a",
   "metadata": {},
   "outputs": [],
   "source": [
    "qdata2 = ad.read_h5ad('projected.rabbit.h5ad')"
   ]
  },
  {
   "cell_type": "code",
   "execution_count": null,
   "id": "07757e1b",
   "metadata": {},
   "outputs": [],
   "source": [
    "mc.pl.compute_for_mcview(adata=cdata, gdata=qdata)"
   ]
  },
  {
   "cell_type": "code",
   "execution_count": null,
   "id": "50afee76",
   "metadata": {},
   "outputs": [],
   "source": [
    "qdata.write('projected.rabbit2.h5ad')"
   ]
  },
  {
   "cell_type": "code",
   "execution_count": null,
   "id": "b9ba72f6",
   "metadata": {},
   "outputs": [],
   "source": [
    "fet = mc.ut.slice(metacells, vars=metacells.var.feature_gene > 0)"
   ]
  },
  {
   "cell_type": "code",
   "execution_count": null,
   "id": "cc2922c7",
   "metadata": {},
   "outputs": [],
   "source": [
    "fet_hotspots = mc.ut.slice(fet, vars=fet.var_names.isin({i for i in fet.var_names if 'hotspot' in i}))"
   ]
  },
  {
   "cell_type": "code",
   "execution_count": null,
   "id": "382b58be",
   "metadata": {},
   "outputs": [],
   "source": [
    "fet_hotspots.X.shape"
   ]
  },
  {
   "cell_type": "code",
   "execution_count": null,
   "id": "4238386c",
   "metadata": {},
   "outputs": [],
   "source": [
    "fet.X.shape"
   ]
  },
  {
   "cell_type": "code",
   "execution_count": null,
   "id": "8fa5ec1c",
   "metadata": {},
   "outputs": [],
   "source": [
    "np.max(fet_hotspots.X, axis=0)"
   ]
  },
  {
   "cell_type": "code",
   "execution_count": null,
   "id": "be8b776c",
   "metadata": {},
   "outputs": [],
   "source": [
    "# notcox = np.log(1e-5+mc.ut.slice(metacells, vars=metacells.var_names != 'COX2').X)"
   ]
  },
  {
   "cell_type": "code",
   "execution_count": null,
   "id": "ad1d585a",
   "metadata": {},
   "outputs": [],
   "source": [
    "# cox = np.log2(1e-5+mc.ut.slice(metacells, vars=metacells.var_names == 'COX2').X)"
   ]
  },
  {
   "cell_type": "code",
   "execution_count": null,
   "id": "d2c7e089",
   "metadata": {},
   "outputs": [],
   "source": [
    "# cox.T.shape, notcox.T.shape"
   ]
  },
  {
   "cell_type": "code",
   "execution_count": null,
   "id": "888fbabb",
   "metadata": {},
   "outputs": [],
   "source": [
    "# cors = np.corrcoef(notcox.T, cox.T )"
   ]
  },
  {
   "cell_type": "code",
   "execution_count": null,
   "id": "4e19e5a1",
   "metadata": {},
   "outputs": [],
   "source": [
    "# eomes = np.log2(1e-5+pd.DataFrame.sparse.from_spmatrix(mc.ut.slice(clean, vars=clean.var_names == 'EOMES').X).values)"
   ]
  },
  {
   "cell_type": "code",
   "execution_count": null,
   "id": "5454df6e",
   "metadata": {},
   "outputs": [],
   "source": [
    "# import seaborn as sns\n",
    "\n",
    "# plt.hist(eomes, bins=20)\n",
    "# plt.show()"
   ]
  },
  {
   "cell_type": "code",
   "execution_count": null,
   "id": "c58162ce",
   "metadata": {},
   "outputs": [],
   "source": [
    "# mc.ut.slice(clean, vars=clean.var_names == 'EOMES',\n",
    "#             obs=np.array(\n",
    "#     (pd.DataFrame.sparse.from_spmatrix(mc.ut.slice(clean, vars=clean.var_names == 'EOMES').X)[0] > 20).values\n",
    "# )).obs"
   ]
  },
  {
   "cell_type": "code",
   "execution_count": null,
   "id": "520677ff",
   "metadata": {},
   "outputs": [],
   "source": []
  },
  {
   "cell_type": "code",
   "execution_count": null,
   "id": "98673823",
   "metadata": {},
   "outputs": [],
   "source": [
    "# mc.ut.slice(clean, vars=clean.var_names == 'EOMES').X"
   ]
  },
  {
   "cell_type": "code",
   "execution_count": null,
   "id": "ba85adb2",
   "metadata": {},
   "outputs": [],
   "source": [
    "# [(i,j) for i,j in pd.DataFrame.sparse.from_spmatrix(mc.ut.slice(clean, vars=clean.var_names == 'EOMES').X)[0].items() if j > 20]"
   ]
  },
  {
   "cell_type": "code",
   "execution_count": null,
   "id": "fe00df1c",
   "metadata": {},
   "outputs": [],
   "source": []
  },
  {
   "cell_type": "code",
   "execution_count": null,
   "id": "5438817b",
   "metadata": {},
   "outputs": [],
   "source": [
    "# sus_mc_clus = [573, 574, 576, 577, 578, 579, 580, 581, 582, 583, 584, 585, 586, 587, 588, 589, 590, 591, 592, 593, 594, 595, 596, 599, 600, 601, 602, 603, 604, 607, 608, 609, 610, 611, 612, 613, 614, 615, 616, 617, 618, 619, 620, 621, 622, 623, 624, 625, 626, 627, 628, 629, 630, 631, 632, 633, 634, 636, 637, 639, 640, 641, 642, 643, 644, 645, 646, 647, 648, 649, 650, 651, 652, 653, 654, 655, 656, 657, 658, 659, 660, 661, 662, 663, 664, 665, 666, 667, 668, 669, 670, 671, 672, 673, 674, 675, 676, 677, 678, 679, 680, 681, 682, 683, 684, 685, 686, 687, 688, 689, 691, 695, 696, 697, 699, 700, 703, 704, 705, 706, 1280, 1303, 1308, 1359, 1362, 1368, 1369]"
   ]
  },
  {
   "cell_type": "code",
   "execution_count": null,
   "id": "8851aadb",
   "metadata": {},
   "outputs": [],
   "source": [
    "# clean.obs_keys()"
   ]
  },
  {
   "cell_type": "code",
   "execution_count": null,
   "id": "31b64dd1",
   "metadata": {},
   "outputs": [],
   "source": [
    "# hs = mc.ut.slice(metacells, vars=metacells.var_names.str.contains('hotspot'))\n",
    "# nhs = mc.ut.slice(metacells, vars=~metacells.var_names.str.contains('hotspot'))\n"
   ]
  },
  {
   "cell_type": "code",
   "execution_count": null,
   "id": "fd3bf903",
   "metadata": {},
   "outputs": [],
   "source": [
    "# ths = np.squeeze(np.asarray(np.sum(hs.X, axis = 1)))"
   ]
  },
  {
   "cell_type": "code",
   "execution_count": null,
   "id": "f84c934b",
   "metadata": {},
   "outputs": [],
   "source": [
    "# tnhs = np.squeeze(np.asarray(np.sum(nhs.X, axis = 1)))"
   ]
  },
  {
   "cell_type": "code",
   "execution_count": null,
   "id": "e8a1ced1",
   "metadata": {},
   "outputs": [],
   "source": [
    "# plt.hist(tnhs/(ths+tnhs), bins=100)\n",
    "# plt.show()"
   ]
  },
  {
   "cell_type": "code",
   "execution_count": null,
   "id": "656d9911",
   "metadata": {},
   "outputs": [],
   "source": [
    "# import seaborn as sns\n",
    "\n",
    "# sns.kdeplot(tnhs/(ths+tnhs))\n",
    "# plt.show()"
   ]
  }
 ],
 "metadata": {
  "kernelspec": {
   "display_name": "Python 3 (ipykernel)",
   "language": "python",
   "name": "python3"
  },
  "language_info": {
   "codemirror_mode": {
    "name": "ipython",
    "version": 3
   },
   "file_extension": ".py",
   "mimetype": "text/x-python",
   "name": "python",
   "nbconvert_exporter": "python",
   "pygments_lexer": "ipython3",
   "version": "3.9.5"
  },
  "latex_envs": {
   "LaTeX_envs_menu_present": true,
   "autoclose": false,
   "autocomplete": true,
   "bibliofile": "biblio.bib",
   "cite_by": "apalike",
   "current_citInitial": 1,
   "eqLabelWithNumbers": true,
   "eqNumInitial": 1,
   "hotkeys": {
    "equation": "Ctrl-E",
    "itemize": "Ctrl-I"
   },
   "labels_anchors": false,
   "latex_user_defs": false,
   "report_style_numbering": false,
   "user_envs_cfg": false
  }
 },
 "nbformat": 4,
 "nbformat_minor": 5
}
