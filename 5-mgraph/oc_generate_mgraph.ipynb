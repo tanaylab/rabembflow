{
 "cells": [
  {
   "cell_type": "code",
   "execution_count": 1,
   "id": "697acf09",
   "metadata": {
    "ExecuteTime": {
     "end_time": "2023-03-05T13:05:38.368900Z",
     "start_time": "2023-03-05T13:05:32.687Z"
    }
   },
   "outputs": [
    {
     "name": "stderr",
     "output_type": "stream",
     "text": [
      "Loading required package: usethis\n",
      "\n",
      "\u001b[36mi\u001b[39m Loading \u001b[34m\u001b[34mmetacell.flow\u001b[34m\u001b[39m\n",
      "\n",
      "initializing scdb to output/scrna_db/\n",
      "\n"
     ]
    }
   ],
   "source": [
    "library(devtools)\n",
    "library(metacell)\n",
    "load_all(\"../metacell.flow/\")\n",
    "scdb_init(\"output/scrna_db/\",force_reinit = T)\n",
    "scfigs_init(\"figs\")\n",
    "scdb_flow_init()"
   ]
  },
  {
   "cell_type": "code",
   "execution_count": 2,
   "id": "2d0653d8",
   "metadata": {
    "ExecuteTime": {
     "end_time": "2023-03-05T13:05:38.436410Z",
     "start_time": "2023-03-05T13:05:33.111Z"
    }
   },
   "outputs": [],
   "source": [
    "tgconfig::set_param(param = \"mcell_mc2d_max_confu_deg\",value = 4, package = \"metacell\")"
   ]
  },
  {
   "cell_type": "code",
   "execution_count": 3,
   "id": "ee7c154e",
   "metadata": {
    "ExecuteTime": {
     "end_time": "2023-03-05T13:05:53.563514Z",
     "start_time": "2023-03-05T13:05:33.479Z"
    }
   },
   "outputs": [],
   "source": [
    "library(\"reticulate\")\n",
    "library(\"anndata\")\n",
    "sc = import(\"scanpy\")\n",
    "mc2 = import(\"metacells\")\n",
    "# metacells <- anndata::read_h5ad('oc_emb_roned.h5ad')\n",
    "metacells <- anndata::read_h5ad('oc_exe.h5ad')\n",
    "# metacells <- anndata::read_h5ad('../rabemb_2203/metacells11_2203_woexec_for_mcview_ron.h5ad')"
   ]
  },
  {
   "cell_type": "code",
   "execution_count": 4,
   "id": "c9fe52e2",
   "metadata": {
    "ExecuteTime": {
     "end_time": "2023-03-05T13:05:53.586244Z",
     "start_time": "2023-03-05T13:05:34.728Z"
    }
   },
   "outputs": [],
   "source": [
    "mc_id = \"oc_emb\""
   ]
  },
  {
   "cell_type": "code",
   "execution_count": 5,
   "id": "ad3f5b47",
   "metadata": {
    "ExecuteTime": {
     "end_time": "2023-03-05T13:05:53.609600Z",
     "start_time": "2023-03-05T13:05:35.063Z"
    }
   },
   "outputs": [],
   "source": [
    "mat_id = \"oc_emb\"\n",
    "mc_id = \"oc_emb\"\n",
    "\n",
    "feat_gset = \"oc_emb\"\n",
    "mgraph_id = \"oc_emb\""
   ]
  },
  {
   "cell_type": "code",
   "execution_count": 6,
   "id": "856c28c2",
   "metadata": {
    "ExecuteTime": {
     "end_time": "2023-03-05T13:05:53.630703Z",
     "start_time": "2023-03-05T13:05:35.374Z"
    }
   },
   "outputs": [],
   "source": [
    "mat_id = \"oc_embexe\"\n",
    "mc_id = \"oc_embexe\"\n",
    "mgraph_id = \"oc_exe\""
   ]
  },
  {
   "cell_type": "code",
   "execution_count": 7,
   "id": "ec71fdb6",
   "metadata": {
    "ExecuteTime": {
     "end_time": "2023-03-05T13:06:45.738338Z",
     "start_time": "2023-03-05T13:05:36.687Z"
    }
   },
   "outputs": [],
   "source": [
    "logist_loc = 1\n",
    "logist_scale = 0.2\n",
    "logist_eps = 4e-5\n",
    "max_d_fold = 3\n",
    "\n",
    "mc = scdb_mc(mc_id)\n",
    "gset = scdb_gset(feat_gset)\n",
    "feat_genes = names(gset@gene_set)\n",
    "# mgraph = mc2d_comp_mgraph_param(mc, feat_genes, logist_loc, logist_scale, logist_eps, max_d_fold)"
   ]
  },
  {
   "cell_type": "code",
   "execution_count": 7,
   "id": "e6fa5245",
   "metadata": {
    "ExecuteTime": {
     "end_time": "2022-10-31T07:55:43.088876Z",
     "start_time": "2022-10-31T07:45:56.378Z"
    }
   },
   "outputs": [],
   "source": [
    "genes = feat_genes\n",
    "loc = logist_loc\n",
    "scale = logist_scale\n",
    "eps = logist_eps\n",
    "max_deg = 4\n",
    "legc = log2(mc@e_gc[genes,] + eps)\n",
    "\n",
    "logist_d = function(x) {\n",
    "    d = abs(legc - x)\n",
    "    d = plogis(d, loc, scale)\n",
    "    return(colSums(d))\n",
    "}\n",
    "a = apply(legc, 2, logist_d)"
   ]
  },
  {
   "cell_type": "code",
   "execution_count": 8,
   "id": "d7a873a1",
   "metadata": {
    "ExecuteTime": {
     "end_time": "2023-03-05T13:07:31.424721Z",
     "start_time": "2023-03-05T13:05:41.982Z"
    }
   },
   "outputs": [],
   "source": [
    "oc_mat = scdb_mat(mat_id)\n",
    "oc_mc = mc\n",
    "oc_md = oc_mat@cell_metadata\n",
    "oc_md$cellid = rownames(oc_md)"
   ]
  },
  {
   "cell_type": "code",
   "execution_count": 10,
   "id": "71b59c19",
   "metadata": {
    "ExecuteTime": {
     "end_time": "2022-09-14T10:48:20.811439Z",
     "start_time": "2022-09-14T10:19:56.132Z"
    }
   },
   "outputs": [],
   "source": [
    "logist_loc = 1\n",
    "logist_scale = 0.2\n",
    "logist_eps = 4e-5\n",
    "max_d_fold = 3\n",
    "\n",
    "mc = scdb_mc(mc_id)\n",
    "gset = scdb_gset(feat_gset)\n",
    "feat_genes = names(gset@gene_set)\n",
    "mgraph = mc2d_comp_mgraph_param(mc, feat_genes, logist_loc, logist_scale, logist_eps, max_d_fold)\n",
    "\n",
    "scdb_add_mgraph(id = mgraph_id, mgraph = tgMCManifGraph(mc_id = mc_id, mgraph = mgraph))"
   ]
  },
  {
   "cell_type": "code",
   "execution_count": 16,
   "id": "aa2f70b0",
   "metadata": {
    "ExecuteTime": {
     "end_time": "2023-03-05T13:11:55.484499Z",
     "start_time": "2023-03-05T13:11:55.092Z"
    }
   },
   "outputs": [],
   "source": [
    "mgraph = scdb_mgraph(mgraph_id)"
   ]
  }
 ],
 "metadata": {
  "kernelspec": {
   "display_name": "R",
   "language": "R",
   "name": "ir"
  },
  "language_info": {
   "codemirror_mode": "r",
   "file_extension": ".r",
   "mimetype": "text/x-r-source",
   "name": "R",
   "pygments_lexer": "r",
   "version": "4.0.5"
  },
  "latex_envs": {
   "LaTeX_envs_menu_present": true,
   "autoclose": false,
   "autocomplete": true,
   "bibliofile": "biblio.bib",
   "cite_by": "apalike",
   "current_citInitial": 1,
   "eqLabelWithNumbers": true,
   "eqNumInitial": 1,
   "hotkeys": {
    "equation": "Ctrl-E",
    "itemize": "Ctrl-I"
   },
   "labels_anchors": false,
   "latex_user_defs": false,
   "report_style_numbering": false,
   "user_envs_cfg": false
  }
 },
 "nbformat": 4,
 "nbformat_minor": 5
}
