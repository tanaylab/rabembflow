{
 "cells": [
  {
   "cell_type": "code",
   "execution_count": 1,
   "id": "e6dd7477",
   "metadata": {
    "ExecuteTime": {
     "end_time": "2022-08-15T12:04:56.372576Z",
     "start_time": "2022-08-15T12:04:53.314Z"
    }
   },
   "outputs": [
    {
     "name": "stderr",
     "output_type": "stream",
     "text": [
      "Loading required package: usethis\n",
      "\n",
      "\u001b[36mi\u001b[39m Loading \u001b[34m\u001b[34mmetacell.flow\u001b[34m\u001b[39m\n",
      "\n",
      "initializing scdb to output/scrna_db/\n",
      "\n"
     ]
    }
   ],
   "source": [
    "library(devtools)\n",
    "library(metacell)\n",
    "load_all(\"../metacell.flow/\")\n",
    "scdb_init(\"output/scrna_db/\",force_reinit = T)\n",
    "scfigs_init(\"figs\")\n",
    "scdb_flow_init()"
   ]
  },
  {
   "cell_type": "code",
   "execution_count": 2,
   "id": "b3e43755",
   "metadata": {
    "ExecuteTime": {
     "end_time": "2022-08-15T12:04:56.413501Z",
     "start_time": "2022-08-15T12:04:54.929Z"
    }
   },
   "outputs": [],
   "source": [
    "tgconfig::set_param(param = \"mcell_mc2d_max_confu_deg\",value = 4, package = \"metacell\")"
   ]
  },
  {
   "cell_type": "code",
   "execution_count": 3,
   "id": "3fca4c33",
   "metadata": {
    "ExecuteTime": {
     "end_time": "2022-08-15T12:05:00.934192Z",
     "start_time": "2022-08-15T12:05:00.634Z"
    }
   },
   "outputs": [],
   "source": [
    "mat_id = \"mm_embemb\"\n",
    "mc_id = \"mm_embemb\"\n",
    "\n",
    "feat_gset = \"mm_emb\"\n",
    "mgraph_id = \"mm_embemb\""
   ]
  },
  {
   "cell_type": "code",
   "execution_count": 4,
   "id": "1caf06a3",
   "metadata": {
    "ExecuteTime": {
     "end_time": "2022-08-15T12:07:59.937295Z",
     "start_time": "2022-08-15T12:05:01.922Z"
    }
   },
   "outputs": [],
   "source": [
    "logist_loc = 1\n",
    "logist_scale = 0.2\n",
    "logist_eps = 4e-5\n",
    "max_d_fold = 3\n",
    "\n",
    "mc = scdb_mc(mc_id)\n",
    "gset = scdb_gset(feat_gset)\n",
    "feat_genes = names(gset@gene_set)\n",
    "mgraph = mc2d_comp_mgraph_param(mc, feat_genes, logist_loc, logist_scale, logist_eps, max_d_fold)\n",
    "\n",
    "scdb_add_mgraph(id = mgraph_id, mgraph = tgMCManifGraph(mc_id = mc_id, mgraph = mgraph))"
   ]
  },
  {
   "cell_type": "code",
   "execution_count": null,
   "id": "999bf62c",
   "metadata": {},
   "outputs": [],
   "source": []
  }
 ],
 "metadata": {
  "kernelspec": {
   "display_name": "R",
   "language": "R",
   "name": "ir"
  },
  "language_info": {
   "codemirror_mode": "r",
   "file_extension": ".r",
   "mimetype": "text/x-r-source",
   "name": "R",
   "pygments_lexer": "r",
   "version": "4.0.5"
  },
  "latex_envs": {
   "LaTeX_envs_menu_present": true,
   "autoclose": false,
   "autocomplete": true,
   "bibliofile": "biblio.bib",
   "cite_by": "apalike",
   "current_citInitial": 1,
   "eqLabelWithNumbers": true,
   "eqNumInitial": 1,
   "hotkeys": {
    "equation": "Ctrl-E",
    "itemize": "Ctrl-I"
   },
   "labels_anchors": false,
   "latex_user_defs": false,
   "report_style_numbering": false,
   "user_envs_cfg": false
  }
 },
 "nbformat": 4,
 "nbformat_minor": 5
}
