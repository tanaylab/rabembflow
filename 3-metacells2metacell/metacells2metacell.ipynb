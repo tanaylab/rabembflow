{
 "cells": [
  {
   "cell_type": "code",
   "execution_count": null,
   "id": "18fab5cf",
   "metadata": {},
   "outputs": [],
   "source": [
    "# import metacells anndata to R metacell scdb\n",
    "mc_2 = anndata::read_h5ad(paste(mc2_db_dir,\"/metacells.h5ad\", sep = \"\"))\n",
    "mc_2_cells = anndata::read_h5ad(paste(mc2_db_dir,\"/cells.h5ad\", sep = \"\"))\n",
    "\n",
    "cells_mc = mc_2_cells$obs$metacell\n",
    "cells_mc = cells_mc + 1\n",
    "cell_names = mc_2_cells$obs_names\n",
    "names(cells_mc) = cell_names\n",
    "gene_names = mc_2$var_names\n",
    "\n",
    "outlier_cells = names(cells_mc)[cells_mc == 0]\n",
    "cells_mc_filt = cells_mc[cells_mc > 0]\n",
    "\n",
    "umis2 = as.matrix(mc_2$X)\n",
    "fractions = umis2 / rowSums(umis2)\n",
    "fractions = t(fractions)\n",
    "\n",
    "scdb_add_mc(mc_id_2, tgMCCov(cells_mc_filt, c(outlier_cells, setdiff(mat@cells, c(outlier_cells, names(cells_mc_filt)))), mat))\n",
    "mc = scdb_mc(mc_id_2)\n",
    "colnames(fractions) = colnames(mc@e_gc)\n",
    "mc@e_gc = fractions\n",
    "\n",
    "scdb_add_mc(mc_id_2, mc)"
   ]
  }
 ],
 "metadata": {
  "kernelspec": {
   "display_name": "R",
   "language": "R",
   "name": "ir"
  },
  "language_info": {
   "codemirror_mode": "r",
   "file_extension": ".r",
   "mimetype": "text/x-r-source",
   "name": "R",
   "pygments_lexer": "r",
   "version": "4.0.5"
  },
  "latex_envs": {
   "LaTeX_envs_menu_present": true,
   "autoclose": false,
   "autocomplete": true,
   "bibliofile": "biblio.bib",
   "cite_by": "apalike",
   "current_citInitial": 1,
   "eqLabelWithNumbers": true,
   "eqNumInitial": 1,
   "hotkeys": {
    "equation": "Ctrl-E",
    "itemize": "Ctrl-I"
   },
   "labels_anchors": false,
   "latex_user_defs": false,
   "report_style_numbering": false,
   "user_envs_cfg": false
  }
 },
 "nbformat": 4,
 "nbformat_minor": 5
}
