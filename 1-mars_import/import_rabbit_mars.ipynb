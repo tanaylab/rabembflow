{
 "cells": [
  {
   "cell_type": "code",
   "execution_count": null,
   "id": "23654643",
   "metadata": {
    "ExecuteTime": {
     "end_time": "2022-08-07T17:22:16.283277Z",
     "start_time": "2022-08-07T17:22:11.215Z"
    }
   },
   "outputs": [],
   "source": [
    "library(\"devtools\")\n",
    "library(\"Matrix\")\n",
    "library(tgutil)\n",
    "library(tidyverse)\n",
    "\n",
    "# load_all(\"metacell/\")\n",
    "library(metacell)\n",
    "dir.create(\"output/scrna_db\")\n",
    "scdb_init(\"output/scrna_db\", force_reinit=T)\n",
    "scfigs_init(\"figs/\")"
   ]
  },
  {
   "cell_type": "code",
   "execution_count": null,
   "id": "f6f71fef",
   "metadata": {
    "ExecuteTime": {
     "end_time": "2022-03-30T07:04:01.977295Z",
     "start_time": "2022-03-30T07:03:52.311Z"
    }
   },
   "outputs": [],
   "source": [
    "mat_nm = \"oc_embexe\""
   ]
  },
  {
   "cell_type": "code",
   "execution_count": null,
   "id": "6025225e",
   "metadata": {
    "ExecuteTime": {
     "end_time": "2022-03-30T09:56:26.052952Z",
     "start_time": "2022-03-30T09:56:25.649Z"
    }
   },
   "outputs": [],
   "source": [
    "metadata = read.csv(file = \"/net/mraid14/export/tgdata/db/tgdb/mars_runs/stelzer_star/work/220308_01_bak/plates.tsv\",stringsAsFactors = F,h = T, sep='\\t')\n",
    "metadata = metadata[metadata$Ref=='oryCun3',]"
   ]
  },
  {
   "cell_type": "code",
   "execution_count": null,
   "id": "3556b884",
   "metadata": {
    "ExecuteTime": {
     "end_time": "2022-03-30T07:52:53.828090Z",
     "start_time": "2022-03-30T07:05:32.098Z"
    }
   },
   "outputs": [],
   "source": [
    "mcell_import_multi_mars(mat_nm = mat_nm,\n",
    "                        dataset_table_fn = paste(\"../config/oc_samp_key.txt\",sep = \"\"),\n",
    "                        base_dir = \"/net/mraid14/export/tgdata/db/tgdb/mars_runs/stelzer_star/work/220308_01_bak/scdb_oryCun3/output/umi.tab/\",\n",
    "                        patch_cell_name=T,\n",
    "                        force=TRUE)"
   ]
  },
  {
   "cell_type": "code",
   "execution_count": null,
   "id": "433f3686",
   "metadata": {
    "ExecuteTime": {
     "end_time": "2022-03-30T09:57:02.048475Z",
     "start_time": "2022-03-30T09:56:30.168Z"
    }
   },
   "outputs": [],
   "source": [
    "mat = scdb_mat(mat_nm)"
   ]
  },
  {
   "cell_type": "code",
   "execution_count": null,
   "id": "2706007e",
   "metadata": {
    "ExecuteTime": {
     "end_time": "2022-03-27T18:46:56.673723Z",
     "start_time": "2022-03-27T18:46:53.943Z"
    }
   },
   "outputs": [],
   "source": [
    "mat@cell_metadata = metadata"
   ]
  },
  {
   "cell_type": "code",
   "execution_count": null,
   "id": "10e14b98",
   "metadata": {
    "ExecuteTime": {
     "end_time": "2022-03-27T18:52:07.606762Z",
     "start_time": "2022-03-27T18:47:12.649Z"
    }
   },
   "outputs": [],
   "source": [
    "scdb_add_mat(id = 'embs_with_meta', mat=mat)"
   ]
  },
  {
   "cell_type": "code",
   "execution_count": null,
   "id": "882e8084",
   "metadata": {
    "ExecuteTime": {
     "end_time": "2022-03-30T10:01:06.736944Z",
     "start_time": "2022-03-30T10:01:06.163Z"
    }
   },
   "outputs": [],
   "source": [
    "meta = fread(\"config/embryo_meta.txt\")\n",
    "rownames(meta) = meta$Embryo\n",
    "x = mat@cell_metadata %>% left_join(meta, by='embryo')\n",
    "rownames(x) = rownames(mat@cell_metadata)\n",
    "mat@cell_metadata = x\n",
    "# scdb_add_mat(\"embs\", mat)"
   ]
  },
  {
   "cell_type": "code",
   "execution_count": null,
   "id": "3ca1ed05",
   "metadata": {
    "ExecuteTime": {
     "end_time": "2022-03-10T09:05:46.267699Z",
     "start_time": "2022-03-10T09:00:52.606Z"
    }
   },
   "outputs": [],
   "source": [
    "scdb_add_mat(\"oc_embexe\", mat)"
   ]
  },
  {
   "cell_type": "code",
   "execution_count": null,
   "id": "7322124f",
   "metadata": {
    "ExecuteTime": {
     "end_time": "2022-03-30T11:40:04.483666Z",
     "start_time": "2022-03-30T11:39:56.973Z"
    }
   },
   "outputs": [],
   "source": [
    "library(\"reticulate\")\n",
    "library(\"anndata\")\n",
    "sc = import(\"scanpy\")\n",
    "mc2 = import(\"metacells\")"
   ]
  },
  {
   "cell_type": "code",
   "execution_count": null,
   "id": "db79f2dc",
   "metadata": {
    "ExecuteTime": {
     "end_time": "2022-03-30T12:13:30.820732Z",
     "start_time": "2022-03-30T12:13:21.385Z"
    }
   },
   "outputs": [],
   "source": [
    "ss3 <- anndata::read_h5ad('cells10_clean_2203.h5ad')\n",
    "ss3_cells_mc = ss3$obs$metacell\n",
    "ss3_cells_mc = ss3_cells_mc\n",
    "cell_names = ss3$obs_names\n",
    "names(ss3_cells_mc) = cell_names\n",
    "mc_cols = read.csv('metacell_types-2022-03-27_withexe.csv' ,header = T)[,c('metacell', 'color')]\n",
    "cell_colors = tibble::enframe(ss3_cells_mc) %>% rename(metacell=value) %>% left_join(mc_cols, by='metacell') %>% rename(mc_col=color)"
   ]
  },
  {
   "cell_type": "code",
   "execution_count": null,
   "id": "1dd2accf",
   "metadata": {
    "ExecuteTime": {
     "end_time": "2022-03-30T11:40:53.352276Z",
     "start_time": "2022-03-30T11:40:15.933Z"
    }
   },
   "outputs": [],
   "source": [
    "mat = scdb_mat(\"embs5\")\n",
    "message(\"got \", ncol(mat@mat), \" cells\")\n",
    "nms = c(rownames(mat@mat), rownames(mat@ignore_gmat))\n",
    "#bad_genes = c(grep(\"^MTRNR\", nms, v=T), \"NEATL\",grep(\"ERCC\", nms,v=T), \"ATPASE6\", \"XIST\", \"MALATL\", \"TMSB4X\")\n",
    "# bad_genes = c(grep(\"^MTRNR\", nms, v=T), \"NEATL\", grep(\"ERCC\", nms,v=T), \"ATPASE6\", \"XIST\", \"MALATL\", \"TMSB4X\", \"T17H1\", \"ATP6;ATP8;COX3\", \"GM20594_mm9\", \"ND3\", \"COX2\")"
   ]
  },
  {
   "cell_type": "code",
   "execution_count": null,
   "id": "f70e312c",
   "metadata": {
    "ExecuteTime": {
     "end_time": "2022-03-30T10:01:56.393665Z",
     "start_time": "2022-03-30T10:01:56.027Z"
    }
   },
   "outputs": [],
   "source": [
    "mc2_db_dir = \"../output/scrna_db\""
   ]
  },
  {
   "cell_type": "code",
   "execution_count": null,
   "id": "381a5b5c",
   "metadata": {
    "ExecuteTime": {
     "end_time": "2022-03-30T10:04:56.508062Z",
     "start_time": "2022-03-30T10:01:56.379Z"
    }
   },
   "outputs": [],
   "source": [
    "# 1. Write the umi matrix into h5ad format (I cleaned the matrix first using MC1, but MC2 can also clean it). This is horribly inefficient (writing 2 files to disk) but I lost myself in scanpy documentation and didn't bother solving it yet.\n",
    "h5ad_fn = paste(mc2_db_dir , \"/oc_cells_with_md.h5ad\", sep=\"\")\n",
    "out_h5ad <- anndata::AnnData(\n",
    "  X = t(mat@mat),\n",
    "  obs = mat@cell_metadata\n",
    ")"
   ]
  },
  {
   "cell_type": "code",
   "execution_count": null,
   "id": "c47f35be",
   "metadata": {
    "ExecuteTime": {
     "end_time": "2022-03-30T10:07:14.947685Z",
     "start_time": "2022-03-30T10:01:56.948Z"
    }
   },
   "outputs": [],
   "source": [
    "sc$write(adata = out_h5ad, filename = h5ad_fn)"
   ]
  }
 ],
 "metadata": {
  "kernelspec": {
   "display_name": "R",
   "language": "R",
   "name": "ir"
  },
  "language_info": {
   "codemirror_mode": "r",
   "file_extension": ".r",
   "mimetype": "text/x-r-source",
   "name": "R",
   "pygments_lexer": "r",
   "version": "4.0.5"
  },
  "latex_envs": {
   "LaTeX_envs_menu_present": true,
   "autoclose": false,
   "autocomplete": true,
   "bibliofile": "biblio.bib",
   "cite_by": "apalike",
   "current_citInitial": 1,
   "eqLabelWithNumbers": true,
   "eqNumInitial": 0,
   "hotkeys": {
    "equation": "Ctrl-E",
    "itemize": "Ctrl-I"
   },
   "labels_anchors": false,
   "latex_user_defs": false,
   "report_style_numbering": false,
   "user_envs_cfg": false
  }
 },
 "nbformat": 4,
 "nbformat_minor": 5
}
