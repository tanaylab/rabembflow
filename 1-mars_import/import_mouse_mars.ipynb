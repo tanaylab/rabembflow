{
 "cells": [
  {
   "cell_type": "code",
   "execution_count": null,
   "id": "8dc771c7",
   "metadata": {
    "ExecuteTime": {
     "end_time": "2023-01-23T09:23:26.196834Z",
     "start_time": "2023-01-23T09:23:21.094Z"
    }
   },
   "outputs": [],
   "source": [
    "library(\"Matrix\")\n",
    "library(\"tidyverse\")\n",
    "library(\"metacell\")\n",
    "library(\"tgstat\")"
   ]
  },
  {
   "cell_type": "code",
   "execution_count": null,
   "id": "ff77397f",
   "metadata": {
    "ExecuteTime": {
     "end_time": "2023-01-23T09:23:26.267455Z",
     "start_time": "2023-01-23T09:23:21.309Z"
    }
   },
   "outputs": [],
   "source": [
    "scdb_init(\"../output/scrna_db\", force_reinit=T)\n",
    "scfigs_init(\"figs/\")"
   ]
  },
  {
   "cell_type": "code",
   "execution_count": null,
   "id": "22c6f839",
   "metadata": {
    "ExecuteTime": {
     "end_time": "2023-01-23T09:23:26.456887Z",
     "start_time": "2023-01-23T09:23:21.550Z"
    }
   },
   "outputs": [],
   "source": [
    "mat_name = \"mm_embexe\""
   ]
  },
  {
   "cell_type": "code",
   "execution_count": null,
   "id": "6ff7e4fa",
   "metadata": {
    "ExecuteTime": {
     "end_time": "2022-07-21T16:43:00.221226Z",
     "start_time": "2022-07-21T16:38:58.218Z"
    },
    "scrolled": true
   },
   "outputs": [],
   "source": [
    "mcell_import_multi_mars(mat_nm = mat_name,\n",
    "                        dataset_table_fn = paste(\"../config/mm_samp_key.txt\",sep = \"\"),\n",
    "                        base_dir = \"/net/mraid14/export/tgdata/db/tgdb/mars_runs/stelzer_star/work/220209_01/scdb_mm10/output/umi.tab/\",\n",
    "                        patch_cell_name=T,\n",
    "                        force=TRUE)"
   ]
  },
  {
   "cell_type": "code",
   "execution_count": null,
   "id": "020db21a",
   "metadata": {
    "ExecuteTime": {
     "end_time": "2022-07-21T16:43:00.246570Z",
     "start_time": "2022-07-21T16:39:04.989Z"
    }
   },
   "outputs": [],
   "source": [
    "mat = scdb_mat(mat_name)"
   ]
  },
  {
   "cell_type": "code",
   "execution_count": null,
   "id": "5d6d0450",
   "metadata": {
    "ExecuteTime": {
     "end_time": "2022-08-28T10:24:18.663308Z",
     "start_time": "2022-08-28T10:24:18.075Z"
    }
   },
   "outputs": [],
   "source": [
    "mc2_db_dir = \"../output/scrna_db\""
   ]
  },
  {
   "cell_type": "code",
   "execution_count": null,
   "id": "27fcf178",
   "metadata": {
    "ExecuteTime": {
     "end_time": "2022-08-28T10:27:59.409019Z",
     "start_time": "2022-08-28T10:26:28.547Z"
    }
   },
   "outputs": [],
   "source": [
    "# # 1. Write the umi matrix into h5ad format (I cleaned the matrix first using MC1, but MC2 can also clean it). This is horribly inefficient (writing 2 files to disk) but I lost myself in scanpy documentation and didn't bother solving it yet.\n",
    "h5ad_fn = paste(mc2_db_dir , \"/mm_cells_with_md.h5ad\", sep=\"\")\n",
    "out_h5ad <- anndata::AnnData(\n",
    "  X = t(mat@mat),\n",
    "  obs = mat@cell_metadata\n",
    ")"
   ]
  },
  {
   "cell_type": "code",
   "execution_count": null,
   "id": "cb05b21e",
   "metadata": {
    "ExecuteTime": {
     "end_time": "2022-08-28T10:28:24.771109Z",
     "start_time": "2022-08-28T10:26:40.173Z"
    }
   },
   "outputs": [],
   "source": [
    "library(\"reticulate\")\n",
    "library(\"anndata\")\n",
    "sc = import(\"scanpy\")\n",
    "mc2 = import(\"metacells\")"
   ]
  },
  {
   "cell_type": "code",
   "execution_count": null,
   "id": "1f9df133",
   "metadata": {
    "ExecuteTime": {
     "end_time": "2022-08-28T10:29:25.145820Z",
     "start_time": "2022-08-28T10:26:40.611Z"
    }
   },
   "outputs": [],
   "source": [
    "sc$write(adata = out_h5ad, filename = h5ad_fn)"
   ]
  }
 ],
 "metadata": {
  "kernelspec": {
   "display_name": "R",
   "language": "R",
   "name": "ir"
  },
  "language_info": {
   "codemirror_mode": "r",
   "file_extension": ".r",
   "mimetype": "text/x-r-source",
   "name": "R",
   "pygments_lexer": "r",
   "version": "4.0.5"
  },
  "latex_envs": {
   "LaTeX_envs_menu_present": true,
   "autoclose": false,
   "autocomplete": true,
   "bibliofile": "biblio.bib",
   "cite_by": "apalike",
   "current_citInitial": 1,
   "eqLabelWithNumbers": true,
   "eqNumInitial": 1,
   "hotkeys": {
    "equation": "Ctrl-E",
    "itemize": "Ctrl-I"
   },
   "labels_anchors": false,
   "latex_user_defs": false,
   "report_style_numbering": false,
   "user_envs_cfg": false
  }
 },
 "nbformat": 4,
 "nbformat_minor": 5
}
