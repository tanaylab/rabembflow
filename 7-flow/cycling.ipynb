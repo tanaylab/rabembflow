{
 "cells": [
  {
   "cell_type": "code",
   "execution_count": null,
   "id": "def2ae41",
   "metadata": {
    "ExecuteTime": {
     "end_time": "2023-03-06T08:31:30.972346Z",
     "start_time": "2023-03-06T08:31:28.148Z"
    }
   },
   "outputs": [],
   "source": [
    "library(metacell)\n",
    "\n",
    "scdb_init(\"output/scrna_db\", force=TRUE)\n",
    "\n",
    "scfigs_init(\"figs/\")"
   ]
  },
  {
   "cell_type": "code",
   "execution_count": null,
   "id": "3bbc0f18",
   "metadata": {
    "ExecuteTime": {
     "end_time": "2023-03-06T08:31:31.011687Z",
     "start_time": "2023-03-06T08:31:28.329Z"
    }
   },
   "outputs": [],
   "source": [
    "mat_id = \"oc_emb\"\n",
    "mc_id = \"oc_emb\""
   ]
  },
  {
   "cell_type": "code",
   "execution_count": null,
   "id": "c55c7eec",
   "metadata": {
    "ExecuteTime": {
     "end_time": "2023-03-06T08:31:41.518149Z",
     "start_time": "2023-03-06T08:31:33.880Z"
    }
   },
   "outputs": [],
   "source": [
    "library(\"Matrix\")\n",
    "\n",
    "mc = scdb_mc(mc_id)\n",
    "# emb_cells = names(mc@mc[!mc@colors %in% exendo])\n",
    "# emb_cells = names(mc@mc)\n",
    "\n",
    "tag=mc_id\n",
    "m_0 = 0.012\n",
    "s_0 = 0.0055\n",
    "# m_genes = toupper(\n",
    "#     c(\n",
    "#         \"Mki67\",\"Cenpf\",\"Top2a\",\"Smc4;SMC4\",\"Ube2c\",\"Ccnb1\",\"Cdk1\",\"Arl6ip1\",\"Ankrd11\",\"Hmmr;IHABP\",\n",
    "#         \"Cenpa;Cenp-a\",\"Tpx2\",\"Aurka\",\"Kif4\", \"Kif2c\",\"Bub1b\",\"Ccna2\", \"Kif23\",\"Kif20a\",\"Sgol2\",\"Smc2\", \n",
    "#         \"Kif11\", \"Cdca2\",\"Incenp\",\"Cenpe\"\n",
    "#     )\n",
    "# )\n",
    "# m_genes_all = c(\"ATF7IP\",\"ATRX\",\"CASP8AP2\",\"CENPE\",\"CENPF\",\"FAT1\",\"IGF2BP3\",\"KDM3A\",\"KTN1\",\"LOC100344388\",\"MKI67\",\"MSH6\",\"NSD1\",\"PARP1\",\"PHIP\",\"PRR14L\",\"RIF1\",\"TOP2A\",\"TPX2\",\"ZC3H13\",\"hotspot19006\",\"hotspot26282\",\"ARHGAP27P1-BPTFP1-KPNA2P3_hg19\",\"CCNB1\",\"CCNB2\",\"CDCA3\",\"CDK1\",\"FAM162A\",\"HIGD1A\",\"ID3\",\"LDHC_mm9_m\",\"NUSAP1\",\"PFKP\",\"PLK1\",\"RPS11_other\",\"TAX1BP3\",\"TPM4\",\"UBE2C\",\"hotspot18357\",\"hotspot44564\")\n",
    "# m_genes_123 = c(\"ATF7IP\",\"ATRX\",\"CASP8AP2\",\"CENPE\",\"CENPF\",\"FAT1\",\"IGF2BP3\",\"KDM3A\",\"KTN1\",\"LOC100344388\",\"MKI67\",\"MSH6\",\"NSD1\",\"PARP1\",\"PHIP\",\"PRR14L\",\"RIF1\",\"TOP2A\",\"TPX2\",\"ZC3H13\",\"hotspot19006\",\"hotspot26282\")\n",
    "# m_genes_147 = c(\"ARHGAP27P1-BPTFP1-KPNA2P3_hg19\",\"CCNB1\",\"CCNB2\",\"CDCA3\",\"CDK1\",\"FAM162A\",\"HIGD1A\",\"ID3\",\"LDHC_mm9_m\",\"NUSAP1\",\"PFKP\",\"PLK1\",\"RPS11_other\",\"TAX1BP3\",\"TPM4\",\"UBE2C\",\"hotspot18357\",\"hotspot44564\")\n",
    "m_genes_key = c('MKI67', 'TOP2A', 'UBE2C')\n",
    "# m_genes = m_genes_all\n",
    "# m_genes = grep('hotspot', m_genes_all, v=T, invert = T)\n",
    "m_genes = m_genes_key\n",
    "\n",
    "# s_genes = toupper(\n",
    "#     c(\"Pcna\", \"Rrm2\", \"Mcm5\", \"Npm1\", \"Mcm6\", \"Mcm4\", \"Ung\", \"Mcm7\", \"Mcm2\",\"Uhrf1\", \"Orc6\", \"Tipin\")\n",
    "#     )\n",
    "# s_genes = toupper(\n",
    "#     c(\"Pcna\", \"Rrm2\", \"Mcm5\", \"Mcm6\", \"Mcm4\", \"Ung\", \"Mcm7\", \"Mcm2\",\"Uhrf1\", \"Orc6\", \"Tipin\")\t# Npm1\n",
    "#     )\n",
    "# s_genes_all = c(\"CDCA7\",\"DTL\",\"EIF5A\",\"FGF19\",\"HES6\",\"LARP7\",\"MAT2A\",\"PDE6D\",\"RRM2\",\"SERPINE2\",\"TCF7\",\"TUBA4A\",\"hotspot34564\",\"CCND2\",\"CHD7\",\"H3F3A\",\"HMGB2\",\"LOC100357927\",\"LOC100358241\",\"NASP\",\"PCNA\",\"TMSB15A\",\"TMSB15B\",\"YBX3\",\"hotspot116563\",\"hotspot56070\",\"hotspot6560\")\n",
    "# s_genes_119 = c(\"CDCA7\",\"DTL\",\"EIF5A\",\"FGF19\",\"HES6\",\"LARP7\",\"MAT2A\",\"PDE6D\",\"RRM2\",\"SERPINE2\",\"TCF7\",\"TUBA4A\",\"hotspot34564\")\n",
    "# s_genes_138 = c(\"CCND2\",\"CHD7\",\"H3F3A\",\"HMGB2\",\"LOC100357927\",\"LOC100358241\",\"NASP\",\"PCNA\",\"TMSB15A\",\"TMSB15B\",\"YBX3\",\"hotspot116563\",\"hotspot56070\",\"hotspot6560\")\n",
    "s_genes_key = c('PCNA', 'RRM2')\n",
    "# s_genes = s_genes_all\n",
    "# s_genes = grep('hotspot', s_genes_all, v=T, invert = T)\n",
    "s_genes = s_genes_key"
   ]
  },
  {
   "cell_type": "code",
   "execution_count": null,
   "id": "64b5c6e1",
   "metadata": {
    "ExecuteTime": {
     "end_time": "2023-03-06T08:32:10.346709Z",
     "start_time": "2023-03-06T08:31:34.225Z"
    }
   },
   "outputs": [],
   "source": [
    "m = scdb_mat(mat_id)"
   ]
  },
  {
   "cell_type": "code",
   "execution_count": null,
   "id": "be0641d5",
   "metadata": {
    "ExecuteTime": {
     "end_time": "2023-03-06T08:32:10.359370Z",
     "start_time": "2023-03-06T08:31:34.593Z"
    }
   },
   "outputs": [],
   "source": [
    "emb_mat = m@mat"
   ]
  },
  {
   "cell_type": "code",
   "execution_count": null,
   "id": "9c1d808b",
   "metadata": {
    "ExecuteTime": {
     "end_time": "2023-02-26T12:40:02.981027Z",
     "start_time": "2023-02-26T12:39:20.891Z"
    }
   },
   "outputs": [],
   "source": [
    "emb_mat = emb_mat[,Matrix::colSums(emb_mat)>5000]\n",
    "# emb_mat = scm_downsamp(emb_mat, 3000)\n",
    "# mc2d = scdb_mc2d(mc2d_id)\n",
    "\n",
    "\n",
    "s_genes = intersect(rownames(mc@mc_fp), s_genes)\n",
    "m_genes = intersect(rownames(mc@mc_fp), m_genes)"
   ]
  },
  {
   "cell_type": "code",
   "execution_count": null,
   "id": "7f5fbebd",
   "metadata": {
    "ExecuteTime": {
     "end_time": "2023-02-26T12:40:02.999149Z",
     "start_time": "2023-02-26T12:39:21.243Z"
    }
   },
   "outputs": [],
   "source": [
    "dim(emb_mat)"
   ]
  },
  {
   "cell_type": "code",
   "execution_count": null,
   "id": "942b5f79",
   "metadata": {
    "ExecuteTime": {
     "end_time": "2023-02-26T12:40:56.024439Z",
     "start_time": "2023-02-26T12:39:24.164Z"
    }
   },
   "outputs": [],
   "source": [
    "emb_mat = emb_mat[,Matrix::colSums(emb_mat)>5000]\n",
    "emb_mat = scm_downsamp(emb_mat, 5000)"
   ]
  },
  {
   "cell_type": "code",
   "execution_count": null,
   "id": "44a47cc9",
   "metadata": {
    "ExecuteTime": {
     "end_time": "2023-02-26T12:40:56.046628Z",
     "start_time": "2023-02-26T12:39:24.371Z"
    }
   },
   "outputs": [],
   "source": [
    "library(tgstat)"
   ]
  },
  {
   "cell_type": "code",
   "execution_count": null,
   "id": "af2e4f02",
   "metadata": {
    "ExecuteTime": {
     "end_time": "2023-02-26T13:08:01.356858Z",
     "start_time": "2023-02-26T12:39:24.608Z"
    }
   },
   "outputs": [],
   "source": [
    "cors = tgs_cor(t(as.matrix(emb_mat)))"
   ]
  },
  {
   "cell_type": "code",
   "execution_count": null,
   "id": "030aaba5",
   "metadata": {
    "ExecuteTime": {
     "end_time": "2023-02-26T13:08:01.498973Z",
     "start_time": "2023-02-26T12:39:24.843Z"
    }
   },
   "outputs": [],
   "source": [
    "hc = cors[s_genes_key, apply(cors[s_genes_key,], 2, min) > 0.1]\n",
    "s_genes = colnames(hc[,!is.na(colnames(hc))])\n",
    "hc = cors[m_genes_key, apply(cors[m_genes_key,], 2, min) > 0.1]\n",
    "m_genes = colnames(hc[,!is.na(colnames(hc))])"
   ]
  },
  {
   "cell_type": "code",
   "execution_count": null,
   "id": "7e48c8fc",
   "metadata": {
    "ExecuteTime": {
     "end_time": "2023-02-26T13:08:02.920722Z",
     "start_time": "2023-02-26T12:39:25.331Z"
    },
    "scrolled": false
   },
   "outputs": [],
   "source": [
    "hc = apply(cors[s_genes_key,], 2, min)\n",
    "hc = hc[!is.na(hc)]\n",
    "hc = hc[abs(hc)>0.1]\n",
    "plot(density(hc))\n",
    "\n",
    "hc = apply(cors[m_genes_key,], 2, min)\n",
    "hc = hc[!is.na(hc)]\n",
    "hc = hc[abs(hc)>0.1]\n",
    "plot(density(hc))"
   ]
  },
  {
   "cell_type": "code",
   "execution_count": null,
   "id": "fa87bdb5",
   "metadata": {
    "ExecuteTime": {
     "end_time": "2023-02-26T13:08:02.943747Z",
     "start_time": "2023-02-26T12:39:26.563Z"
    }
   },
   "outputs": [],
   "source": [
    "s_genes"
   ]
  },
  {
   "cell_type": "code",
   "execution_count": null,
   "id": "0e493658",
   "metadata": {
    "ExecuteTime": {
     "end_time": "2023-02-26T13:08:02.976602Z",
     "start_time": "2023-02-26T12:39:26.771Z"
    }
   },
   "outputs": [],
   "source": [
    "min(cors[s_genes_key, s_genes_key])\n",
    "min(cors[m_genes_key, m_genes_key])"
   ]
  },
  {
   "cell_type": "code",
   "execution_count": null,
   "id": "2c7d995e",
   "metadata": {
    "ExecuteTime": {
     "end_time": "2023-02-26T13:08:03.001174Z",
     "start_time": "2023-02-26T12:39:27.099Z"
    }
   },
   "outputs": [],
   "source": [
    "m_genes_a = m_genes[apply(cors[m_genes, s_genes_key], 1, max) < -0.05]\n",
    "s_genes_a = s_genes[apply(cors[s_genes, m_genes_key], 1, max) < -0.05]"
   ]
  },
  {
   "cell_type": "code",
   "execution_count": null,
   "id": "92a15c9b",
   "metadata": {
    "ExecuteTime": {
     "end_time": "2023-02-26T13:08:03.022019Z",
     "start_time": "2023-02-26T12:39:27.796Z"
    }
   },
   "outputs": [],
   "source": [
    "dput(s_genes_a)"
   ]
  },
  {
   "cell_type": "code",
   "execution_count": null,
   "id": "db3bed94",
   "metadata": {
    "ExecuteTime": {
     "end_time": "2023-02-26T13:08:03.042680Z",
     "start_time": "2023-02-26T12:39:28.179Z"
    }
   },
   "outputs": [],
   "source": [
    "dput(m_genes_a)"
   ]
  },
  {
   "cell_type": "code",
   "execution_count": null,
   "id": "3f7fbb7a",
   "metadata": {
    "ExecuteTime": {
     "end_time": "2023-03-05T07:49:34.407763Z",
     "start_time": "2023-03-05T07:49:34.105Z"
    }
   },
   "outputs": [],
   "source": [
    "kde2dQuantile <- function(d, X, Y, probs = .05, ...) {\n",
    "  xInd <- sapply(X, function(x) whichClosest(d$x, x))\n",
    "  yInd <- sapply(Y, function(x) whichClosest(d$y, x))\n",
    "  zValues <- d$z[cbind(xInd, yInd)]\n",
    "  quantile(zValues, probs=probs, ...)\n",
    "}"
   ]
  },
  {
   "cell_type": "code",
   "execution_count": null,
   "id": "9109ab07",
   "metadata": {
    "ExecuteTime": {
     "end_time": "2023-03-05T07:49:30.175440Z",
     "start_time": "2023-03-05T07:49:28.105Z"
    }
   },
   "outputs": [],
   "source": [
    "library(Hmisc)"
   ]
  },
  {
   "cell_type": "code",
   "execution_count": null,
   "id": "7e7a55b5",
   "metadata": {
    "ExecuteTime": {
     "end_time": "2023-03-05T07:17:16.864912Z",
     "start_time": "2023-03-05T07:17:16.327Z"
    }
   },
   "outputs": [],
   "source": [
    "library(MASS)"
   ]
  },
  {
   "cell_type": "code",
   "execution_count": null,
   "id": "c0e034e2",
   "metadata": {
    "ExecuteTime": {
     "end_time": "2023-03-05T07:53:13.370270Z",
     "start_time": "2023-03-05T07:53:12.456Z"
    }
   },
   "outputs": [],
   "source": [
    "f1 = kde2d(x = s_score, y=m_score)"
   ]
  },
  {
   "cell_type": "code",
   "execution_count": null,
   "id": "efeb259c",
   "metadata": {
    "ExecuteTime": {
     "end_time": "2023-03-05T07:55:28.675599Z",
     "start_time": "2023-03-05T07:55:27.343Z"
    }
   },
   "outputs": [],
   "source": [
    "quant = kde2dQuantile(f1, s_score, m_score, 0.2)"
   ]
  },
  {
   "cell_type": "code",
   "execution_count": null,
   "id": "93490f19",
   "metadata": {
    "ExecuteTime": {
     "end_time": "2023-03-05T08:09:28.167755Z",
     "start_time": "2023-03-05T08:09:25.439Z"
    }
   },
   "outputs": [],
   "source": [
    "m_0 = quantile(m_score, 0.1)\n",
    "s_0 = quantile(s_score, 0.1)\n",
    "tot  = colSums(emb_mat)\n",
    "s_tot = colSums(emb_mat[s_genes_a,])\n",
    "m_tot = colSums(emb_mat[m_genes_a,])\n",
    "\n",
    "# s_tot = colSums(emb_mat[s_genes_key,])\n",
    "# m_tot = colSums(emb_mat[m_genes_key,])\n",
    "\n",
    "s_score = s_tot/tot\n",
    "m_score = m_tot/tot\n",
    "\n",
    "if(!dir.exists(sprintf(\"figs/cc_%s\",tag))) {\n",
    "    dir.create(sprintf(\"figs/cc_%s\", tag))\n",
    "}\n",
    "\n",
    "# m_score = y_0 (1 - s_score/x_0) \n",
    "\n",
    "f = (m_score < m_0 * (1- s_score/s_0))\n",
    "\n",
    "mc_cc_tab = table(mc@mc, f[names(mc@mc)])\n",
    "# mc_cc = 1+floor(99*mc_cc_tab[,1]/rowSums(mc_cc_tab))\n",
    "mc_cc = 1+floor(99*mc_cc_tab[,2]/rowSums(mc_cc_tab))"
   ]
  },
  {
   "cell_type": "code",
   "execution_count": null,
   "id": "a214b2ab",
   "metadata": {
    "ExecuteTime": {
     "end_time": "2023-03-05T08:09:28.190370Z",
     "start_time": "2023-03-05T08:09:26.791Z"
    }
   },
   "outputs": [],
   "source": [
    "s_score_lim = s_score[s_score<0.01 & m_score<0.01]\n",
    "m_score_lim = m_score[s_score<0.01 & m_score<0.01]"
   ]
  },
  {
   "cell_type": "code",
   "execution_count": null,
   "id": "b8fa62c3",
   "metadata": {
    "ExecuteTime": {
     "end_time": "2023-03-05T08:43:26.168781Z",
     "start_time": "2023-03-05T08:43:25.870Z"
    }
   },
   "outputs": [],
   "source": [
    "summary(ecdf(s_score))"
   ]
  },
  {
   "cell_type": "code",
   "execution_count": null,
   "id": "b7224161",
   "metadata": {
    "ExecuteTime": {
     "end_time": "2023-03-05T08:32:56.144886Z",
     "start_time": "2023-03-05T08:32:55.079Z"
    }
   },
   "outputs": [],
   "source": [
    "tibble::tibble(s_score = s_score) %>% \n",
    "    ggplot(aes(x=s_score, y = 1-..y..)) + stat_ecdf() + geom_hline(yintercept = 0.1, linetype = \"dashed\", color = \"red\")\n",
    "tibble::tibble(m_score = m_score) %>% \n",
    "    ggplot(aes(x=m_score, y = 1-..y..)) + stat_ecdf() + geom_hline(yintercept = 0.1, linetype = \"dashed\", color = \"red\")"
   ]
  },
  {
   "cell_type": "code",
   "execution_count": null,
   "id": "07bc57c4",
   "metadata": {
    "ExecuteTime": {
     "end_time": "2023-03-05T08:09:36.114813Z",
     "start_time": "2023-03-05T08:09:35.575Z"
    }
   },
   "outputs": [],
   "source": [
    "options(repr.plot.width = 10,repr.plot.height = 10)\n",
    "# pdf(\"cycling_SM.pdf\")\n",
    "shades = colorRampPalette(c(\"white\",\"lightgray\",\"lightblue\",\"blue\", \"red\", \"yellow\"))\n",
    "\n",
    "smoothScatter(s_score, m_score, colramp=shades, pch=19, cex=0.1,\n",
    "            main = \"S phase vs M phase UMIs\",xlab = \"S phase score\",ylab = \"M phase score\")\n",
    "# abline(a = m_0,b = - m_0/s_0)\n",
    "abline(h = m_0)\n",
    "abline(v = s_0)\n",
    "contour(f1, levels = quant, labels = names(quant), add=T)\n",
    "# dev.off()"
   ]
  },
  {
   "cell_type": "code",
   "execution_count": null,
   "id": "5f7f0b12",
   "metadata": {
    "ExecuteTime": {
     "end_time": "2023-03-05T11:29:23.698241Z",
     "start_time": "2023-03-05T11:29:22.161Z"
    }
   },
   "outputs": [],
   "source": [
    "shades = colorRampPalette(c(\"white\",\"lightgray\",\"lightblue\",\"blue\", \"red\", \"yellow\"))\n",
    "col = \"#635547\"\n",
    "smoothScatter(s_score, m_score, colramp=shades, pch=19, cex=0.1,\n",
    "            main = \"S phase vs M phase UMIs\",xlab = \"S phase score\",ylab = \"M phase score\")\n",
    "points(s_score[names(mc@mc[mc@mc %in% names(mc@colors[mc@colors %in% c(col)])])], m_score[names(mc@mc[mc@mc %in% names(mc@colors[mc@colors %in% c(col)])])], pch=19)\n",
    "abline(a = m_0,b = - m_0/s_0)"
   ]
  },
  {
   "cell_type": "code",
   "execution_count": null,
   "id": "295fdfde",
   "metadata": {
    "ExecuteTime": {
     "end_time": "2023-02-26T13:38:38.840052Z",
     "start_time": "2023-02-26T13:38:38.012Z"
    }
   },
   "outputs": [],
   "source": [
    "shades = colorRampPalette(c(\"white\",\"lightgray\",\"lightblue\",\"blue\", \"red\", \"yellow\"))\n",
    "col = \"#0F4A9C\"  # notochord\n",
    "smoothScatter(s_score, m_score, colramp=shades, pch=19, cex=0.1,\n",
    "            main = \"S phase vs M phase UMIs\",xlab = \"S phase score\",ylab = \"M phase score\")\n",
    "points(s_score[names(mc@mc[mc@mc %in% names(mc@colors[mc@colors %in% c(col)])])], m_score[names(mc@mc[mc@mc %in% names(mc@colors[mc@colors %in% c(col)])])], pch=19)\n",
    "abline(a = m,b = - m_0/s_0)"
   ]
  },
  {
   "cell_type": "code",
   "execution_count": null,
   "id": "3a416593",
   "metadata": {
    "ExecuteTime": {
     "end_time": "2023-02-26T13:38:41.293289Z",
     "start_time": "2023-02-26T13:38:40.579Z"
    }
   },
   "outputs": [],
   "source": [
    "shades = colorRampPalette(c(\"white\",\"lightgray\",\"lightblue\",\"blue\", \"red\", \"yellow\"))\n",
    "col = \"#FACB12\"\n",
    "smoothScatter(s_score, m_score, colramp=shades, pch=19, cex=0.1,\n",
    "            main = \"S phase vs M phase UMIs\",xlab = \"S phase score\",ylab = \"M phase score\")\n",
    "points(s_score[names(mc@mc[mc@mc %in% names(mc@colors[mc@colors %in% c(col)])])], m_score[names(mc@mc[mc@mc %in% names(mc@colors[mc@colors %in% c(col)])])], pch=19)\n",
    "abline(a = m_0,b = - m_0/s_0)"
   ]
  },
  {
   "cell_type": "code",
   "execution_count": null,
   "id": "b7a865ae",
   "metadata": {
    "ExecuteTime": {
     "end_time": "2023-03-05T12:06:07.683123Z",
     "start_time": "2023-03-05T12:06:07.290Z"
    }
   },
   "outputs": [],
   "source": [
    "library(data.table)\n",
    "library(tidyverse)\n",
    "cell_emb = m@cell_metadata$embryo\n",
    "names(cell_emb) = rownames(m@cell_metadata)\n",
    "embs = fread(\"../oc_mm_gastru_amos/oc_emb_data.csv\")\n",
    "mc_cols = tibble::enframe(mc@colors) %>% rename(mc=name, color=value)\n",
    "mc_cols$mc = as.integer(mc_cols$mc)"
   ]
  },
  {
   "cell_type": "code",
   "execution_count": null,
   "id": "ec0732ce",
   "metadata": {
    "ExecuteTime": {
     "end_time": "2023-03-05T12:06:09.859003Z",
     "start_time": "2023-03-05T12:06:09.176Z"
    }
   },
   "outputs": [],
   "source": [
    "data = tibble::enframe(s_score) %>% rename(cell=name, s_score=value) %>% left_join(\n",
    "    tibble::enframe(m_score) %>% rename(cell=name, m_score=value)\n",
    ") %>% left_join(\n",
    "    tibble::enframe(mc@mc) %>% rename(cell=name, mc=value)\n",
    ") %>% left_join(\n",
    "    mc_cols\n",
    ") %>% left_join(\n",
    "    tibble::enframe(cell_emb) %>% rename(cell=name, embryo=value) %>% left_join(embs[,c(\"embryo\", \"gt\")])\n",
    ")\n",
    "data$s_score_l = log2(1e-5+data$s_score)\n",
    "data$m_score_l = log2(1e-5+data$m_score)\n",
    "# data$s_score = log2(1e-5+data$s_score)\n",
    "# data$m_score = log2(1e-5+data$m_score)\n",
    "data$cycling = data$m_score+data$s_score\n",
    "data$cycling_l = log2(1e-5+data$cycling)\n",
    "# data = data %>% left_join(\n",
    "#     data %>% group_by(mc) %>% summarise(mgt=mean(gt, na.rm=T))\n",
    "# )\n",
    "# data$mgt = as.factor(round(data$mgt,3))"
   ]
  },
  {
   "cell_type": "code",
   "execution_count": null,
   "id": "ba1ab88b",
   "metadata": {
    "ExecuteTime": {
     "end_time": "2023-03-05T12:06:11.988352Z",
     "start_time": "2023-03-05T12:06:11.648Z"
    }
   },
   "outputs": [],
   "source": [
    "data = data[!is.na(data$gt),]"
   ]
  },
  {
   "cell_type": "code",
   "execution_count": null,
   "id": "d42cdf91",
   "metadata": {
    "ExecuteTime": {
     "end_time": "2023-03-05T12:06:13.908932Z",
     "start_time": "2023-03-05T12:06:13.465Z"
    }
   },
   "outputs": [],
   "source": [
    "data = data %>% left_join(data %>% group_by(gt, color) %>% summarise(cells=n()))"
   ]
  },
  {
   "cell_type": "code",
   "execution_count": null,
   "id": "47edd8f9",
   "metadata": {
    "ExecuteTime": {
     "end_time": "2023-03-05T12:06:15.539039Z",
     "start_time": "2023-03-05T12:06:15.200Z"
    }
   },
   "outputs": [],
   "source": [
    "data = data[!is.na(data$gt),]"
   ]
  },
  {
   "cell_type": "code",
   "execution_count": null,
   "id": "1b9dcf00",
   "metadata": {
    "ExecuteTime": {
     "end_time": "2022-10-26T14:17:58.425968Z",
     "start_time": "2022-10-26T14:17:58.118Z"
    }
   },
   "outputs": [],
   "source": [
    "data = data[data$cells >= 3,]"
   ]
  },
  {
   "cell_type": "code",
   "execution_count": null,
   "id": "36804744",
   "metadata": {
    "ExecuteTime": {
     "end_time": "2023-03-05T12:09:52.379743Z",
     "start_time": "2023-03-05T12:09:51.990Z"
    }
   },
   "outputs": [],
   "source": [
    "rebin = c(\"6.2\", \"6.2\", \"6.2\", \"7.2\", \"7.2\", \"7.2\", \"7.7\", \"7.7\", \"7.7\", \"8.3\", \"8.3\", \"8.3\")\n",
    "names(rebin) = c(\"6\", \"6.2\", \"6.6\", \"7\", \"7.2\", \"7.4\", \"7.5\", \"7.7\", \"7.9\", \"8.1\", \"8.4\", \"8.6\")\n",
    "data$rgt = rebin[as.character(data$gt)]"
   ]
  },
  {
   "cell_type": "code",
   "execution_count": null,
   "id": "86023d51",
   "metadata": {
    "ExecuteTime": {
     "end_time": "2023-03-05T12:07:58.260497Z",
     "start_time": "2023-03-05T12:07:57.922Z"
    }
   },
   "outputs": [],
   "source": [
    "data$cell_type = col2cat[data$color]"
   ]
  },
  {
   "cell_type": "code",
   "execution_count": null,
   "id": "7255f780",
   "metadata": {
    "ExecuteTime": {
     "end_time": "2023-03-05T12:08:46.013520Z",
     "start_time": "2023-03-05T12:08:45.487Z"
    }
   },
   "outputs": [],
   "source": [
    "data"
   ]
  },
  {
   "cell_type": "code",
   "execution_count": null,
   "id": "3998a849",
   "metadata": {
    "ExecuteTime": {
     "end_time": "2023-03-05T12:12:31.179118Z",
     "start_time": "2023-03-05T12:12:30.734Z"
    }
   },
   "outputs": [],
   "source": [
    "data = data %>% left_join(data %>% group_by(embryo, gt) %>% summarise(emb_cells = n()))\n",
    "# %>% ggplot(aes(as.factor(gt), emb_cells)) +\n",
    "#   geom_boxplot()"
   ]
  },
  {
   "cell_type": "code",
   "execution_count": null,
   "id": "d1c5531b",
   "metadata": {
    "ExecuteTime": {
     "end_time": "2023-03-05T12:25:06.382615Z",
     "start_time": "2023-03-05T12:25:05.722Z"
    }
   },
   "outputs": [],
   "source": [
    "data[data$cell_type %in% c(\"notochord\") & data$gt > 7.4,]"
   ]
  },
  {
   "cell_type": "code",
   "execution_count": null,
   "id": "89992b8e",
   "metadata": {
    "ExecuteTime": {
     "end_time": "2023-03-05T13:35:48.062360Z",
     "start_time": "2023-03-05T13:35:45.833Z"
    },
    "scrolled": false
   },
   "outputs": [],
   "source": [
    "data[data$cell_type %in% c(\"notochord\"),] %>% group_by(embryo, gt, cell_type, color) %>% summarise(cell_frac = n()/emb_cells) %>%  ggplot(aes(as.factor(gt), cell_frac, fill=color)) +\n",
    "  geom_boxplot() + scale_fill_identity() + coord_trans(y = \"log2\") #+ geom_smooth(formula= y~log2(x), method = \"lm\", se=FALSE, color=\"black\", aes(group=1))\n",
    "\n",
    "data[data$cell_type %in% c(\"PGC\"),] %>% group_by(embryo, gt, cell_type, color) %>% summarise(cell_frac = n()/emb_cells) %>%  ggplot(aes(as.factor(gt), cell_frac, fill=color)) +\n",
    "  geom_boxplot() + coord_trans(y = \"log2\") + scale_fill_identity() #+ geom_smooth(formula= y~log2(x), method = \"lm\", se=FALSE, color=\"black\", aes(group=1))\n",
    "\n",
    "data[data$cell_type %in% c(\"Hindgut\", \"Foregut\"),] %>% group_by(embryo, gt, cell_type, color) %>% summarise(cell_frac = n()/emb_cells) %>%  ggplot(aes(as.factor(gt), cell_frac, fill=color)) +\n",
    "  geom_boxplot() + coord_trans(y = \"log2\") + scale_fill_identity() #+ geom_smooth(formula= y~log2(x), method = \"lm\", se=FALSE, color=\"black\", aes(group=1))"
   ]
  },
  {
   "cell_type": "code",
   "execution_count": null,
   "id": "ba135187",
   "metadata": {},
   "outputs": [],
   "source": [
    "6-6.6, 7-7.4, 7.5-7.9, 8.1-8.6"
   ]
  },
  {
   "cell_type": "code",
   "execution_count": null,
   "id": "a2f2a75a",
   "metadata": {
    "ExecuteTime": {
     "end_time": "2022-10-26T14:18:00.741648Z",
     "start_time": "2022-10-26T14:18:00.350Z"
    }
   },
   "outputs": [],
   "source": [
    "data = data %>% left_join(data %>% group_by(color, rgt) %>% summarise(cell_num=n()))\n",
    "data = data[data$cell_num > 10,]"
   ]
  },
  {
   "cell_type": "code",
   "execution_count": null,
   "id": "6de1f4fb",
   "metadata": {
    "ExecuteTime": {
     "end_time": "2022-10-26T14:18:02.979182Z",
     "start_time": "2022-10-26T14:18:01.663Z"
    }
   },
   "outputs": [],
   "source": [
    "options(repr.plot.width = 10,repr.plot.height = 5)\n",
    "data[data$color %in% c(\n",
    "    \"#635547\",  # epiblast\n",
    "    \"#DABE99\",  # Primitive streak\n",
    "    \"#0F4A9C\",  # notochord\n",
    "    \"#FACB12\",  # PGC\n",
    "    \"#E2F700\",  # Median TFAP\n",
    "    \"#C594BF\"  #nascent mesoderm \n",
    "),] %>%\n",
    "  ggplot(aes(as.factor(rgt), cycling_l, fill=color)) +\n",
    "  geom_boxplot() +\n",
    "#   geom_jitter(position = position_dodge(width=0.07)) +\n",
    "#   geom_smooth(method=\"loess\") + \n",
    "  ylab(\"log(S-phase UMI frac)\") + xlab(\"Gestation Time\")+\n",
    "#   scale_color_identity(guide = \"legend\", labels = c(\"notochord\", \"Median TFAP\", \"PGC\"))+\n",
    "  scale_fill_identity(guide = \"legend\", labels = c(\"notochord\", \"epiblast\", \"nascent mesoderm\", \"Primitive streak\", \"Median TFAP\", \"PGC\"))+\n",
    "geom_hline(yintercept = -8, linetype='dashed',)\n",
    "ggsave(\"PGC_cycling_all.pdf\", width = 10, height = 5)"
   ]
  },
  {
   "cell_type": "code",
   "execution_count": null,
   "id": "51e8eb96",
   "metadata": {
    "ExecuteTime": {
     "end_time": "2022-10-26T14:32:58.235799Z",
     "start_time": "2022-10-26T14:32:57.930Z"
    }
   },
   "outputs": [],
   "source": [
    "grep(\"SMPDL3B\", rownames(mc@e_gc),  v=T)"
   ]
  },
  {
   "cell_type": "code",
   "execution_count": null,
   "id": "adfb1a2b",
   "metadata": {
    "ExecuteTime": {
     "end_time": "2022-10-26T14:19:30.231794Z",
     "start_time": "2022-10-26T14:19:29.175Z"
    }
   },
   "outputs": [],
   "source": [
    "options(repr.plot.width = 10,repr.plot.height = 5)\n",
    "data[data$color %in% c(\n",
    "#     \"#635547\",  # epiblast\n",
    "#     \"#DABE99\",  # Primitive streak\n",
    "    \"#0F4A9C\",  # notochord\n",
    "    \"#FACB12\",  # PGC\n",
    "    \"#E2F700\"  # Median TFAP\n",
    "#     \"#C594BF\"  #nascent mesoderm \n",
    "),] %>%\n",
    "  ggplot(aes(as.factor(rgt), cycling_l, fill=color)) +\n",
    "  geom_boxplot() +\n",
    "#   geom_jitter(position = position_dodge(width=0.07)) +\n",
    "#   geom_smooth(method=\"loess\") + \n",
    "  ylab(\"log(S-phase UMI frac)\") + xlab(\"Gestation Time\")+\n",
    "#   scale_color_identity(guide = \"legend\", labels = c(\"notochord\", \"Median TFAP\", \"PGC\"))+\n",
    "  scale_fill_identity(guide = \"legend\", labels = c(\"notochord\", \"Median TFAP\", \"PGC\"))+\n",
    "geom_hline(yintercept = -8, linetype='dashed',)\n",
    "ggsave(\"PGC_cycling.pdf\", width = 10, height = 5)"
   ]
  },
  {
   "cell_type": "code",
   "execution_count": null,
   "id": "2d0ba0ec",
   "metadata": {},
   "outputs": [],
   "source": []
  },
  {
   "cell_type": "code",
   "execution_count": null,
   "id": "f1e249bb",
   "metadata": {
    "ExecuteTime": {
     "end_time": "2022-10-23T11:59:49.304051Z",
     "start_time": "2022-10-23T11:59:43.403Z"
    }
   },
   "outputs": [],
   "source": [
    "options(repr.plot.width = 10,repr.plot.height = 5)\n",
    "data[data$color %in% c(\n",
    "    \"#635547\",  # epiblast\n",
    "    \"#DABE99\",  # Primitive streak\n",
    "    \"#0F4A9C\",  # notochord\n",
    "    \"#FACB12\",  # PGC\n",
    "    \"#E2F700\",  # Median TFAP\n",
    "    \"#C594BF\"  #nascent mesoderm \n",
    "),] %>%\n",
    "  ggplot(aes(gt, cycling_l, color=color)) +\n",
    "#   geom_jitter(position = position_dodge(width=0.07)) +\n",
    "  geom_smooth(method=\"loess\", span = 1) + ylab(\"log(S-phase UMI frac)\") + xlab(\"Gestation Time\")+\n",
    "  scale_color_identity(guide = \"legend\", labels = c(\"notochord\", \"epiblast\", \"nascent mesoderm\", \"Primitive streak\", \"Median TFAP\", \"PGC\"))+\n",
    "geom_hline(yintercept = -8, linetype='dashed',)\n",
    "ggsave(\"PGC_cycling_all.pdf\", width = 10, height = 5)"
   ]
  },
  {
   "cell_type": "code",
   "execution_count": null,
   "id": "2c24c541",
   "metadata": {
    "ExecuteTime": {
     "end_time": "2023-03-06T08:32:42.058793Z",
     "start_time": "2023-03-06T08:32:41.056Z"
    }
   },
   "outputs": [],
   "source": [
    "library(dplyr)\n",
    "library(tidyr)\n",
    "library(purrr)\n",
    "library(ggdist)\n",
    "library(ggplot2)\n",
    "library(distributional)\n",
    "library(cowplot)\n",
    "\n",
    "theme_set(theme_ggdist())"
   ]
  },
  {
   "cell_type": "code",
   "execution_count": null,
   "id": "daa4b4ef",
   "metadata": {
    "ExecuteTime": {
     "end_time": "2022-10-21T16:37:03.015745Z",
     "start_time": "2022-10-21T16:37:02.413Z"
    }
   },
   "outputs": [],
   "source": [
    "plot(density(data[data$color %in% c(\n",
    "    \"#635547\"  # epiblast\n",
    "#     \"#DABE99\",  # Primitive streak\n",
    "#     \"#FACB12\"  # PGC\n",
    "#     \"#E2F700\",  # Median TFAP\n",
    "#     \"#C594BF\"  #nascent mesoderm \n",
    "),]$s_score_l), col=\"#635547\")\n",
    "points(density(data[data$color %in% c(\n",
    "#     \"#635547\"  # epiblast\n",
    "#     \"#DABE99\",  # Primitive streak\n",
    "    \"#FACB12\"  # PGC\n",
    "#     \"#E2F700\",  # Median TFAP\n",
    "#     \"#C594BF\"  #nascent mesoderm \n",
    "),]$s_score_l), type=\"line\", col=\"#FACB12\")\n",
    "abline(v=-15)\n",
    "\n",
    "plot(density(data[data$color %in% c(\n",
    "    \"#635547\"  # epiblast\n",
    "#     \"#DABE99\",  # Primitive streak\n",
    "#     \"#FACB12\"  # PGC\n",
    "#     \"#E2F700\",  # Median TFAP\n",
    "#     \"#C594BF\"  #nascent mesoderm \n",
    "),]$m_score_l), col=\"#635547\")\n",
    "points(density(data[data$color %in% c(\n",
    "#     \"#635547\"  # epiblast\n",
    "#     \"#DABE99\",  # Primitive streak\n",
    "    \"#FACB12\"  # PGC\n",
    "#     \"#E2F700\",  # Median TFAP\n",
    "#     \"#C594BF\"  #nascent mesoderm \n",
    "),]$m_score_l), type=\"line\", col=\"#FACB12\")\n",
    "abline(v=-15)\n",
    "\n",
    "plot(density(data[data$color %in% c(\n",
    "    \"#635547\"  # epiblast\n",
    "#     \"#DABE99\",  # Primitive streak\n",
    "#     \"#FACB12\"  # PGC\n",
    "#     \"#E2F700\",  # Median TFAP\n",
    "#     \"#C594BF\"  #nascent mesoderm \n",
    "),]$cycling_l), col=\"#635547\")\n",
    "points(density(data[data$color %in% c(\n",
    "#     \"#635547\"  # epiblast\n",
    "#     \"#DABE99\",  # Primitive streak\n",
    "    \"#FACB12\"  # PGC\n",
    "#     \"#E2F700\",  # Median TFAP\n",
    "#     \"#C594BF\"  #nascent mesoderm \n",
    "),]$cycling_l), type=\"line\", col=\"#FACB12\")\n",
    "abline(v=-15)"
   ]
  },
  {
   "cell_type": "code",
   "execution_count": null,
   "id": "7bb425c8",
   "metadata": {
    "ExecuteTime": {
     "end_time": "2022-10-23T11:19:47.369274Z",
     "start_time": "2022-10-23T11:19:46.351Z"
    }
   },
   "outputs": [],
   "source": [
    "col = \"#DABE99\"\n",
    "shades = colorRampPalette(c(\"white\",\"lightgray\",\"lightblue\",\"blue\", \"red\", \"yellow\"))\n",
    "smoothScatter(s_score, m_score, colramp=shades, pch=19, cex=0.1,\n",
    "            main = \"S phase vs M phase UMIs\",xlab = \"S phase score\",ylab = \"M phase score\")\n",
    "points(s_score[names(mc@mc[mc@mc %in% names(mc@colors[mc@colors %in% c(col)])])], m_score[names(mc@mc[mc@mc %in% names(mc@colors[mc@colors %in% c(col)])])], pch=19)\n",
    "abline(a = m_0,b = - m_0/s_0)"
   ]
  },
  {
   "cell_type": "code",
   "execution_count": null,
   "id": "f5590374",
   "metadata": {
    "ExecuteTime": {
     "end_time": "2022-03-31T06:54:34.458883Z",
     "start_time": "2022-03-31T06:52:11.390Z"
    }
   },
   "outputs": [],
   "source": [
    "# options(repr.plot.width=18, repr.plot.height=18)\n",
    "# shades = colorRampPalette(c(\"white\",\"lightblue\", \"blue\", \"purple\"))(100)\n",
    "# plot(mc2d@sc_x, mc2d@sc_y, pch=19, cex=0.4, col=ifelse(f[names(mc2d@sc_x)], \"black\", \"lightgray\"))\n",
    "# points(mc2d@mc_x, mc2d@mc_y, pch=21, cex=2.0, bg=shades[mc_cc])"
   ]
  },
  {
   "cell_type": "code",
   "execution_count": null,
   "id": "b82b3238",
   "metadata": {
    "ExecuteTime": {
     "end_time": "2023-03-06T08:32:48.647920Z",
     "start_time": "2023-03-06T08:32:46.312Z"
    }
   },
   "outputs": [],
   "source": [
    "library(tidyverse)"
   ]
  },
  {
   "cell_type": "code",
   "execution_count": null,
   "id": "96f3afbf",
   "metadata": {
    "ExecuteTime": {
     "end_time": "2022-10-23T11:20:44.021468Z",
     "start_time": "2022-10-23T11:20:43.607Z"
    }
   },
   "outputs": [],
   "source": [
    "mc_fr = mc_cc_tab[,2]/rowSums(mc_cc_tab)"
   ]
  },
  {
   "cell_type": "code",
   "execution_count": null,
   "id": "da69316f",
   "metadata": {
    "ExecuteTime": {
     "end_time": "2022-10-23T11:20:20.534400Z",
     "start_time": "2022-10-23T11:20:20.120Z"
    }
   },
   "outputs": [],
   "source": [
    "mc_fr= mc_fr[names(mc@colors[mc@colors %in% c(\n",
    "    \"#635547\",  # epiblast\n",
    "    \"#DABE99\",  # Primitive streak\n",
    "    \"#FACB12\",  # PGC\n",
    "    \"#E2F700\",  # Median TFAP\n",
    "    \"#C594BF\"  #nascent mesoderm \n",
    ")])]"
   ]
  },
  {
   "cell_type": "code",
   "execution_count": null,
   "id": "6a12f2bb",
   "metadata": {
    "ExecuteTime": {
     "end_time": "2022-10-23T11:20:26.715259Z",
     "start_time": "2022-10-23T11:20:25.535Z"
    }
   },
   "outputs": [],
   "source": [
    "options(repr.plot.width = 72,repr.plot.height = 14)\n",
    "barplot(mc_fr,col = mc@colors[names(mc_fr)],border = T)"
   ]
  },
  {
   "cell_type": "code",
   "execution_count": null,
   "id": "53a7e5e1",
   "metadata": {
    "ExecuteTime": {
     "end_time": "2022-10-23T11:22:35.732280Z",
     "start_time": "2022-10-23T11:22:35.296Z"
    }
   },
   "outputs": [],
   "source": [
    "# rate is given in division per day \n",
    "# for a rate k, the expansion rate would be n = n0*2^(kt)\n",
    "# default rate estimate is taken from Fig. 2B estimate in Mittnenzweig, Mayshar et al. of global cell division rate\n",
    "default_proliferation_rate = 3.5\n",
    "\n",
    "mc_rate = data.frame(mc = c(1:length(mc_fr)), proliferation_rate = default_proliferation_rate*as.vector(1 - mc_fr))\n",
    "\n",
    "write.table(x = mc_rate,file = 'emb.metacell_proliferation_rate_2022_10_23.tsv',sep = '\\t',row.names = F)"
   ]
  },
  {
   "cell_type": "code",
   "execution_count": null,
   "id": "50e2a325",
   "metadata": {
    "ExecuteTime": {
     "end_time": "2023-03-06T08:32:50.267875Z",
     "start_time": "2023-03-06T08:32:49.831Z"
    }
   },
   "outputs": [],
   "source": [
    "mc_rate = read.table('emb.metacell_proliferation_rate_2022_10_23.tsv', sep = '\\t', header = T)"
   ]
  },
  {
   "cell_type": "code",
   "execution_count": null,
   "id": "321f3d78",
   "metadata": {
    "ExecuteTime": {
     "end_time": "2023-03-06T08:33:07.379189Z",
     "start_time": "2023-03-06T08:33:06.952Z"
    }
   },
   "outputs": [],
   "source": [
    "default_proliferation_rate = 3.5"
   ]
  },
  {
   "cell_type": "code",
   "execution_count": null,
   "id": "45fb14ef",
   "metadata": {
    "ExecuteTime": {
     "end_time": "2023-03-06T08:32:53.785735Z",
     "start_time": "2023-03-06T08:32:53.167Z"
    }
   },
   "outputs": [],
   "source": [
    "mc_rate$mc = as.character(mc_rate$mc)"
   ]
  },
  {
   "cell_type": "code",
   "execution_count": null,
   "id": "1260a85e",
   "metadata": {
    "ExecuteTime": {
     "end_time": "2023-03-06T08:33:09.122687Z",
     "start_time": "2023-03-06T08:33:08.696Z"
    }
   },
   "outputs": [],
   "source": [
    "mc_fr = 1-mc_rate$proliferation_rate/default_proliferation_rate"
   ]
  },
  {
   "cell_type": "code",
   "execution_count": null,
   "id": "4941e80d",
   "metadata": {
    "ExecuteTime": {
     "end_time": "2023-03-05T11:39:58.354551Z",
     "start_time": "2023-03-05T11:39:53.840Z"
    }
   },
   "outputs": [],
   "source": [
    "library(tidyverse)"
   ]
  },
  {
   "cell_type": "code",
   "execution_count": null,
   "id": "f1a93f81",
   "metadata": {
    "ExecuteTime": {
     "end_time": "2023-03-06T08:33:13.176439Z",
     "start_time": "2023-03-06T08:33:12.687Z"
    }
   },
   "outputs": [],
   "source": [
    "tibble::enframe(mc_fr)"
   ]
  },
  {
   "cell_type": "code",
   "execution_count": null,
   "id": "87c62ac6",
   "metadata": {
    "ExecuteTime": {
     "end_time": "2023-03-06T08:33:16.159953Z",
     "start_time": "2023-03-06T08:33:15.591Z"
    }
   },
   "outputs": [],
   "source": [
    "all_cyc = tibble::enframe(mc_fr) %>% rename(mc=name, fr=value)  %>% mutate(mc=as.character(mc)) %>% left_join(tibble::enframe(mc@colors) %>% rename(mc=name, color=value))"
   ]
  },
  {
   "cell_type": "code",
   "execution_count": null,
   "id": "7d4ffbf5",
   "metadata": {
    "ExecuteTime": {
     "end_time": "2023-03-05T11:42:14.447872Z",
     "start_time": "2023-03-05T11:42:14.119Z"
    }
   },
   "outputs": [],
   "source": [
    "all_cyc$fr = 3.5*(1-all_cyc$fr)"
   ]
  },
  {
   "cell_type": "code",
   "execution_count": null,
   "id": "709e74d5",
   "metadata": {
    "ExecuteTime": {
     "end_time": "2023-03-06T08:33:19.533129Z",
     "start_time": "2023-03-06T08:33:19.104Z"
    }
   },
   "outputs": [],
   "source": [
    "oc_color_ord = c( \n",
    "'#FACB12', #PGC\n",
    "'#f7f79e', #Surface ectoderm\n",
    "'#CDE087', #Floor plate\n",
    "'#C3C388', #Neural crest\n",
    "'#879E86', #Neural plate boundary\n",
    "'#CDE088', #Neural tube\n",
    "'#647A4F', #Forebrain/Midbrain/Hindbrain\n",
    "'#354E23', #Caudal neurectoderm\n",
    "'#649146', #rostral neurectoderm\n",
    "'#90BF75', #Ectoderm - Definitive\n",
    "'#635547', #epiblast\n",
    "'#DABE99', #Primitive streak\n",
    "'#9e6762', #caudal epiblast\n",
    "'#E2F700', #Median TFAP\n",
    "'#C594BF', #nascent mesoderm\n",
    "'#1a3f52', #caudal mesoderm\n",
    "'#45d1c5', #Lateral & intermediate mesoderm\n",
    "'#408DA1', #Paraxial Mesoderm\n",
    "'#A8DBF7', #Presomitic mesoderm\n",
    "'#1AA2EB', #Somitic mesoderm\n",
    "'#8DB5CE', #rostral mesoderm\n",
    "'#53f1fc', #Cardiopharyngeal mesoderm\n",
    "'#B51D8D', #Caridac\n",
    "'#B6A8ED', #Nascent mesoderm - extraembryonic\n",
    "'#8870ad', #ExE mesoderm\n",
    "'#cc7818', #Amnion\n",
    "'#532C8A', #Allantois\n",
    "'#A69369', #chorionic mesothelium\n",
    "'#966F1B', #Endothelial2\n",
    "'#ff891c', #Endothelial\n",
    "'#FBBE92', #Hematoendothelial\n",
    "'#c9a997', #Blood progenitors\n",
    "'#C72228', #Erythroid1\n",
    "'#FF5608', #Erythroid2\n",
    "'#c19f70', #Anterior primitive streak\n",
    "'#6666ED', #Node\n",
    "'#0F4A9C', #notochord\n",
    "'#F397C0', #definitive endoderm\n",
    "'#EF5A9E', #Gut\n",
    "'#EF5A9D', #Foregut\n",
    "'#F25CD4' #Hindgut\n",
    "    )"
   ]
  },
  {
   "cell_type": "code",
   "execution_count": null,
   "id": "1189de30",
   "metadata": {
    "ExecuteTime": {
     "end_time": "2023-03-06T08:33:21.423977Z",
     "start_time": "2023-03-06T08:33:20.991Z"
    }
   },
   "outputs": [],
   "source": [
    "col2cat = mc@color_key$cell_type\n",
    "names(col2cat) = mc@color_key$color"
   ]
  },
  {
   "cell_type": "code",
   "execution_count": null,
   "id": "c1d3aabf",
   "metadata": {
    "ExecuteTime": {
     "end_time": "2023-03-06T08:33:22.067964Z",
     "start_time": "2023-03-06T08:33:21.486Z"
    }
   },
   "outputs": [],
   "source": [
    "all_cyc$cell_type = col2cat[all_cyc$color]"
   ]
  },
  {
   "cell_type": "code",
   "execution_count": null,
   "id": "b241d952",
   "metadata": {
    "ExecuteTime": {
     "end_time": "2023-03-06T08:33:24.156093Z",
     "start_time": "2023-03-06T08:33:23.726Z"
    }
   },
   "outputs": [],
   "source": [
    "all_cyc$color <- factor(all_cyc$color , levels=oc_color_ord)"
   ]
  },
  {
   "cell_type": "code",
   "execution_count": null,
   "id": "81e92ad1",
   "metadata": {
    "ExecuteTime": {
     "end_time": "2023-03-06T08:33:24.332384Z",
     "start_time": "2023-03-06T08:33:23.903Z"
    }
   },
   "outputs": [],
   "source": [
    "all_cyc$cell_type = factor(all_cyc$cell_type, levels=col2cat[oc_color_ord])"
   ]
  },
  {
   "cell_type": "code",
   "execution_count": null,
   "id": "d2dc9c36",
   "metadata": {
    "ExecuteTime": {
     "end_time": "2023-03-05T11:50:03.344509Z",
     "start_time": "2023-03-05T11:50:02.912Z"
    }
   },
   "outputs": [],
   "source": [
    "options(repr.plot.width = 10,repr.plot.height = 5)\n",
    "data[data$color %in% c(\n",
    "#     \"#635547\",  # epiblast\n",
    "#     \"#DABE99\",  # Primitive streak\n",
    "    \"#0F4A9C\",  # notochord\n",
    "    \"#FACB12\",  # PGC\n",
    "    \"#E2F700\"  # Median TFAP\n",
    "#     \"#C594BF\"  #nascent mesoderm \n",
    "),] %>%\n",
    "  ggplot(aes(as.factor(rgt), cycling_l, fill=color)) +\n",
    "  geom_boxplot() +\n",
    "#   geom_jitter(position = position_dodge(width=0.07)) +\n",
    "#   geom_smooth(method=\"loess\") + \n",
    "  ylab(\"log(S-phase UMI frac)\") + xlab(\"Gestation Time\")+\n",
    "#   scale_color_identity(guide = \"legend\", labels = c(\"notochord\", \"Median TFAP\", \"PGC\"))+\n",
    "  scale_fill_identity(guide = \"legend\", labels = c(\"notochord\", \"Median TFAP\", \"PGC\"))+\n",
    "geom_hline(yintercept = -8, linetype='dashed',)\n",
    "ggsave(\"PGC_cycling.pdf\", width = 10, height = 5)"
   ]
  },
  {
   "cell_type": "code",
   "execution_count": null,
   "id": "c1fd7086",
   "metadata": {
    "ExecuteTime": {
     "end_time": "2023-03-06T08:33:38.493331Z",
     "start_time": "2023-03-06T08:33:36.378Z"
    }
   },
   "outputs": [],
   "source": [
    "# options(repr.plot.width = 10,repr.plot.height = 10)\n",
    "ggplot(all_cyc, aes(x = cell_type, y = fr, fill=color)) +\n",
    "  geom_boxplot() + \n",
    "scale_fill_identity()  +\n",
    "theme(axis.text.x = element_text(angle = 90, vjust = 0.5, hjust=1))\n",
    "ggsave(\"cycling_rates_reordered.pdf\", width = 15, height = 10)"
   ]
  },
  {
   "cell_type": "code",
   "execution_count": null,
   "id": "8e736963",
   "metadata": {
    "ExecuteTime": {
     "end_time": "2022-09-07T12:19:42.859014Z",
     "start_time": "2022-09-07T12:19:42.583Z"
    }
   },
   "outputs": [],
   "source": [
    "tmp = (3.5 - prof_by_col$prolif)/3.5"
   ]
  },
  {
   "cell_type": "code",
   "execution_count": null,
   "id": "2694a745",
   "metadata": {
    "ExecuteTime": {
     "end_time": "2022-09-07T12:19:57.715798Z",
     "start_time": "2022-09-07T12:19:57.440Z"
    }
   },
   "outputs": [],
   "source": [
    "names(tmp) = prof_by_col$color"
   ]
  },
  {
   "cell_type": "code",
   "execution_count": null,
   "id": "3f9b3e6d",
   "metadata": {
    "ExecuteTime": {
     "end_time": "2022-09-07T12:21:07.549215Z",
     "start_time": "2022-09-07T12:21:07.273Z"
    }
   },
   "outputs": [],
   "source": [
    "oc_color_ord = c( \n",
    "'#FACB12', #PGC\n",
    "'#f7f79e', #Surface ectoderm\n",
    "'#CDE087', #Floor plate\n",
    "'#C3C388', #Neural crest\n",
    "'#879E86', #Neural plate boundary\n",
    "'#CDE088', #Neural tube\n",
    "'#647A4F', #Forebrain/Midbrain/Hindbrain\n",
    "'#354E23', #Caudal neurectoderm\n",
    "'#649146', #rostral neurectoderm\n",
    "'#90BF75', #Ectoderm - Definitive\n",
    "'#635547', #epiblast\n",
    "'#DABE99', #Primitive streak\n",
    "'#9e6762', #caudal epiblast\n",
    "'#E2F700', #Median TFAP\n",
    "'#C594BF', #nascent mesoderm\n",
    "'#1a3f52', #caudal mesoderm\n",
    "'#45d1c5', #Lateral & intermediate mesoderm\n",
    "'#408DA1', #Paraxial Mesoderm\n",
    "'#A8DBF7', #Presomitic mesoderm\n",
    "'#1AA2EB', #Somitic mesoderm\n",
    "'#8DB5CE', #rostral mesoderm\n",
    "'#53f1fc', #Cardiopharyngeal mesoderm\n",
    "'#B51D8D', #Caridac\n",
    "'#B6A8ED', #Nascent mesoderm - extraembryonic\n",
    "'#8870ad', #ExE mesoderm\n",
    "'#cc7818', #Amnion\n",
    "'#532C8A', #Allantois\n",
    "'#A69369', #chorionic mesothelium\n",
    "'#966F1B', #Endothelial2\n",
    "'#ff891c', #Endothelial\n",
    "'#FBBE92', #Hematoendothelial\n",
    "'#c9a997', #Blood progenitors\n",
    "'#C72228', #Erythroid1\n",
    "'#FF5608', #Erythroid2\n",
    "'#c19f70', #Anterior primitive streak\n",
    "'#6666ED', #Node\n",
    "'#0F4A9C', #notochord\n",
    "'#F397C0', #definitive endoderm\n",
    "'#EF5A9E', #Gut\n",
    "'#EF5A9D', #Foregut\n",
    "'#F25CD4' #Hindgut\n",
    "# '#CF6191', #Hypoblast-Anterior (Hhex/Lhx1/Cer1)\n",
    "# '#F6BFCB', #hypoblast\n",
    "# '#572E48', #Yolk sac\n",
    "# '#050505', #Parietal Endoderm\n",
    "# '#7B00FF', #Dppa3 Hand1\n",
    "# '#00FF15', #Dppa3 low Dusp6 neg\n",
    "# '#FF00B7', #DPPA3 TGM3\n",
    "# '#D4EB63', #Dusp6 not other\n",
    "# '#FFFF00', #Gata2 Hand1\n",
    "# '#FFA600', #Lgals3\n",
    "# '#54DCE3' #Wfdc2 Aldoc\n",
    ")"
   ]
  },
  {
   "cell_type": "code",
   "execution_count": null,
   "id": "b7abffd9",
   "metadata": {
    "ExecuteTime": {
     "end_time": "2022-09-07T12:21:13.948788Z",
     "start_time": "2022-09-07T12:21:13.673Z"
    }
   },
   "outputs": [],
   "source": [
    "tmp = tmp[oc_color_ord]"
   ]
  },
  {
   "cell_type": "code",
   "execution_count": null,
   "id": "6af0f9ef",
   "metadata": {
    "ExecuteTime": {
     "end_time": "2022-09-07T12:21:29.115190Z",
     "start_time": "2022-09-07T12:21:28.553Z"
    }
   },
   "outputs": [],
   "source": [
    "options(repr.plot.width=18, repr.plot.height=12)\n",
    "prof_by_col = tibble::enframe(mc@colors) %>% rename(mc=name, color=value) %>% left_join(mc_rate) %>% group_by(color) %>% summarise(prolif = mean(proliferation_rate))\n",
    "barplot(tmp, col = names(tmp),)"
   ]
  },
  {
   "cell_type": "code",
   "execution_count": null,
   "id": "c61f28a9",
   "metadata": {
    "ExecuteTime": {
     "end_time": "2022-09-07T12:08:47.005949Z",
     "start_time": "2022-09-07T12:08:46.282Z"
    }
   },
   "outputs": [],
   "source": [
    "options(repr.plot.width=40, repr.plot.height=12)\n",
    "opar <- par(lwd = 0.01)\n",
    "barplot(mc_cc, col=mc@colors, las=2, cex.names=0.7)"
   ]
  },
  {
   "cell_type": "code",
   "execution_count": null,
   "id": "6828e6c4",
   "metadata": {
    "ExecuteTime": {
     "end_time": "2022-04-07T06:51:49.244383Z",
     "start_time": "2022-04-07T06:49:56.904Z"
    }
   },
   "outputs": [],
   "source": [
    "mc_fr = mc_cc_tab[,2]/rowSums(mc_cc_tab)"
   ]
  },
  {
   "cell_type": "code",
   "execution_count": null,
   "id": "c90c4913",
   "metadata": {
    "ExecuteTime": {
     "end_time": "2022-04-07T06:51:49.770533Z",
     "start_time": "2022-04-07T06:49:57.081Z"
    }
   },
   "outputs": [],
   "source": [
    "options(repr.plot.width = 72,repr.plot.height = 14)\n",
    "barplot(mc_fr,col = mc@colors,border = T)\n",
    "# rate is given in division per day \n",
    "# for a rate k, the expansion rate would be n = n0*2^(kt)\n",
    "# default rate estimate is taken from Fig. 2B estimate in Mittnenzweig, Mayshar et al. of global cell division rate\n",
    "default_proliferation_rate = 3.5\n",
    "\n",
    "mc_rate = data.frame(mc = c(1:length(mc_fr)), proliferation_rate = default_proliferation_rate*as.vector(1 - mc_fr))\n",
    "\n",
    "write.table(x = mc_rate,file = 'emb.metacell_proliferation_rate3.tsv',sep = '\\t',row.names = F)"
   ]
  },
  {
   "cell_type": "code",
   "execution_count": null,
   "id": "995c0e39",
   "metadata": {
    "ExecuteTime": {
     "end_time": "2022-04-07T06:29:51.760557Z",
     "start_time": "2022-04-07T06:28:42.098Z"
    }
   },
   "outputs": [],
   "source": [
    "mc_rate$mc = as.character(mc_rate$mc)"
   ]
  },
  {
   "cell_type": "code",
   "execution_count": null,
   "id": "20791839",
   "metadata": {
    "ExecuteTime": {
     "end_time": "2023-03-05T11:39:22.577671Z",
     "start_time": "2023-03-05T11:39:22.257Z"
    }
   },
   "outputs": [],
   "source": [
    "default_proliferation_rate = 3.5"
   ]
  },
  {
   "cell_type": "code",
   "execution_count": null,
   "id": "2b784d35",
   "metadata": {
    "ExecuteTime": {
     "end_time": "2022-04-07T06:29:51.828514Z",
     "start_time": "2022-04-07T06:28:43.618Z"
    }
   },
   "outputs": [],
   "source": [
    "mc@colors"
   ]
  },
  {
   "cell_type": "code",
   "execution_count": null,
   "id": "ab40852b",
   "metadata": {
    "ExecuteTime": {
     "end_time": "2022-04-07T06:29:51.879533Z",
     "start_time": "2022-04-07T06:28:44.922Z"
    }
   },
   "outputs": [],
   "source": [
    "prof_by_col = tibble::enframe(mc@colors) %>% rename(mc=name, color=value) %>% left_join(mc_rate) %>% group_by(color) %>% summarise(prolif = mean(proliferation_rate))\n",
    "barplot(3.5 - prof_by_col$prolif, col = prof_by_col$color)\n",
    "abline(h = 0.1)"
   ]
  },
  {
   "cell_type": "code",
   "execution_count": null,
   "id": "447a09fc",
   "metadata": {
    "ExecuteTime": {
     "end_time": "2022-04-06T15:13:31.433051Z",
     "start_time": "2022-04-06T15:11:48.660Z"
    }
   },
   "outputs": [],
   "source": [
    "prof_by_col[3.5 - prof_by_col$prolif > 0.1,]"
   ]
  },
  {
   "cell_type": "code",
   "execution_count": null,
   "id": "424af650",
   "metadata": {
    "ExecuteTime": {
     "end_time": "2022-03-31T07:19:26.347765Z",
     "start_time": "2022-03-31T07:19:25.262Z"
    }
   },
   "outputs": [],
   "source": [
    "mc_egc_nohs_nocyc = mc@e_gc[grep('hotspot', rownames(mc@e_gc), v=T, invert = T), !mc@colors %in% prof_by_col[3.5 - prof_by_col$prolif > 0.1,]$color]"
   ]
  },
  {
   "cell_type": "code",
   "execution_count": null,
   "id": "84868a87",
   "metadata": {},
   "outputs": [],
   "source": [
    "cors = tgs_cor(t(mc_egc_nohs_nocyc))"
   ]
  },
  {
   "cell_type": "code",
   "execution_count": null,
   "id": "8d881660",
   "metadata": {
    "ExecuteTime": {
     "end_time": "2022-04-07T10:40:55.061153Z",
     "start_time": "2022-04-07T10:40:54.705Z"
    }
   },
   "outputs": [],
   "source": [
    "s_genes = intersect(\n",
    "    names(head(cors['PCNA',order(cors[,'PCNA'], decreasing = T)], n = 100)), \n",
    "    names(head(cors['RRM2',order(cors[,'RRM2'], decreasing = T)], n = 100))\n",
    "    )\n",
    "\n",
    "m_genes = intersect(\n",
    "    names(head(cors['MKI67',order(cors[,'MKI67'], decreasing = T)], n = 100)), \n",
    "    intersect(\n",
    "    names(head(cors['TOP2A',order(cors[,'TOP2A'], decreasing = T)], n = 100)),\n",
    "    names(head(cors['UBE2C',order(cors[,'UBE2C'], decreasing = T)], n = 100))\n",
    "    ))"
   ]
  },
  {
   "cell_type": "code",
   "execution_count": null,
   "id": "cf36ebbf",
   "metadata": {},
   "outputs": [],
   "source": [
    "head(cors['PCNA',order(cors[,'PCNA'], decreasing = T)], n = 20)\n",
    "head(cors['RRM2',order(cors[,'RRM2'], decreasing = T)], n = 20)"
   ]
  },
  {
   "cell_type": "code",
   "execution_count": null,
   "id": "6efb4206",
   "metadata": {},
   "outputs": [],
   "source": [
    "names(head(cors['MKI67',order(cors[,'MKI67'], decreasing = T)], n = 20))\n",
    "names(head(cors['TOP2A',order(cors[,'TOP2A'], decreasing = T)], n = 20))\n",
    "names(head(cors['UBE2C',order(cors[,'UBE2C'], decreasing = T)], n = 20))"
   ]
  },
  {
   "cell_type": "code",
   "execution_count": null,
   "id": "d357db42",
   "metadata": {},
   "outputs": [],
   "source": [
    "cors"
   ]
  },
  {
   "cell_type": "code",
   "execution_count": null,
   "id": "23fc6c6b",
   "metadata": {},
   "outputs": [],
   "source": [
    "mat = scdb_mat(\"embs85_noexe2\")\n",
    "# mc = scdb_mc(\"mc2_noexe\")"
   ]
  },
  {
   "cell_type": "code",
   "execution_count": null,
   "id": "df84f3e9",
   "metadata": {},
   "outputs": [],
   "source": [
    "mc_cc_tab = tibble::enframe(mc_cc) %>% rename(mc=name, cycling=value)\n",
    "mc_cc_tab$mc = as.integer(mc_cc_tab$mc)"
   ]
  },
  {
   "cell_type": "code",
   "execution_count": null,
   "id": "fe4e3102",
   "metadata": {},
   "outputs": [],
   "source": [
    "c_cc_tab = tibble::enframe(mc@mc) %>% rename(cell=name, mc=value) %>% left_join(mc_cc_tab)"
   ]
  },
  {
   "cell_type": "code",
   "execution_count": null,
   "id": "d2b84385",
   "metadata": {},
   "outputs": [],
   "source": [
    "rownames(c_cc_tab) = c_cc_tab$cell"
   ]
  },
  {
   "cell_type": "code",
   "execution_count": null,
   "id": "d3589047",
   "metadata": {},
   "outputs": [],
   "source": [
    "mat@cell_metadata$cycling = c_cc_tab[rownames(mat@cell_metadata),]$cycling"
   ]
  },
  {
   "cell_type": "code",
   "execution_count": null,
   "id": "44bd6d37",
   "metadata": {},
   "outputs": [],
   "source": [
    "scdb_add_mat(id = \"embs85_noexe2\", mat = mat)"
   ]
  },
  {
   "cell_type": "code",
   "execution_count": null,
   "id": "600ff789",
   "metadata": {},
   "outputs": [],
   "source": [
    "mg = c(core_m_phase)\n",
    "# mg = c(core_m_phase, extra_m_phase)\n",
    "sg = c(core_s_phase)\n",
    "# sg = c(core_s_phase, extra_s_phase)\n",
    "# sg = c(core_s_phase, extra_s_phase, extra_extra_s_phase)"
   ]
  },
  {
   "cell_type": "code",
   "execution_count": null,
   "id": "67e71e57",
   "metadata": {},
   "outputs": [],
   "source": [
    "# # Mouse Markus\n",
    "# m_genes = c(\"Mki67\",\"Cenpf\",\"Top2a\",\"Smc4;SMC4\",\"Ube2c\",\"Ccnb1\",\"Cdk1\",\"Arl6ip1\",\"Ankrd11\",\"Hmmr;IHABP\",\n",
    "#            \"Cenpa;Cenp-a\",\"Tpx2\",\"Aurka\",\"Kif4\", \"Kif2c\",\"Bub1b\",\"Ccna2\", \"Kif23\",\"Kif20a\",\"Sgol2\",\"Smc2\", \"Kif11\", \"Cdca2\",\"Incenp\",\"Cenpe\")\n",
    "\n",
    "# s_genes = c(\"Pcna\", \"Rrm2\", \"Mcm5\", \"Mcm6\", \"Mcm4\", \"Ung\", \"Mcm7\", \"Mcm2\",\"Uhrf1\", \"Orc6\", \"Tipin\")"
   ]
  },
  {
   "cell_type": "code",
   "execution_count": null,
   "id": "36b77e7c",
   "metadata": {},
   "outputs": [],
   "source": [
    "# intersect(toupper(m_genes), mg)"
   ]
  },
  {
   "cell_type": "code",
   "execution_count": null,
   "id": "de285805",
   "metadata": {},
   "outputs": [],
   "source": [
    "# intersect(toupper(s_genes), sg)"
   ]
  },
  {
   "cell_type": "code",
   "execution_count": null,
   "id": "0f612def",
   "metadata": {},
   "outputs": [],
   "source": [
    "lfp = log2(mc@mc_fp)\n",
    "legc = log2(1e-5+mc@e_gc)"
   ]
  },
  {
   "cell_type": "code",
   "execution_count": null,
   "id": "aff5101e",
   "metadata": {},
   "outputs": [],
   "source": [
    "tot = Matrix::colSums(mat@mat)\n",
    "nohs_mat = mat@mat[grep('hotspot', rownames(mat@mat), v=T, invert = T),tot>1000]\n",
    "legal_cols = Matrix::colSums(nohs_mat) > 0\n",
    "tot = tot[tot>1000]\n",
    "tot = tot[legal_cols]\n",
    "s_tot = Matrix::colSums(nohs_mat[sg,legal_cols])\n",
    "m_tot = Matrix::colSums(nohs_mat[mg,legal_cols])\n",
    "s_score = s_tot/tot\n",
    "m_score = m_tot/tot\n",
    "max_s_score = quantile(s_score,0.9995)\n",
    "max_m_score = quantile(m_score,0.9995)\n",
    "table(s_tot)\n",
    "table(m_tot)"
   ]
  },
  {
   "cell_type": "code",
   "execution_count": null,
   "id": "13ee04eb",
   "metadata": {},
   "outputs": [],
   "source": [
    "mymat = as.matrix(nohs_mat)\n",
    "ws = rbind(s_score, mymat)\n",
    "wf = rbind(m_score, ws)"
   ]
  },
  {
   "cell_type": "code",
   "execution_count": null,
   "id": "cb7d235f",
   "metadata": {},
   "outputs": [],
   "source": [
    "colSums(nohs_mat[,legal_cols])[m_tot>70]"
   ]
  },
  {
   "cell_type": "code",
   "execution_count": null,
   "id": "fbc54267",
   "metadata": {},
   "outputs": [],
   "source": [
    "scor = tgs_cor(as.matrix(s_score), t(mymat))"
   ]
  },
  {
   "cell_type": "code",
   "execution_count": null,
   "id": "cc70511c",
   "metadata": {},
   "outputs": [],
   "source": [
    "mcor = tgs_cor(as.matrix(m_score), t(mymat))"
   ]
  },
  {
   "cell_type": "code",
   "execution_count": null,
   "id": "15a7eb58",
   "metadata": {},
   "outputs": [],
   "source": [
    "s_gs = names(tail(sort(scor[1,]),40))"
   ]
  },
  {
   "cell_type": "code",
   "execution_count": null,
   "id": "5dd1f532",
   "metadata": {},
   "outputs": [],
   "source": [
    "m_gs = names(tail(sort(mcor[1,]),40))"
   ]
  },
  {
   "cell_type": "code",
   "execution_count": null,
   "id": "390e0c74",
   "metadata": {},
   "outputs": [],
   "source": [
    "mat_n = t(t(nohs_mat)/colSums(nohs_mat))"
   ]
  },
  {
   "cell_type": "code",
   "execution_count": null,
   "id": "fd701ef2",
   "metadata": {},
   "outputs": [],
   "source": [
    "# minimal\n",
    "plot(colSums(mat_n[m_gs,]), colSums(mat_n[s_gs,]), pch=19, cex=0.1)\n",
    "abline(b=-0.6,a=0.006)\n",
    "cyc = colnames(mat_n)[colSums(mat_n[s_gs,]) < -0.6*colSums(mat_n[m_gs,])+0.006]\n",
    "length(cyc)"
   ]
  },
  {
   "cell_type": "code",
   "execution_count": null,
   "id": "c04515b4",
   "metadata": {},
   "outputs": [],
   "source": [
    "# extra\n",
    "plot(colSums(mat_n[m_gs,]), colSums(mat_n[s_gs,]), pch=19, cex=0.1)\n",
    "abline(b=-0.6,a=0.006)\n",
    "cyc = colnames(mat_n)[colSums(mat_n[s_gs,]) < -0.6*colSums(mat_n[m_gs,])+0.006]\n",
    "length(cyc)"
   ]
  },
  {
   "cell_type": "code",
   "execution_count": null,
   "id": "eb503d78",
   "metadata": {},
   "outputs": [],
   "source": [
    "length(intersect(names(mc@mc), cyc))"
   ]
  },
  {
   "cell_type": "code",
   "execution_count": null,
   "id": "4a622ad2",
   "metadata": {},
   "outputs": [],
   "source": [
    "cyc_fracs <- mc@mc %>% \n",
    "    tibble::enframe(\"cell_id\", \"mc_id\") %>% \n",
    "    mutate(cyc = cell_id %in% cyc) %>% group_by(mc_id) %>% \n",
    "    summarise(frac_cyc = 1-sum(cyc) / n()) "
   ]
  },
  {
   "cell_type": "code",
   "execution_count": null,
   "id": "1a4090af",
   "metadata": {},
   "outputs": [],
   "source": [
    "cyc_cols = tibble::deframe(cyc_fracs)"
   ]
  },
  {
   "cell_type": "code",
   "execution_count": null,
   "id": "ec019e2f",
   "metadata": {},
   "outputs": [],
   "source": [
    "mc_id = \"mc2_noexe\"\n",
    "\n",
    "cex=2 \n",
    "text_cex=0.5\n",
    "\n",
    "md_mode=\"filter\"\n",
    "use_egc = T\n",
    "main=NULL\n",
    "cex.main=1\n",
    "xlim=NULL\n",
    "ylim=NULL\n",
    "e_gc_eps = 1e-5\n",
    "md = NULL\n",
    "md_regexp = NULL\n",
    "md_field = NULL\n",
    "\n",
    "mc = scdb_mc(mc_id)\n",
    "mc_colors = mc@colors\n",
    "if(use_egc) {\n",
    "    lfp = log2(mc@e_gc+e_gc_eps)\n",
    "} else {\n",
    "    lfp = log2(mc@mc_fp)\n",
    "}\n",
    "mc_outlines = \"black\"\n",
    "lwd=0.5\n",
    "mc_filt = rep(T, ncol(lfp))\n",
    "\n",
    "plot(colMeans(lfp[mg,mc_filt]), colMeans(lfp[sg,mc_filt]), cex=cex, pch=21, bg=cyc_cols[mc_filt], col=mc_outlines, lwd=lwd, xlim=xlim, ylim=ylim, main=main, cex.main=cex.main)"
   ]
  },
  {
   "cell_type": "code",
   "execution_count": null,
   "id": "baf56726",
   "metadata": {},
   "outputs": [],
   "source": [
    "mat = scdb_mat(\"embs85_noexe\")\n",
    "md = mat@cell_metadata"
   ]
  },
  {
   "cell_type": "code",
   "execution_count": null,
   "id": "56cd939b",
   "metadata": {},
   "outputs": [],
   "source": [
    "# groups = read.table(\"embs_grouping.txt\", sep=\"\\t\", header = T)\n",
    "groups = read.table(\"embs_grouping16.txt\", sep=\"\\t\", header = T)\n",
    "cyc_bool = data.frame(do.call('rbind', strsplit(as.character(cyc),'.',fixed=TRUE))) %>% rename(plate=X1, cell_short=X2)\n",
    "cyc_bool$cycling = TRUE\n",
    "mc_col = mc@colors\n",
    "names(mc_col) = mc@annots\n",
    "cell_mc_cols <- tibble::enframe(mc@mc) %>% rename(cell=name, mc_id=value) %>% left_join(\n",
    "    tibble::enframe(mc_col) %>% rename(mc_id=name, color=value) %>% mutate(mc_id = as.numeric(mc_id)), on=mc_id)\n",
    "cell_mc_cols$cell_short <- (\n",
    "    data.frame(do.call('rbind', strsplit(as.character(cell_mc_cols$cell),'.',fixed=TRUE))) %>% rename(plate=X1, cell=X2)\n",
    ")$cell\n",
    "mat@cell_metadata$Well_ID <- (data.frame(do.call('rbind', strsplit(as.character(rownames(mat@cell_metadata)),'.',fixed=TRUE))) %>% rename(plate=X1, cell=X2))$cell\n",
    "cell_emb_groups = mat@cell_metadata %>% left_join(groups, on=Embryo) %>% rename(cell_short=Well_ID)\n",
    "cells_md <- cell_mc_cols %>% left_join(cell_emb_groups, on=cell_short) %>% rename(group=chunk) %>% left_join(cyc_bool, on=cell_short)\n",
    "cells_md <- cell_mc_cols %>% left_join(cell_emb_groups, on=cell_short) %>% rename(group=chunk) %>% left_join(cyc_bool, on=cell_short)\n",
    "group_cyc <-cells_md %>% group_by(group, color) %>% summarise(ncells=n(), cyc = 1-sum(cycling, na.rm=TRUE)/n()) %>% filter(group>0) %>% filter(ncells>10)\n",
    "cell_time = cells_md$group\n",
    "names(cell_time) = cells_md$cell"
   ]
  },
  {
   "cell_type": "code",
   "execution_count": null,
   "id": "6c25cf1c",
   "metadata": {},
   "outputs": [],
   "source": [
    "# 20\n",
    "plot(group_cyc$group+as.numeric(as.factor(group_cyc$color))*0.1, 1-group_cyc$cyc, pch=19, cex=2, col=group_cyc$color)"
   ]
  },
  {
   "cell_type": "code",
   "execution_count": null,
   "id": "936f9cc7",
   "metadata": {},
   "outputs": [],
   "source": [
    "# 16\n",
    "plot(group_cyc$group+as.numeric(as.factor(group_cyc$color))*0.1, 1-group_cyc$cyc, pch=19, cex=2, col=group_cyc$color)"
   ]
  },
  {
   "cell_type": "code",
   "execution_count": null,
   "id": "20e6dbe9",
   "metadata": {
    "scrolled": false
   },
   "outputs": [],
   "source": [
    "cells_md[cells_md$color==\"grey\",]"
   ]
  },
  {
   "cell_type": "code",
   "execution_count": null,
   "id": "fe62d858",
   "metadata": {},
   "outputs": [],
   "source": []
  }
 ],
 "metadata": {
  "kernelspec": {
   "display_name": "R",
   "language": "R",
   "name": "ir"
  },
  "language_info": {
   "codemirror_mode": "r",
   "file_extension": ".r",
   "mimetype": "text/x-r-source",
   "name": "R",
   "pygments_lexer": "r",
   "version": "4.0.5"
  },
  "latex_envs": {
   "LaTeX_envs_menu_present": true,
   "autoclose": false,
   "autocomplete": true,
   "bibliofile": "biblio.bib",
   "cite_by": "apalike",
   "current_citInitial": 1,
   "eqLabelWithNumbers": true,
   "eqNumInitial": 0,
   "hotkeys": {
    "equation": "Ctrl-E",
    "itemize": "Ctrl-I"
   },
   "labels_anchors": false,
   "latex_user_defs": false,
   "report_style_numbering": false,
   "user_envs_cfg": false
  }
 },
 "nbformat": 4,
 "nbformat_minor": 5
}
