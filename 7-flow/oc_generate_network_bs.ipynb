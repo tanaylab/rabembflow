{
 "cells": [
  {
   "cell_type": "code",
   "execution_count": 1,
   "id": "64484b82",
   "metadata": {
    "ExecuteTime": {
     "end_time": "2023-03-07T09:21:05.182180Z",
     "start_time": "2023-03-07T09:21:01.065Z"
    }
   },
   "outputs": [
    {
     "name": "stderr",
     "output_type": "stream",
     "text": [
      "Loading required package: usethis\n",
      "\n",
      "\u001b[36mi\u001b[39m Loading \u001b[34m\u001b[34mmetacell.flow\u001b[34m\u001b[39m\n",
      "\n",
      "initializing scdb to output/scrna_db/\n",
      "\n"
     ]
    }
   ],
   "source": [
    "library(devtools)\n",
    "library(metacell)\n",
    "load_all(\"../metacell.flow/\")\n",
    "scdb_init(\"output/scrna_db/\",force_reinit = T)\n",
    "scfigs_init(\"figs\")\n",
    "scdb_flow_init()"
   ]
  },
  {
   "cell_type": "code",
   "execution_count": 2,
   "id": "39df7c90",
   "metadata": {
    "ExecuteTime": {
     "end_time": "2023-03-07T09:21:05.247442Z",
     "start_time": "2023-03-07T09:21:02.280Z"
    }
   },
   "outputs": [],
   "source": [
    "mat_id = \"oc_emb\"\n",
    "mc_id = \"oc_emb\"\n",
    "feat_gset = \"oc_emb\"\n",
    "mgraph_id = \"oc_emb_hc\""
   ]
  },
  {
   "cell_type": "code",
   "execution_count": 3,
   "id": "4d75e805",
   "metadata": {
    "ExecuteTime": {
     "end_time": "2023-03-07T09:21:41.814289Z",
     "start_time": "2023-03-07T09:21:03.089Z"
    }
   },
   "outputs": [],
   "source": [
    "mat = scdb_mat(mat_id)\n",
    "mc = scdb_mc(mc_id)\n",
    "md = mat@cell_metadata\n",
    "mgraph = scdb_mgraph(mgraph_id)"
   ]
  },
  {
   "cell_type": "code",
   "execution_count": 4,
   "id": "95a5e0e8",
   "metadata": {
    "ExecuteTime": {
     "end_time": "2023-03-07T09:21:43.761794Z",
     "start_time": "2023-03-07T09:21:03.439Z"
    }
   },
   "outputs": [],
   "source": [
    "# md[is.na(md$embryo),]$embryo = 'empty'\n",
    "md[md$embryo=='Rab5_e6_Anterior',]$embryo = \"Rab5_e6\"\n",
    "md[md$embryo=='Rab5_e6_Posterior',]$embryo = \"Rab5_e6\"\n",
    "\n",
    "md[md$embryo=='Rab8_e6_Anterior',]$embryo = \"Rab8_e6\"\n",
    "md[md$embryo=='Rab8_e6_Posterior',]$embryo = \"Rab8_e6\"\n",
    "md[md$embryo=='Rab8_e6_Trunk',]$embryo = \"Rab8_e6\"\n",
    "\n",
    "md[md$embryo=='0824e4_anterior',]$embryo = \"0824e4\"\n",
    "md[md$embryo=='0824e4_posterior',]$embryo = \"0824e4\"\n",
    "md[md$embryo=='0824e4_middle',]$embryo = \"0824e4\"\n",
    "\n",
    "md[md$embryo=='Rab15_e1_head',]$embryo = \"Rab15_e1\"\n",
    "md[md$embryo=='Rab15_e1_midAnt',]$embryo = \"Rab15_e1\"\n",
    "md[md$embryo=='Rab15_e1_midPost',]$embryo = \"Rab15_e1\"\n",
    "md[md$embryo=='Rab15_e1_tail',]$embryo = \"Rab15_e1\""
   ]
  },
  {
   "cell_type": "code",
   "execution_count": 5,
   "id": "4a97af59",
   "metadata": {
    "ExecuteTime": {
     "end_time": "2023-03-07T09:21:44.116339Z",
     "start_time": "2023-03-07T09:21:06.650Z"
    }
   },
   "outputs": [
    {
     "name": "stderr",
     "output_type": "stream",
     "text": [
      "\u001b[1m\u001b[22mJoining, by = \"mc_id\"\n"
     ]
    }
   ],
   "source": [
    "# groups = read.table(\"embs_grouping.txt\", sep=\"\\t\", header = T)\n",
    "groups = read.table(\"oc_embs_grouping.txt\", sep=\"\\t\", header = T)\n",
    "#groups = groups[2:108,]\n",
    "mc_col = mc@colors\n",
    "names(mc_col) = mc@annots\n",
    "cell_mc_cols <- tibble::enframe(mc@mc) %>% rename(cell=name, mc_id=value) %>% left_join(\n",
    "    tibble::enframe(mc_col) %>% rename(mc_id=name, color=value) %>% mutate(mc_id = as.numeric(mc_id)), on=mc_id)\n",
    "cell_mc_cols$cell_short <- (\n",
    "    data.frame(do.call('rbind', strsplit(as.character(cell_mc_cols$cell),'.',fixed=TRUE))) %>% rename(plate=X1, cell=X2)\n",
    ")$cell\n",
    "md$Well_ID <- (data.frame(do.call('rbind', strsplit(as.character(rownames(mat@cell_metadata)),'.',fixed=TRUE))) %>% rename(plate=X1, cell=X2))$cell"
   ]
  },
  {
   "cell_type": "code",
   "execution_count": 6,
   "id": "b2c0f194",
   "metadata": {
    "ExecuteTime": {
     "end_time": "2023-03-07T09:21:44.786951Z",
     "start_time": "2023-03-07T09:21:08.048Z"
    }
   },
   "outputs": [
    {
     "data": {
      "text/html": [
       "<style>\n",
       ".list-inline {list-style: none; margin:0; padding: 0}\n",
       ".list-inline>li {display: inline-block}\n",
       ".list-inline>li:not(:last-child)::after {content: \"\\00b7\"; padding: 0 .5ex}\n",
       "</style>\n",
       "<ol class=list-inline><li>'cell'</li><li>'chunk'</li></ol>\n"
      ],
      "text/latex": [
       "\\begin{enumerate*}\n",
       "\\item 'cell'\n",
       "\\item 'chunk'\n",
       "\\end{enumerate*}\n"
      ],
      "text/markdown": [
       "1. 'cell'\n",
       "2. 'chunk'\n",
       "\n",
       "\n"
      ],
      "text/plain": [
       "[1] \"cell\"  \"chunk\""
      ]
     },
     "metadata": {},
     "output_type": "display_data"
    }
   ],
   "source": [
    "cell_emb_groups = md %>% left_join(groups, by = 'embryo') %>% rename(cell_short=Well_ID)\n",
    "rownames(cell_emb_groups) = rownames(md)\n",
    "cells_md <- cell_mc_cols %>% left_join(cell_emb_groups, by=\"cell_short\") %>% rename(group=chunk.y)\n",
    "time_age_groups = unique(groups$gt)\n",
    "names(time_age_groups) = names(table(cells_md$group))\n",
    "groups_times = tibble::enframe(time_age_groups) %>% rename(group=name, gt=value)\n",
    "cells_md$group = as.character(cells_md$group)\n",
    "cells_md = cells_md %>% left_join(groups_times, by=\"group\")\n",
    "cells_md = as.data.frame(cells_md)\n",
    "rownames(cells_md) = cells_md$cell.x\n",
    "cell_time = cells_md[names(mc@mc),\"gt.y\"]\n",
    "names(cell_time) = names(mc@mc)\n",
    "new_df = table(cells_md[names(mc@mc), \"gt.y\"], mc@mc)\n",
    "new_df = cbind(rep(\"gt\", nrow(new_df)), new_df)\n",
    "setdiff(colnames(mat@cell_metadata), colnames(cells_md))"
   ]
  },
  {
   "cell_type": "code",
   "execution_count": 7,
   "id": "5cae7e95",
   "metadata": {
    "ExecuteTime": {
     "end_time": "2023-03-07T09:21:44.800685Z",
     "start_time": "2023-03-07T09:21:08.423Z"
    }
   },
   "outputs": [],
   "source": [
    "oc_color_ord = c( \n",
    "'#FACB12', #PGC\n",
    "'#f7f79e', #Surface ectoderm\n",
    "'#CDE087', #Floor plate\n",
    "'#C3C388', #Neural crest\n",
    "'#879E86', #Neural plate boundary\n",
    "'#CDE088', #Neural tube\n",
    "'#647A4F', #Forebrain/Midbrain/Hindbrain\n",
    "'#354E23', #Caudal neurectoderm\n",
    "'#649146', #rostral neurectoderm\n",
    "'#90BF75', #Ectoderm - Definitive\n",
    "'#635547', #epiblast\n",
    "'#DABE99', #Primitive streak\n",
    "'#9e6762', #caudal epiblast\n",
    "'#E2F700', #Median TFAP\n",
    "'#C594BF', #nascent mesoderm\n",
    "'#1a3f52', #caudal mesoderm\n",
    "'#45d1c5', #Lateral & intermediate mesoderm\n",
    "'#408DA1', #Paraxial Mesoderm\n",
    "'#A8DBF7', #Presomitic mesoderm\n",
    "'#1AA2EB', #Somitic mesoderm\n",
    "'#8DB5CE', #rostral mesoderm\n",
    "'#53f1fc', #Cardiopharyngeal mesoderm\n",
    "'#B51D8D', #Caridac\n",
    "'#B6A8ED', #Nascent mesoderm - extraembryonic\n",
    "'#8870ad', #ExE mesoderm\n",
    "'#cc7818', #Amnion\n",
    "'#532C8A', #Allantois\n",
    "'#A69369', #chorionic mesothelium\n",
    "'#966F1B', #Endothelial2\n",
    "'#ff891c', #Endothelial\n",
    "'#FBBE92', #Hematoendothelial\n",
    "'#c9a997', #Blood progenitors\n",
    "'#C72228', #Erythroid1\n",
    "'#FF5608', #Erythroid2\n",
    "'#c19f70', #Anterior primitive streak\n",
    "'#6666ED', #Node\n",
    "'#0F4A9C', #notochord\n",
    "'#F397C0', #definitive endoderm\n",
    "'#EF5A9E', #Gut\n",
    "'#EF5A9D', #Foregut\n",
    "'#F25CD4' #Hindgut\n",
    ")"
   ]
  },
  {
   "cell_type": "code",
   "execution_count": 8,
   "id": "2199dbcd",
   "metadata": {
    "ExecuteTime": {
     "end_time": "2023-03-07T09:21:44.815555Z",
     "start_time": "2023-03-07T09:21:10.320Z"
    }
   },
   "outputs": [
    {
     "data": {
      "text/html": [
       "83496"
      ],
      "text/latex": [
       "83496"
      ],
      "text/markdown": [
       "83496"
      ],
      "text/plain": [
       "[1] 83496"
      ]
     },
     "metadata": {},
     "output_type": "display_data"
    }
   ],
   "source": [
    "length(cells_md$embryo)"
   ]
  },
  {
   "cell_type": "code",
   "execution_count": 9,
   "id": "8eeb94ec",
   "metadata": {
    "ExecuteTime": {
     "end_time": "2023-03-07T09:21:44.828634Z",
     "start_time": "2023-03-07T09:21:10.567Z"
    }
   },
   "outputs": [],
   "source": [
    "embryos = unique(cells_md$embryo)"
   ]
  },
  {
   "cell_type": "code",
   "execution_count": 15,
   "id": "d19a050f",
   "metadata": {
    "ExecuteTime": {
     "end_time": "2023-02-21T23:55:28.181981Z",
     "start_time": "2023-02-21T20:58:13.344Z"
    }
   },
   "outputs": [],
   "source": [
    "for(i in 50:108){\n",
    "    embryo_out = embryos[i]\n",
    "    cell_time_f = cell_time[!is.na(cell_time)]\n",
    "    f = !(cells_md[names(cell_time_f),\"embryo\"] %in% embryo_out)\n",
    "    cell_time_f = cell_time_f[f]\n",
    "#     mc_t = table(mc@mc,cell_time_f[names(mc@mc)])\n",
    "#     mc_t = t(t(mc_t)/colSums(mc_t))\n",
    "    \n",
    "    mcell_mctnet_from_mgraph(\n",
    "        net_id = paste0(\"bs\", i, \"_oc_embflow_r\"),\n",
    "        capacity_var_factor = cap_var_factor,\n",
    "        mgraph_id = mgraph_id,\n",
    "        cell_time = cell_time_f,\n",
    "        mc_proliferation_rate_fn = \"prolif_test1.tsv\",\n",
    "        time_age_groups = time_age_groups,\n",
    "        off_capacity_cost1 = 1,\n",
    "        off_capacity_cost2 = 5000\n",
    "    )\n",
    "#     net_id = \"oc_embflow_testbs3\"\n",
    "#     mct = scdb_mctnetwork(net_id)\n",
    "#     mct@mc_t = as.matrix(as.data.frame.matrix(mc_t))\n",
    "#     scdb_add_mctnetwork(id = paste0(\"bs\", i, \"_oc_embflow\"), mctnetwork = mct)\n",
    "}"
   ]
  },
  {
   "cell_type": "code",
   "execution_count": null,
   "id": "2340f584",
   "metadata": {
    "ExecuteTime": {
     "end_time": "2023-02-20T11:56:02.809797Z",
     "start_time": "2023-02-20T11:56:01.442Z"
    }
   },
   "outputs": [],
   "source": [
    "# max(mc@mc)\n",
    "# mc_t = table(mc@mc,cell_time_f[names(mc@mc)])\n",
    "# mc_t = t(t(mc_t)/colSums(mc_t))\n",
    "nrow(mc_t)\n",
    "\n",
    "ct_ag_init = tgs_matrix_tapply(as.matrix(as.data.frame.matrix(t(mc_t))),mc@colors,sum)\n",
    "ct_ag_init = ct_ag_init[oc_color_ord,]\n",
    "barplot(ct_ag_init,col = rownames(ct_ag_init))"
   ]
  },
  {
   "cell_type": "code",
   "execution_count": 10,
   "id": "427b07da",
   "metadata": {
    "ExecuteTime": {
     "end_time": "2023-02-21T20:57:56.332671Z",
     "start_time": "2023-02-21T20:57:56.020Z"
    }
   },
   "outputs": [],
   "source": [
    "prof = read.table('prolif_test1.tsv', header = T)"
   ]
  },
  {
   "cell_type": "code",
   "execution_count": 11,
   "id": "982b35c2",
   "metadata": {
    "ExecuteTime": {
     "end_time": "2023-02-21T20:58:02.350763Z",
     "start_time": "2023-02-21T20:58:02.041Z"
    }
   },
   "outputs": [],
   "source": [
    "prof$color = mc@colors[prof$mc]"
   ]
  },
  {
   "cell_type": "code",
   "execution_count": 12,
   "id": "8de7fda6",
   "metadata": {
    "ExecuteTime": {
     "end_time": "2023-02-21T20:58:03.520793Z",
     "start_time": "2023-02-21T20:58:03.150Z"
    }
   },
   "outputs": [],
   "source": [
    "mcts = cells_md %>% group_by(mc_id)  %>% summarise(mct = mean(gt.x, na.rm = T))"
   ]
  },
  {
   "cell_type": "code",
   "execution_count": 13,
   "id": "83b685b7",
   "metadata": {
    "ExecuteTime": {
     "end_time": "2023-02-21T20:58:04.301182Z",
     "start_time": "2023-02-21T20:58:03.977Z"
    }
   },
   "outputs": [],
   "source": [
    "prof = prof %>% left_join(mcts %>% rename(mc = mc_id), by='mc')"
   ]
  },
  {
   "cell_type": "code",
   "execution_count": null,
   "id": "7cb474ca",
   "metadata": {
    "ExecuteTime": {
     "end_time": "2023-02-20T10:58:31.582686Z",
     "start_time": "2023-02-20T10:58:31.201Z"
    }
   },
   "outputs": [],
   "source": [
    "net_id = \"oc_embflow_testbs3\""
   ]
  },
  {
   "cell_type": "code",
   "execution_count": 14,
   "id": "a2ee54ac",
   "metadata": {
    "ExecuteTime": {
     "end_time": "2023-02-21T20:58:07.919399Z",
     "start_time": "2023-02-21T20:58:07.610Z"
    }
   },
   "outputs": [],
   "source": [
    "cap_var_factor = rep(0.25,ncol(mc@e_gc))"
   ]
  },
  {
   "cell_type": "code",
   "execution_count": null,
   "id": "12291f31",
   "metadata": {
    "ExecuteTime": {
     "end_time": "2023-02-20T10:47:21.486618Z",
     "start_time": "2023-02-20T10:47:21.094Z"
    }
   },
   "outputs": [],
   "source": [
    "length(cell_time[!is.na(cell_time)])"
   ]
  },
  {
   "cell_type": "code",
   "execution_count": null,
   "id": "afd3f6d1",
   "metadata": {
    "ExecuteTime": {
     "end_time": "2023-02-20T10:47:22.156003Z",
     "start_time": "2023-02-20T10:47:21.772Z"
    }
   },
   "outputs": [],
   "source": [
    "length(cell_time_f)"
   ]
  },
  {
   "cell_type": "code",
   "execution_count": null,
   "id": "03c72758",
   "metadata": {
    "ExecuteTime": {
     "end_time": "2023-02-20T10:51:17.420906Z",
     "start_time": "2023-02-20T10:48:04.987Z"
    }
   },
   "outputs": [],
   "source": [
    "# generating the network\n",
    "mcell_mctnet_from_mgraph(\n",
    "    net_id = net_id,\n",
    "    capacity_var_factor = cap_var_factor,\n",
    "    mgraph_id = mgraph_id,\n",
    "    cell_time = cell_time[!is.na(cell_time)],\n",
    "    mc_proliferation_rate_fn = \"prolif_test1.tsv\",\n",
    "    time_age_groups = time_age_groups,\n",
    "    off_capacity_cost1 = 1,\n",
    "    off_capacity_cost2 = 5000\n",
    ")"
   ]
  },
  {
   "cell_type": "code",
   "execution_count": null,
   "id": "880b2cdc",
   "metadata": {},
   "outputs": [],
   "source": [
    "mct = scdb_mctnetwork(net_id)\n",
    "mct@mc_t = mc_t\n",
    "scdb_add_mctnetwork(net_id = net_id,mct = mct)"
   ]
  },
  {
   "cell_type": "code",
   "execution_count": null,
   "id": "1d6645c9",
   "metadata": {
    "ExecuteTime": {
     "start_time": "2023-02-20T10:58:53.408Z"
    }
   },
   "outputs": [],
   "source": [
    "flow_id = \"oc_embflow_testbs3\"\n",
    "fig_dir = \"figs/\"\n",
    "net_id = \"oc_embflow_testbs3\"\n",
    "\n",
    "flow_tolerance = 0.02\n",
    "\n",
    "message(\"generate flows\")\n",
    "\n",
    "mcell_new_mctnetflow(flow_id, net_id, \n",
    "                     init_mincost = T, flow_tolerance= flow_tolerance)\n",
    "\n",
    "message(\"solved network flow problem\")\n",
    "\n",
    "mcf = scdb_mctnetflow(flow_id)"
   ]
  },
  {
   "cell_type": "code",
   "execution_count": null,
   "id": "d149ebe2",
   "metadata": {
    "ExecuteTime": {
     "start_time": "2023-02-20T09:39:59.029Z"
    }
   },
   "outputs": [],
   "source": [
    "#compute propagatation forward and background\n",
    "mcf = mctnetflow_comp_propagation(mcf)\n",
    "\n",
    "#adding back the object with the network and flows\n",
    "scdb_add_mctnetflow(flow_id, mcf)"
   ]
  },
  {
   "cell_type": "code",
   "execution_count": 10,
   "id": "6e22afec",
   "metadata": {
    "ExecuteTime": {
     "end_time": "2023-03-07T09:21:44.842701Z",
     "start_time": "2023-03-07T09:21:18.040Z"
    }
   },
   "outputs": [],
   "source": [
    "# mctnetwork_get_flow_mat = function(mct, mcf, time, max_time=time)\n",
    "# {\n",
    "# \tnet = mct@network\n",
    "#     net$flow = mcf@edge_flows\n",
    "# \tif(time == -2) {\n",
    "# \t\tf_t = net$type1 != \"growth\" & net$type2!=\"growth\" & net$type2 != \"sink\"\n",
    "# \t} else {\n",
    "# \t\tif(time == -1) {\n",
    "# \t\t\tf_t = net$type1 != \"growth\" & net$type2!=\"growth\" & net$type1 != \"source\" & net$type2 != \"sink\"\n",
    "# \t\t} else {\n",
    "# \t\t\tf_t = net$time1 == time & net$time2==time+1 &\n",
    "# \t\t\t\t\tnet$type1 != \"growth\" & net$type2!=\"growth\"\n",
    "# \t\t}\n",
    "# \t}\n",
    "\n",
    "# \tnet_t = net[f_t,] \n",
    "#    flow = as.data.frame(summarize(group_by(net_t, mc1, mc2),\n",
    "# \t\t\t\t\t\t\t\t\t\t\t\t\ttot_flow = sum(flow)))\n",
    "    \n",
    "#    mc_mat = pivot_wider(data = flow, \n",
    "# \t\t\t\tnames_from = mc2, \n",
    "# \t\t\t\tvalues_from = tot_flow,\n",
    "# \t\t\t\tvalues_fill = list(tot_flow = 0))\n",
    "\n",
    "#    mc_mat = as.data.frame(mc_mat)\n",
    "#    rownames(mc_mat) = mc_mat$mc1\n",
    "#    mc_mat = mc_mat[,-1]\n",
    "# \tmax_mc = ncol(mc_mat)\n",
    "# \tif(time == -2) {\n",
    "# \t\tmc_mat = mc_mat[as.character(c(-1, 1:max_mc)), as.character(1:max_mc)]\n",
    "# \t\tmc_mat = cbind(rep(0,nrow(mc_mat)), mc_mat)\n",
    "# \t} else {\n",
    "# \t\tmc_mat = mc_mat[as.character(1:max_mc), as.character(1:max_mc)]\n",
    "# \t}\n",
    "#    mc_mat = as.matrix(mc_mat)\n",
    "\n",
    "# \treturn(mc_mat)\n",
    "# }\n",
    "\n",
    "mctnetflow_get_type_flows = function(mct, mcf, time, max_time)\n",
    "{\n",
    "\tmctnet = mct\n",
    "    net = mct@network\n",
    "\tif(is.null(mcf@edge_flows)) {\n",
    "\t\tstop(\"trying to query uninitialized flows\")\n",
    "\t}\n",
    "\tnet$flow = mcf@edge_flows\n",
    "\tmc = scdb_mc(mctnet@mc_id)\n",
    "\n",
    "\tall_types = unique(mc@colors)\n",
    "\tmct_mats = list()\n",
    "\tfor(t in time:(max_time-1)) {\n",
    "\t\tf_t = net$time1 == t & net$time2 == t+1 &\n",
    "\t\t\t\t\tnet$type1 != \"growth\" & net$type2!=\"growth\"\n",
    "\n",
    "\t\tnet_t = net[f_t,] \n",
    "\t\tnet_t$mc_t1 = mc@colors[as.numeric(net_t$mc1)]\n",
    "\t\tnet_t$mc_t2 = mc@colors[as.numeric(net_t$mc2)]\n",
    "\t\tflow = as.data.frame(summarize(group_by(net_t, mc_t1, mc_t2),\n",
    "\t\t\t\t\t\t\t\t\t\t\t\t\ttot_flow = sum(flow)))\n",
    "    \n",
    "\t   mct_mat = pivot_wider(data = flow, \n",
    "\t\t\t\tnames_from = mc_t2, \n",
    "\t\t\t\tvalues_from = tot_flow,\n",
    "\t\t\t\tvalues_fill = list(tot_flow = 0))\n",
    "\n",
    "\t   mct_mat = as.data.frame(mct_mat)\n",
    "\t\trownames(mct_mat) = mct_mat$mc_t1\n",
    "\t   mct_mat = mct_mat[,-1]\n",
    "\t\tmax_mc = ncol(mct_mat)\n",
    "\t\tmct_mat = mct_mat[all_types, all_types]\n",
    "\t\tmct_mat = as.matrix(mct_mat)\n",
    "\t\tmct_mats[[t]] = mct_mat\n",
    "\t}\n",
    "\n",
    "\treturn(mct_mats)\n",
    "}"
   ]
  },
  {
   "cell_type": "code",
   "execution_count": 11,
   "id": "b880b853",
   "metadata": {
    "ExecuteTime": {
     "end_time": "2023-03-07T09:21:45.077830Z",
     "start_time": "2023-03-07T09:21:19.264Z"
    },
    "scrolled": true
   },
   "outputs": [],
   "source": [
    "epiblast_outs = data.frame()\n",
    "for(i in 1:108){\n",
    "    rows = fread(paste0(i, \".csv\"))\n",
    "    epiblast_outs = rbind(epiblast_outs, rows)\n",
    "}"
   ]
  },
  {
   "cell_type": "code",
   "execution_count": 12,
   "id": "4063f386",
   "metadata": {
    "ExecuteTime": {
     "end_time": "2023-03-07T09:21:45.183617Z",
     "start_time": "2023-03-07T09:21:19.505Z"
    }
   },
   "outputs": [
    {
     "data": {
      "text/html": [
       "<table class=\"dataframe\">\n",
       "<caption>A data.frame: 1188 × 6</caption>\n",
       "<thead>\n",
       "\t<tr><th scope=col>#90BF75</th><th scope=col>#DABE99</th><th scope=col>#c19f70</th><th scope=col>#E2F700</th><th scope=col>time</th><th scope=col>bsi</th></tr>\n",
       "\t<tr><th scope=col>&lt;dbl&gt;</th><th scope=col>&lt;dbl&gt;</th><th scope=col>&lt;dbl&gt;</th><th scope=col>&lt;dbl&gt;</th><th scope=col>&lt;int&gt;</th><th scope=col>&lt;int&gt;</th></tr>\n",
       "</thead>\n",
       "<tbody>\n",
       "\t<tr><td>2.424250e-03</td><td>0.0292297760</td><td>0.000000e+00</td><td>0.0002826943</td><td> 1</td><td>1</td></tr>\n",
       "\t<tr><td>3.510833e-03</td><td>0.1474740962</td><td>1.708251e-02</td><td>0.0260954164</td><td> 2</td><td>1</td></tr>\n",
       "\t<tr><td>6.533432e-03</td><td>0.2067095954</td><td>4.233915e-02</td><td>0.0409792271</td><td> 3</td><td>1</td></tr>\n",
       "\t<tr><td>1.280572e-02</td><td>0.1019335621</td><td>1.748498e-02</td><td>0.0094680401</td><td> 4</td><td>1</td></tr>\n",
       "\t<tr><td>2.051274e-02</td><td>0.0619358807</td><td>6.889816e-03</td><td>0.0067962663</td><td> 5</td><td>1</td></tr>\n",
       "\t<tr><td>3.272267e-02</td><td>0.0259640016</td><td>0.000000e+00</td><td>0.0070283119</td><td> 6</td><td>1</td></tr>\n",
       "\t<tr><td>4.170888e-02</td><td>0.0008941799</td><td>0.000000e+00</td><td>0.0021928978</td><td> 7</td><td>1</td></tr>\n",
       "\t<tr><td>9.823627e-03</td><td>0.0006950776</td><td>0.000000e+00</td><td>0.0000000000</td><td> 8</td><td>1</td></tr>\n",
       "\t<tr><td>1.535302e-03</td><td>0.0001146175</td><td>0.000000e+00</td><td>0.0000000000</td><td> 9</td><td>1</td></tr>\n",
       "\t<tr><td>2.488896e-04</td><td>0.0000000000</td><td>0.000000e+00</td><td>0.0001928453</td><td>10</td><td>1</td></tr>\n",
       "\t<tr><td>6.378178e-05</td><td>0.0000000000</td><td>0.000000e+00</td><td>0.0000000000</td><td>11</td><td>1</td></tr>\n",
       "\t<tr><td>2.424250e-03</td><td>0.0292297760</td><td>0.000000e+00</td><td>0.0002826943</td><td> 1</td><td>2</td></tr>\n",
       "\t<tr><td>3.510833e-03</td><td>0.1474740962</td><td>1.708251e-02</td><td>0.0260954164</td><td> 2</td><td>2</td></tr>\n",
       "\t<tr><td>6.794579e-03</td><td>0.2059130432</td><td>4.233915e-02</td><td>0.0409792271</td><td> 3</td><td>2</td></tr>\n",
       "\t<tr><td>1.258365e-02</td><td>0.1010450252</td><td>1.784019e-02</td><td>0.0095639903</td><td> 4</td><td>2</td></tr>\n",
       "\t<tr><td>2.073442e-02</td><td>0.0622667455</td><td>6.171755e-03</td><td>0.0064294393</td><td> 5</td><td>2</td></tr>\n",
       "\t<tr><td>3.290606e-02</td><td>0.0252416025</td><td>2.669302e-04</td><td>0.0066582223</td><td> 6</td><td>2</td></tr>\n",
       "\t<tr><td>4.122056e-02</td><td>0.0009788360</td><td>0.000000e+00</td><td>0.0027513348</td><td> 7</td><td>2</td></tr>\n",
       "\t<tr><td>9.983420e-03</td><td>0.0006278847</td><td>0.000000e+00</td><td>0.0000000000</td><td> 8</td><td>2</td></tr>\n",
       "\t<tr><td>1.445411e-03</td><td>0.0001736288</td><td>0.000000e+00</td><td>0.0000000000</td><td> 9</td><td>2</td></tr>\n",
       "\t<tr><td>2.488896e-04</td><td>0.0000000000</td><td>0.000000e+00</td><td>0.0001928453</td><td>10</td><td>2</td></tr>\n",
       "\t<tr><td>6.378178e-05</td><td>0.0000000000</td><td>0.000000e+00</td><td>0.0000000000</td><td>11</td><td>2</td></tr>\n",
       "\t<tr><td>2.424250e-03</td><td>0.0292297760</td><td>0.000000e+00</td><td>0.0002826943</td><td> 1</td><td>3</td></tr>\n",
       "\t<tr><td>3.510833e-03</td><td>0.1474740962</td><td>1.708251e-02</td><td>0.0260954164</td><td> 2</td><td>3</td></tr>\n",
       "\t<tr><td>6.617660e-03</td><td>0.2065744946</td><td>4.233915e-02</td><td>0.0409792271</td><td> 3</td><td>3</td></tr>\n",
       "\t<tr><td>1.285658e-02</td><td>0.1013321458</td><td>1.769066e-02</td><td>0.0095303460</td><td> 4</td><td>3</td></tr>\n",
       "\t<tr><td>2.024912e-02</td><td>0.0622985816</td><td>6.877170e-03</td><td>0.0062997014</td><td> 5</td><td>3</td></tr>\n",
       "\t<tr><td>3.259326e-02</td><td>0.0255813504</td><td>1.876132e-06</td><td>0.0069443785</td><td> 6</td><td>3</td></tr>\n",
       "\t<tr><td>4.171578e-02</td><td>0.0008941799</td><td>0.000000e+00</td><td>0.0023625816</td><td> 7</td><td>3</td></tr>\n",
       "\t<tr><td>9.709593e-03</td><td>0.0006924851</td><td>0.000000e+00</td><td>0.0000000000</td><td> 8</td><td>3</td></tr>\n",
       "\t<tr><td>⋮</td><td>⋮</td><td>⋮</td><td>⋮</td><td>⋮</td><td>⋮</td></tr>\n",
       "\t<tr><td>1.283935e-02</td><td>1.016776e-01</td><td>0.0177003891</td><td>0.0094919249</td><td> 4</td><td>106</td></tr>\n",
       "\t<tr><td>1.998209e-02</td><td>6.268001e-02</td><td>0.0062660692</td><td>0.0064716117</td><td> 5</td><td>106</td></tr>\n",
       "\t<tr><td>3.318526e-02</td><td>2.578793e-02</td><td>0.0001570321</td><td>0.0065557661</td><td> 6</td><td>106</td></tr>\n",
       "\t<tr><td>4.158092e-02</td><td>8.941799e-04</td><td>0.0000000000</td><td>0.0023362709</td><td> 7</td><td>106</td></tr>\n",
       "\t<tr><td>9.955157e-03</td><td>6.924851e-04</td><td>0.0000000000</td><td>0.0000000000</td><td> 8</td><td>106</td></tr>\n",
       "\t<tr><td>1.523602e-03</td><td>5.901128e-05</td><td>0.0000000000</td><td>0.0000000000</td><td> 9</td><td>106</td></tr>\n",
       "\t<tr><td>2.488896e-04</td><td>0.000000e+00</td><td>0.0000000000</td><td>0.0001936350</td><td>10</td><td>106</td></tr>\n",
       "\t<tr><td>7.864719e-05</td><td>0.000000e+00</td><td>0.0000000000</td><td>0.0000000000</td><td>11</td><td>106</td></tr>\n",
       "\t<tr><td>2.424250e-03</td><td>2.922978e-02</td><td>0.0000000000</td><td>0.0002826943</td><td> 1</td><td>107</td></tr>\n",
       "\t<tr><td>3.510833e-03</td><td>1.474741e-01</td><td>0.0170825082</td><td>0.0260954164</td><td> 2</td><td>107</td></tr>\n",
       "\t<tr><td>6.710294e-03</td><td>2.062369e-01</td><td>0.0423391528</td><td>0.0409792271</td><td> 3</td><td>107</td></tr>\n",
       "\t<tr><td>1.266115e-02</td><td>1.017451e-01</td><td>0.0178104333</td><td>0.0094389126</td><td> 4</td><td>107</td></tr>\n",
       "\t<tr><td>2.031941e-02</td><td>6.214552e-02</td><td>0.0063186686</td><td>0.0065071204</td><td> 5</td><td>107</td></tr>\n",
       "\t<tr><td>3.313477e-02</td><td>2.580413e-02</td><td>0.0001386670</td><td>0.0065278843</td><td> 6</td><td>107</td></tr>\n",
       "\t<tr><td>4.103574e-02</td><td>8.941799e-04</td><td>0.0000000000</td><td>0.0023860820</td><td> 7</td><td>107</td></tr>\n",
       "\t<tr><td>1.006719e-02</td><td>7.155942e-04</td><td>0.0000000000</td><td>0.0000000000</td><td> 8</td><td>107</td></tr>\n",
       "\t<tr><td>1.585413e-03</td><td>0.000000e+00</td><td>0.0000000000</td><td>0.0000000000</td><td> 9</td><td>107</td></tr>\n",
       "\t<tr><td>2.592056e-04</td><td>0.000000e+00</td><td>0.0000000000</td><td>0.0001936350</td><td>10</td><td>107</td></tr>\n",
       "\t<tr><td>7.854503e-05</td><td>0.000000e+00</td><td>0.0000000000</td><td>0.0000000000</td><td>11</td><td>107</td></tr>\n",
       "\t<tr><td>2.424250e-03</td><td>2.922978e-02</td><td>0.0000000000</td><td>0.0002826943</td><td> 1</td><td>108</td></tr>\n",
       "\t<tr><td>3.510833e-03</td><td>1.474741e-01</td><td>0.0170825082</td><td>0.0260954164</td><td> 2</td><td>108</td></tr>\n",
       "\t<tr><td>6.773276e-03</td><td>2.061789e-01</td><td>0.0423391528</td><td>0.0409792271</td><td> 3</td><td>108</td></tr>\n",
       "\t<tr><td>1.263671e-02</td><td>1.017114e-01</td><td>0.0178104333</td><td>0.0094910359</td><td> 4</td><td>108</td></tr>\n",
       "\t<tr><td>2.037248e-02</td><td>6.200917e-02</td><td>0.0063710193</td><td>0.0065387643</td><td> 5</td><td>108</td></tr>\n",
       "\t<tr><td>3.313477e-02</td><td>2.569131e-02</td><td>0.0001386670</td><td>0.0065278843</td><td> 6</td><td>108</td></tr>\n",
       "\t<tr><td>4.112007e-02</td><td>8.941799e-04</td><td>0.0000000000</td><td>0.0023381711</td><td> 7</td><td>108</td></tr>\n",
       "\t<tr><td>1.003546e-02</td><td>7.073494e-04</td><td>0.0000000000</td><td>0.0000000000</td><td> 8</td><td>108</td></tr>\n",
       "\t<tr><td>1.595401e-03</td><td>2.358717e-05</td><td>0.0000000000</td><td>0.0000000000</td><td> 9</td><td>108</td></tr>\n",
       "\t<tr><td>2.488896e-04</td><td>0.000000e+00</td><td>0.0000000000</td><td>0.0001909342</td><td>10</td><td>108</td></tr>\n",
       "\t<tr><td>7.720239e-05</td><td>0.000000e+00</td><td>0.0000000000</td><td>0.0000000000</td><td>11</td><td>108</td></tr>\n",
       "</tbody>\n",
       "</table>\n"
      ],
      "text/latex": [
       "A data.frame: 1188 × 6\n",
       "\\begin{tabular}{llllll}\n",
       " \\#90BF75 & \\#DABE99 & \\#c19f70 & \\#E2F700 & time & bsi\\\\\n",
       " <dbl> & <dbl> & <dbl> & <dbl> & <int> & <int>\\\\\n",
       "\\hline\n",
       "\t 2.424250e-03 & 0.0292297760 & 0.000000e+00 & 0.0002826943 &  1 & 1\\\\\n",
       "\t 3.510833e-03 & 0.1474740962 & 1.708251e-02 & 0.0260954164 &  2 & 1\\\\\n",
       "\t 6.533432e-03 & 0.2067095954 & 4.233915e-02 & 0.0409792271 &  3 & 1\\\\\n",
       "\t 1.280572e-02 & 0.1019335621 & 1.748498e-02 & 0.0094680401 &  4 & 1\\\\\n",
       "\t 2.051274e-02 & 0.0619358807 & 6.889816e-03 & 0.0067962663 &  5 & 1\\\\\n",
       "\t 3.272267e-02 & 0.0259640016 & 0.000000e+00 & 0.0070283119 &  6 & 1\\\\\n",
       "\t 4.170888e-02 & 0.0008941799 & 0.000000e+00 & 0.0021928978 &  7 & 1\\\\\n",
       "\t 9.823627e-03 & 0.0006950776 & 0.000000e+00 & 0.0000000000 &  8 & 1\\\\\n",
       "\t 1.535302e-03 & 0.0001146175 & 0.000000e+00 & 0.0000000000 &  9 & 1\\\\\n",
       "\t 2.488896e-04 & 0.0000000000 & 0.000000e+00 & 0.0001928453 & 10 & 1\\\\\n",
       "\t 6.378178e-05 & 0.0000000000 & 0.000000e+00 & 0.0000000000 & 11 & 1\\\\\n",
       "\t 2.424250e-03 & 0.0292297760 & 0.000000e+00 & 0.0002826943 &  1 & 2\\\\\n",
       "\t 3.510833e-03 & 0.1474740962 & 1.708251e-02 & 0.0260954164 &  2 & 2\\\\\n",
       "\t 6.794579e-03 & 0.2059130432 & 4.233915e-02 & 0.0409792271 &  3 & 2\\\\\n",
       "\t 1.258365e-02 & 0.1010450252 & 1.784019e-02 & 0.0095639903 &  4 & 2\\\\\n",
       "\t 2.073442e-02 & 0.0622667455 & 6.171755e-03 & 0.0064294393 &  5 & 2\\\\\n",
       "\t 3.290606e-02 & 0.0252416025 & 2.669302e-04 & 0.0066582223 &  6 & 2\\\\\n",
       "\t 4.122056e-02 & 0.0009788360 & 0.000000e+00 & 0.0027513348 &  7 & 2\\\\\n",
       "\t 9.983420e-03 & 0.0006278847 & 0.000000e+00 & 0.0000000000 &  8 & 2\\\\\n",
       "\t 1.445411e-03 & 0.0001736288 & 0.000000e+00 & 0.0000000000 &  9 & 2\\\\\n",
       "\t 2.488896e-04 & 0.0000000000 & 0.000000e+00 & 0.0001928453 & 10 & 2\\\\\n",
       "\t 6.378178e-05 & 0.0000000000 & 0.000000e+00 & 0.0000000000 & 11 & 2\\\\\n",
       "\t 2.424250e-03 & 0.0292297760 & 0.000000e+00 & 0.0002826943 &  1 & 3\\\\\n",
       "\t 3.510833e-03 & 0.1474740962 & 1.708251e-02 & 0.0260954164 &  2 & 3\\\\\n",
       "\t 6.617660e-03 & 0.2065744946 & 4.233915e-02 & 0.0409792271 &  3 & 3\\\\\n",
       "\t 1.285658e-02 & 0.1013321458 & 1.769066e-02 & 0.0095303460 &  4 & 3\\\\\n",
       "\t 2.024912e-02 & 0.0622985816 & 6.877170e-03 & 0.0062997014 &  5 & 3\\\\\n",
       "\t 3.259326e-02 & 0.0255813504 & 1.876132e-06 & 0.0069443785 &  6 & 3\\\\\n",
       "\t 4.171578e-02 & 0.0008941799 & 0.000000e+00 & 0.0023625816 &  7 & 3\\\\\n",
       "\t 9.709593e-03 & 0.0006924851 & 0.000000e+00 & 0.0000000000 &  8 & 3\\\\\n",
       "\t ⋮ & ⋮ & ⋮ & ⋮ & ⋮ & ⋮\\\\\n",
       "\t 1.283935e-02 & 1.016776e-01 & 0.0177003891 & 0.0094919249 &  4 & 106\\\\\n",
       "\t 1.998209e-02 & 6.268001e-02 & 0.0062660692 & 0.0064716117 &  5 & 106\\\\\n",
       "\t 3.318526e-02 & 2.578793e-02 & 0.0001570321 & 0.0065557661 &  6 & 106\\\\\n",
       "\t 4.158092e-02 & 8.941799e-04 & 0.0000000000 & 0.0023362709 &  7 & 106\\\\\n",
       "\t 9.955157e-03 & 6.924851e-04 & 0.0000000000 & 0.0000000000 &  8 & 106\\\\\n",
       "\t 1.523602e-03 & 5.901128e-05 & 0.0000000000 & 0.0000000000 &  9 & 106\\\\\n",
       "\t 2.488896e-04 & 0.000000e+00 & 0.0000000000 & 0.0001936350 & 10 & 106\\\\\n",
       "\t 7.864719e-05 & 0.000000e+00 & 0.0000000000 & 0.0000000000 & 11 & 106\\\\\n",
       "\t 2.424250e-03 & 2.922978e-02 & 0.0000000000 & 0.0002826943 &  1 & 107\\\\\n",
       "\t 3.510833e-03 & 1.474741e-01 & 0.0170825082 & 0.0260954164 &  2 & 107\\\\\n",
       "\t 6.710294e-03 & 2.062369e-01 & 0.0423391528 & 0.0409792271 &  3 & 107\\\\\n",
       "\t 1.266115e-02 & 1.017451e-01 & 0.0178104333 & 0.0094389126 &  4 & 107\\\\\n",
       "\t 2.031941e-02 & 6.214552e-02 & 0.0063186686 & 0.0065071204 &  5 & 107\\\\\n",
       "\t 3.313477e-02 & 2.580413e-02 & 0.0001386670 & 0.0065278843 &  6 & 107\\\\\n",
       "\t 4.103574e-02 & 8.941799e-04 & 0.0000000000 & 0.0023860820 &  7 & 107\\\\\n",
       "\t 1.006719e-02 & 7.155942e-04 & 0.0000000000 & 0.0000000000 &  8 & 107\\\\\n",
       "\t 1.585413e-03 & 0.000000e+00 & 0.0000000000 & 0.0000000000 &  9 & 107\\\\\n",
       "\t 2.592056e-04 & 0.000000e+00 & 0.0000000000 & 0.0001936350 & 10 & 107\\\\\n",
       "\t 7.854503e-05 & 0.000000e+00 & 0.0000000000 & 0.0000000000 & 11 & 107\\\\\n",
       "\t 2.424250e-03 & 2.922978e-02 & 0.0000000000 & 0.0002826943 &  1 & 108\\\\\n",
       "\t 3.510833e-03 & 1.474741e-01 & 0.0170825082 & 0.0260954164 &  2 & 108\\\\\n",
       "\t 6.773276e-03 & 2.061789e-01 & 0.0423391528 & 0.0409792271 &  3 & 108\\\\\n",
       "\t 1.263671e-02 & 1.017114e-01 & 0.0178104333 & 0.0094910359 &  4 & 108\\\\\n",
       "\t 2.037248e-02 & 6.200917e-02 & 0.0063710193 & 0.0065387643 &  5 & 108\\\\\n",
       "\t 3.313477e-02 & 2.569131e-02 & 0.0001386670 & 0.0065278843 &  6 & 108\\\\\n",
       "\t 4.112007e-02 & 8.941799e-04 & 0.0000000000 & 0.0023381711 &  7 & 108\\\\\n",
       "\t 1.003546e-02 & 7.073494e-04 & 0.0000000000 & 0.0000000000 &  8 & 108\\\\\n",
       "\t 1.595401e-03 & 2.358717e-05 & 0.0000000000 & 0.0000000000 &  9 & 108\\\\\n",
       "\t 2.488896e-04 & 0.000000e+00 & 0.0000000000 & 0.0001909342 & 10 & 108\\\\\n",
       "\t 7.720239e-05 & 0.000000e+00 & 0.0000000000 & 0.0000000000 & 11 & 108\\\\\n",
       "\\end{tabular}\n"
      ],
      "text/markdown": [
       "\n",
       "A data.frame: 1188 × 6\n",
       "\n",
       "| #90BF75 &lt;dbl&gt; | #DABE99 &lt;dbl&gt; | #c19f70 &lt;dbl&gt; | #E2F700 &lt;dbl&gt; | time &lt;int&gt; | bsi &lt;int&gt; |\n",
       "|---|---|---|---|---|---|\n",
       "| 2.424250e-03 | 0.0292297760 | 0.000000e+00 | 0.0002826943 |  1 | 1 |\n",
       "| 3.510833e-03 | 0.1474740962 | 1.708251e-02 | 0.0260954164 |  2 | 1 |\n",
       "| 6.533432e-03 | 0.2067095954 | 4.233915e-02 | 0.0409792271 |  3 | 1 |\n",
       "| 1.280572e-02 | 0.1019335621 | 1.748498e-02 | 0.0094680401 |  4 | 1 |\n",
       "| 2.051274e-02 | 0.0619358807 | 6.889816e-03 | 0.0067962663 |  5 | 1 |\n",
       "| 3.272267e-02 | 0.0259640016 | 0.000000e+00 | 0.0070283119 |  6 | 1 |\n",
       "| 4.170888e-02 | 0.0008941799 | 0.000000e+00 | 0.0021928978 |  7 | 1 |\n",
       "| 9.823627e-03 | 0.0006950776 | 0.000000e+00 | 0.0000000000 |  8 | 1 |\n",
       "| 1.535302e-03 | 0.0001146175 | 0.000000e+00 | 0.0000000000 |  9 | 1 |\n",
       "| 2.488896e-04 | 0.0000000000 | 0.000000e+00 | 0.0001928453 | 10 | 1 |\n",
       "| 6.378178e-05 | 0.0000000000 | 0.000000e+00 | 0.0000000000 | 11 | 1 |\n",
       "| 2.424250e-03 | 0.0292297760 | 0.000000e+00 | 0.0002826943 |  1 | 2 |\n",
       "| 3.510833e-03 | 0.1474740962 | 1.708251e-02 | 0.0260954164 |  2 | 2 |\n",
       "| 6.794579e-03 | 0.2059130432 | 4.233915e-02 | 0.0409792271 |  3 | 2 |\n",
       "| 1.258365e-02 | 0.1010450252 | 1.784019e-02 | 0.0095639903 |  4 | 2 |\n",
       "| 2.073442e-02 | 0.0622667455 | 6.171755e-03 | 0.0064294393 |  5 | 2 |\n",
       "| 3.290606e-02 | 0.0252416025 | 2.669302e-04 | 0.0066582223 |  6 | 2 |\n",
       "| 4.122056e-02 | 0.0009788360 | 0.000000e+00 | 0.0027513348 |  7 | 2 |\n",
       "| 9.983420e-03 | 0.0006278847 | 0.000000e+00 | 0.0000000000 |  8 | 2 |\n",
       "| 1.445411e-03 | 0.0001736288 | 0.000000e+00 | 0.0000000000 |  9 | 2 |\n",
       "| 2.488896e-04 | 0.0000000000 | 0.000000e+00 | 0.0001928453 | 10 | 2 |\n",
       "| 6.378178e-05 | 0.0000000000 | 0.000000e+00 | 0.0000000000 | 11 | 2 |\n",
       "| 2.424250e-03 | 0.0292297760 | 0.000000e+00 | 0.0002826943 |  1 | 3 |\n",
       "| 3.510833e-03 | 0.1474740962 | 1.708251e-02 | 0.0260954164 |  2 | 3 |\n",
       "| 6.617660e-03 | 0.2065744946 | 4.233915e-02 | 0.0409792271 |  3 | 3 |\n",
       "| 1.285658e-02 | 0.1013321458 | 1.769066e-02 | 0.0095303460 |  4 | 3 |\n",
       "| 2.024912e-02 | 0.0622985816 | 6.877170e-03 | 0.0062997014 |  5 | 3 |\n",
       "| 3.259326e-02 | 0.0255813504 | 1.876132e-06 | 0.0069443785 |  6 | 3 |\n",
       "| 4.171578e-02 | 0.0008941799 | 0.000000e+00 | 0.0023625816 |  7 | 3 |\n",
       "| 9.709593e-03 | 0.0006924851 | 0.000000e+00 | 0.0000000000 |  8 | 3 |\n",
       "| ⋮ | ⋮ | ⋮ | ⋮ | ⋮ | ⋮ |\n",
       "| 1.283935e-02 | 1.016776e-01 | 0.0177003891 | 0.0094919249 |  4 | 106 |\n",
       "| 1.998209e-02 | 6.268001e-02 | 0.0062660692 | 0.0064716117 |  5 | 106 |\n",
       "| 3.318526e-02 | 2.578793e-02 | 0.0001570321 | 0.0065557661 |  6 | 106 |\n",
       "| 4.158092e-02 | 8.941799e-04 | 0.0000000000 | 0.0023362709 |  7 | 106 |\n",
       "| 9.955157e-03 | 6.924851e-04 | 0.0000000000 | 0.0000000000 |  8 | 106 |\n",
       "| 1.523602e-03 | 5.901128e-05 | 0.0000000000 | 0.0000000000 |  9 | 106 |\n",
       "| 2.488896e-04 | 0.000000e+00 | 0.0000000000 | 0.0001936350 | 10 | 106 |\n",
       "| 7.864719e-05 | 0.000000e+00 | 0.0000000000 | 0.0000000000 | 11 | 106 |\n",
       "| 2.424250e-03 | 2.922978e-02 | 0.0000000000 | 0.0002826943 |  1 | 107 |\n",
       "| 3.510833e-03 | 1.474741e-01 | 0.0170825082 | 0.0260954164 |  2 | 107 |\n",
       "| 6.710294e-03 | 2.062369e-01 | 0.0423391528 | 0.0409792271 |  3 | 107 |\n",
       "| 1.266115e-02 | 1.017451e-01 | 0.0178104333 | 0.0094389126 |  4 | 107 |\n",
       "| 2.031941e-02 | 6.214552e-02 | 0.0063186686 | 0.0065071204 |  5 | 107 |\n",
       "| 3.313477e-02 | 2.580413e-02 | 0.0001386670 | 0.0065278843 |  6 | 107 |\n",
       "| 4.103574e-02 | 8.941799e-04 | 0.0000000000 | 0.0023860820 |  7 | 107 |\n",
       "| 1.006719e-02 | 7.155942e-04 | 0.0000000000 | 0.0000000000 |  8 | 107 |\n",
       "| 1.585413e-03 | 0.000000e+00 | 0.0000000000 | 0.0000000000 |  9 | 107 |\n",
       "| 2.592056e-04 | 0.000000e+00 | 0.0000000000 | 0.0001936350 | 10 | 107 |\n",
       "| 7.854503e-05 | 0.000000e+00 | 0.0000000000 | 0.0000000000 | 11 | 107 |\n",
       "| 2.424250e-03 | 2.922978e-02 | 0.0000000000 | 0.0002826943 |  1 | 108 |\n",
       "| 3.510833e-03 | 1.474741e-01 | 0.0170825082 | 0.0260954164 |  2 | 108 |\n",
       "| 6.773276e-03 | 2.061789e-01 | 0.0423391528 | 0.0409792271 |  3 | 108 |\n",
       "| 1.263671e-02 | 1.017114e-01 | 0.0178104333 | 0.0094910359 |  4 | 108 |\n",
       "| 2.037248e-02 | 6.200917e-02 | 0.0063710193 | 0.0065387643 |  5 | 108 |\n",
       "| 3.313477e-02 | 2.569131e-02 | 0.0001386670 | 0.0065278843 |  6 | 108 |\n",
       "| 4.112007e-02 | 8.941799e-04 | 0.0000000000 | 0.0023381711 |  7 | 108 |\n",
       "| 1.003546e-02 | 7.073494e-04 | 0.0000000000 | 0.0000000000 |  8 | 108 |\n",
       "| 1.595401e-03 | 2.358717e-05 | 0.0000000000 | 0.0000000000 |  9 | 108 |\n",
       "| 2.488896e-04 | 0.000000e+00 | 0.0000000000 | 0.0001909342 | 10 | 108 |\n",
       "| 7.720239e-05 | 0.000000e+00 | 0.0000000000 | 0.0000000000 | 11 | 108 |\n",
       "\n"
      ],
      "text/plain": [
       "       #90BF75      #DABE99      #c19f70      #E2F700      time   bsi   \n",
       "1      2.424250e-03 0.0292297760 0.000000e+00 0.0002826943  1     1     \n",
       "2      3.510833e-03 0.1474740962 1.708251e-02 0.0260954164  2     1     \n",
       "3      6.533432e-03 0.2067095954 4.233915e-02 0.0409792271  3     1     \n",
       "4      1.280572e-02 0.1019335621 1.748498e-02 0.0094680401  4     1     \n",
       "5      2.051274e-02 0.0619358807 6.889816e-03 0.0067962663  5     1     \n",
       "6      3.272267e-02 0.0259640016 0.000000e+00 0.0070283119  6     1     \n",
       "7      4.170888e-02 0.0008941799 0.000000e+00 0.0021928978  7     1     \n",
       "8      9.823627e-03 0.0006950776 0.000000e+00 0.0000000000  8     1     \n",
       "9      1.535302e-03 0.0001146175 0.000000e+00 0.0000000000  9     1     \n",
       "10     2.488896e-04 0.0000000000 0.000000e+00 0.0001928453 10     1     \n",
       "11     6.378178e-05 0.0000000000 0.000000e+00 0.0000000000 11     1     \n",
       "12     2.424250e-03 0.0292297760 0.000000e+00 0.0002826943  1     2     \n",
       "13     3.510833e-03 0.1474740962 1.708251e-02 0.0260954164  2     2     \n",
       "14     6.794579e-03 0.2059130432 4.233915e-02 0.0409792271  3     2     \n",
       "15     1.258365e-02 0.1010450252 1.784019e-02 0.0095639903  4     2     \n",
       "16     2.073442e-02 0.0622667455 6.171755e-03 0.0064294393  5     2     \n",
       "17     3.290606e-02 0.0252416025 2.669302e-04 0.0066582223  6     2     \n",
       "18     4.122056e-02 0.0009788360 0.000000e+00 0.0027513348  7     2     \n",
       "19     9.983420e-03 0.0006278847 0.000000e+00 0.0000000000  8     2     \n",
       "20     1.445411e-03 0.0001736288 0.000000e+00 0.0000000000  9     2     \n",
       "21     2.488896e-04 0.0000000000 0.000000e+00 0.0001928453 10     2     \n",
       "22     6.378178e-05 0.0000000000 0.000000e+00 0.0000000000 11     2     \n",
       "23     2.424250e-03 0.0292297760 0.000000e+00 0.0002826943  1     3     \n",
       "24     3.510833e-03 0.1474740962 1.708251e-02 0.0260954164  2     3     \n",
       "25     6.617660e-03 0.2065744946 4.233915e-02 0.0409792271  3     3     \n",
       "26     1.285658e-02 0.1013321458 1.769066e-02 0.0095303460  4     3     \n",
       "27     2.024912e-02 0.0622985816 6.877170e-03 0.0062997014  5     3     \n",
       "28     3.259326e-02 0.0255813504 1.876132e-06 0.0069443785  6     3     \n",
       "29     4.171578e-02 0.0008941799 0.000000e+00 0.0023625816  7     3     \n",
       "30     9.709593e-03 0.0006924851 0.000000e+00 0.0000000000  8     3     \n",
       "<U+22EE> <U+22EE>     <U+22EE>     <U+22EE>     <U+22EE>     <U+22EE> <U+22EE>\n",
       "1159   1.283935e-02 1.016776e-01 0.0177003891 0.0094919249  4     106   \n",
       "1160   1.998209e-02 6.268001e-02 0.0062660692 0.0064716117  5     106   \n",
       "1161   3.318526e-02 2.578793e-02 0.0001570321 0.0065557661  6     106   \n",
       "1162   4.158092e-02 8.941799e-04 0.0000000000 0.0023362709  7     106   \n",
       "1163   9.955157e-03 6.924851e-04 0.0000000000 0.0000000000  8     106   \n",
       "1164   1.523602e-03 5.901128e-05 0.0000000000 0.0000000000  9     106   \n",
       "1165   2.488896e-04 0.000000e+00 0.0000000000 0.0001936350 10     106   \n",
       "1166   7.864719e-05 0.000000e+00 0.0000000000 0.0000000000 11     106   \n",
       "1167   2.424250e-03 2.922978e-02 0.0000000000 0.0002826943  1     107   \n",
       "1168   3.510833e-03 1.474741e-01 0.0170825082 0.0260954164  2     107   \n",
       "1169   6.710294e-03 2.062369e-01 0.0423391528 0.0409792271  3     107   \n",
       "1170   1.266115e-02 1.017451e-01 0.0178104333 0.0094389126  4     107   \n",
       "1171   2.031941e-02 6.214552e-02 0.0063186686 0.0065071204  5     107   \n",
       "1172   3.313477e-02 2.580413e-02 0.0001386670 0.0065278843  6     107   \n",
       "1173   4.103574e-02 8.941799e-04 0.0000000000 0.0023860820  7     107   \n",
       "1174   1.006719e-02 7.155942e-04 0.0000000000 0.0000000000  8     107   \n",
       "1175   1.585413e-03 0.000000e+00 0.0000000000 0.0000000000  9     107   \n",
       "1176   2.592056e-04 0.000000e+00 0.0000000000 0.0001936350 10     107   \n",
       "1177   7.854503e-05 0.000000e+00 0.0000000000 0.0000000000 11     107   \n",
       "1178   2.424250e-03 2.922978e-02 0.0000000000 0.0002826943  1     108   \n",
       "1179   3.510833e-03 1.474741e-01 0.0170825082 0.0260954164  2     108   \n",
       "1180   6.773276e-03 2.061789e-01 0.0423391528 0.0409792271  3     108   \n",
       "1181   1.263671e-02 1.017114e-01 0.0178104333 0.0094910359  4     108   \n",
       "1182   2.037248e-02 6.200917e-02 0.0063710193 0.0065387643  5     108   \n",
       "1183   3.313477e-02 2.569131e-02 0.0001386670 0.0065278843  6     108   \n",
       "1184   4.112007e-02 8.941799e-04 0.0000000000 0.0023381711  7     108   \n",
       "1185   1.003546e-02 7.073494e-04 0.0000000000 0.0000000000  8     108   \n",
       "1186   1.595401e-03 2.358717e-05 0.0000000000 0.0000000000  9     108   \n",
       "1187   2.488896e-04 0.000000e+00 0.0000000000 0.0001909342 10     108   \n",
       "1188   7.720239e-05 0.000000e+00 0.0000000000 0.0000000000 11     108   "
      ]
     },
     "metadata": {},
     "output_type": "display_data"
    }
   ],
   "source": [
    "epiblast_outs"
   ]
  },
  {
   "cell_type": "code",
   "execution_count": 13,
   "id": "41c2f1d9",
   "metadata": {
    "ExecuteTime": {
     "end_time": "2023-03-07T06:15:31.619758Z",
     "start_time": "2023-03-07T06:15:31.270Z"
    }
   },
   "outputs": [
    {
     "data": {
      "text/html": [
       "541"
      ],
      "text/latex": [
       "541"
      ],
      "text/markdown": [
       "541"
      ],
      "text/plain": [
       "[1] 541"
      ]
     },
     "metadata": {},
     "output_type": "display_data"
    }
   ],
   "source": [
    "length(unique((epiblast_outs %>% pivot_longer(-c(time, bsi)) %>% mutate(time=as.factor(time)) %>% filter(name==\"#DABE99\"))$value))"
   ]
  },
  {
   "cell_type": "code",
   "execution_count": 14,
   "id": "2c63f9c4",
   "metadata": {
    "ExecuteTime": {
     "end_time": "2023-03-07T06:15:32.532848Z",
     "start_time": "2023-03-07T06:15:32.254Z"
    }
   },
   "outputs": [
    {
     "name": "stdout",
     "output_type": "stream",
     "text": [
      "[1] \"hi\"\n"
     ]
    }
   ],
   "source": [
    "print('hi')"
   ]
  },
  {
   "cell_type": "code",
   "execution_count": 13,
   "id": "e4695165",
   "metadata": {
    "ExecuteTime": {
     "end_time": "2023-03-07T09:21:47.415977Z",
     "start_time": "2023-03-07T09:21:40.103Z"
    }
   },
   "outputs": [
    {
     "data": {
      "image/png": "[encoded data removed]",
      "text/plain": [
       "plot without title"
      ]
     },
     "metadata": {
      "image/png": {
       "height": 360,
       "width": 600
      }
     },
     "output_type": "display_data"
    }
   ],
   "source": [
    "options(repr.plot.width=10, repr.plot.height=6)\n",
    "ggplot(epiblast_outs %>% pivot_longer(-c(time, bsi)) %>% mutate(time=as.factor(time)), aes(x = time, y = value, fill=name, color=name)) +\n",
    "  geom_boxplot() + \n",
    "# facet_grid(name ~ ., as.table = FALSE, switch = \"y\", scales=\"free\") + \n",
    "scale_fill_identity() + \n",
    "scale_color_identity() + \n",
    "theme(axis.text.x = element_text(angle = 90, vjust = 0.5, hjust=1))\n",
    "ggsave(\"epiblast_flow_bs_overlay.pdf\", width = 10, height = 6)"
   ]
  },
  {
   "cell_type": "code",
   "execution_count": null,
   "id": "6efc46ad",
   "metadata": {
    "ExecuteTime": {
     "start_time": "2023-02-20T09:40:05.948Z"
    }
   },
   "outputs": [],
   "source": [
    "mm_mctnetwork_plot_net(mct_id = \"oc_embflow_testbs6\", flow_id = \"oc_embflow_testbs6\",fn = \"figs/oc_embflow_testbs6.png\",\n",
    "    show_over_under_flow = T,\n",
    "#     show_axes=F,\n",
    "#     mc_ord = rank(names(mc_rank[order(mc_rank)])),\n",
    "    colors_ordered = oc_color_ord,\n",
    "    plot_mc_ids = F,\n",
    "#     plot_pdf = T,\n",
    "#     w = 10,\n",
    "#     h = 10\n",
    "    h = 2000,\n",
    "    w = 5000\n",
    ")"
   ]
  },
  {
   "cell_type": "code",
   "execution_count": null,
   "id": "0df5c234",
   "metadata": {
    "ExecuteTime": {
     "end_time": "2022-11-10T12:47:29.550338Z",
     "start_time": "2022-11-10T12:46:37.908Z"
    }
   },
   "outputs": [],
   "source": [
    "mm_mctnetwork_plot_net(mct_id = \"oc_embflow\", flow_id = \"oc_embflow\",fn = \"figs/oc_embflow_old_without_over_under_flow.png.pdf\",\n",
    "    show_over_under_flow = F,\n",
    "#     show_axes=F,\n",
    "#     mc_ord = rank(names(mc_rank[order(mc_rank)])),\n",
    "    colors_ordered = oc_color_ord,\n",
    "    plot_mc_ids = F,\n",
    "    plot_pdf = T,\n",
    "    w = 10,\n",
    "    h = 10\n",
    "#     h = 2000,\n",
    "#     w = 5000\n",
    ")"
   ]
  },
  {
   "cell_type": "code",
   "execution_count": null,
   "id": "edc1127b",
   "metadata": {
    "ExecuteTime": {
     "end_time": "2022-11-10T12:49:06.450527Z",
     "start_time": "2022-11-10T12:47:30.389Z"
    }
   },
   "outputs": [],
   "source": [
    "mm_mctnetwork_plot_net(mct_id = \"oc_embflow_test\", flow_id = \"oc_embflow_test\",fn = \"figs/oc_embflow_new_without_over_under_flow.png\",\n",
    "    show_over_under_flow = F,\n",
    "#     show_axes=F,\n",
    "#     mc_ord = rank(names(mc_rank[order(mc_rank)])),\n",
    "    colors_ordered = oc_color_ord,\n",
    "    plot_mc_ids = F,\n",
    "#     plot_pdf = T,\n",
    "#     w = 10,\n",
    "#     h = 10\n",
    "    h = 2000,\n",
    "    w = 5000\n",
    ")\n",
    "mm_mctnetwork_plot_net(mct_id = \"oc_embflow_test\", flow_id = \"oc_embflow_test\",fn = \"figs/oc_embflow_new_without_over_under_flow.png.pdf\",\n",
    "    show_over_under_flow = F,\n",
    "#     show_axes=F,\n",
    "#     mc_ord = rank(names(mc_rank[order(mc_rank)])),\n",
    "    colors_ordered = oc_color_ord,\n",
    "    plot_mc_ids = F,\n",
    "    plot_pdf = T,\n",
    "    w = 10,\n",
    "    h = 10\n",
    "#     h = 2000,\n",
    "#     w = 5000\n",
    ")"
   ]
  },
  {
   "cell_type": "code",
   "execution_count": null,
   "id": "4b98e4d0",
   "metadata": {
    "ExecuteTime": {
     "end_time": "2022-08-09T10:56:10.678926Z",
     "start_time": "2022-08-09T10:55:20.056Z"
    }
   },
   "outputs": [],
   "source": [
    "net_id = \"oc_embflow\"\n",
    "mct = scdb_mctnetwork(net_id)\n",
    "mcf = scdb_mctnetflow(net_id)"
   ]
  },
  {
   "cell_type": "code",
   "execution_count": null,
   "id": "b9844ec2",
   "metadata": {
    "ExecuteTime": {
     "end_time": "2022-08-09T10:58:23.489165Z",
     "start_time": "2022-08-09T10:58:22.683Z"
    }
   },
   "outputs": [],
   "source": [
    "ct_ag_inf = tgs_matrix_tapply(t(mcf@mc_t_infer),mc@colors,sum)\n",
    "ct_ag_inf = ct_ag_inf[oc_color_ord,]"
   ]
  },
  {
   "cell_type": "code",
   "execution_count": null,
   "id": "397fbbce",
   "metadata": {
    "ExecuteTime": {
     "end_time": "2022-08-09T10:58:23.706057Z",
     "start_time": "2022-08-09T10:58:23.235Z"
    }
   },
   "outputs": [],
   "source": [
    "barplot(ct_ag_inf,col = rownames(ct_ag_inf))"
   ]
  },
  {
   "cell_type": "code",
   "execution_count": null,
   "id": "c72c04d5",
   "metadata": {
    "ExecuteTime": {
     "end_time": "2022-08-09T10:58:24.144374Z",
     "start_time": "2022-08-09T10:58:23.852Z"
    }
   },
   "outputs": [],
   "source": [
    "ym = c(\"HAND1\", \"COL3A1\", \"CER1\", \"LMO2\", \"VCAN\", \"ACTC1\", \"NKX1-2\", \"RSPO3\", \"CRABP2\", \"COL3A1\", \"LHX1\", \"DNMT3B\", \"FLI1\", \"CDH5\", \"NANOGP8_hg19\", \"ALAS2\", \"ALAS2\", \"HAND1\", \"PTCH1\", \"DPYSL3\", \"SLC16A1\", \"SLC16A1\", \"ETV2\", \"SLC7A8\", \"GPC3\", \"MKRN1\", \"T\", \"PLAGL1\", \"TFAP2B\", \"DLX5\", \"CHRD\", \"NOTO\", \"FOXC1\", \"TFAP2C\", \"RIPPLY1\", \"POU5F1\", \"SHISA2\", \"OTX2\", \"ALDH1A2\", \"PLET1\", \"COL3A1\", \"ANXA2\", \"LHX1\", \"GATA1\", \"SFRP5\", \"MYL4\", \"CDX1\", \"MSGN1\", \"CRABP1\", \"DLK1\", \"SLC16A1\", \"POU5F1\", \"LMO2\", \"RAMP2\", \"UTF1\", \"GATA1\", \"GLRX\", \"FOXF1\", \"NKX2-8\", \"OTX2\", \"FOXA1\", \"TF\", \"LMO2\", \"SLC3A2\", \"OSR1\", \"TFAP2A\", \"PLAGL1\", \"HAND1\", \"SOX10\", \"EFNA5\", \"FOXA2\", \"DNAJB13\", \"TCF15\", \"PASD1\", \"DNMT3B\", \"CER1\", \"SOX2\", \"MEOX1\", \"WNT6\", \"HAND2\", \"DLK1\", \"FOXA2\", \"TNNI1\", \"GRSF1\", \"TBX6\", \"SOX3\", \"ITGA4\", \"FOXA2\", \"TEK\", \"CD93\", \"GLRX\", \"SLC25A37\", \"MSX2\", \"SALL2\", \"FOXA2\", \"SRGN\", \"TAL1\", \"APOA2\", \"TFAP2C\", \"MIXL1\", \"MSX1\", \"SHISA2\", \"PRDM1\", \"EOMES\", \"HESX1\", \"TNNT2\", \"DLL1\", \"NES\", \"CER1\", \"ETV2\", \"NFE2\", \"HMBS\", \"SOX2\", \"AP1S3\", \"SLC7A8\", \"EFNA5\", \"EOMES\", \"TDGF1\", \"T\", \"GRSF1\", \"SOX2\", \"SOX17\", \"GYPA\", \"APOE\", \"SLC3A2\", \"SOX17\", \"APOE\", \"APLP2\", \"AP1S3\", \"TDGF1\", \"CDX2\", \"SOX17\", \"SHISA2\", \"HHEX\", \"CER1\", \"TBX6\", \"WNT3A\", \"RSPO3\")\n",
    "ym = unique(ym)\n",
    "length(ym)"
   ]
  },
  {
   "cell_type": "code",
   "execution_count": null,
   "id": "76a9f5be",
   "metadata": {
    "ExecuteTime": {
     "end_time": "2022-08-09T10:58:27.140220Z",
     "start_time": "2022-08-09T10:58:24.611Z"
    }
   },
   "outputs": [],
   "source": [
    "rabbit_legc = log2(1e-5+mc@e_gc)\n",
    "markers_rabbit_legc_n = rabbit_legc[ym,] - rowMeans(rabbit_legc[ym,])"
   ]
  },
  {
   "cell_type": "code",
   "execution_count": null,
   "id": "fceb40c1",
   "metadata": {
    "ExecuteTime": {
     "end_time": "2022-08-09T10:58:27.158288Z",
     "start_time": "2022-08-09T10:58:25.563Z"
    }
   },
   "outputs": [],
   "source": [
    "clust_order = c(\n",
    "'PASD1',\n",
    "'TFAP2C',\n",
    "'WNT6',\n",
    "# 'TFAP2B',\n",
    "'SOX10',\n",
    "'DLX5',\n",
    "'TFAP2A',\n",
    "# 'HESX1',\n",
    "#     'SHISA2',\n",
    "    'OTX2',\n",
    "'SOX2',\n",
    "# 'DPYSL3',\n",
    "# 'EFNA5',\n",
    "'POU5F1',\n",
    "'NANOGP8_hg19',\n",
    "    'TDGF1',\n",
    "'EOMES',\n",
    "    'MIXL1',\n",
    "    'T',\n",
    "'MSGN1',\n",
    "'CDX1',\n",
    "'NKX1-2',\n",
    "'CDX2',\n",
    "'RSPO3',\n",
    "'OSR1',\n",
    "'FOXC1',\n",
    "# 'DLL1',\n",
    "'TCF15',\n",
    "'RIPPLY1',\n",
    "'MEOX1',\n",
    "'SFRP5',\n",
    "# 'ACTC1',\n",
    "'TNNI1',\n",
    "'FOXF1',\n",
    "'HAND1',\n",
    "# 'ANXA2',\n",
    "'DLK1',\n",
    "'ITGA4',\n",
    "'CDH5',\n",
    "'CD93',\n",
    "'LMO2',\n",
    "'TAL1',\n",
    "'ETV2',\n",
    "'GATA1',\n",
    "'GYPA',\n",
    "'NOTO',\n",
    "    # 'HMBS',\n",
    "'LHX1',\n",
    "# 'CHRD',\n",
    "'FOXA2',\n",
    "# 'DNAJB13',\n",
    "'SOX17',\n",
    "'APOE',\n",
    "# 'APOA2',\n",
    "'FOXA1'\n",
    ")"
   ]
  },
  {
   "cell_type": "code",
   "execution_count": null,
   "id": "3c1b9fe0",
   "metadata": {
    "ExecuteTime": {
     "end_time": "2022-08-09T10:58:33.604938Z",
     "start_time": "2022-08-09T10:58:33.259Z"
    }
   },
   "outputs": [],
   "source": [
    "mc_mean_age = apply(mct@mc_t, 1, function(x) {return(mean(x*(1:length(x))/sum(x))) })\n",
    "col_to_rank = c(1:length(oc_color_ord))\n",
    "names(col_to_rank) = oc_color_ord\n",
    "\n",
    "mc_rank = 1000*col_to_rank[mc@colors] + mc_mean_age\n",
    "mc_ord = order(mc_rank)"
   ]
  },
  {
   "cell_type": "code",
   "execution_count": null,
   "id": "18d4c08d",
   "metadata": {},
   "outputs": [],
   "source": []
  },
  {
   "cell_type": "code",
   "execution_count": null,
   "id": "f6f7ce7d",
   "metadata": {
    "ExecuteTime": {
     "end_time": "2022-08-09T10:58:33.748104Z",
     "start_time": "2022-08-09T10:58:33.451Z"
    }
   },
   "outputs": [],
   "source": [
    "oc_col2cat = mc@color_key$cell_type\n",
    "names(oc_col2cat) = mc@color_key$color\n",
    "\n",
    "oc_cat2col = mc@color_key$color\n",
    "names(oc_cat2col) = mc@color_key$cell_type\n",
    "\n",
    "oc_mc_cats = unname(oc_col2cat[mc@colors])\n",
    "names(oc_mc_cats) = names(mc@colors)"
   ]
  },
  {
   "cell_type": "code",
   "execution_count": null,
   "id": "d05a1960",
   "metadata": {
    "ExecuteTime": {
     "end_time": "2022-08-09T10:58:34.135871Z",
     "start_time": "2022-08-09T10:58:33.860Z"
    }
   },
   "outputs": [],
   "source": [
    "save_pheatmap_pdf <- function(x, filename, width=7, height=7) {\n",
    "    stopifnot(!missing(x))\n",
    "    stopifnot(!missing(filename))\n",
    "    pdf(filename, width=width, height=height)\n",
    "    grid::grid.newpage()\n",
    "    grid::grid.draw(x$gtable)\n",
    "    dev.off()\n",
    "}"
   ]
  },
  {
   "cell_type": "code",
   "execution_count": null,
   "id": "9631e05b",
   "metadata": {
    "ExecuteTime": {
     "end_time": "2022-08-09T11:04:42.252787Z",
     "start_time": "2022-08-09T11:04:40.515Z"
    }
   },
   "outputs": [],
   "source": [
    "options(repr.plot.width=10, repr.plot.height=12)\n",
    "test = markers_rabbit_legc_n\n",
    "paletteLength <- 100\n",
    "myColor <- colorRampPalette(c(\"white\", \"white\", \"red\"))(paletteLength)\n",
    "# length(breaks) == length(paletteLength) + 1\n",
    "# use floor and ceiling to deal with even/odd length pallettelengths\n",
    "# myBreaks <- c(seq(min(test), 0, length.out=ceiling(paletteLength/2) + 1), \n",
    "#               seq(max(test)/paletteLength, max(test), length.out=floor(paletteLength/2)))\n",
    "myBreaks <- c(seq(-4, 0.5, length.out=ceiling(paletteLength/2) + 1), \n",
    "              seq(3/paletteLength, 4, length.out=floor(paletteLength/2)))\n",
    "ph = pheatmap::pheatmap(\n",
    "    t(markers_rabbit_legc_n[clust_order,rev(mc_ord)]), \n",
    "    cluster_cols = F, \n",
    "    color = myColor, \n",
    "    breaks = myBreaks,\n",
    "    cluster_rows = F, \n",
    "    annotation_row = data.frame(rabbit_color=oc_mc_cats),\n",
    "    annotation_colors = list(rabbit_color=oc_cat2col),)\n",
    "save_pheatmap_pdf(ph, \"flow_heatmap.pdf\", 10,12)"
   ]
  },
  {
   "cell_type": "code",
   "execution_count": null,
   "id": "176d03f0",
   "metadata": {},
   "outputs": [],
   "source": []
  }
 ],
 "metadata": {
  "kernelspec": {
   "display_name": "R",
   "language": "R",
   "name": "ir"
  },
  "language_info": {
   "codemirror_mode": "r",
   "file_extension": ".r",
   "mimetype": "text/x-r-source",
   "name": "R",
   "pygments_lexer": "r",
   "version": "4.0.5"
  },
  "latex_envs": {
   "LaTeX_envs_menu_present": true,
   "autoclose": false,
   "autocomplete": true,
   "bibliofile": "biblio.bib",
   "cite_by": "apalike",
   "current_citInitial": 1,
   "eqLabelWithNumbers": true,
   "eqNumInitial": 1,
   "hotkeys": {
    "equation": "Ctrl-E",
    "itemize": "Ctrl-I"
   },
   "labels_anchors": false,
   "latex_user_defs": false,
   "report_style_numbering": false,
   "user_envs_cfg": false
  }
 },
 "nbformat": 4,
 "nbformat_minor": 5
}
