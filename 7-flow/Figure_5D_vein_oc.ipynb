{
 "cells": [
  {
   "cell_type": "code",
   "execution_count": 1,
   "id": "41c7dde3",
   "metadata": {
    "ExecuteTime": {
     "end_time": "2022-10-13T07:02:52.878527Z",
     "start_time": "2022-10-13T07:02:48.867Z"
    }
   },
   "outputs": [
    {
     "name": "stderr",
     "output_type": "stream",
     "text": [
      "Loading required package: usethis\n",
      "\n",
      "\u001b[36mi\u001b[39m Loading \u001b[34m\u001b[34mmetacell.flow\u001b[34m\u001b[39m\n",
      "\n",
      "initializing scdb to scdb/\n",
      "\n"
     ]
    }
   ],
   "source": [
    "library(devtools)\n",
    "library(metacell)\n",
    "load_all(\"../metacell.flow/\")\n",
    "scdb_init(\"scdb/\",force_reinit = T)\n",
    "scfigs_init(\"figs\")\n",
    "scdb_flow_init()"
   ]
  },
  {
   "cell_type": "code",
   "execution_count": 2,
   "id": "6c5c8227",
   "metadata": {
    "ExecuteTime": {
     "end_time": "2022-10-13T07:02:52.918203Z",
     "start_time": "2022-10-13T07:02:49.113Z"
    }
   },
   "outputs": [],
   "source": [
    "mctnetwork_get_type_flows = function(mct, mcf, time, max_time)\n",
    "{\n",
    "\tnet = mct@network\n",
    "\tmc = scdb_mc(mct@mc_id)\n",
    "    net$flow = mcf@edge_flows\n",
    "\n",
    "\tall_types = unique(mc@colors)[match(mc@color_key$color, unique(mc@colors))]\n",
    "\tmct_mats = list()\n",
    "\tfor(t in time:(max_time-1)) {\n",
    "\t\tf_t = net$time1 == t & net$time2 == t+1 &\n",
    "\t\t\t\t\tnet$type1 != \"growth\" & net$type2!=\"growth\"\n",
    "\n",
    "\t\tnet_t = net[f_t,] \n",
    "\t\tnet_t$mc_t1 = mc@colors[as.numeric(net_t$mc1)]\n",
    "\t\tnet_t$mc_t2 = mc@colors[as.numeric(net_t$mc2)]\n",
    "\t\tflow = as.data.frame(summarize(group_by(net_t, mc_t1, mc_t2),\n",
    "\t\t\t\t\t\t\t\t\t\t\t\t\ttot_flow = sum(flow)))\n",
    "    \n",
    "\t   mct_mat = pivot_wider(data = flow, \n",
    "\t\t\t\tnames_from = mc_t2, \n",
    "\t\t\t\tvalues_from = tot_flow,\n",
    "\t\t\t\tvalues_fill = list(tot_flow = 0))\n",
    "\n",
    "\t   mct_mat = as.data.frame(mct_mat)\n",
    "\t\trownames(mct_mat) = mct_mat$mc_t1\n",
    "\t   mct_mat = mct_mat[,-1]\n",
    "\t\tmax_mc = ncol(mct_mat)\n",
    "\t\tmct_mat = mct_mat[all_types, all_types]\n",
    "\t\tmct_mat = as.matrix(mct_mat)\n",
    "\t\tmct_mats[[t]] = mct_mat\n",
    "\t}\n",
    "\n",
    "\treturn(mct_mats)\n",
    "}"
   ]
  },
  {
   "cell_type": "code",
   "execution_count": 3,
   "id": "99a45a29",
   "metadata": {
    "ExecuteTime": {
     "end_time": "2022-10-13T07:02:52.935970Z",
     "start_time": "2022-10-13T07:02:49.328Z"
    }
   },
   "outputs": [],
   "source": [
    "add_alpha = function(col, alpha) {\n",
    "\treturn(rgb(t(col2rgb(col))/256, alpha=alpha))\n",
    "}\n",
    "\n",
    "draw_sig_edge = function(x1, x2, x2t, y1, y2, y2t, flow, col1, col2, col_alpha=0.8) {\n",
    "  \n",
    "\tx1 = x1\n",
    "\ty1 = y1\n",
    "\tdx = x2t - x1\n",
    "\tdy = y2t - y1\n",
    "\n",
    "\ty1t = y1+flow\n",
    "\tdxt = x2 - x1\n",
    "\tdyt = y2 - y1t\n",
    "\n",
    "\tcol1 = col2rgb(col1)[,1]\n",
    "\tnames(col1) = c(\"red\",\"green\",\"blue\")\n",
    "\tcol2 = col2rgb(col2)[,1]\n",
    "\tnames(col2) = c(\"red\",\"green\",\"blue\")\n",
    "\tres = 0.05\n",
    "#\tmessage(\"segs \", \"x1 \", x1, \" y1 \", y1, \" dx \", dx, \" dy \", dy, \" y1t \", y1t, \" dxt \", dxt, \" dyt \", dyt)\n",
    "\tbeta0 = plogis(0,loc=0.5,scale=0.2)\n",
    "\tbeta_f = plogis(1,loc=0.5,scale=0.2)-plogis(0,loc=0.5, scale=0.2)\n",
    "\tfor(r in seq(0,0.98,res)) {\n",
    "\t\t\tbeta = (plogis(r,loc=0.5,scale=0.2)-beta0)/beta_f\n",
    "\t\t\tbeta5 = (plogis(r+res,loc=0.5,scale=0.2)-beta0)/beta_f\n",
    "\n",
    "\t\t\tsx1 = x1+r*dx\n",
    "\t\t\tsy1 = y1+beta*dy\n",
    "\t\t\tsx2 = x1+(r+res)*dx\n",
    "\t\t\tsy2 = y1+beta5*dy\n",
    "\n",
    "\t\t\tsx1t = x1+r*dxt\n",
    "\t\t\tsy1t = y1t+beta*dyt\n",
    "\t\t\tsx2t = x1+(r+res)*dxt\n",
    "\t\t\tsy2t = y1t+beta5*dyt\n",
    "#\t\t\tr_col = ifelse(grad_col_edge, r,0)\n",
    "\t\t\tr_col = r\n",
    "\t\t\trgb_r = col2[\"red\"]*r_col+col1[\"red\"]*(1-r_col)\n",
    "\t\t\trgb_g = col2[\"green\"]*r_col+col1[\"green\"]*(1-r_col)\n",
    "\t\t\trgb_b = col2[\"blue\"]*r_col+col1[\"blue\"]*(1-r_col)\n",
    "\t\t\tcol = rgb(rgb_r/256, rgb_g/256, rgb_b/256, col_alpha)\n",
    "\t\t\tpolygon(c(sx1, sx2, sx2t,sx1t), c(sy1, sy2, sy2t, sy1t), col=col, border=NA)\n",
    "\t}\n",
    "#\t\tsegments(x1,y1,x2,y2, \n",
    "}\n",
    "\n",
    "plot_focals = function(fig_dir,plot_pdf = F,bg = \"white\",focals = c(\"Early nascent mesoderm\", \"Late nascent mesoderm\", \"Epiblast\", \"Primitive streak\")) {\n",
    "  \n",
    "  #fig_dir = \"figs/paper_figs/fig4/focal_flows\"\n",
    "  \n",
    "  if(!dir.exists(fig_dir)) {\n",
    "    dir.create(fig_dir)\n",
    "  }\n",
    "  \n",
    "  mc = scdb_mc(\"oc_emb\")\n",
    "  \n",
    "  mat = scdb_mat(\"oc_emb\")\n",
    "  \n",
    "  md = mat@cell_metadata\n",
    "  \n",
    "  type_ag= table(mc@colors[mc@mc], md[names(mc@mc),\"age_group\"])\n",
    "  \n",
    "  type_agn = t(t(type_ag)/colSums(type_ag))\n",
    "  \n",
    "  mct = scdb_mctnetwork(\"oc_embflow\")\n",
    "  mcf = scdb_mctnetflow(\"oc_embflow\")\n",
    "  type_flow = mctnetwork_get_type_flows(mct, mcf, 1,13)\n",
    "  \n",
    "  \n",
    "  key = mc@color_key\n",
    "  rownames(key) = key$group\n",
    "#   rownames(key) = key$cell_type\n",
    "  \n",
    "\n",
    "  t1 = 1\n",
    "  t2 = 12\n",
    "  T_minflow_for_type = 0.005\n",
    "  \n",
    "  #focals = c(\"Epiblast\", \"Early nascent mesoderm\", \"Late nascent mesoderm\", \"Primitive streak\")\n",
    "  #focals = c(\"Late nascent mesoderm\")\n",
    "  \n",
    "  \n",
    "  foc_colors = key[focals,\"color\"]\n",
    "  for(foc_type in focals) {\n",
    "    \n",
    "    foc_color = key[foc_type,\"color\"]\n",
    "    cols = names(which(colSums(do.call(\"rbind\", lapply(type_flow, function(x) x[foc_color,])))>T_minflow_for_type))\n",
    "    foc_agn = type_agn[cols,t1:t2]\n",
    "    \n",
    "    base_y = c(1)\n",
    "    \n",
    "    for(i in 2:length(cols)) {\n",
    "      base_y[i] = base_y[i-1] + 0.2 + max(foc_agn[cols[i],]+foc_agn[cols[i-1],])\n",
    "    }\n",
    "    names(base_y) = cols\n",
    "    \n",
    "    if(plot_pdf) {\n",
    "      pdf(sprintf(\"%s/%s.pdf\",fig_dir, foc_type),w=30,h=20,useDingbats = F)\n",
    "    } else {\n",
    "      png(sprintf(\"%s/%s.png\",fig_dir, foc_type),w=3000,h=2000,bg = bg)\n",
    "    }\n",
    "    \n",
    "    plot(0, xlim=c(t1 - 0.5,t2), ylim=c(min(base_y)-0.5, max(base_y)+0.5),yaxt = 'n',bg = \"transparent\")\n",
    "    \n",
    "    x_pos = 0.5\n",
    "    y_c =  base_y[foc_color]\n",
    "    \n",
    "    segments(x0 = x_pos,x1 = x_pos, y0 = y_c - 0.25,y1 = y_c + 0.25,lwd = 4)\n",
    "    segments(x0 = x_pos - 0.05,x1 = x_pos + 0.05, y0 = y_c - 0.25,y1 = y_c - 0.25,lwd = 4)\n",
    "    segments(x0 = x_pos - 0.05,x1 = x_pos + 0.05, y0 = y_c + 0.25,y1 = y_c + 0.25,lwd = 4)\n",
    "    \n",
    "    text(x = x_pos - 0.2,y = y_c, labels = \"25%\",cex = 2)\n",
    "    smoo_y = list()\n",
    "    for(c in cols) {\n",
    "      x = t1:t2\n",
    "      y = foc_agn[c,t1:t2]\n",
    "      ys = approx(x,y, seq(t1,t2,l=1+(t2-t1)*100))\n",
    "      lo = loess(ys$y ~ ys$x,span=0.3)$fitted\n",
    "      base = base_y[c]\n",
    "      smoo_y[[c]] = lo\n",
    "      names(smoo_y[[c]]) = ys$x \n",
    "      calpha = add_alpha(c,0.8)\n",
    "      polygon(c(ys$x,rev(ys$x)), base+c(lo, rev(-lo)), border=NA, col=ifelse(c==foc_color, c, calpha))\n",
    "    }\n",
    "    \n",
    "    foc_i = which(cols == foc_color)\n",
    "    base_foc = base_y[foc_color]\n",
    "    for(t in t1:(t2-1)) {\n",
    "      flow = type_flow[[t]]\n",
    "      max_i = length(cols)\n",
    "      cum_y = -smoo_y[[foc_color]][as.character(t)]\n",
    "      for(i in 1:(foc_i-1)) {\n",
    "        col_i = cols[i]\n",
    "        fl = flow[foc_color,col_i]*2\n",
    "        if(fl > 0) {\n",
    "          calpha = add_alpha(col_i, 0.8)\n",
    "          draw_sig_edge(x1=t, x2 = t+1, x2t = t+1-2*fl-0.05, \n",
    "                        y1 = base_foc+cum_y,\n",
    "                        y2 = base_y[col_i]+smoo_y[[col_i]][as.character(t+1)], \n",
    "                        y2t =base_y[col_i]+smoo_y[[col_i]][as.character(round(t+1-2*fl-0.05,2))],\n",
    "                        flow = fl,\n",
    "                        col1=foc_color, col2=col_i)\n",
    "          cum_y = cum_y+fl\n",
    "        }\n",
    "      }\n",
    "      cum_y = smoo_y[[foc_color]][as.character(t)]\n",
    "      for(i in max_i:(foc_i+1)) {\n",
    "        col_i = cols[i]\n",
    "        fl = flow[foc_color,col_i]*2\n",
    "        if(fl > 0) {\n",
    "          calpha = add_alpha(col_i, 0.8)\n",
    "          #message(\"at \", i, \" fl \", fl)\n",
    "          draw_sig_edge(x1=t, x2t = t+1, x2 = t+1-2*fl-0.05, \n",
    "                        y1 = base_foc+cum_y-fl,\n",
    "                        y2t = base_y[col_i]-smoo_y[[col_i]][as.character(t+1)], \n",
    "                        y2 =base_y[col_i]-smoo_y[[col_i]][as.character(round(t+1-2*fl-0.05,2))],\n",
    "                        flow = fl,\n",
    "                        col1=foc_color, col2=col_i)\n",
    "          cum_y = cum_y-fl\n",
    "        }\n",
    "      }\n",
    "      #incoming\n",
    "    }\n",
    "    dev.off()\n",
    "  }\n",
    "  \n",
    "  \n",
    "}"
   ]
  },
  {
   "cell_type": "code",
   "execution_count": 4,
   "id": "831ac691",
   "metadata": {
    "ExecuteTime": {
     "end_time": "2022-10-11T10:17:33.575534Z",
     "start_time": "2022-10-11T10:17:30.895Z"
    }
   },
   "outputs": [],
   "source": [
    "# plot_focals(\"figs\")"
   ]
  },
  {
   "cell_type": "code",
   "execution_count": 4,
   "id": "28592f65",
   "metadata": {
    "ExecuteTime": {
     "end_time": "2022-10-13T07:03:29.680359Z",
     "start_time": "2022-10-13T07:02:51.713Z"
    }
   },
   "outputs": [],
   "source": [
    "fig_dir = \"figs\"\n",
    "plot_pdf = T\n",
    "bg = \"white\"\n",
    "# focals = c(\"Early nascent mesoderm\", \"Late nascent mesoderm\", \"Epiblast\", \"Primitive streak\")\n",
    "# focals = c(\"Primitive streak\")\n",
    "focals = c(\"epiblast\")\n",
    "# focals = c(\"nascent mesoderm\")\n",
    "\n",
    "mc = scdb_mc(\"oc_emb\")\n",
    "\n",
    "mat = scdb_mat(\"oc_emb\")\n",
    "\n",
    "md = mat@cell_metadata\n",
    "\n",
    "type_ag = table(mc@colors[mc@mc], md[names(mc@mc),\"chunk\"])\n",
    "\n",
    "type_agn = t(t(type_ag)/colSums(type_ag))"
   ]
  },
  {
   "cell_type": "code",
   "execution_count": 5,
   "id": "8cf2ece3",
   "metadata": {
    "ExecuteTime": {
     "end_time": "2022-10-13T07:04:16.988239Z",
     "start_time": "2022-10-13T07:02:52.194Z"
    }
   },
   "outputs": [],
   "source": [
    "mct = scdb_mctnetwork(\"oc_embflow\")\n",
    "mcf = scdb_mctnetflow(\"oc_embflow\")"
   ]
  },
  {
   "cell_type": "code",
   "execution_count": 6,
   "id": "d9ab1c71",
   "metadata": {
    "ExecuteTime": {
     "end_time": "2022-10-13T07:04:47.457711Z",
     "start_time": "2022-10-13T07:02:53.393Z"
    }
   },
   "outputs": [
    {
     "name": "stderr",
     "output_type": "stream",
     "text": [
      "\u001b[1m\u001b[22m`summarise()` has grouped output by 'mc_t1'. You can override using the\n",
      "`.groups` argument.\n",
      "\u001b[1m\u001b[22m`summarise()` has grouped output by 'mc_t1'. You can override using the\n",
      "`.groups` argument.\n",
      "\u001b[1m\u001b[22m`summarise()` has grouped output by 'mc_t1'. You can override using the\n",
      "`.groups` argument.\n",
      "\u001b[1m\u001b[22m`summarise()` has grouped output by 'mc_t1'. You can override using the\n",
      "`.groups` argument.\n",
      "\u001b[1m\u001b[22m`summarise()` has grouped output by 'mc_t1'. You can override using the\n",
      "`.groups` argument.\n",
      "\u001b[1m\u001b[22m`summarise()` has grouped output by 'mc_t1'. You can override using the\n",
      "`.groups` argument.\n",
      "\u001b[1m\u001b[22m`summarise()` has grouped output by 'mc_t1'. You can override using the\n",
      "`.groups` argument.\n",
      "\u001b[1m\u001b[22m`summarise()` has grouped output by 'mc_t1'. You can override using the\n",
      "`.groups` argument.\n",
      "\u001b[1m\u001b[22m`summarise()` has grouped output by 'mc_t1'. You can override using the\n",
      "`.groups` argument.\n",
      "\u001b[1m\u001b[22m`summarise()` has grouped output by 'mc_t1'. You can override using the\n",
      "`.groups` argument.\n",
      "\u001b[1m\u001b[22m`summarise()` has grouped output by 'mc_t1'. You can override using the\n",
      "`.groups` argument.\n"
     ]
    }
   ],
   "source": [
    "type_flow = mctnetwork_get_type_flows(mct,mcf, 1,12)"
   ]
  },
  {
   "cell_type": "code",
   "execution_count": 7,
   "id": "13423e3a",
   "metadata": {
    "ExecuteTime": {
     "end_time": "2022-10-13T07:04:47.485416Z",
     "start_time": "2022-10-13T07:02:54.353Z"
    }
   },
   "outputs": [],
   "source": [
    "key = mc@color_key\n",
    "rownames(key) = key$cell_type\n",
    "\n",
    "t1 = 1\n",
    "t2 = 12\n",
    "T_minflow_for_type = 0.05\n",
    "\n",
    "#focals = c(\"Epiblast\", \"Early nascent mesoderm\", \"Late nascent mesoderm\", \"Primitive streak\")\n",
    "#focals = c(\"Late nascent mesoderm\")"
   ]
  },
  {
   "cell_type": "code",
   "execution_count": 8,
   "id": "d52a0a7c",
   "metadata": {
    "ExecuteTime": {
     "end_time": "2022-10-13T07:15:46.967324Z",
     "start_time": "2022-10-13T07:15:46.726Z"
    }
   },
   "outputs": [
    {
     "data": {
      "text/html": [
       "TRUE"
      ],
      "text/latex": [
       "TRUE"
      ],
      "text/markdown": [
       "TRUE"
      ],
      "text/plain": [
       "[1] TRUE"
      ]
     },
     "metadata": {},
     "output_type": "display_data"
    }
   ],
   "source": [
    "plot_pdf"
   ]
  },
  {
   "cell_type": "code",
   "execution_count": 10,
   "id": "d13896e1",
   "metadata": {
    "ExecuteTime": {
     "end_time": "2022-10-13T07:53:56.360567Z",
     "start_time": "2022-10-13T07:53:55.434Z"
    }
   },
   "outputs": [
    {
     "name": "stdout",
     "output_type": "stream",
     "text": [
      "[1] 5\n",
      "[1] 4\n",
      "[1] 3\n",
      "[1] 5\n",
      "[1] 4\n",
      "[1] 3\n",
      "[1] 5\n",
      "[1] 4\n",
      "[1] 3\n",
      "[1] 5\n",
      "[1] 4\n",
      "[1] 3\n",
      "[1] 5\n",
      "[1] 4\n",
      "[1] 3\n",
      "[1] 5\n",
      "[1] 4\n",
      "[1] 3\n",
      "[1] 5\n",
      "[1] 4\n",
      "[1] 3\n",
      "[1] 5\n",
      "[1] 4\n",
      "[1] 3\n",
      "[1] 5\n",
      "[1] 4\n",
      "[1] 3\n",
      "[1] 5\n",
      "[1] 4\n",
      "[1] 3\n",
      "[1] 5\n",
      "[1] 4\n",
      "[1] 3\n"
     ]
    },
    {
     "data": {
      "image/png": "[encoded data removed]",
      "text/plain": [
       "plot without title"
      ]
     },
     "metadata": {
      "image/png": {
       "height": 420,
       "width": 420
      }
     },
     "output_type": "display_data"
    }
   ],
   "source": [
    "foc_colors = key[focals,\"color\"]\n",
    "foc_type  = \"epiblast\"\n",
    "\n",
    "foc_color = key[foc_type,\"color\"]\n",
    "cols = names(which(colSums(do.call(\"rbind\", lapply(type_flow, function(x) x[foc_color,])))>T_minflow_for_type))\n",
    "#     cols = c('#C594BF','#9e6762','#DABE99','#c19f70')  # reordered_cols\n",
    "foc_agn = type_agn[cols,t1:t2]\n",
    "\n",
    "base_y = c(1)\n",
    "for(i in 2:length(cols)) {\n",
    "  base_y[i] = base_y[i-1] + 0.2 + max(foc_agn[cols[i],]+foc_agn[cols[i-1],])\n",
    "}\n",
    "names(base_y) = cols\n",
    "\n",
    "# if(plot_pdf) {\n",
    "#   pdf(sprintf(\"%s/%s.pdf\",fig_dir, foc_type),w=30,h=20,useDingbats = F)\n",
    "# } else {\n",
    "#   png(sprintf(\"%s/%s.png\",fig_dir, foc_type),w=3000,h=2000,bg = bg)\n",
    "# }\n",
    "\n",
    "plot(0, xlim=c(t1 - 3,t2), ylim=c(min(base_y)-0.5, max(base_y)+0.5),yaxt = 'n',bg = \"transparent\")\n",
    "\n",
    "x_pos = 0.5\n",
    "y_c =  base_y[foc_color]\n",
    "\n",
    "segments(x0 = x_pos,x1 = x_pos, y0 = y_c - 0.25,y1 = y_c + 0.25,lwd = 4)\n",
    "segments(x0 = x_pos - 0.05,x1 = x_pos + 0.05, y0 = y_c - 0.25,y1 = y_c - 0.25,lwd = 4)\n",
    "segments(x0 = x_pos - 0.05,x1 = x_pos + 0.05, y0 = y_c + 0.25,y1 = y_c + 0.25,lwd = 4)\n",
    "\n",
    "text(x = x_pos - 1.5,y = y_c, labels = \"25%\",cex = 2)\n",
    "smoo_y = list()\n",
    "for(c in cols) {\n",
    "  x = t1:t2\n",
    "  y = foc_agn[c,t1:t2]\n",
    "  ys = approx(x,y, seq(t1,t2,l=1+(t2-t1)*100))\n",
    "  lo = loess(ys$y ~ ys$x,span=0.3)$fitted\n",
    "  base = base_y[c]\n",
    "  smoo_y[[c]] = lo\n",
    "  names(smoo_y[[c]]) = ys$x \n",
    "  calpha = add_alpha(c,0.8)\n",
    "  polygon(c(ys$x,rev(ys$x)), base+c(lo, rev(-lo)), border=NA, col=ifelse(c==foc_color, c, calpha))\n",
    "}\n",
    "\n",
    "foc_i = which(cols == foc_color)\n",
    "base_foc = base_y[foc_color]\n",
    "for(t in t1:(t2-1)) {\n",
    "  flow = type_flow[[t]]\n",
    "  max_i = length(cols)\n",
    "  cum_y = -smoo_y[[foc_color]][as.character(t)]\n",
    "  for(i in 1:(foc_i-1)) {\n",
    "    col_i = cols[i]\n",
    "    fl = flow[foc_color,col_i]*2\n",
    "    if(fl > 0) {\n",
    "      calpha = add_alpha(col_i, 0.8)\n",
    "      draw_sig_edge(x1=t, x2 = t+1, x2t = t+1-2*fl-0.05, \n",
    "                    y1 = base_foc+cum_y,\n",
    "                    y2 = base_y[col_i]+smoo_y[[col_i]][as.character(t+1)], \n",
    "                    y2t =base_y[col_i]+smoo_y[[col_i]][as.character(round(t+1-2*fl-0.05,2))],\n",
    "                    flow = fl,\n",
    "                    col1=foc_color, col2=col_i)\n",
    "      cum_y = cum_y+fl\n",
    "    }\n",
    "  }\n",
    "  cum_y = smoo_y[[foc_color]][as.character(t)]\n",
    "  for(i in max_i:(foc_i+1)) {\n",
    "    print(i)\n",
    "    col_i = cols[i]\n",
    "    fl = flow[foc_color,col_i]*2\n",
    "    if(fl > 0) {\n",
    "      calpha = add_alpha(col_i, 0.8)\n",
    "      #message(\"at \", i, \" fl \", fl)\n",
    "      draw_sig_edge(x1=t, x2t = t+1, x2 = t+1-2*fl-0.05, \n",
    "                    y1 = base_foc+cum_y-fl,\n",
    "                    y2t = base_y[col_i]-smoo_y[[col_i]][as.character(t+1)], \n",
    "                    y2 =base_y[col_i]-smoo_y[[col_i]][as.character(round(t+1-2*fl-0.05,2))],\n",
    "                    flow = fl,\n",
    "                    col1=foc_color, col2=col_i)\n",
    "      cum_y = cum_y-fl\n",
    "    }\n",
    "  }\n",
    "  #incoming\n",
    "}\n",
    "# abline(v=itime(xtime), lty=2)\n",
    "# dev.off()"
   ]
  },
  {
   "cell_type": "code",
   "execution_count": 39,
   "id": "e6c5298e",
   "metadata": {
    "ExecuteTime": {
     "end_time": "2022-10-11T10:34:51.510127Z",
     "start_time": "2022-10-11T10:34:51.482Z"
    }
   },
   "outputs": [
    {
     "data": {
      "text/html": [
       "&lt;NA&gt;"
      ],
      "text/latex": [
       "<NA>"
      ],
      "text/markdown": [
       "&lt;NA&gt;"
      ],
      "text/plain": [
       "[1] NA"
      ]
     },
     "metadata": {},
     "output_type": "display_data"
    }
   ],
   "source": [
    "x_pos"
   ]
  },
  {
   "cell_type": "code",
   "execution_count": 51,
   "id": "f471dbe3",
   "metadata": {
    "ExecuteTime": {
     "end_time": "2022-10-11T14:04:12.760926Z",
     "start_time": "2022-10-11T14:04:12.711Z"
    }
   },
   "outputs": [
    {
     "name": "stdout",
     "output_type": "stream",
     "text": [
      "c(`#90BF75` = 1, `#635547` = 2.18393574297189, `#DABE99` = 3.3776247848537, \n",
      "`#E2F700` = 3.84653234787891, `#c19f70` = 4.17258276804698)\n"
     ]
    }
   ],
   "source": [
    "dput(base_y)"
   ]
  },
  {
   "cell_type": "code",
   "execution_count": 11,
   "id": "6c512ce6",
   "metadata": {
    "ExecuteTime": {
     "end_time": "2022-10-11T10:21:33.789187Z",
     "start_time": "2022-10-11T10:21:33.754Z"
    }
   },
   "outputs": [
    {
     "data": {
      "text/html": [
       "<style>\n",
       ".list-inline {list-style: none; margin:0; padding: 0}\n",
       ".list-inline>li {display: inline-block}\n",
       ".list-inline>li:not(:last-child)::after {content: \"\\00b7\"; padding: 0 .5ex}\n",
       "</style>\n",
       "<ol class=list-inline><li>'#90BF75'</li><li>'#635547'</li><li>'#DABE99'</li><li>'#E2F700'</li><li>'#c19f70'</li></ol>\n"
      ],
      "text/latex": [
       "\\begin{enumerate*}\n",
       "\\item '\\#90BF75'\n",
       "\\item '\\#635547'\n",
       "\\item '\\#DABE99'\n",
       "\\item '\\#E2F700'\n",
       "\\item '\\#c19f70'\n",
       "\\end{enumerate*}\n"
      ],
      "text/markdown": [
       "1. '#90BF75'\n",
       "2. '#635547'\n",
       "3. '#DABE99'\n",
       "4. '#E2F700'\n",
       "5. '#c19f70'\n",
       "\n",
       "\n"
      ],
      "text/plain": [
       "[1] \"#90BF75\" \"#635547\" \"#DABE99\" \"#E2F700\" \"#c19f70\""
      ]
     },
     "metadata": {},
     "output_type": "display_data"
    }
   ],
   "source": [
    "cols"
   ]
  },
  {
   "cell_type": "code",
   "execution_count": 19,
   "id": "f75d2d64",
   "metadata": {
    "ExecuteTime": {
     "end_time": "2022-10-12T08:25:11.025147Z",
     "start_time": "2022-10-12T08:25:10.885Z"
    }
   },
   "outputs": [],
   "source": [
    "times = fread(\"oc_embs_grouping.txt\")[c(\"chunk\", \"gt\")] %>% group_by(chunk) %>% summarise(developmental_time = mean(gt))\n",
    "xtime = times$developmental_time\n",
    "names(xtime) = times$chunk\n",
    "itime = approxfun(xtime, names(xtime))"
   ]
  },
  {
   "cell_type": "code",
   "execution_count": 24,
   "id": "b583709f",
   "metadata": {
    "ExecuteTime": {
     "end_time": "2022-10-12T08:27:03.698761Z",
     "start_time": "2022-10-12T08:27:03.584Z"
    }
   },
   "outputs": [],
   "source": [
    "mm_times = c(`1` = 5.61416904812828, `2` = 6.0535551519414, `3` = 6.42719787243485, \n",
    "`4` = 6.49909841445043, `5` = 6.60286201961373, `6` = 6.75225551566788, \n",
    "`7` = 6.98375313146085, `8` = 7.25263003663747, `9` = 7.50449155547518, \n",
    "`10` = 7.64641844473141, `11` = 7.74424520826457, `12` = 7.83705658911404, \n",
    "`13` = 7.9283962052012, `14` = 8.03962706623603, `15` = 8.16810315548053, \n",
    "`16` = 8.3076374690021)"
   ]
  },
  {
   "cell_type": "code",
   "execution_count": 25,
   "id": "fd29e41b",
   "metadata": {
    "ExecuteTime": {
     "end_time": "2022-10-12T08:27:06.414561Z",
     "start_time": "2022-10-12T08:27:06.295Z"
    }
   },
   "outputs": [
    {
     "data": {
      "text/html": [
       "<style>\n",
       ".dl-inline {width: auto; margin:0; padding: 0}\n",
       ".dl-inline>dt, .dl-inline>dd {float: none; width: auto; display: inline-block}\n",
       ".dl-inline>dt::after {content: \":\\0020\"; padding-right: .5ex}\n",
       ".dl-inline>dt:not(:first-of-type) {padding-left: .5ex}\n",
       "</style><dl class=dl-inline><dt>1</dt><dd>5.61416904812828</dd><dt>2</dt><dd>6.0535551519414</dd><dt>3</dt><dd>6.42719787243485</dd><dt>4</dt><dd>6.49909841445043</dd><dt>5</dt><dd>6.60286201961373</dd><dt>6</dt><dd>6.75225551566788</dd><dt>7</dt><dd>6.98375313146085</dd><dt>8</dt><dd>7.25263003663747</dd><dt>9</dt><dd>7.50449155547518</dd><dt>10</dt><dd>7.64641844473141</dd><dt>11</dt><dd>7.74424520826457</dd><dt>12</dt><dd>7.83705658911404</dd><dt>13</dt><dd>7.9283962052012</dd><dt>14</dt><dd>8.03962706623603</dd><dt>15</dt><dd>8.16810315548053</dd><dt>16</dt><dd>8.3076374690021</dd></dl>\n"
      ],
      "text/latex": [
       "\\begin{description*}\n",
       "\\item[1] 5.61416904812828\n",
       "\\item[2] 6.0535551519414\n",
       "\\item[3] 6.42719787243485\n",
       "\\item[4] 6.49909841445043\n",
       "\\item[5] 6.60286201961373\n",
       "\\item[6] 6.75225551566788\n",
       "\\item[7] 6.98375313146085\n",
       "\\item[8] 7.25263003663747\n",
       "\\item[9] 7.50449155547518\n",
       "\\item[10] 7.64641844473141\n",
       "\\item[11] 7.74424520826457\n",
       "\\item[12] 7.83705658911404\n",
       "\\item[13] 7.9283962052012\n",
       "\\item[14] 8.03962706623603\n",
       "\\item[15] 8.16810315548053\n",
       "\\item[16] 8.3076374690021\n",
       "\\end{description*}\n"
      ],
      "text/markdown": [
       "1\n",
       ":   5.614169048128282\n",
       ":   6.05355515194143\n",
       ":   6.427197872434854\n",
       ":   6.499098414450435\n",
       ":   6.602862019613736\n",
       ":   6.752255515667887\n",
       ":   6.983753131460858\n",
       ":   7.252630036637479\n",
       ":   7.5044915554751810\n",
       ":   7.6464184447314111\n",
       ":   7.7442452082645712\n",
       ":   7.8370565891140413\n",
       ":   7.928396205201214\n",
       ":   8.0396270662360315\n",
       ":   8.1681031554805316\n",
       ":   8.3076374690021\n",
       "\n"
      ],
      "text/plain": [
       "       1        2        3        4        5        6        7        8 \n",
       "5.614169 6.053555 6.427198 6.499098 6.602862 6.752256 6.983753 7.252630 \n",
       "       9       10       11       12       13       14       15       16 \n",
       "7.504492 7.646418 7.744245 7.837057 7.928396 8.039627 8.168103 8.307637 "
      ]
     },
     "metadata": {},
     "output_type": "display_data"
    }
   ],
   "source": [
    "mm_times"
   ]
  },
  {
   "cell_type": "code",
   "execution_count": 27,
   "id": "8e29539a",
   "metadata": {
    "ExecuteTime": {
     "end_time": "2022-10-12T08:27:23.660922Z",
     "start_time": "2022-10-12T08:27:23.544Z"
    }
   },
   "outputs": [
    {
     "name": "stdout",
     "output_type": "stream",
     "text": [
      "c(NA, 1.267775759707, 2.56799468108713, 2.74774603612607, 3.00715504903433, \n",
      "3.3806387891697, 3.95938282865213, 5.26315018318735, 7.0224577773759, \n",
      "7.73209222365705, 8.22122604132285, 8.6852829455702, 9.141981026006, \n",
      "9.69813533118015, 10.2270105182684, 10.6921248966737)\n"
     ]
    }
   ],
   "source": [
    "dput(itime(mm_times))"
   ]
  },
  {
   "cell_type": "code",
   "execution_count": null,
   "id": "6a80d20f",
   "metadata": {},
   "outputs": [],
   "source": []
  }
 ],
 "metadata": {
  "kernelspec": {
   "display_name": "R",
   "language": "R",
   "name": "ir"
  },
  "language_info": {
   "codemirror_mode": "r",
   "file_extension": ".r",
   "mimetype": "text/x-r-source",
   "name": "R",
   "pygments_lexer": "r",
   "version": "4.0.5"
  },
  "latex_envs": {
   "LaTeX_envs_menu_present": true,
   "autoclose": false,
   "autocomplete": true,
   "bibliofile": "biblio.bib",
   "cite_by": "apalike",
   "current_citInitial": 1,
   "eqLabelWithNumbers": true,
   "eqNumInitial": 1,
   "hotkeys": {
    "equation": "Ctrl-E",
    "itemize": "Ctrl-I"
   },
   "labels_anchors": false,
   "latex_user_defs": false,
   "report_style_numbering": false,
   "user_envs_cfg": false
  }
 },
 "nbformat": 4,
 "nbformat_minor": 5
}
