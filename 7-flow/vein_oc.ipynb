{
 "cells": [
  {
   "cell_type": "code",
   "execution_count": 1,
   "id": "41c7dde3",
   "metadata": {
    "ExecuteTime": {
     "end_time": "2022-11-15T07:11:51.848661Z",
     "start_time": "2022-11-15T07:11:48.039Z"
    }
   },
   "outputs": [
    {
     "name": "stderr",
     "output_type": "stream",
     "text": [
      "Loading required package: usethis\n",
      "\n",
      "\u001b[36mi\u001b[39m Loading \u001b[34m\u001b[34mmetacell.flow\u001b[34m\u001b[39m\n",
      "\n",
      "initializing scdb to output/scrna_db/\n",
      "\n"
     ]
    }
   ],
   "source": [
    "library(devtools)\n",
    "library(metacell)\n",
    "load_all(\"../metacell.flow/\")\n",
    "scdb_init(\"output/scrna_db/\",force_reinit = T)\n",
    "scfigs_init(\"figs\")\n",
    "scdb_flow_init()"
   ]
  },
  {
   "cell_type": "code",
   "execution_count": 2,
   "id": "6c5c8227",
   "metadata": {
    "ExecuteTime": {
     "end_time": "2022-11-15T07:11:51.889454Z",
     "start_time": "2022-11-15T07:11:48.366Z"
    }
   },
   "outputs": [],
   "source": [
    "mctnetwork_get_type_flows = function(mct, mcf, time, max_time)\n",
    "{\n",
    "\tnet = mct@network\n",
    "\tmc = scdb_mc(mct@mc_id)\n",
    "    net$flow = mcf@edge_flows\n",
    "\n",
    "\tall_types = unique(mc@colors)[match(mc@color_key$color, unique(mc@colors))]\n",
    "\tmct_mats = list()\n",
    "\tfor(t in time:(max_time-1)) {\n",
    "\t\tf_t = net$time1 == t & net$time2 == t+1 &\n",
    "\t\t\t\t\tnet$type1 != \"growth\" & net$type2!=\"growth\"\n",
    "\n",
    "\t\tnet_t = net[f_t,] \n",
    "\t\tnet_t$mc_t1 = mc@colors[as.numeric(net_t$mc1)]\n",
    "\t\tnet_t$mc_t2 = mc@colors[as.numeric(net_t$mc2)]\n",
    "\t\tflow = as.data.frame(summarize(group_by(net_t, mc_t1, mc_t2),\n",
    "\t\t\t\t\t\t\t\t\t\t\t\t\ttot_flow = sum(flow)))\n",
    "    \n",
    "\t   mct_mat = pivot_wider(data = flow, \n",
    "\t\t\t\tnames_from = mc_t2, \n",
    "\t\t\t\tvalues_from = tot_flow,\n",
    "\t\t\t\tvalues_fill = list(tot_flow = 0))\n",
    "\n",
    "\t   mct_mat = as.data.frame(mct_mat)\n",
    "\t\trownames(mct_mat) = mct_mat$mc_t1\n",
    "\t   mct_mat = mct_mat[,-1]\n",
    "\t\tmax_mc = ncol(mct_mat)\n",
    "\t\tmct_mat = mct_mat[all_types, all_types]\n",
    "\t\tmct_mat = as.matrix(mct_mat)\n",
    "\t\tmct_mats[[t]] = mct_mat\n",
    "\t}\n",
    "\n",
    "\treturn(mct_mats)\n",
    "}"
   ]
  },
  {
   "cell_type": "code",
   "execution_count": 3,
   "id": "99a45a29",
   "metadata": {
    "ExecuteTime": {
     "end_time": "2022-11-15T07:11:51.907147Z",
     "start_time": "2022-11-15T07:11:50.287Z"
    }
   },
   "outputs": [],
   "source": [
    "add_alpha = function(col, alpha) {\n",
    "\treturn(rgb(t(col2rgb(col))/256, alpha=alpha))\n",
    "}\n",
    "\n",
    "draw_sig_edge = function(x1, x2, x2t, y1, y2, y2t, flow, col1, col2, col_alpha=0.8) {\n",
    "  \n",
    "\tx1 = x1\n",
    "\ty1 = y1\n",
    "\tdx = x2t - x1\n",
    "\tdy = y2t - y1\n",
    "\n",
    "\ty1t = y1+flow\n",
    "\tdxt = x2 - x1\n",
    "\tdyt = y2 - y1t\n",
    "\n",
    "\tcol1 = col2rgb(col1)[,1]\n",
    "\tnames(col1) = c(\"red\",\"green\",\"blue\")\n",
    "\tcol2 = col2rgb(col2)[,1]\n",
    "\tnames(col2) = c(\"red\",\"green\",\"blue\")\n",
    "\tres = 0.05\n",
    "#\tmessage(\"segs \", \"x1 \", x1, \" y1 \", y1, \" dx \", dx, \" dy \", dy, \" y1t \", y1t, \" dxt \", dxt, \" dyt \", dyt)\n",
    "\tbeta0 = plogis(0,loc=0.5,scale=0.2)\n",
    "\tbeta_f = plogis(1,loc=0.5,scale=0.2)-plogis(0,loc=0.5, scale=0.2)\n",
    "\tfor(r in seq(0,0.98,res)) {\n",
    "\t\t\tbeta = (plogis(r,loc=0.5,scale=0.2)-beta0)/beta_f\n",
    "\t\t\tbeta5 = (plogis(r+res,loc=0.5,scale=0.2)-beta0)/beta_f\n",
    "\n",
    "\t\t\tsx1 = x1+r*dx\n",
    "\t\t\tsy1 = y1+beta*dy\n",
    "\t\t\tsx2 = x1+(r+res)*dx\n",
    "\t\t\tsy2 = y1+beta5*dy\n",
    "\n",
    "\t\t\tsx1t = x1+r*dxt\n",
    "\t\t\tsy1t = y1t+beta*dyt\n",
    "\t\t\tsx2t = x1+(r+res)*dxt\n",
    "\t\t\tsy2t = y1t+beta5*dyt\n",
    "#\t\t\tr_col = ifelse(grad_col_edge, r,0)\n",
    "\t\t\tr_col = r\n",
    "\t\t\trgb_r = col2[\"red\"]*r_col+col1[\"red\"]*(1-r_col)\n",
    "\t\t\trgb_g = col2[\"green\"]*r_col+col1[\"green\"]*(1-r_col)\n",
    "\t\t\trgb_b = col2[\"blue\"]*r_col+col1[\"blue\"]*(1-r_col)\n",
    "\t\t\tcol = rgb(rgb_r/256, rgb_g/256, rgb_b/256, col_alpha)\n",
    "\t\t\tpolygon(c(sx1, sx2, sx2t,sx1t), c(sy1, sy2, sy2t, sy1t), col=col, border=NA)\n",
    "\t}\n",
    "#\t\tsegments(x1,y1,x2,y2, \n",
    "}\n",
    "\n",
    "plot_focals = function(fig_dir,plot_pdf = F,bg = \"white\",focals = c(\"Early nascent mesoderm\", \"Late nascent mesoderm\", \"Epiblast\", \"Primitive streak\")) {\n",
    "  \n",
    "  #fig_dir = \"figs/paper_figs/fig4/focal_flows\"\n",
    "  \n",
    "  if(!dir.exists(fig_dir)) {\n",
    "    dir.create(fig_dir)\n",
    "  }\n",
    "  \n",
    "  mc = scdb_mc(\"oc_emb\")\n",
    "  \n",
    "  mat = scdb_mat(\"oc_emb\")\n",
    "  \n",
    "  md = mat@cell_metadata\n",
    "  \n",
    "  type_ag= table(mc@colors[mc@mc], md[names(mc@mc),\"age_group\"])\n",
    "  \n",
    "  type_agn = t(t(type_ag)/colSums(type_ag))\n",
    "  \n",
    "  mct = scdb_mctnetwork(\"oc_embflow\")\n",
    "  mcf = scdb_mctnetflow(\"oc_embflow\")\n",
    "  type_flow = mctnetwork_get_type_flows(mct, mcf, 1,13)\n",
    "  \n",
    "  \n",
    "  key = mc@color_key\n",
    "  rownames(key) = key$group\n",
    "#   rownames(key) = key$cell_type\n",
    "  \n",
    "\n",
    "  t1 = 1\n",
    "  t2 = 12\n",
    "  T_minflow_for_type = 0.005\n",
    "  \n",
    "  #focals = c(\"Epiblast\", \"Early nascent mesoderm\", \"Late nascent mesoderm\", \"Primitive streak\")\n",
    "  #focals = c(\"Late nascent mesoderm\")\n",
    "  \n",
    "  \n",
    "  foc_colors = key[focals,\"color\"]\n",
    "  for(foc_type in focals) {\n",
    "    \n",
    "    foc_color = key[foc_type,\"color\"]\n",
    "    cols = names(which(colSums(do.call(\"rbind\", lapply(type_flow, function(x) x[foc_color,])))>T_minflow_for_type))\n",
    "    foc_agn = type_agn[cols,t1:t2]\n",
    "    \n",
    "    base_y = c(1)\n",
    "    \n",
    "    for(i in 2:length(cols)) {\n",
    "      base_y[i] = base_y[i-1] + 0.2 + max(foc_agn[cols[i],]+foc_agn[cols[i-1],])\n",
    "    }\n",
    "    names(base_y) = cols\n",
    "    \n",
    "    if(plot_pdf) {\n",
    "      pdf(sprintf(\"%s/%s.pdf\",fig_dir, foc_type),w=30,h=20,useDingbats = F)\n",
    "    } else {\n",
    "      png(sprintf(\"%s/%s.png\",fig_dir, foc_type),w=3000,h=2000,bg = bg)\n",
    "    }\n",
    "    \n",
    "    plot(0, xlim=c(t1 - 0.5,t2), ylim=c(min(base_y)-0.5, max(base_y)+0.5),yaxt = 'n',bg = \"transparent\")\n",
    "    \n",
    "    x_pos = 0.5\n",
    "    y_c =  base_y[foc_color]\n",
    "    \n",
    "    segments(x0 = x_pos,x1 = x_pos, y0 = y_c - 0.25,y1 = y_c + 0.25,lwd = 4)\n",
    "    segments(x0 = x_pos - 0.05,x1 = x_pos + 0.05, y0 = y_c - 0.25,y1 = y_c - 0.25,lwd = 4)\n",
    "    segments(x0 = x_pos - 0.05,x1 = x_pos + 0.05, y0 = y_c + 0.25,y1 = y_c + 0.25,lwd = 4)\n",
    "    \n",
    "    text(x = x_pos - 0.2,y = y_c, labels = \"25%\",cex = 2)\n",
    "    smoo_y = list()\n",
    "    for(c in cols) {\n",
    "      x = t1:t2\n",
    "      y = foc_agn[c,t1:t2]\n",
    "      ys = approx(x,y, seq(t1,t2,l=1+(t2-t1)*100))\n",
    "      lo = loess(ys$y ~ ys$x,span=0.3)$fitted\n",
    "      base = base_y[c]\n",
    "      smoo_y[[c]] = lo\n",
    "      names(smoo_y[[c]]) = ys$x \n",
    "      calpha = add_alpha(c,0.8)\n",
    "      polygon(c(ys$x,rev(ys$x)), base+c(lo, rev(-lo)), border=NA, col=ifelse(c==foc_color, c, calpha))\n",
    "    }\n",
    "    \n",
    "    foc_i = which(cols == foc_color)\n",
    "    base_foc = base_y[foc_color]\n",
    "    for(t in t1:(t2-1)) {\n",
    "      flow = type_flow[[t]]\n",
    "      max_i = length(cols)\n",
    "      cum_y = -smoo_y[[foc_color]][as.character(t)]\n",
    "      for(i in 1:(foc_i-1)) {\n",
    "        col_i = cols[i]\n",
    "        fl = flow[foc_color,col_i]*2\n",
    "        if(fl > 0) {\n",
    "          calpha = add_alpha(col_i, 0.8)\n",
    "          draw_sig_edge(x1=t, x2 = t+1, x2t = t+1-2*fl-0.05, \n",
    "                        y1 = base_foc+cum_y,\n",
    "                        y2 = base_y[col_i]+smoo_y[[col_i]][as.character(t+1)], \n",
    "                        y2t =base_y[col_i]+smoo_y[[col_i]][as.character(round(t+1-2*fl-0.05,2))],\n",
    "                        flow = fl,\n",
    "                        col1=foc_color, col2=col_i)\n",
    "          cum_y = cum_y+fl\n",
    "        }\n",
    "      }\n",
    "      cum_y = smoo_y[[foc_color]][as.character(t)]\n",
    "      for(i in max_i:(foc_i+1)) {\n",
    "        col_i = cols[i]\n",
    "        fl = flow[foc_color,col_i]*2\n",
    "        if(fl > 0) {\n",
    "          calpha = add_alpha(col_i, 0.8)\n",
    "          #message(\"at \", i, \" fl \", fl)\n",
    "          draw_sig_edge(x1=t, x2t = t+1, x2 = t+1-2*fl-0.05, \n",
    "                        y1 = base_foc+cum_y-fl,\n",
    "                        y2t = base_y[col_i]-smoo_y[[col_i]][as.character(t+1)], \n",
    "                        y2 =base_y[col_i]-smoo_y[[col_i]][as.character(round(t+1-2*fl-0.05,2))],\n",
    "                        flow = fl,\n",
    "                        col1=foc_color, col2=col_i)\n",
    "          cum_y = cum_y-fl\n",
    "        }\n",
    "      }\n",
    "      #incoming\n",
    "    }\n",
    "    dev.off()\n",
    "  }\n",
    "  \n",
    "  \n",
    "}"
   ]
  },
  {
   "cell_type": "code",
   "execution_count": null,
   "id": "831ac691",
   "metadata": {
    "ExecuteTime": {
     "end_time": "2022-08-23T11:23:37.089191Z",
     "start_time": "2022-08-23T11:23:32.784Z"
    }
   },
   "outputs": [],
   "source": [
    "# plot_focals(\"figs\")"
   ]
  },
  {
   "cell_type": "code",
   "execution_count": 4,
   "id": "28592f65",
   "metadata": {
    "ExecuteTime": {
     "end_time": "2022-11-15T07:12:34.545831Z",
     "start_time": "2022-11-15T07:11:57.328Z"
    }
   },
   "outputs": [],
   "source": [
    "fig_dir = \"figs\"\n",
    "plot_pdf = T\n",
    "bg = \"white\"\n",
    "# focals = c(\"Early nascent mesoderm\", \"Late nascent mesoderm\", \"Epiblast\", \"Primitive streak\")\n",
    "# focals = c(\"Primitive streak\")\n",
    "focals = c(\"epiblast\")\n",
    "# focals = c(\"nascent mesoderm\")\n",
    "\n",
    "mc = scdb_mc(\"oc_emb\")\n",
    "\n",
    "mat = scdb_mat(\"oc_emb\")\n",
    "\n",
    "md = mat@cell_metadata\n",
    "\n",
    "type_ag = table(mc@colors[mc@mc], md[names(mc@mc),\"chunk\"])\n",
    "\n",
    "type_agn = t(t(type_ag)/colSums(type_ag))"
   ]
  },
  {
   "cell_type": "code",
   "execution_count": 5,
   "id": "8cf2ece3",
   "metadata": {
    "ExecuteTime": {
     "end_time": "2022-11-15T07:13:22.596950Z",
     "start_time": "2022-11-15T07:12:26.679Z"
    }
   },
   "outputs": [],
   "source": [
    "mct = scdb_mctnetwork(\"oc_embflow_test10\")\n",
    "mcf = scdb_mctnetflow(\"oc_embflow_test10\")"
   ]
  },
  {
   "cell_type": "code",
   "execution_count": 6,
   "id": "d9ab1c71",
   "metadata": {
    "ExecuteTime": {
     "end_time": "2022-11-15T07:13:54.313925Z",
     "start_time": "2022-11-15T07:12:28.663Z"
    }
   },
   "outputs": [
    {
     "name": "stderr",
     "output_type": "stream",
     "text": [
      "\u001b[1m\u001b[22m`summarise()` has grouped output by 'mc_t1'. You can override using the\n",
      "`.groups` argument.\n",
      "\u001b[1m\u001b[22m`summarise()` has grouped output by 'mc_t1'. You can override using the\n",
      "`.groups` argument.\n",
      "\u001b[1m\u001b[22m`summarise()` has grouped output by 'mc_t1'. You can override using the\n",
      "`.groups` argument.\n",
      "\u001b[1m\u001b[22m`summarise()` has grouped output by 'mc_t1'. You can override using the\n",
      "`.groups` argument.\n",
      "\u001b[1m\u001b[22m`summarise()` has grouped output by 'mc_t1'. You can override using the\n",
      "`.groups` argument.\n",
      "\u001b[1m\u001b[22m`summarise()` has grouped output by 'mc_t1'. You can override using the\n",
      "`.groups` argument.\n",
      "\u001b[1m\u001b[22m`summarise()` has grouped output by 'mc_t1'. You can override using the\n",
      "`.groups` argument.\n",
      "\u001b[1m\u001b[22m`summarise()` has grouped output by 'mc_t1'. You can override using the\n",
      "`.groups` argument.\n",
      "\u001b[1m\u001b[22m`summarise()` has grouped output by 'mc_t1'. You can override using the\n",
      "`.groups` argument.\n",
      "\u001b[1m\u001b[22m`summarise()` has grouped output by 'mc_t1'. You can override using the\n",
      "`.groups` argument.\n",
      "\u001b[1m\u001b[22m`summarise()` has grouped output by 'mc_t1'. You can override using the\n",
      "`.groups` argument.\n"
     ]
    }
   ],
   "source": [
    "type_flow = mctnetwork_get_type_flows(mct,mcf, 1,12)"
   ]
  },
  {
   "cell_type": "code",
   "execution_count": 9,
   "id": "baad9576",
   "metadata": {
    "ExecuteTime": {
     "end_time": "2022-11-15T07:14:14.214648Z",
     "start_time": "2022-11-15T07:14:13.931Z"
    }
   },
   "outputs": [],
   "source": [
    "foc_color = \"#FACB12\"\n",
    "cols = names(which(colSums(do.call(\"rbind\", lapply(type_flow, function(x) x[foc_color,])))>T_minflow_for_type))"
   ]
  },
  {
   "cell_type": "code",
   "execution_count": 10,
   "id": "4c286ce2",
   "metadata": {
    "ExecuteTime": {
     "end_time": "2022-11-15T07:14:14.682259Z",
     "start_time": "2022-11-15T07:14:14.394Z"
    }
   },
   "outputs": [],
   "source": [
    "c = c()\n",
    "for(i in 2:11){\n",
    "c = c(c,sum(type_flow[[i]][\"#FACB12\",\"#FACB12\"])/sum(type_flow[[i]][,\"#FACB12\"]))\n",
    "    }"
   ]
  },
  {
   "cell_type": "code",
   "execution_count": 11,
   "id": "96a2e79f",
   "metadata": {
    "ExecuteTime": {
     "end_time": "2022-11-15T07:14:16.205076Z",
     "start_time": "2022-11-15T07:14:15.923Z"
    }
   },
   "outputs": [
    {
     "data": {
      "text/html": [
       "<style>\n",
       ".list-inline {list-style: none; margin:0; padding: 0}\n",
       ".list-inline>li {display: inline-block}\n",
       ".list-inline>li:not(:last-child)::after {content: \"\\00b7\"; padding: 0 .5ex}\n",
       "</style>\n",
       "<ol class=list-inline><li>0</li><li>0.0518253549439843</li><li>0.635579586170612</li><li>1</li><li>1</li><li>1</li><li>1</li><li>1</li><li>1</li><li>1</li></ol>\n"
      ],
      "text/latex": [
       "\\begin{enumerate*}\n",
       "\\item 0\n",
       "\\item 0.0518253549439843\n",
       "\\item 0.635579586170612\n",
       "\\item 1\n",
       "\\item 1\n",
       "\\item 1\n",
       "\\item 1\n",
       "\\item 1\n",
       "\\item 1\n",
       "\\item 1\n",
       "\\end{enumerate*}\n"
      ],
      "text/markdown": [
       "1. 0\n",
       "2. 0.0518253549439843\n",
       "3. 0.635579586170612\n",
       "4. 1\n",
       "5. 1\n",
       "6. 1\n",
       "7. 1\n",
       "8. 1\n",
       "9. 1\n",
       "10. 1\n",
       "\n",
       "\n"
      ],
      "text/plain": [
       " [1] 0.00000000 0.05182535 0.63557959 1.00000000 1.00000000 1.00000000\n",
       " [7] 1.00000000 1.00000000 1.00000000 1.00000000"
      ]
     },
     "metadata": {},
     "output_type": "display_data"
    }
   ],
   "source": [
    "c"
   ]
  },
  {
   "cell_type": "code",
   "execution_count": 12,
   "id": "5754f847",
   "metadata": {
    "ExecuteTime": {
     "end_time": "2022-11-15T07:14:18.771848Z",
     "start_time": "2022-11-15T07:14:18.362Z"
    }
   },
   "outputs": [],
   "source": [
    "oc_times = fread(\"oc_embs_grouping.txt\")[c(\"chunk\", \"gt\")] %>% group_by(chunk) %>% summarise(developmental_time = mean(gt)) %>% rename(age_group=chunk)"
   ]
  },
  {
   "cell_type": "code",
   "execution_count": 13,
   "id": "91ffcff9",
   "metadata": {
    "ExecuteTime": {
     "end_time": "2022-11-15T07:14:18.924069Z",
     "start_time": "2022-11-15T07:14:18.651Z"
    }
   },
   "outputs": [],
   "source": [
    "names(c) = oc_times$developmental_time[2:11]"
   ]
  },
  {
   "cell_type": "code",
   "execution_count": 14,
   "id": "913568c2",
   "metadata": {
    "ExecuteTime": {
     "end_time": "2022-11-15T07:14:19.864209Z",
     "start_time": "2022-11-15T07:14:19.410Z"
    }
   },
   "outputs": [
    {
     "data": {
      "image/png": "[encoded data removed]",
      "text/plain": [
       "plot without title"
      ]
     },
     "metadata": {
      "image/png": {
       "height": 420,
       "width": 420
      }
     },
     "output_type": "display_data"
    }
   ],
   "source": [
    "plot(names(c), c, xlab=\"time\", ylab = \"PGC->PGC flow frac\")"
   ]
  },
  {
   "cell_type": "code",
   "execution_count": 15,
   "id": "83177353",
   "metadata": {
    "ExecuteTime": {
     "end_time": "2022-11-15T07:14:28.166864Z",
     "start_time": "2022-11-15T07:14:27.842Z"
    }
   },
   "outputs": [
    {
     "data": {
      "text/html": [
       "<strong>#FACB12:</strong> 0.000604229607250755"
      ],
      "text/latex": [
       "\\textbf{\\textbackslash{}\\#FACB12:} 0.000604229607250755"
      ],
      "text/markdown": [
       "**#FACB12:** 0.000604229607250755"
      ],
      "text/plain": [
       "     #FACB12 \n",
       "0.0006042296 "
      ]
     },
     "metadata": {},
     "output_type": "display_data"
    },
    {
     "data": {
      "text/html": [
       "<strong>#FACB12:</strong> 0.00971055088702148"
      ],
      "text/latex": [
       "\\textbf{\\textbackslash{}\\#FACB12:} 0.00971055088702148"
      ],
      "text/markdown": [
       "**#FACB12:** 0.00971055088702148"
      ],
      "text/plain": [
       "    #FACB12 \n",
       "0.009710551 "
      ]
     },
     "metadata": {},
     "output_type": "display_data"
    },
    {
     "data": {
      "text/html": [
       "<strong>#FACB12:</strong> 0.0137753404729777"
      ],
      "text/latex": [
       "\\textbf{\\textbackslash{}\\#FACB12:} 0.0137753404729777"
      ],
      "text/markdown": [
       "**#FACB12:** 0.0137753404729777"
      ],
      "text/plain": [
       "   #FACB12 \n",
       "0.01377534 "
      ]
     },
     "metadata": {},
     "output_type": "display_data"
    },
    {
     "data": {
      "text/html": [
       "<strong>#FACB12:</strong> 0.0112265920723981"
      ],
      "text/latex": [
       "\\textbf{\\textbackslash{}\\#FACB12:} 0.0112265920723981"
      ],
      "text/markdown": [
       "**#FACB12:** 0.0112265920723981"
      ],
      "text/plain": [
       "   #FACB12 \n",
       "0.01122659 "
      ]
     },
     "metadata": {},
     "output_type": "display_data"
    },
    {
     "data": {
      "text/html": [
       "<strong>#FACB12:</strong> 0.0100249645620072"
      ],
      "text/latex": [
       "\\textbf{\\textbackslash{}\\#FACB12:} 0.0100249645620072"
      ],
      "text/markdown": [
       "**#FACB12:** 0.0100249645620072"
      ],
      "text/plain": [
       "   #FACB12 \n",
       "0.01002496 "
      ]
     },
     "metadata": {},
     "output_type": "display_data"
    },
    {
     "data": {
      "text/html": [
       "<strong>#FACB12:</strong> 0.00812698412698413"
      ],
      "text/latex": [
       "\\textbf{\\textbackslash{}\\#FACB12:} 0.00812698412698413"
      ],
      "text/markdown": [
       "**#FACB12:** 0.00812698412698413"
      ],
      "text/plain": [
       "    #FACB12 \n",
       "0.008126984 "
      ]
     },
     "metadata": {},
     "output_type": "display_data"
    }
   ],
   "source": [
    "colSums(type_flow[[2]])[\"#FACB12\"]\n",
    "colSums(type_flow[[3]])[\"#FACB12\"]\n",
    "colSums(type_flow[[4]])[\"#FACB12\"]\n",
    "colSums(type_flow[[5]])[\"#FACB12\"]\n",
    "colSums(type_flow[[6]])[\"#FACB12\"]\n",
    "colSums(type_flow[[7]])[\"#FACB12\"]"
   ]
  },
  {
   "cell_type": "code",
   "execution_count": 8,
   "id": "13423e3a",
   "metadata": {
    "ExecuteTime": {
     "end_time": "2022-11-15T07:14:11.795475Z",
     "start_time": "2022-11-15T07:14:11.498Z"
    }
   },
   "outputs": [],
   "source": [
    "key = mc@color_key\n",
    "rownames(key) = key$cell_type\n",
    "\n",
    "t1 = 1\n",
    "t2 = 12\n",
    "T_minflow_for_type = 0.05\n",
    "\n",
    "#focals = c(\"Epiblast\", \"Early nascent mesoderm\", \"Late nascent mesoderm\", \"Primitive streak\")\n",
    "#focals = c(\"Late nascent mesoderm\")"
   ]
  },
  {
   "cell_type": "code",
   "execution_count": 16,
   "id": "efac3935",
   "metadata": {
    "ExecuteTime": {
     "end_time": "2022-11-15T07:14:32.746417Z",
     "start_time": "2022-11-15T07:14:32.467Z"
    }
   },
   "outputs": [
    {
     "data": {
      "text/html": [
       "'#FACB12'"
      ],
      "text/latex": [
       "'\\#FACB12'"
      ],
      "text/markdown": [
       "'#FACB12'"
      ],
      "text/plain": [
       "[1] \"#FACB12\""
      ]
     },
     "metadata": {},
     "output_type": "display_data"
    }
   ],
   "source": [
    "cols"
   ]
  },
  {
   "cell_type": "code",
   "execution_count": 17,
   "id": "d13896e1",
   "metadata": {
    "ExecuteTime": {
     "end_time": "2022-11-15T07:14:43.774971Z",
     "start_time": "2022-11-15T07:14:42.892Z"
    }
   },
   "outputs": [
    {
     "name": "stdout",
     "output_type": "stream",
     "text": [
      "[1] 5\n",
      "[1] 4\n",
      "[1] 3\n",
      "[1] 5\n",
      "[1] 4\n",
      "[1] 3\n",
      "[1] 5\n",
      "[1] 4\n",
      "[1] 3\n",
      "[1] 5\n",
      "[1] 4\n",
      "[1] 3\n",
      "[1] 5\n",
      "[1] 4\n",
      "[1] 3\n",
      "[1] 5\n",
      "[1] 4\n",
      "[1] 3\n",
      "[1] 5\n",
      "[1] 4\n",
      "[1] 3\n",
      "[1] 5\n",
      "[1] 4\n",
      "[1] 3\n",
      "[1] 5\n",
      "[1] 4\n",
      "[1] 3\n",
      "[1] 5\n",
      "[1] 4\n",
      "[1] 3\n",
      "[1] 5\n",
      "[1] 4\n",
      "[1] 3\n"
     ]
    }
   ],
   "source": [
    "foc_colors = key[focals,\"color\"]\n",
    "for(foc_type in focals) {\n",
    "\n",
    "    foc_color = key[foc_type,\"color\"]\n",
    "    cols = names(which(colSums(do.call(\"rbind\", lapply(type_flow, function(x) x[foc_color,])))>T_minflow_for_type))\n",
    "#     cols = c('#C594BF','#9e6762','#DABE99','#c19f70')  # reordered_cols\n",
    "    foc_agn = type_agn[cols,t1:t2]\n",
    "\n",
    "    base_y = c(1)\n",
    "    for(i in 2:length(cols)) {\n",
    "      base_y[i] = base_y[i-1] + 0.2 + max(foc_agn[cols[i],]+foc_agn[cols[i-1],])\n",
    "    }\n",
    "    names(base_y) = cols\n",
    "\n",
    "    if(plot_pdf) {\n",
    "      pdf(sprintf(\"%s/%s.pdf\",fig_dir, foc_type),w=30,h=20,useDingbats = F)\n",
    "    } else {\n",
    "      png(sprintf(\"%s/%s.png\",fig_dir, foc_type),w=3000,h=2000,bg = bg)\n",
    "    }\n",
    "\n",
    "    plot(0, xlim=c(t1 - 0.5,t2), ylim=c(min(base_y)-0.5, max(base_y)+0.5),yaxt = 'n',bg = \"transparent\")\n",
    "\n",
    "    x_pos = 0.5\n",
    "    y_c =  base_y[foc_color]\n",
    "\n",
    "    segments(x0 = x_pos,x1 = x_pos, y0 = y_c - 0.25,y1 = y_c + 0.25,lwd = 4)\n",
    "    segments(x0 = x_pos - 0.05,x1 = x_pos + 0.05, y0 = y_c - 0.25,y1 = y_c - 0.25,lwd = 4)\n",
    "    segments(x0 = x_pos - 0.05,x1 = x_pos + 0.05, y0 = y_c + 0.25,y1 = y_c + 0.25,lwd = 4)\n",
    "\n",
    "    text(x = x_pos - 0.2,y = y_c, labels = \"25%\",cex = 2)\n",
    "    smoo_y = list()\n",
    "    for(c in cols) {\n",
    "      x = t1:t2\n",
    "      y = foc_agn[c,t1:t2]\n",
    "      ys = approx(x,y, seq(t1,t2,l=1+(t2-t1)*100))\n",
    "      lo = loess(ys$y ~ ys$x,span=0.3)$fitted\n",
    "      base = base_y[c]\n",
    "      smoo_y[[c]] = lo\n",
    "      names(smoo_y[[c]]) = ys$x \n",
    "      calpha = add_alpha(c,0.8)\n",
    "      polygon(c(ys$x,rev(ys$x)), base+c(lo, rev(-lo)), border=NA, col=ifelse(c==foc_color, c, calpha))\n",
    "    }\n",
    "\n",
    "    foc_i = which(cols == foc_color)\n",
    "    base_foc = base_y[foc_color]\n",
    "    for(t in t1:(t2-1)) {\n",
    "      flow = type_flow[[t]]\n",
    "      max_i = length(cols)\n",
    "      cum_y = -smoo_y[[foc_color]][as.character(t)]\n",
    "      for(i in 1:(foc_i-1)) {\n",
    "        col_i = cols[i]\n",
    "        fl = flow[foc_color,col_i]*2\n",
    "        if(fl > 0) {\n",
    "          calpha = add_alpha(col_i, 0.8)\n",
    "          draw_sig_edge(x1=t, x2 = t+1, x2t = t+1-2*fl-0.05, \n",
    "                        y1 = base_foc+cum_y,\n",
    "                        y2 = base_y[col_i]+smoo_y[[col_i]][as.character(t+1)], \n",
    "                        y2t =base_y[col_i]+smoo_y[[col_i]][as.character(round(t+1-2*fl-0.05,2))],\n",
    "                        flow = fl,\n",
    "                        col1=foc_color, col2=col_i)\n",
    "          cum_y = cum_y+fl\n",
    "        }\n",
    "      }\n",
    "      cum_y = smoo_y[[foc_color]][as.character(t)]\n",
    "      for(i in max_i:(foc_i+1)) {\n",
    "        print(i)\n",
    "        col_i = cols[i]\n",
    "        fl = flow[foc_color,col_i]*2\n",
    "        if(fl > 0) {\n",
    "          calpha = add_alpha(col_i, 0.8)\n",
    "          #message(\"at \", i, \" fl \", fl)\n",
    "          draw_sig_edge(x1=t, x2t = t+1, x2 = t+1-2*fl-0.05, \n",
    "                        y1 = base_foc+cum_y-fl,\n",
    "                        y2t = base_y[col_i]-smoo_y[[col_i]][as.character(t+1)], \n",
    "                        y2 =base_y[col_i]-smoo_y[[col_i]][as.character(round(t+1-2*fl-0.05,2))],\n",
    "                        flow = fl,\n",
    "                        col1=foc_color, col2=col_i)\n",
    "          cum_y = cum_y-fl\n",
    "        }\n",
    "      }\n",
    "      #incoming\n",
    "    }\n",
    "    dev.off()\n",
    "}"
   ]
  },
  {
   "cell_type": "code",
   "execution_count": null,
   "id": "f471dbe3",
   "metadata": {
    "ExecuteTime": {
     "end_time": "2022-08-23T11:25:55.807389Z",
     "start_time": "2022-08-23T11:23:32.788Z"
    }
   },
   "outputs": [],
   "source": [
    "dput(base_y)"
   ]
  },
  {
   "cell_type": "code",
   "execution_count": null,
   "id": "6c512ce6",
   "metadata": {
    "ExecuteTime": {
     "end_time": "2022-08-23T11:25:55.811174Z",
     "start_time": "2022-08-23T11:23:32.789Z"
    }
   },
   "outputs": [],
   "source": [
    "cols"
   ]
  },
  {
   "cell_type": "code",
   "execution_count": null,
   "id": "f75d2d64",
   "metadata": {},
   "outputs": [],
   "source": []
  }
 ],
 "metadata": {
  "kernelspec": {
   "display_name": "R",
   "language": "R",
   "name": "ir"
  },
  "language_info": {
   "codemirror_mode": "r",
   "file_extension": ".r",
   "mimetype": "text/x-r-source",
   "name": "R",
   "pygments_lexer": "r",
   "version": "4.0.5"
  },
  "latex_envs": {
   "LaTeX_envs_menu_present": true,
   "autoclose": false,
   "autocomplete": true,
   "bibliofile": "biblio.bib",
   "cite_by": "apalike",
   "current_citInitial": 1,
   "eqLabelWithNumbers": true,
   "eqNumInitial": 1,
   "hotkeys": {
    "equation": "Ctrl-E",
    "itemize": "Ctrl-I"
   },
   "labels_anchors": false,
   "latex_user_defs": false,
   "report_style_numbering": false,
   "user_envs_cfg": false
  }
 },
 "nbformat": 4,
 "nbformat_minor": 5
}
